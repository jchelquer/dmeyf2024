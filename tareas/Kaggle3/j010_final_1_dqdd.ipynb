{
 "cells": [
  {
   "cell_type": "markdown",
   "metadata": {
    "id": "d_xvJXPhCkMA"
   },
   "source": [
    "# Título  Data quality y drifting\n",
    "## Autor: Jose Chelquer\n",
    "## Fecha de última modificación: 20/11/2024\n",
    "\n",
    "Toma el archivo que ya tiene la clase ternaria y le hace el control de data quality y drifting\n"
   ]
  },
  {
   "cell_type": "markdown",
   "metadata": {
    "id": "qRTSvXdLHkpB"
   },
   "source": [
    "## Parámetros\n",
    "\n",
    "< Descripción de cada uno de los parámetros que utiliza el job >\n"
   ]
  },
  {
   "cell_type": "code",
   "execution_count": 21,
   "metadata": {
    "executionInfo": {
     "elapsed": 3,
     "status": "ok",
     "timestamp": 1732192757999,
     "user": {
      "displayName": "Jose Chelquer",
      "userId": "09375279337890014087"
     },
     "user_tz": 180
    },
    "id": "yMU00Fl7IIfm"
   },
   "outputs": [],
   "source": [
    "vm=True\n",
    "if vm:\n",
    "  usar_gdrive=False\n",
    "else:\n",
    "  usar_gdrive=True\n"
   ]
  },
  {
   "cell_type": "code",
   "execution_count": 22,
   "metadata": {},
   "outputs": [
    {
     "name": "stdout",
     "output_type": "stream",
     "text": [
      "Experimento ____\n",
      "completo\n",
      "sin preprocesamiento\n",
      "base\n",
      "sin RF\n"
     ]
    }
   ],
   "source": [
    "experimento=\"____\"  # partiendo de la base\n",
    "tipo_registros=experimento[0]            # '_'completo s sampleado\n",
    "con_preprocesamiento = experimento[1]    # p con preprocesamiento  '_' sin preprocesamiento\n",
    "tipo_featuring=experimento[2]            # _: 155 base  s: simple    c: completo\n",
    "rf=experimento[3]                        # _: sin RF   r: con RF\n",
    "\n",
    "dict_tipo_registros={'_': 'completo', 's': 'sampleado'}\n",
    "dict_con_preprocesamiento={'_': 'sin preprocesamiento', 'p':'con preprocesamiento'}\n",
    "dict_tipo_featuring={'_': 'base', 's':' simple', 'c': 'completo'}\n",
    "dict_rf={'_': 'sin RF', 'f':' con RF'}\n",
    "\n",
    "print (f'Experimento {experimento}')\n",
    "print (dict_tipo_registros[tipo_registros])\n",
    "print (dict_con_preprocesamiento[con_preprocesamiento])\n",
    "print (dict_tipo_featuring[tipo_featuring])\n",
    "print (dict_rf[rf])"
   ]
  },
  {
   "cell_type": "markdown",
   "metadata": {},
   "source": [
    "## Input"
   ]
  },
  {
   "cell_type": "code",
   "execution_count": 23,
   "metadata": {
    "executionInfo": {
     "elapsed": 2,
     "status": "ok",
     "timestamp": 1732192758472,
     "user": {
      "displayName": "Jose Chelquer",
      "userId": "09375279337890014087"
     },
     "user_tz": 180
    },
    "id": "MEk4Fj7VIv7g"
   },
   "outputs": [
    {
     "name": "stdout",
     "output_type": "stream",
     "text": [
      "~/buckets/b1/datasets\n",
      "k3_____.parquet.gz\n"
     ]
    }
   ],
   "source": [
    "if vm:\n",
    "  dataset_path = '~/buckets/b1/datasets'\n",
    "  \n",
    "else:\n",
    "  dataset_path='/content/drive/MyDrive/Data Science y similares/Maestría Data Mining Exactas/dmeyf/dmeyf2024/datasets/'\n",
    "\n",
    "dataset_file=f'k3_{experimento}.parquet.gz'\n",
    "    \n",
    "print (dataset_path)\n",
    "print (dataset_file)"
   ]
  },
  {
   "cell_type": "markdown",
   "metadata": {
    "id": "fQ6MUhENI0Ya"
   },
   "source": [
    "## Output\n",
    "\n",
    "< Archivos, bases de datos, modelos que va a generar el job>"
   ]
  },
  {
   "cell_type": "code",
   "execution_count": 24,
   "metadata": {
    "executionInfo": {
     "elapsed": 482,
     "status": "ok",
     "timestamp": 1732192758953,
     "user": {
      "displayName": "Jose Chelquer",
      "userId": "09375279337890014087"
     },
     "user_tz": 180
    },
    "id": "ZT3kxlkFIv4p"
   },
   "outputs": [
    {
     "name": "stdout",
     "output_type": "stream",
     "text": [
      "k3__p__.parquet.gz\n"
     ]
    }
   ],
   "source": [
    "output_file=f'k3_{tipo_registros}p{tipo_featuring}{rf}.parquet.gz'\n",
    "print (output_file)"
   ]
  },
  {
   "cell_type": "markdown",
   "metadata": {
    "id": "VrRYsZMowzEl"
   },
   "source": [
    "## Procesos"
   ]
  },
  {
   "cell_type": "markdown",
   "metadata": {
    "id": "iVe0GO1IJHtI"
   },
   "source": [
    "### Paquetes necesarios"
   ]
  },
  {
   "cell_type": "code",
   "execution_count": null,
   "metadata": {
    "executionInfo": {
     "elapsed": 4,
     "status": "ok",
     "timestamp": 1732192758953,
     "user": {
      "displayName": "Jose Chelquer",
      "userId": "09375279337890014087"
     },
     "user_tz": 180
    },
    "id": "O2VG2xS_Ivq3"
   },
   "outputs": [],
   "source": []
  },
  {
   "cell_type": "markdown",
   "metadata": {
    "id": "0LM2kY_WJj15"
   },
   "source": [
    "## Código del proceso\n",
    "\n",
    "< Todo el código a partir de aquí debe poder ejecutarse sin necesidad de parametrizar nada>"
   ]
  },
  {
   "cell_type": "code",
   "execution_count": 25,
   "metadata": {
    "colab": {
     "base_uri": "https://localhost:8080/"
    },
    "executionInfo": {
     "elapsed": 25831,
     "status": "ok",
     "timestamp": 1732192784780,
     "user": {
      "displayName": "Jose Chelquer",
      "userId": "09375279337890014087"
     },
     "user_tz": 180
    },
    "id": "fnq1DC36uYym",
    "outputId": "d9754560-c65e-4478-913c-9758d2f70fdc"
   },
   "outputs": [],
   "source": [
    "if usar_gdrive:\n",
    "  from google.colab import drive\n",
    "  drive.mount('/content/drive')"
   ]
  },
  {
   "cell_type": "markdown",
   "metadata": {
    "id": "TjS6T8jj6nse"
   },
   "source": [
    "## Librerías"
   ]
  },
  {
   "cell_type": "code",
   "execution_count": 26,
   "metadata": {},
   "outputs": [
    {
     "name": "stdout",
     "output_type": "stream",
     "text": [
      "Requirement already satisfied: pip in /home/jose/.venv/lib/python3.12/site-packages (24.3.1)\n",
      "Requirement already satisfied: lightgbm in /home/jose/.venv/lib/python3.12/site-packages (4.5.0)\n",
      "Requirement already satisfied: numpy>=1.17.0 in /home/jose/.venv/lib/python3.12/site-packages (from lightgbm) (1.26.4)\n",
      "Requirement already satisfied: scipy in /home/jose/.venv/lib/python3.12/site-packages (from lightgbm) (1.14.1)\n",
      "Requirement already satisfied: dask[dataframe] in /home/jose/.venv/lib/python3.12/site-packages (2024.9.0)\n",
      "Requirement already satisfied: click>=8.1 in /home/jose/.venv/lib/python3.12/site-packages (from dask[dataframe]) (8.1.7)\n",
      "Requirement already satisfied: cloudpickle>=3.0.0 in /home/jose/.venv/lib/python3.12/site-packages (from dask[dataframe]) (3.0.0)\n",
      "Requirement already satisfied: fsspec>=2021.09.0 in /home/jose/.venv/lib/python3.12/site-packages (from dask[dataframe]) (2024.9.0)\n",
      "Requirement already satisfied: packaging>=20.0 in /home/jose/.venv/lib/python3.12/site-packages (from dask[dataframe]) (24.1)\n",
      "Requirement already satisfied: partd>=1.4.0 in /home/jose/.venv/lib/python3.12/site-packages (from dask[dataframe]) (1.4.2)\n",
      "Requirement already satisfied: pyyaml>=5.3.1 in /home/jose/.venv/lib/python3.12/site-packages (from dask[dataframe]) (6.0.2)\n",
      "Requirement already satisfied: toolz>=0.10.0 in /home/jose/.venv/lib/python3.12/site-packages (from dask[dataframe]) (0.12.1)\n",
      "Requirement already satisfied: pandas>=2.0 in /home/jose/.venv/lib/python3.12/site-packages (from dask[dataframe]) (2.2.3)\n",
      "Requirement already satisfied: dask-expr<1.2,>=1.1 in /home/jose/.venv/lib/python3.12/site-packages (from dask[dataframe]) (1.1.14)\n",
      "Requirement already satisfied: pyarrow>=14.0.1 in /home/jose/.venv/lib/python3.12/site-packages (from dask-expr<1.2,>=1.1->dask[dataframe]) (17.0.0)\n",
      "Requirement already satisfied: numpy>=1.26.0 in /home/jose/.venv/lib/python3.12/site-packages (from pandas>=2.0->dask[dataframe]) (1.26.4)\n",
      "Requirement already satisfied: python-dateutil>=2.8.2 in /home/jose/.venv/lib/python3.12/site-packages (from pandas>=2.0->dask[dataframe]) (2.9.0.post0)\n",
      "Requirement already satisfied: pytz>=2020.1 in /home/jose/.venv/lib/python3.12/site-packages (from pandas>=2.0->dask[dataframe]) (2024.2)\n",
      "Requirement already satisfied: tzdata>=2022.7 in /home/jose/.venv/lib/python3.12/site-packages (from pandas>=2.0->dask[dataframe]) (2024.1)\n",
      "Requirement already satisfied: locket in /home/jose/.venv/lib/python3.12/site-packages (from partd>=1.4.0->dask[dataframe]) (1.0.0)\n",
      "Requirement already satisfied: six>=1.5 in /home/jose/.venv/lib/python3.12/site-packages (from python-dateutil>=2.8.2->pandas>=2.0->dask[dataframe]) (1.16.0)\n"
     ]
    }
   ],
   "source": [
    "!pip install --upgrade pip\n",
    "!pip install --upgrade lightgbm\n",
    "!pip install dask[dataframe]"
   ]
  },
  {
   "cell_type": "code",
   "execution_count": 27,
   "metadata": {
    "executionInfo": {
     "elapsed": 318,
     "status": "ok",
     "timestamp": 1732192785094,
     "user": {
      "displayName": "Jose Chelquer",
      "userId": "09375279337890014087"
     },
     "user_tz": 180
    },
    "id": "Xs8XJDvangfH"
   },
   "outputs": [],
   "source": [
    "#Librerías.\n",
    "import pandas as pd\n",
    "import numpy as np\n",
    "import os\n"
   ]
  },
  {
   "cell_type": "code",
   "execution_count": null,
   "metadata": {},
   "outputs": [],
   "source": []
  },
  {
   "cell_type": "markdown",
   "metadata": {
    "id": "gfR89a-X6qFG"
   },
   "source": [
    "## Lectura de datos"
   ]
  },
  {
   "cell_type": "code",
   "execution_count": 28,
   "metadata": {
    "executionInfo": {
     "elapsed": 5301,
     "status": "ok",
     "timestamp": 1732192790392,
     "user": {
      "displayName": "Jose Chelquer",
      "userId": "09375279337890014087"
     },
     "user_tz": 180
    },
    "id": "gJsoODupngfK"
   },
   "outputs": [],
   "source": [
    "#Lectura de datos.\n",
    "dataset_pf=os.path.join(dataset_path, dataset_file)\n",
    "data = pd.read_parquet(dataset_pf)"
   ]
  },
  {
   "cell_type": "code",
   "execution_count": 29,
   "metadata": {
    "colab": {
     "base_uri": "https://localhost:8080/"
    },
    "executionInfo": {
     "elapsed": 9,
     "status": "ok",
     "timestamp": 1732192790393,
     "user": {
      "displayName": "Jose Chelquer",
      "userId": "09375279337890014087"
     },
     "user_tz": 180
    },
    "id": "Ea-StFvc2rQa",
    "outputId": "a691f807-764e-4124-8735-ba8f59f2c11e"
   },
   "outputs": [
    {
     "data": {
      "text/plain": [
       "(4901237, 155)"
      ]
     },
     "execution_count": 29,
     "metadata": {},
     "output_type": "execute_result"
    }
   ],
   "source": [
    "data.shape"
   ]
  },
  {
   "cell_type": "code",
   "execution_count": 30,
   "metadata": {
    "colab": {
     "base_uri": "https://localhost:8080/",
     "height": 335
    },
    "executionInfo": {
     "elapsed": 7,
     "status": "ok",
     "timestamp": 1732192790393,
     "user": {
      "displayName": "Jose Chelquer",
      "userId": "09375279337890014087"
     },
     "user_tz": 180
    },
    "id": "r0dns_fdyvIQ",
    "outputId": "0bbeb614-ade1-4b25-c6f7-66c0dba88602"
   },
   "outputs": [
    {
     "data": {
      "text/plain": [
       "foto_mes\n",
       "202109    165644\n",
       "202108    165442\n",
       "202107    165152\n",
       "202106    164876\n",
       "202105    164623\n",
       "202104    164090\n",
       "202103    163685\n",
       "202102    162646\n",
       "202101    162026\n",
       "202012    161526\n",
       "202011    160742\n",
       "202010    159731\n",
       "202009    158371\n",
       "202008    157058\n",
       "202007    155764\n",
       "202006    153757\n",
       "202005    151261\n",
       "202004    149872\n",
       "202003    149356\n",
       "202002    147109\n",
       "202001    143966\n",
       "201912    140661\n",
       "201911    138667\n",
       "201910    136682\n",
       "201909    134314\n",
       "201908    132664\n",
       "201907    130724\n",
       "201906    129186\n",
       "201905    127659\n",
       "201904    126996\n",
       "201903    126436\n",
       "201902    125799\n",
       "201901    124752\n",
       "Name: count, dtype: int64"
      ]
     },
     "execution_count": 30,
     "metadata": {},
     "output_type": "execute_result"
    }
   ],
   "source": [
    "data['foto_mes'].value_counts()"
   ]
  },
  {
   "cell_type": "code",
   "execution_count": null,
   "metadata": {},
   "outputs": [],
   "source": []
  },
  {
   "cell_type": "markdown",
   "metadata": {
    "id": "8cxVkBDHngfK"
   },
   "source": [
    "## B. Data Quality."
   ]
  },
  {
   "cell_type": "markdown",
   "metadata": {
    "id": "x8lziNmTngfL"
   },
   "source": [
    "#### 1. Valores nulos."
   ]
  },
  {
   "cell_type": "code",
   "execution_count": 31,
   "metadata": {
    "colab": {
     "base_uri": "https://localhost:8080/"
    },
    "executionInfo": {
     "elapsed": 656,
     "status": "ok",
     "timestamp": 1732195126989,
     "user": {
      "displayName": "Jose Chelquer",
      "userId": "09375279337890014087"
     },
     "user_tz": 180
    },
    "id": "gI_mlO20ngfL",
    "outputId": "287b0f02-5d13-4acf-cddc-a4e357fee188"
   },
   "outputs": [
    {
     "name": "stderr",
     "output_type": "stream",
     "text": [
      "/tmp/ipykernel_2178/4147783882.py:1: DeprecationWarning: DataFrameGroupBy.apply operated on the grouping columns. This behavior is deprecated, and in a future version of pandas the grouping columns will be excluded from the operation. Either pass `include_groups=False` to exclude the groupings or explicitly select the grouping columns after groupby to silence this warning.\n",
      "  nulos_por_mes = data.groupby('foto_mes').apply(lambda x: x.isnull().sum())\n"
     ]
    },
    {
     "name": "stdout",
     "output_type": "stream",
     "text": [
      "Mes: 201901, Columnas atípicas: ['tmobile_app', 'cmobile_app_trx']\n",
      "tmobile_app\n",
      "foto_mes\n",
      "201901    100.0\n",
      "201902    100.0\n",
      "201903    100.0\n",
      "201904    100.0\n",
      "201905    100.0\n",
      "201906    100.0\n",
      "201907      0.0\n",
      "201908      0.0\n",
      "201909      0.0\n",
      "201910      0.0\n",
      "201911      0.0\n",
      "201912      0.0\n",
      "202001      0.0\n",
      "202002      0.0\n",
      "202003      0.0\n",
      "202004      0.0\n",
      "202005      0.0\n",
      "202006      0.0\n",
      "202007      0.0\n",
      "202008      0.0\n",
      "202009      0.0\n",
      "202010      0.0\n",
      "202011      0.0\n",
      "202012      0.0\n",
      "202101      0.0\n",
      "202102      0.0\n",
      "202103      0.0\n",
      "202104      0.0\n",
      "202105      0.0\n",
      "202106      0.0\n",
      "202107      0.0\n",
      "202108      0.0\n",
      "202109      0.0\n",
      "Name: tmobile_app, dtype: float64\n",
      "cmobile_app_trx\n",
      "foto_mes\n",
      "201901    100.0\n",
      "201902    100.0\n",
      "201903    100.0\n",
      "201904    100.0\n",
      "201905    100.0\n",
      "201906    100.0\n",
      "201907      0.0\n",
      "201908      0.0\n",
      "201909      0.0\n",
      "201910      0.0\n",
      "201911      0.0\n",
      "201912      0.0\n",
      "202001      0.0\n",
      "202002      0.0\n",
      "202003      0.0\n",
      "202004      0.0\n",
      "202005      0.0\n",
      "202006      0.0\n",
      "202007      0.0\n",
      "202008      0.0\n",
      "202009      0.0\n",
      "202010      0.0\n",
      "202011      0.0\n",
      "202012      0.0\n",
      "202101      0.0\n",
      "202102      0.0\n",
      "202103      0.0\n",
      "202104      0.0\n",
      "202105      0.0\n",
      "202106      0.0\n",
      "202107      0.0\n",
      "202108      0.0\n",
      "202109      0.0\n",
      "Name: cmobile_app_trx, dtype: float64\n",
      "Mes: 201902, Columnas atípicas: ['tmobile_app', 'cmobile_app_trx']\n",
      "tmobile_app\n",
      "foto_mes\n",
      "201901    100.0\n",
      "201902    100.0\n",
      "201903    100.0\n",
      "201904    100.0\n",
      "201905    100.0\n",
      "201906    100.0\n",
      "201907      0.0\n",
      "201908      0.0\n",
      "201909      0.0\n",
      "201910      0.0\n",
      "201911      0.0\n",
      "201912      0.0\n",
      "202001      0.0\n",
      "202002      0.0\n",
      "202003      0.0\n",
      "202004      0.0\n",
      "202005      0.0\n",
      "202006      0.0\n",
      "202007      0.0\n",
      "202008      0.0\n",
      "202009      0.0\n",
      "202010      0.0\n",
      "202011      0.0\n",
      "202012      0.0\n",
      "202101      0.0\n",
      "202102      0.0\n",
      "202103      0.0\n",
      "202104      0.0\n",
      "202105      0.0\n",
      "202106      0.0\n",
      "202107      0.0\n",
      "202108      0.0\n",
      "202109      0.0\n",
      "Name: tmobile_app, dtype: float64\n",
      "cmobile_app_trx\n",
      "foto_mes\n",
      "201901    100.0\n",
      "201902    100.0\n",
      "201903    100.0\n",
      "201904    100.0\n",
      "201905    100.0\n",
      "201906    100.0\n",
      "201907      0.0\n",
      "201908      0.0\n",
      "201909      0.0\n",
      "201910      0.0\n",
      "201911      0.0\n",
      "201912      0.0\n",
      "202001      0.0\n",
      "202002      0.0\n",
      "202003      0.0\n",
      "202004      0.0\n",
      "202005      0.0\n",
      "202006      0.0\n",
      "202007      0.0\n",
      "202008      0.0\n",
      "202009      0.0\n",
      "202010      0.0\n",
      "202011      0.0\n",
      "202012      0.0\n",
      "202101      0.0\n",
      "202102      0.0\n",
      "202103      0.0\n",
      "202104      0.0\n",
      "202105      0.0\n",
      "202106      0.0\n",
      "202107      0.0\n",
      "202108      0.0\n",
      "202109      0.0\n",
      "Name: cmobile_app_trx, dtype: float64\n",
      "Mes: 201903, Columnas atípicas: ['tmobile_app', 'cmobile_app_trx']\n",
      "tmobile_app\n",
      "foto_mes\n",
      "201901    100.0\n",
      "201902    100.0\n",
      "201903    100.0\n",
      "201904    100.0\n",
      "201905    100.0\n",
      "201906    100.0\n",
      "201907      0.0\n",
      "201908      0.0\n",
      "201909      0.0\n",
      "201910      0.0\n",
      "201911      0.0\n",
      "201912      0.0\n",
      "202001      0.0\n",
      "202002      0.0\n",
      "202003      0.0\n",
      "202004      0.0\n",
      "202005      0.0\n",
      "202006      0.0\n",
      "202007      0.0\n",
      "202008      0.0\n",
      "202009      0.0\n",
      "202010      0.0\n",
      "202011      0.0\n",
      "202012      0.0\n",
      "202101      0.0\n",
      "202102      0.0\n",
      "202103      0.0\n",
      "202104      0.0\n",
      "202105      0.0\n",
      "202106      0.0\n",
      "202107      0.0\n",
      "202108      0.0\n",
      "202109      0.0\n",
      "Name: tmobile_app, dtype: float64\n",
      "cmobile_app_trx\n",
      "foto_mes\n",
      "201901    100.0\n",
      "201902    100.0\n",
      "201903    100.0\n",
      "201904    100.0\n",
      "201905    100.0\n",
      "201906    100.0\n",
      "201907      0.0\n",
      "201908      0.0\n",
      "201909      0.0\n",
      "201910      0.0\n",
      "201911      0.0\n",
      "201912      0.0\n",
      "202001      0.0\n",
      "202002      0.0\n",
      "202003      0.0\n",
      "202004      0.0\n",
      "202005      0.0\n",
      "202006      0.0\n",
      "202007      0.0\n",
      "202008      0.0\n",
      "202009      0.0\n",
      "202010      0.0\n",
      "202011      0.0\n",
      "202012      0.0\n",
      "202101      0.0\n",
      "202102      0.0\n",
      "202103      0.0\n",
      "202104      0.0\n",
      "202105      0.0\n",
      "202106      0.0\n",
      "202107      0.0\n",
      "202108      0.0\n",
      "202109      0.0\n",
      "Name: cmobile_app_trx, dtype: float64\n",
      "Mes: 201904, Columnas atípicas: ['tmobile_app', 'cmobile_app_trx']\n",
      "tmobile_app\n",
      "foto_mes\n",
      "201901    100.0\n",
      "201902    100.0\n",
      "201903    100.0\n",
      "201904    100.0\n",
      "201905    100.0\n",
      "201906    100.0\n",
      "201907      0.0\n",
      "201908      0.0\n",
      "201909      0.0\n",
      "201910      0.0\n",
      "201911      0.0\n",
      "201912      0.0\n",
      "202001      0.0\n",
      "202002      0.0\n",
      "202003      0.0\n",
      "202004      0.0\n",
      "202005      0.0\n",
      "202006      0.0\n",
      "202007      0.0\n",
      "202008      0.0\n",
      "202009      0.0\n",
      "202010      0.0\n",
      "202011      0.0\n",
      "202012      0.0\n",
      "202101      0.0\n",
      "202102      0.0\n",
      "202103      0.0\n",
      "202104      0.0\n",
      "202105      0.0\n",
      "202106      0.0\n",
      "202107      0.0\n",
      "202108      0.0\n",
      "202109      0.0\n",
      "Name: tmobile_app, dtype: float64\n",
      "cmobile_app_trx\n",
      "foto_mes\n",
      "201901    100.0\n",
      "201902    100.0\n",
      "201903    100.0\n",
      "201904    100.0\n",
      "201905    100.0\n",
      "201906    100.0\n",
      "201907      0.0\n",
      "201908      0.0\n",
      "201909      0.0\n",
      "201910      0.0\n",
      "201911      0.0\n",
      "201912      0.0\n",
      "202001      0.0\n",
      "202002      0.0\n",
      "202003      0.0\n",
      "202004      0.0\n",
      "202005      0.0\n",
      "202006      0.0\n",
      "202007      0.0\n",
      "202008      0.0\n",
      "202009      0.0\n",
      "202010      0.0\n",
      "202011      0.0\n",
      "202012      0.0\n",
      "202101      0.0\n",
      "202102      0.0\n",
      "202103      0.0\n",
      "202104      0.0\n",
      "202105      0.0\n",
      "202106      0.0\n",
      "202107      0.0\n",
      "202108      0.0\n",
      "202109      0.0\n",
      "Name: cmobile_app_trx, dtype: float64\n",
      "Mes: 201905, Columnas atípicas: ['tmobile_app', 'cmobile_app_trx']\n",
      "tmobile_app\n",
      "foto_mes\n",
      "201901    100.0\n",
      "201902    100.0\n",
      "201903    100.0\n",
      "201904    100.0\n",
      "201905    100.0\n",
      "201906    100.0\n",
      "201907      0.0\n",
      "201908      0.0\n",
      "201909      0.0\n",
      "201910      0.0\n",
      "201911      0.0\n",
      "201912      0.0\n",
      "202001      0.0\n",
      "202002      0.0\n",
      "202003      0.0\n",
      "202004      0.0\n",
      "202005      0.0\n",
      "202006      0.0\n",
      "202007      0.0\n",
      "202008      0.0\n",
      "202009      0.0\n",
      "202010      0.0\n",
      "202011      0.0\n",
      "202012      0.0\n",
      "202101      0.0\n",
      "202102      0.0\n",
      "202103      0.0\n",
      "202104      0.0\n",
      "202105      0.0\n",
      "202106      0.0\n",
      "202107      0.0\n",
      "202108      0.0\n",
      "202109      0.0\n",
      "Name: tmobile_app, dtype: float64\n",
      "cmobile_app_trx\n",
      "foto_mes\n",
      "201901    100.0\n",
      "201902    100.0\n",
      "201903    100.0\n",
      "201904    100.0\n",
      "201905    100.0\n",
      "201906    100.0\n",
      "201907      0.0\n",
      "201908      0.0\n",
      "201909      0.0\n",
      "201910      0.0\n",
      "201911      0.0\n",
      "201912      0.0\n",
      "202001      0.0\n",
      "202002      0.0\n",
      "202003      0.0\n",
      "202004      0.0\n",
      "202005      0.0\n",
      "202006      0.0\n",
      "202007      0.0\n",
      "202008      0.0\n",
      "202009      0.0\n",
      "202010      0.0\n",
      "202011      0.0\n",
      "202012      0.0\n",
      "202101      0.0\n",
      "202102      0.0\n",
      "202103      0.0\n",
      "202104      0.0\n",
      "202105      0.0\n",
      "202106      0.0\n",
      "202107      0.0\n",
      "202108      0.0\n",
      "202109      0.0\n",
      "Name: cmobile_app_trx, dtype: float64\n",
      "Mes: 201906, Columnas atípicas: ['tmobile_app', 'cmobile_app_trx']\n",
      "tmobile_app\n",
      "foto_mes\n",
      "201901    100.0\n",
      "201902    100.0\n",
      "201903    100.0\n",
      "201904    100.0\n",
      "201905    100.0\n",
      "201906    100.0\n",
      "201907      0.0\n",
      "201908      0.0\n",
      "201909      0.0\n",
      "201910      0.0\n",
      "201911      0.0\n",
      "201912      0.0\n",
      "202001      0.0\n",
      "202002      0.0\n",
      "202003      0.0\n",
      "202004      0.0\n",
      "202005      0.0\n",
      "202006      0.0\n",
      "202007      0.0\n",
      "202008      0.0\n",
      "202009      0.0\n",
      "202010      0.0\n",
      "202011      0.0\n",
      "202012      0.0\n",
      "202101      0.0\n",
      "202102      0.0\n",
      "202103      0.0\n",
      "202104      0.0\n",
      "202105      0.0\n",
      "202106      0.0\n",
      "202107      0.0\n",
      "202108      0.0\n",
      "202109      0.0\n",
      "Name: tmobile_app, dtype: float64\n",
      "cmobile_app_trx\n",
      "foto_mes\n",
      "201901    100.0\n",
      "201902    100.0\n",
      "201903    100.0\n",
      "201904    100.0\n",
      "201905    100.0\n",
      "201906    100.0\n",
      "201907      0.0\n",
      "201908      0.0\n",
      "201909      0.0\n",
      "201910      0.0\n",
      "201911      0.0\n",
      "201912      0.0\n",
      "202001      0.0\n",
      "202002      0.0\n",
      "202003      0.0\n",
      "202004      0.0\n",
      "202005      0.0\n",
      "202006      0.0\n",
      "202007      0.0\n",
      "202008      0.0\n",
      "202009      0.0\n",
      "202010      0.0\n",
      "202011      0.0\n",
      "202012      0.0\n",
      "202101      0.0\n",
      "202102      0.0\n",
      "202103      0.0\n",
      "202104      0.0\n",
      "202105      0.0\n",
      "202106      0.0\n",
      "202107      0.0\n",
      "202108      0.0\n",
      "202109      0.0\n",
      "Name: cmobile_app_trx, dtype: float64\n",
      "Mes: 201907, Columnas atípicas: ['mtarjeta_visa_descuentos']\n",
      "mtarjeta_visa_descuentos\n",
      "foto_mes\n",
      "201901    1.653681\n",
      "201902    1.052473\n",
      "201903    1.488500\n",
      "201904    1.878012\n",
      "201905    1.793841\n",
      "201906    2.488660\n",
      "201907    3.590771\n",
      "201908    2.568896\n",
      "201909    1.812916\n",
      "201910    0.000000\n",
      "201911    1.323314\n",
      "201912    4.368659\n",
      "202001    7.816429\n",
      "202002    0.000000\n",
      "202003    1.663810\n",
      "202004    0.965491\n",
      "202005    1.154296\n",
      "202006    0.000000\n",
      "202007    1.395701\n",
      "202008    1.323078\n",
      "202009    0.000000\n",
      "202010    0.000000\n",
      "202011    1.776760\n",
      "202012    1.344056\n",
      "202101    2.429240\n",
      "202102    0.000000\n",
      "202103    2.227449\n",
      "202104    1.735633\n",
      "202105    2.202001\n",
      "202106    1.784978\n",
      "202107    2.696910\n",
      "202108    1.864097\n",
      "202109    0.387578\n",
      "Name: mtarjeta_visa_descuentos, dtype: float64\n",
      "Mes: 201912, Columnas atípicas: ['mtarjeta_visa_descuentos', 'mtarjeta_master_descuentos']\n",
      "mtarjeta_visa_descuentos\n",
      "foto_mes\n",
      "201901    1.653681\n",
      "201902    1.052473\n",
      "201903    1.488500\n",
      "201904    1.878012\n",
      "201905    1.793841\n",
      "201906    2.488660\n",
      "201907    3.590771\n",
      "201908    2.568896\n",
      "201909    1.812916\n",
      "201910    0.000000\n",
      "201911    1.323314\n",
      "201912    4.368659\n",
      "202001    7.816429\n",
      "202002    0.000000\n",
      "202003    1.663810\n",
      "202004    0.965491\n",
      "202005    1.154296\n",
      "202006    0.000000\n",
      "202007    1.395701\n",
      "202008    1.323078\n",
      "202009    0.000000\n",
      "202010    0.000000\n",
      "202011    1.776760\n",
      "202012    1.344056\n",
      "202101    2.429240\n",
      "202102    0.000000\n",
      "202103    2.227449\n",
      "202104    1.735633\n",
      "202105    2.202001\n",
      "202106    1.784978\n",
      "202107    2.696910\n",
      "202108    1.864097\n",
      "202109    0.387578\n",
      "Name: mtarjeta_visa_descuentos, dtype: float64\n",
      "mtarjeta_master_descuentos\n",
      "foto_mes\n",
      "201901    0.307811\n",
      "201902    0.185216\n",
      "201903    0.268120\n",
      "201904    0.311821\n",
      "201905    0.310985\n",
      "201906    0.397876\n",
      "201907    0.539304\n",
      "201908    0.452270\n",
      "201909    0.318656\n",
      "201910    0.000000\n",
      "201911    0.307932\n",
      "201912    1.074214\n",
      "202001    1.485073\n",
      "202002    0.000000\n",
      "202003    0.378960\n",
      "202004    0.189495\n",
      "202005    2.582292\n",
      "202006    0.000000\n",
      "202007    7.442028\n",
      "202008    7.323409\n",
      "202009    0.000000\n",
      "202010    0.000000\n",
      "202011    0.885270\n",
      "202012    2.353801\n",
      "202101    2.330490\n",
      "202102    0.000000\n",
      "202103    2.966674\n",
      "202104    3.332318\n",
      "202105    3.036635\n",
      "202106    2.682016\n",
      "202107    2.683588\n",
      "202108    3.453778\n",
      "202109    0.589215\n",
      "Name: mtarjeta_master_descuentos, dtype: float64\n",
      "Mes: 202001, Columnas atípicas: ['mtarjeta_visa_descuentos', 'mtarjeta_master_descuentos']\n",
      "mtarjeta_visa_descuentos\n",
      "foto_mes\n",
      "201901    1.653681\n",
      "201902    1.052473\n",
      "201903    1.488500\n",
      "201904    1.878012\n",
      "201905    1.793841\n",
      "201906    2.488660\n",
      "201907    3.590771\n",
      "201908    2.568896\n",
      "201909    1.812916\n",
      "201910    0.000000\n",
      "201911    1.323314\n",
      "201912    4.368659\n",
      "202001    7.816429\n",
      "202002    0.000000\n",
      "202003    1.663810\n",
      "202004    0.965491\n",
      "202005    1.154296\n",
      "202006    0.000000\n",
      "202007    1.395701\n",
      "202008    1.323078\n",
      "202009    0.000000\n",
      "202010    0.000000\n",
      "202011    1.776760\n",
      "202012    1.344056\n",
      "202101    2.429240\n",
      "202102    0.000000\n",
      "202103    2.227449\n",
      "202104    1.735633\n",
      "202105    2.202001\n",
      "202106    1.784978\n",
      "202107    2.696910\n",
      "202108    1.864097\n",
      "202109    0.387578\n",
      "Name: mtarjeta_visa_descuentos, dtype: float64\n",
      "mtarjeta_master_descuentos\n",
      "foto_mes\n",
      "201901    0.307811\n",
      "201902    0.185216\n",
      "201903    0.268120\n",
      "201904    0.311821\n",
      "201905    0.310985\n",
      "201906    0.397876\n",
      "201907    0.539304\n",
      "201908    0.452270\n",
      "201909    0.318656\n",
      "201910    0.000000\n",
      "201911    0.307932\n",
      "201912    1.074214\n",
      "202001    1.485073\n",
      "202002    0.000000\n",
      "202003    0.378960\n",
      "202004    0.189495\n",
      "202005    2.582292\n",
      "202006    0.000000\n",
      "202007    7.442028\n",
      "202008    7.323409\n",
      "202009    0.000000\n",
      "202010    0.000000\n",
      "202011    0.885270\n",
      "202012    2.353801\n",
      "202101    2.330490\n",
      "202102    0.000000\n",
      "202103    2.966674\n",
      "202104    3.332318\n",
      "202105    3.036635\n",
      "202106    2.682016\n",
      "202107    2.683588\n",
      "202108    3.453778\n",
      "202109    0.589215\n",
      "Name: mtarjeta_master_descuentos, dtype: float64\n",
      "Mes: 202005, Columnas atípicas: ['mtarjeta_master_descuentos']\n",
      "mtarjeta_master_descuentos\n",
      "foto_mes\n",
      "201901    0.307811\n",
      "201902    0.185216\n",
      "201903    0.268120\n",
      "201904    0.311821\n",
      "201905    0.310985\n",
      "201906    0.397876\n",
      "201907    0.539304\n",
      "201908    0.452270\n",
      "201909    0.318656\n",
      "201910    0.000000\n",
      "201911    0.307932\n",
      "201912    1.074214\n",
      "202001    1.485073\n",
      "202002    0.000000\n",
      "202003    0.378960\n",
      "202004    0.189495\n",
      "202005    2.582292\n",
      "202006    0.000000\n",
      "202007    7.442028\n",
      "202008    7.323409\n",
      "202009    0.000000\n",
      "202010    0.000000\n",
      "202011    0.885270\n",
      "202012    2.353801\n",
      "202101    2.330490\n",
      "202102    0.000000\n",
      "202103    2.966674\n",
      "202104    3.332318\n",
      "202105    3.036635\n",
      "202106    2.682016\n",
      "202107    2.683588\n",
      "202108    3.453778\n",
      "202109    0.589215\n",
      "Name: mtarjeta_master_descuentos, dtype: float64\n",
      "Mes: 202007, Columnas atípicas: ['mtarjeta_master_descuentos']\n",
      "mtarjeta_master_descuentos\n",
      "foto_mes\n",
      "201901    0.307811\n",
      "201902    0.185216\n",
      "201903    0.268120\n",
      "201904    0.311821\n",
      "201905    0.310985\n",
      "201906    0.397876\n",
      "201907    0.539304\n",
      "201908    0.452270\n",
      "201909    0.318656\n",
      "201910    0.000000\n",
      "201911    0.307932\n",
      "201912    1.074214\n",
      "202001    1.485073\n",
      "202002    0.000000\n",
      "202003    0.378960\n",
      "202004    0.189495\n",
      "202005    2.582292\n",
      "202006    0.000000\n",
      "202007    7.442028\n",
      "202008    7.323409\n",
      "202009    0.000000\n",
      "202010    0.000000\n",
      "202011    0.885270\n",
      "202012    2.353801\n",
      "202101    2.330490\n",
      "202102    0.000000\n",
      "202103    2.966674\n",
      "202104    3.332318\n",
      "202105    3.036635\n",
      "202106    2.682016\n",
      "202107    2.683588\n",
      "202108    3.453778\n",
      "202109    0.589215\n",
      "Name: mtarjeta_master_descuentos, dtype: float64\n",
      "Mes: 202008, Columnas atípicas: ['mtarjeta_master_descuentos']\n",
      "mtarjeta_master_descuentos\n",
      "foto_mes\n",
      "201901    0.307811\n",
      "201902    0.185216\n",
      "201903    0.268120\n",
      "201904    0.311821\n",
      "201905    0.310985\n",
      "201906    0.397876\n",
      "201907    0.539304\n",
      "201908    0.452270\n",
      "201909    0.318656\n",
      "201910    0.000000\n",
      "201911    0.307932\n",
      "201912    1.074214\n",
      "202001    1.485073\n",
      "202002    0.000000\n",
      "202003    0.378960\n",
      "202004    0.189495\n",
      "202005    2.582292\n",
      "202006    0.000000\n",
      "202007    7.442028\n",
      "202008    7.323409\n",
      "202009    0.000000\n",
      "202010    0.000000\n",
      "202011    0.885270\n",
      "202012    2.353801\n",
      "202101    2.330490\n",
      "202102    0.000000\n",
      "202103    2.966674\n",
      "202104    3.332318\n",
      "202105    3.036635\n",
      "202106    2.682016\n",
      "202107    2.683588\n",
      "202108    3.453778\n",
      "202109    0.589215\n",
      "Name: mtarjeta_master_descuentos, dtype: float64\n",
      "Mes: 202012, Columnas atípicas: ['mtarjeta_master_descuentos']\n",
      "mtarjeta_master_descuentos\n",
      "foto_mes\n",
      "201901    0.307811\n",
      "201902    0.185216\n",
      "201903    0.268120\n",
      "201904    0.311821\n",
      "201905    0.310985\n",
      "201906    0.397876\n",
      "201907    0.539304\n",
      "201908    0.452270\n",
      "201909    0.318656\n",
      "201910    0.000000\n",
      "201911    0.307932\n",
      "201912    1.074214\n",
      "202001    1.485073\n",
      "202002    0.000000\n",
      "202003    0.378960\n",
      "202004    0.189495\n",
      "202005    2.582292\n",
      "202006    0.000000\n",
      "202007    7.442028\n",
      "202008    7.323409\n",
      "202009    0.000000\n",
      "202010    0.000000\n",
      "202011    0.885270\n",
      "202012    2.353801\n",
      "202101    2.330490\n",
      "202102    0.000000\n",
      "202103    2.966674\n",
      "202104    3.332318\n",
      "202105    3.036635\n",
      "202106    2.682016\n",
      "202107    2.683588\n",
      "202108    3.453778\n",
      "202109    0.589215\n",
      "Name: mtarjeta_master_descuentos, dtype: float64\n",
      "Mes: 202101, Columnas atípicas: ['mtarjeta_master_descuentos']\n",
      "mtarjeta_master_descuentos\n",
      "foto_mes\n",
      "201901    0.307811\n",
      "201902    0.185216\n",
      "201903    0.268120\n",
      "201904    0.311821\n",
      "201905    0.310985\n",
      "201906    0.397876\n",
      "201907    0.539304\n",
      "201908    0.452270\n",
      "201909    0.318656\n",
      "201910    0.000000\n",
      "201911    0.307932\n",
      "201912    1.074214\n",
      "202001    1.485073\n",
      "202002    0.000000\n",
      "202003    0.378960\n",
      "202004    0.189495\n",
      "202005    2.582292\n",
      "202006    0.000000\n",
      "202007    7.442028\n",
      "202008    7.323409\n",
      "202009    0.000000\n",
      "202010    0.000000\n",
      "202011    0.885270\n",
      "202012    2.353801\n",
      "202101    2.330490\n",
      "202102    0.000000\n",
      "202103    2.966674\n",
      "202104    3.332318\n",
      "202105    3.036635\n",
      "202106    2.682016\n",
      "202107    2.683588\n",
      "202108    3.453778\n",
      "202109    0.589215\n",
      "Name: mtarjeta_master_descuentos, dtype: float64\n",
      "Mes: 202103, Columnas atípicas: ['mtarjeta_master_descuentos']\n",
      "mtarjeta_master_descuentos\n",
      "foto_mes\n",
      "201901    0.307811\n",
      "201902    0.185216\n",
      "201903    0.268120\n",
      "201904    0.311821\n",
      "201905    0.310985\n",
      "201906    0.397876\n",
      "201907    0.539304\n",
      "201908    0.452270\n",
      "201909    0.318656\n",
      "201910    0.000000\n",
      "201911    0.307932\n",
      "201912    1.074214\n",
      "202001    1.485073\n",
      "202002    0.000000\n",
      "202003    0.378960\n",
      "202004    0.189495\n",
      "202005    2.582292\n",
      "202006    0.000000\n",
      "202007    7.442028\n",
      "202008    7.323409\n",
      "202009    0.000000\n",
      "202010    0.000000\n",
      "202011    0.885270\n",
      "202012    2.353801\n",
      "202101    2.330490\n",
      "202102    0.000000\n",
      "202103    2.966674\n",
      "202104    3.332318\n",
      "202105    3.036635\n",
      "202106    2.682016\n",
      "202107    2.683588\n",
      "202108    3.453778\n",
      "202109    0.589215\n",
      "Name: mtarjeta_master_descuentos, dtype: float64\n",
      "Mes: 202104, Columnas atípicas: ['mtarjeta_master_descuentos']\n",
      "mtarjeta_master_descuentos\n",
      "foto_mes\n",
      "201901    0.307811\n",
      "201902    0.185216\n",
      "201903    0.268120\n",
      "201904    0.311821\n",
      "201905    0.310985\n",
      "201906    0.397876\n",
      "201907    0.539304\n",
      "201908    0.452270\n",
      "201909    0.318656\n",
      "201910    0.000000\n",
      "201911    0.307932\n",
      "201912    1.074214\n",
      "202001    1.485073\n",
      "202002    0.000000\n",
      "202003    0.378960\n",
      "202004    0.189495\n",
      "202005    2.582292\n",
      "202006    0.000000\n",
      "202007    7.442028\n",
      "202008    7.323409\n",
      "202009    0.000000\n",
      "202010    0.000000\n",
      "202011    0.885270\n",
      "202012    2.353801\n",
      "202101    2.330490\n",
      "202102    0.000000\n",
      "202103    2.966674\n",
      "202104    3.332318\n",
      "202105    3.036635\n",
      "202106    2.682016\n",
      "202107    2.683588\n",
      "202108    3.453778\n",
      "202109    0.589215\n",
      "Name: mtarjeta_master_descuentos, dtype: float64\n",
      "Mes: 202105, Columnas atípicas: ['mtarjeta_master_descuentos']\n",
      "mtarjeta_master_descuentos\n",
      "foto_mes\n",
      "201901    0.307811\n",
      "201902    0.185216\n",
      "201903    0.268120\n",
      "201904    0.311821\n",
      "201905    0.310985\n",
      "201906    0.397876\n",
      "201907    0.539304\n",
      "201908    0.452270\n",
      "201909    0.318656\n",
      "201910    0.000000\n",
      "201911    0.307932\n",
      "201912    1.074214\n",
      "202001    1.485073\n",
      "202002    0.000000\n",
      "202003    0.378960\n",
      "202004    0.189495\n",
      "202005    2.582292\n",
      "202006    0.000000\n",
      "202007    7.442028\n",
      "202008    7.323409\n",
      "202009    0.000000\n",
      "202010    0.000000\n",
      "202011    0.885270\n",
      "202012    2.353801\n",
      "202101    2.330490\n",
      "202102    0.000000\n",
      "202103    2.966674\n",
      "202104    3.332318\n",
      "202105    3.036635\n",
      "202106    2.682016\n",
      "202107    2.683588\n",
      "202108    3.453778\n",
      "202109    0.589215\n",
      "Name: mtarjeta_master_descuentos, dtype: float64\n",
      "Mes: 202106, Columnas atípicas: ['mtarjeta_master_descuentos']\n",
      "mtarjeta_master_descuentos\n",
      "foto_mes\n",
      "201901    0.307811\n",
      "201902    0.185216\n",
      "201903    0.268120\n",
      "201904    0.311821\n",
      "201905    0.310985\n",
      "201906    0.397876\n",
      "201907    0.539304\n",
      "201908    0.452270\n",
      "201909    0.318656\n",
      "201910    0.000000\n",
      "201911    0.307932\n",
      "201912    1.074214\n",
      "202001    1.485073\n",
      "202002    0.000000\n",
      "202003    0.378960\n",
      "202004    0.189495\n",
      "202005    2.582292\n",
      "202006    0.000000\n",
      "202007    7.442028\n",
      "202008    7.323409\n",
      "202009    0.000000\n",
      "202010    0.000000\n",
      "202011    0.885270\n",
      "202012    2.353801\n",
      "202101    2.330490\n",
      "202102    0.000000\n",
      "202103    2.966674\n",
      "202104    3.332318\n",
      "202105    3.036635\n",
      "202106    2.682016\n",
      "202107    2.683588\n",
      "202108    3.453778\n",
      "202109    0.589215\n",
      "Name: mtarjeta_master_descuentos, dtype: float64\n",
      "Mes: 202107, Columnas atípicas: ['mtarjeta_master_descuentos']\n",
      "mtarjeta_master_descuentos\n",
      "foto_mes\n",
      "201901    0.307811\n",
      "201902    0.185216\n",
      "201903    0.268120\n",
      "201904    0.311821\n",
      "201905    0.310985\n",
      "201906    0.397876\n",
      "201907    0.539304\n",
      "201908    0.452270\n",
      "201909    0.318656\n",
      "201910    0.000000\n",
      "201911    0.307932\n",
      "201912    1.074214\n",
      "202001    1.485073\n",
      "202002    0.000000\n",
      "202003    0.378960\n",
      "202004    0.189495\n",
      "202005    2.582292\n",
      "202006    0.000000\n",
      "202007    7.442028\n",
      "202008    7.323409\n",
      "202009    0.000000\n",
      "202010    0.000000\n",
      "202011    0.885270\n",
      "202012    2.353801\n",
      "202101    2.330490\n",
      "202102    0.000000\n",
      "202103    2.966674\n",
      "202104    3.332318\n",
      "202105    3.036635\n",
      "202106    2.682016\n",
      "202107    2.683588\n",
      "202108    3.453778\n",
      "202109    0.589215\n",
      "Name: mtarjeta_master_descuentos, dtype: float64\n",
      "Mes: 202108, Columnas atípicas: ['mtarjeta_master_descuentos']\n",
      "mtarjeta_master_descuentos\n",
      "foto_mes\n",
      "201901    0.307811\n",
      "201902    0.185216\n",
      "201903    0.268120\n",
      "201904    0.311821\n",
      "201905    0.310985\n",
      "201906    0.397876\n",
      "201907    0.539304\n",
      "201908    0.452270\n",
      "201909    0.318656\n",
      "201910    0.000000\n",
      "201911    0.307932\n",
      "201912    1.074214\n",
      "202001    1.485073\n",
      "202002    0.000000\n",
      "202003    0.378960\n",
      "202004    0.189495\n",
      "202005    2.582292\n",
      "202006    0.000000\n",
      "202007    7.442028\n",
      "202008    7.323409\n",
      "202009    0.000000\n",
      "202010    0.000000\n",
      "202011    0.885270\n",
      "202012    2.353801\n",
      "202101    2.330490\n",
      "202102    0.000000\n",
      "202103    2.966674\n",
      "202104    3.332318\n",
      "202105    3.036635\n",
      "202106    2.682016\n",
      "202107    2.683588\n",
      "202108    3.453778\n",
      "202109    0.589215\n",
      "Name: mtarjeta_master_descuentos, dtype: float64\n"
     ]
    },
    {
     "name": "stderr",
     "output_type": "stream",
     "text": [
      "/tmp/ipykernel_2178/4147783882.py:2: DeprecationWarning: DataFrameGroupBy.apply operated on the grouping columns. This behavior is deprecated, and in a future version of pandas the grouping columns will be excluded from the operation. Either pass `include_groups=False` to exclude the groupings or explicitly select the grouping columns after groupby to silence this warning.\n",
      "  nulos_porcentaje = data.groupby('foto_mes').apply(lambda x: (x.isnull().sum() / len(x)) * 100)\n"
     ]
    }
   ],
   "source": [
    "nulos_por_mes = data.groupby('foto_mes').apply(lambda x: x.isnull().sum())\n",
    "nulos_porcentaje = data.groupby('foto_mes').apply(lambda x: (x.isnull().sum() / len(x)) * 100)\n",
    "\n",
    "# Calcular la mediana de nulos para cada columna\n",
    "mediana_nulos = nulos_porcentaje.median()\n",
    "\n",
    "umbral=1\n",
    "# Definir el umbral como 100% mayor o menor que la mediana\n",
    "umbral_superior = mediana_nulos * (1+umbral)\n",
    "umbral_inferior = mediana_nulos * (1-umbral)\n",
    "\n",
    "# Identificar valores atípicos\n",
    "valores_atipicos = nulos_porcentaje.apply(lambda fila: (fila > umbral_superior) | (fila < umbral_inferior), axis=1)\n",
    "\n",
    "# Filtrar las columnas y meses con valores atípicos\n",
    "resultados_atipicos = valores_atipicos[valores_atipicos.any(axis=1)]\n",
    "\n",
    "# Mostrar individualmente\n",
    "# Recorrer cada fila en los resultados atípicos\n",
    "for mes, fila in resultados_atipicos.iterrows():\n",
    "    # Identificar las columnas con valores atípicos (True), excluyendo 'foto_mes'\n",
    "    columnas_atipicas = fila[fila.index != 'foto_mes'][fila].index.tolist()\n",
    "    # Imprimir el mes y las columnas atípicas\n",
    "    print(f\"Mes: {mes}, Columnas atípicas: {columnas_atipicas}\")\n",
    "    for columna in columnas_atipicas:\n",
    "      print (columna)\n",
    "      print (nulos_porcentaje[columna])\n"
   ]
  },
  {
   "cell_type": "markdown",
   "metadata": {
    "id": "sMvWYQO6ngfM"
   },
   "source": [
    "#### 2. Valores 0."
   ]
  },
  {
   "cell_type": "code",
   "execution_count": 32,
   "metadata": {
    "colab": {
     "base_uri": "https://localhost:8080/"
    },
    "executionInfo": {
     "elapsed": 626,
     "status": "ok",
     "timestamp": 1732195160681,
     "user": {
      "displayName": "Jose Chelquer",
      "userId": "09375279337890014087"
     },
     "user_tz": 180
    },
    "id": "OP2LjhrWngfM",
    "outputId": "0cc627bc-4879-477c-d6b8-e31c5b0bf712"
   },
   "outputs": [
    {
     "name": "stderr",
     "output_type": "stream",
     "text": [
      "/tmp/ipykernel_2178/2208825846.py:1: DeprecationWarning: DataFrameGroupBy.apply operated on the grouping columns. This behavior is deprecated, and in a future version of pandas the grouping columns will be excluded from the operation. Either pass `include_groups=False` to exclude the groupings or explicitly select the grouping columns after groupby to silence this warning.\n",
      "  ceros_por_mes = data.groupby('foto_mes').apply(lambda x: (x==0).sum())\n"
     ]
    },
    {
     "name": "stdout",
     "output_type": "stream",
     "text": [
      "Mes: 201901, Columnas atípicas: ['ctransferencias_recibidas', 'mtransferencias_recibidas', 'chomebanking_transacciones', 'Master_mfinanciacion_limite', 'Visa_mfinanciacion_limite']\n",
      "Mes: 201902, Columnas atípicas: ['ctransferencias_recibidas', 'mtransferencias_recibidas', 'Master_mfinanciacion_limite', 'Visa_mfinanciacion_limite']\n",
      "Mes: 201903, Columnas atípicas: ['ctransferencias_recibidas', 'mtransferencias_recibidas', 'Master_mfinanciacion_limite', 'Visa_mfinanciacion_limite', 'Visa_Finiciomora']\n",
      "Mes: 201904, Columnas atípicas: ['ctarjeta_visa_debitos_automaticos', 'mttarjeta_visa_debitos_automaticos', 'ctransferencias_recibidas', 'mtransferencias_recibidas', 'chomebanking_transacciones', 'Master_mfinanciacion_limite', 'Visa_mfinanciacion_limite']\n",
      "Mes: 201905, Columnas atípicas: ['mrentabilidad', 'mrentabilidad_annual', 'mcomisiones', 'mactivos_margen', 'mpasivos_margen', 'ccomisiones_otras', 'mcomisiones_otras', 'ctransferencias_recibidas', 'mtransferencias_recibidas', 'chomebanking_transacciones', 'Master_mfinanciacion_limite', 'Visa_mfinanciacion_limite']\n",
      "Mes: 201906, Columnas atípicas: ['chomebanking_transacciones', 'Master_Finiciomora', 'Visa_mfinanciacion_limite', 'Visa_Finiciomora']\n",
      "Mes: 201907, Columnas atípicas: ['chomebanking_transacciones', 'Master_Finiciomora', 'Master_fultimo_cierre', 'Visa_mfinanciacion_limite', 'Visa_fultimo_cierre']\n",
      "Mes: 201908, Columnas atípicas: ['chomebanking_transacciones']\n",
      "Mes: 201909, Columnas atípicas: ['chomebanking_transacciones', 'Visa_Finiciomora']\n",
      "Mes: 201910, Columnas atípicas: ['mrentabilidad', 'mrentabilidad_annual', 'mcomisiones', 'mactivos_margen', 'mpasivos_margen', 'ccomisiones_otras', 'mcomisiones_otras', 'chomebanking_transacciones', 'Master_mfinanciacion_limite', 'Visa_mfinanciacion_limite']\n",
      "Mes: 201911, Columnas atípicas: ['Master_mfinanciacion_limite', 'Visa_mfinanciacion_limite']\n",
      "Mes: 202001, Columnas atípicas: ['Master_mfinanciacion_limite']\n",
      "Mes: 202002, Columnas atípicas: ['Master_mfinanciacion_limite', 'Visa_mfinanciacion_limite']\n",
      "Mes: 202005, Columnas atípicas: ['Visa_Finiciomora']\n",
      "Mes: 202006, Columnas atípicas: ['active_quarter', 'internet', 'cliente_edad', 'mrentabilidad', 'mrentabilidad_annual', 'mcomisiones', 'mactivos_margen', 'mpasivos_margen', 'mcuentas_saldo', 'ctarjeta_debito_transacciones', 'mautoservicio', 'ctarjeta_visa_transacciones', 'mtarjeta_visa_consumo', 'ccomisiones_otras', 'mcomisiones_otras', 'cextraccion_autoservicio', 'mextraccion_autoservicio', 'thomebanking', 'chomebanking_transacciones', 'tmobile_app', 'cmobile_app_trx', 'Master_mfinanciacion_limite', 'Visa_mfinanciacion_limite']\n",
      "Mes: 202008, Columnas atípicas: ['Visa_Finiciomora']\n",
      "Mes: 202009, Columnas atípicas: ['Master_Finiciomora', 'Master_fultimo_cierre', 'Visa_fultimo_cierre']\n",
      "Mes: 202010, Columnas atípicas: ['internet', 'tmobile_app']\n",
      "Mes: 202011, Columnas atípicas: ['internet', 'tmobile_app', 'Visa_Finiciomora']\n",
      "Mes: 202012, Columnas atípicas: ['internet', 'tmobile_app']\n",
      "Mes: 202101, Columnas atípicas: ['internet', 'tmobile_app', 'Visa_Finiciomora']\n",
      "Mes: 202102, Columnas atípicas: ['internet', 'tmobile_app', 'Master_Finiciomora']\n",
      "Mes: 202103, Columnas atípicas: ['internet', 'tmobile_app']\n",
      "Mes: 202104, Columnas atípicas: ['internet', 'tmobile_app']\n",
      "Mes: 202105, Columnas atípicas: ['internet', 'tmobile_app', 'Visa_Finiciomora']\n",
      "Mes: 202106, Columnas atípicas: ['internet', 'tmobile_app', 'Master_Finiciomora', 'Master_fultimo_cierre', 'Visa_fultimo_cierre']\n",
      "Mes: 202107, Columnas atípicas: ['internet', 'tmobile_app']\n",
      "Mes: 202108, Columnas atípicas: ['internet', 'tmobile_app', 'Visa_mfinanciacion_limite', 'Visa_Finiciomora']\n",
      "Mes: 202109, Columnas atípicas: ['internet', 'tmobile_app', 'Master_mfinanciacion_limite']\n",
      "\n",
      "\n",
      " Resumen de columnas atipicas\n"
     ]
    },
    {
     "name": "stderr",
     "output_type": "stream",
     "text": [
      "/tmp/ipykernel_2178/2208825846.py:2: DeprecationWarning: DataFrameGroupBy.apply operated on the grouping columns. This behavior is deprecated, and in a future version of pandas the grouping columns will be excluded from the operation. Either pass `include_groups=False` to exclude the groupings or explicitly select the grouping columns after groupby to silence this warning.\n",
      "  ceros_porcentaje = data.groupby('foto_mes').apply(lambda x:(x==0).sum() / len(x) * 100)\n"
     ]
    },
    {
     "data": {
      "text/plain": [
       "{'Master_Finiciomora',\n",
       " 'Master_fultimo_cierre',\n",
       " 'Master_mfinanciacion_limite',\n",
       " 'Visa_Finiciomora',\n",
       " 'Visa_fultimo_cierre',\n",
       " 'Visa_mfinanciacion_limite',\n",
       " 'active_quarter',\n",
       " 'ccomisiones_otras',\n",
       " 'cextraccion_autoservicio',\n",
       " 'chomebanking_transacciones',\n",
       " 'cliente_edad',\n",
       " 'cmobile_app_trx',\n",
       " 'ctarjeta_debito_transacciones',\n",
       " 'ctarjeta_visa_debitos_automaticos',\n",
       " 'ctarjeta_visa_transacciones',\n",
       " 'ctransferencias_recibidas',\n",
       " 'internet',\n",
       " 'mactivos_margen',\n",
       " 'mautoservicio',\n",
       " 'mcomisiones',\n",
       " 'mcomisiones_otras',\n",
       " 'mcuentas_saldo',\n",
       " 'mextraccion_autoservicio',\n",
       " 'mpasivos_margen',\n",
       " 'mrentabilidad',\n",
       " 'mrentabilidad_annual',\n",
       " 'mtarjeta_visa_consumo',\n",
       " 'mtransferencias_recibidas',\n",
       " 'mttarjeta_visa_debitos_automaticos',\n",
       " 'thomebanking',\n",
       " 'tmobile_app'}"
      ]
     },
     "execution_count": 32,
     "metadata": {},
     "output_type": "execute_result"
    }
   ],
   "source": [
    "ceros_por_mes = data.groupby('foto_mes').apply(lambda x: (x==0).sum())\n",
    "ceros_porcentaje = data.groupby('foto_mes').apply(lambda x:(x==0).sum() / len(x) * 100)\n",
    "\n",
    "# Calcular la mediana de ceros para cada columna\n",
    "mediana_ceros = ceros_porcentaje.median()\n",
    "\n",
    "umbral=1\n",
    "# Definir el umbral como 100% mayor o menor que la mediana\n",
    "umbral_superior = mediana_ceros * (1+umbral)\n",
    "umbral_inferior = mediana_ceros * (1-umbral)\n",
    "\n",
    "# Identificar valores atípicos\n",
    "valores_atipicos = ceros_porcentaje.apply(lambda fila: (fila > umbral_superior) | (fila < umbral_inferior), axis=1)\n",
    "\n",
    "# Filtrar las columnas y meses con valores atípicos\n",
    "resultados_atipicos = valores_atipicos[valores_atipicos.any(axis=1)]\n",
    "\n",
    "# Mostrar individualmente\n",
    "# Recorrer cada fila en los resultados atípicos\n",
    "atipicas_todas=set()\n",
    "for mes, fila in resultados_atipicos.iterrows():\n",
    "    # Identificar las columnas con valores atípicos (True), excluyendo 'foto_mes'\n",
    "    columnas_atipicas = fila[fila.index != 'foto_mes'][fila].index.tolist()\n",
    "    atipicas_todas = atipicas_todas | set(columnas_atipicas)\n",
    "    # Imprimir el mes y las columnas atípicas\n",
    "    print(f\"Mes: {mes}, Columnas atípicas: {columnas_atipicas}\")\n",
    "    #for columna in columnas_atipicas:\n",
    "    #  print (columna)\n",
    "    #  print (ceros_porcentaje[columna])\n",
    "print (\"\\n\\n Resumen de columnas atipicas\")\n",
    "\n",
    "atipicas_todas\n",
    "\n"
   ]
  },
  {
   "cell_type": "code",
   "execution_count": 33,
   "metadata": {
    "id": "IFAz4egwngfM"
   },
   "outputs": [
    {
     "name": "stdout",
     "output_type": "stream",
     "text": [
      "Cantidad de columnas restantes: 149\n"
     ]
    }
   ],
   "source": [
    "# Parece que visa_fultimo_cierre y master_fultimo_cierre tiene sospechosos ceros en junio. Elimino las columnas\n",
    "columnas_atipicas = [\n",
    "    'Master_mfinanciacion_limite', \n",
    "    'Visa_mfinanciacion_limite', \n",
    "    'Visa_Finiciomora',\n",
    "    'Master_Finiciomora', \n",
    "    'Master_fultimo_cierre', \n",
    "    'Visa_fultimo_cierre',\n",
    "]\n",
    "data.drop(columns=columnas_atipicas, inplace=True)\n",
    "print (f\"Cantidad de columnas restantes: {len(data.columns)}\")"
   ]
  },
  {
   "cell_type": "markdown",
   "metadata": {
    "id": "We0FNbpTngfN"
   },
   "source": [
    "#### Valores duplicados."
   ]
  },
  {
   "cell_type": "code",
   "execution_count": 34,
   "metadata": {
    "colab": {
     "base_uri": "https://localhost:8080/"
    },
    "executionInfo": {
     "elapsed": 1797,
     "status": "ok",
     "timestamp": 1732195559352,
     "user": {
      "displayName": "Jose Chelquer",
      "userId": "09375279337890014087"
     },
     "user_tz": 180
    },
    "id": "FXrVio9kngfN",
    "outputId": "2802a7c5-ae1d-450f-d238-fd741b40e7ec"
   },
   "outputs": [
    {
     "name": "stdout",
     "output_type": "stream",
     "text": [
      "Data tiene 0 filas duplicadas\n"
     ]
    }
   ],
   "source": [
    "#a. Verifico.\n",
    "print(f\"Data tiene {data.duplicated().sum()} filas duplicadas\")\n"
   ]
  },
  {
   "cell_type": "markdown",
   "metadata": {
    "id": "Ki0RiqQlngfN"
   },
   "source": [
    "## C. Data Drifting."
   ]
  },
  {
   "cell_type": "code",
   "execution_count": 35,
   "metadata": {
    "colab": {
     "base_uri": "https://localhost:8080/"
    },
    "executionInfo": {
     "elapsed": 7814,
     "status": "ok",
     "timestamp": 1732197787749,
     "user": {
      "displayName": "Jose Chelquer",
      "userId": "09375279337890014087"
     },
     "user_tz": 180
    },
    "id": "rGGYK7NYngfN",
    "outputId": "b6ae95b9-9136-4a9e-d926-c1b57d0c05b1"
   },
   "outputs": [
    {
     "name": "stdout",
     "output_type": "stream",
     "text": [
      "Mes actual: 201901, Mes siguiente: 201902\n"
     ]
    },
    {
     "name": "stderr",
     "output_type": "stream",
     "text": [
      "/tmp/ipykernel_2178/2443564196.py:4: RuntimeWarning: divide by zero encountered in log\n",
      "  result = (actual_prop - expected_prop) * np.log(actual_prop / expected_prop)\n"
     ]
    },
    {
     "name": "stdout",
     "output_type": "stream",
     "text": [
      "Mes actual: 201902, Mes siguiente: 201903\n"
     ]
    },
    {
     "name": "stderr",
     "output_type": "stream",
     "text": [
      "/tmp/ipykernel_2178/2443564196.py:4: RuntimeWarning: divide by zero encountered in log\n",
      "  result = (actual_prop - expected_prop) * np.log(actual_prop / expected_prop)\n"
     ]
    },
    {
     "name": "stdout",
     "output_type": "stream",
     "text": [
      "Mes actual: 201903, Mes siguiente: 201904\n"
     ]
    },
    {
     "name": "stderr",
     "output_type": "stream",
     "text": [
      "/tmp/ipykernel_2178/2443564196.py:4: RuntimeWarning: divide by zero encountered in log\n",
      "  result = (actual_prop - expected_prop) * np.log(actual_prop / expected_prop)\n",
      "/tmp/ipykernel_2178/2443564196.py:4: RuntimeWarning: divide by zero encountered in log\n",
      "  result = (actual_prop - expected_prop) * np.log(actual_prop / expected_prop)\n"
     ]
    },
    {
     "name": "stdout",
     "output_type": "stream",
     "text": [
      "Mes actual: 201904, Mes siguiente: 201905\n"
     ]
    },
    {
     "name": "stderr",
     "output_type": "stream",
     "text": [
      "/tmp/ipykernel_2178/2443564196.py:4: RuntimeWarning: divide by zero encountered in log\n",
      "  result = (actual_prop - expected_prop) * np.log(actual_prop / expected_prop)\n",
      "/tmp/ipykernel_2178/2443564196.py:4: RuntimeWarning: divide by zero encountered in log\n",
      "  result = (actual_prop - expected_prop) * np.log(actual_prop / expected_prop)\n",
      "/tmp/ipykernel_2178/2443564196.py:4: RuntimeWarning: divide by zero encountered in log\n",
      "  result = (actual_prop - expected_prop) * np.log(actual_prop / expected_prop)\n",
      "/tmp/ipykernel_2178/2443564196.py:4: RuntimeWarning: divide by zero encountered in log\n",
      "  result = (actual_prop - expected_prop) * np.log(actual_prop / expected_prop)\n",
      "/tmp/ipykernel_2178/2443564196.py:4: RuntimeWarning: divide by zero encountered in log\n",
      "  result = (actual_prop - expected_prop) * np.log(actual_prop / expected_prop)\n",
      "/tmp/ipykernel_2178/2443564196.py:4: RuntimeWarning: divide by zero encountered in log\n",
      "  result = (actual_prop - expected_prop) * np.log(actual_prop / expected_prop)\n",
      "/tmp/ipykernel_2178/2443564196.py:4: RuntimeWarning: divide by zero encountered in log\n",
      "  result = (actual_prop - expected_prop) * np.log(actual_prop / expected_prop)\n",
      "/tmp/ipykernel_2178/2443564196.py:4: RuntimeWarning: divide by zero encountered in log\n",
      "  result = (actual_prop - expected_prop) * np.log(actual_prop / expected_prop)\n",
      "/tmp/ipykernel_2178/2443564196.py:4: RuntimeWarning: divide by zero encountered in log\n",
      "  result = (actual_prop - expected_prop) * np.log(actual_prop / expected_prop)\n"
     ]
    },
    {
     "name": "stdout",
     "output_type": "stream",
     "text": [
      "Mes actual: 201905, Mes siguiente: 201906\n"
     ]
    },
    {
     "name": "stderr",
     "output_type": "stream",
     "text": [
      "/tmp/ipykernel_2178/2443564196.py:4: RuntimeWarning: divide by zero encountered in log\n",
      "  result = (actual_prop - expected_prop) * np.log(actual_prop / expected_prop)\n"
     ]
    },
    {
     "name": "stdout",
     "output_type": "stream",
     "text": [
      "Mes actual: 201906, Mes siguiente: 201907\n"
     ]
    },
    {
     "name": "stderr",
     "output_type": "stream",
     "text": [
      "/tmp/ipykernel_2178/2443564196.py:4: RuntimeWarning: divide by zero encountered in log\n",
      "  result = (actual_prop - expected_prop) * np.log(actual_prop / expected_prop)\n",
      "/tmp/ipykernel_2178/2443564196.py:4: RuntimeWarning: divide by zero encountered in log\n",
      "  result = (actual_prop - expected_prop) * np.log(actual_prop / expected_prop)\n"
     ]
    },
    {
     "name": "stdout",
     "output_type": "stream",
     "text": [
      "Mes actual: 201907, Mes siguiente: 201908\n",
      "Mes actual: 201908, Mes siguiente: 201909\n",
      "Mes actual: 201909, Mes siguiente: 201910\n"
     ]
    },
    {
     "name": "stderr",
     "output_type": "stream",
     "text": [
      "/tmp/ipykernel_2178/2443564196.py:4: RuntimeWarning: divide by zero encountered in log\n",
      "  result = (actual_prop - expected_prop) * np.log(actual_prop / expected_prop)\n",
      "/tmp/ipykernel_2178/2443564196.py:4: RuntimeWarning: divide by zero encountered in log\n",
      "  result = (actual_prop - expected_prop) * np.log(actual_prop / expected_prop)\n",
      "/tmp/ipykernel_2178/2443564196.py:4: RuntimeWarning: divide by zero encountered in log\n",
      "  result = (actual_prop - expected_prop) * np.log(actual_prop / expected_prop)\n",
      "/tmp/ipykernel_2178/2443564196.py:4: RuntimeWarning: divide by zero encountered in log\n",
      "  result = (actual_prop - expected_prop) * np.log(actual_prop / expected_prop)\n",
      "/tmp/ipykernel_2178/2443564196.py:4: RuntimeWarning: divide by zero encountered in log\n",
      "  result = (actual_prop - expected_prop) * np.log(actual_prop / expected_prop)\n",
      "/tmp/ipykernel_2178/2443564196.py:4: RuntimeWarning: divide by zero encountered in log\n",
      "  result = (actual_prop - expected_prop) * np.log(actual_prop / expected_prop)\n",
      "/tmp/ipykernel_2178/2443564196.py:4: RuntimeWarning: divide by zero encountered in log\n",
      "  result = (actual_prop - expected_prop) * np.log(actual_prop / expected_prop)\n",
      "/tmp/ipykernel_2178/2443564196.py:4: RuntimeWarning: divide by zero encountered in log\n",
      "  result = (actual_prop - expected_prop) * np.log(actual_prop / expected_prop)\n"
     ]
    },
    {
     "name": "stdout",
     "output_type": "stream",
     "text": [
      "Mes actual: 201910, Mes siguiente: 201911\n",
      "Mes actual: 201911, Mes siguiente: 201912\n"
     ]
    },
    {
     "name": "stderr",
     "output_type": "stream",
     "text": [
      "/tmp/ipykernel_2178/2443564196.py:4: RuntimeWarning: divide by zero encountered in log\n",
      "  result = (actual_prop - expected_prop) * np.log(actual_prop / expected_prop)\n",
      "/tmp/ipykernel_2178/2443564196.py:4: RuntimeWarning: divide by zero encountered in log\n",
      "  result = (actual_prop - expected_prop) * np.log(actual_prop / expected_prop)\n"
     ]
    },
    {
     "name": "stdout",
     "output_type": "stream",
     "text": [
      "Mes actual: 201912, Mes siguiente: 202001\n"
     ]
    },
    {
     "name": "stderr",
     "output_type": "stream",
     "text": [
      "/tmp/ipykernel_2178/2443564196.py:4: RuntimeWarning: divide by zero encountered in log\n",
      "  result = (actual_prop - expected_prop) * np.log(actual_prop / expected_prop)\n"
     ]
    },
    {
     "name": "stdout",
     "output_type": "stream",
     "text": [
      "Mes actual: 202001, Mes siguiente: 202002\n"
     ]
    },
    {
     "name": "stderr",
     "output_type": "stream",
     "text": [
      "/tmp/ipykernel_2178/2443564196.py:4: RuntimeWarning: divide by zero encountered in log\n",
      "  result = (actual_prop - expected_prop) * np.log(actual_prop / expected_prop)\n",
      "/tmp/ipykernel_2178/2443564196.py:4: RuntimeWarning: divide by zero encountered in log\n",
      "  result = (actual_prop - expected_prop) * np.log(actual_prop / expected_prop)\n",
      "/tmp/ipykernel_2178/2443564196.py:4: RuntimeWarning: divide by zero encountered in log\n",
      "  result = (actual_prop - expected_prop) * np.log(actual_prop / expected_prop)\n"
     ]
    },
    {
     "name": "stdout",
     "output_type": "stream",
     "text": [
      "Mes actual: 202002, Mes siguiente: 202003\n",
      "Mes actual: 202003, Mes siguiente: 202004\n",
      "Mes actual: 202004, Mes siguiente: 202005\n"
     ]
    },
    {
     "name": "stderr",
     "output_type": "stream",
     "text": [
      "/tmp/ipykernel_2178/2443564196.py:4: RuntimeWarning: divide by zero encountered in log\n",
      "  result = (actual_prop - expected_prop) * np.log(actual_prop / expected_prop)\n"
     ]
    },
    {
     "name": "stdout",
     "output_type": "stream",
     "text": [
      "Mes actual: 202005, Mes siguiente: 202006\n"
     ]
    },
    {
     "name": "stderr",
     "output_type": "stream",
     "text": [
      "/tmp/ipykernel_2178/2443564196.py:4: RuntimeWarning: divide by zero encountered in log\n",
      "  result = (actual_prop - expected_prop) * np.log(actual_prop / expected_prop)\n",
      "/tmp/ipykernel_2178/2443564196.py:4: RuntimeWarning: divide by zero encountered in log\n",
      "  result = (actual_prop - expected_prop) * np.log(actual_prop / expected_prop)\n",
      "/tmp/ipykernel_2178/2443564196.py:4: RuntimeWarning: divide by zero encountered in log\n",
      "  result = (actual_prop - expected_prop) * np.log(actual_prop / expected_prop)\n",
      "/tmp/ipykernel_2178/2443564196.py:4: RuntimeWarning: divide by zero encountered in log\n",
      "  result = (actual_prop - expected_prop) * np.log(actual_prop / expected_prop)\n",
      "/tmp/ipykernel_2178/2443564196.py:4: RuntimeWarning: divide by zero encountered in log\n",
      "  result = (actual_prop - expected_prop) * np.log(actual_prop / expected_prop)\n",
      "/tmp/ipykernel_2178/2443564196.py:4: RuntimeWarning: divide by zero encountered in log\n",
      "  result = (actual_prop - expected_prop) * np.log(actual_prop / expected_prop)\n",
      "/tmp/ipykernel_2178/2443564196.py:4: RuntimeWarning: divide by zero encountered in log\n",
      "  result = (actual_prop - expected_prop) * np.log(actual_prop / expected_prop)\n",
      "/tmp/ipykernel_2178/2443564196.py:4: RuntimeWarning: divide by zero encountered in log\n",
      "  result = (actual_prop - expected_prop) * np.log(actual_prop / expected_prop)\n",
      "/tmp/ipykernel_2178/2443564196.py:4: RuntimeWarning: divide by zero encountered in log\n",
      "  result = (actual_prop - expected_prop) * np.log(actual_prop / expected_prop)\n",
      "/tmp/ipykernel_2178/2443564196.py:4: RuntimeWarning: divide by zero encountered in log\n",
      "  result = (actual_prop - expected_prop) * np.log(actual_prop / expected_prop)\n",
      "/tmp/ipykernel_2178/2443564196.py:4: RuntimeWarning: divide by zero encountered in log\n",
      "  result = (actual_prop - expected_prop) * np.log(actual_prop / expected_prop)\n",
      "/tmp/ipykernel_2178/2443564196.py:4: RuntimeWarning: divide by zero encountered in log\n",
      "  result = (actual_prop - expected_prop) * np.log(actual_prop / expected_prop)\n",
      "/tmp/ipykernel_2178/2443564196.py:4: RuntimeWarning: divide by zero encountered in log\n",
      "  result = (actual_prop - expected_prop) * np.log(actual_prop / expected_prop)\n",
      "/tmp/ipykernel_2178/2443564196.py:4: RuntimeWarning: divide by zero encountered in log\n",
      "  result = (actual_prop - expected_prop) * np.log(actual_prop / expected_prop)\n",
      "/tmp/ipykernel_2178/2443564196.py:4: RuntimeWarning: divide by zero encountered in log\n",
      "  result = (actual_prop - expected_prop) * np.log(actual_prop / expected_prop)\n",
      "/tmp/ipykernel_2178/2443564196.py:4: RuntimeWarning: divide by zero encountered in log\n",
      "  result = (actual_prop - expected_prop) * np.log(actual_prop / expected_prop)\n",
      "/tmp/ipykernel_2178/2443564196.py:4: RuntimeWarning: divide by zero encountered in log\n",
      "  result = (actual_prop - expected_prop) * np.log(actual_prop / expected_prop)\n",
      "/tmp/ipykernel_2178/2443564196.py:4: RuntimeWarning: divide by zero encountered in log\n",
      "  result = (actual_prop - expected_prop) * np.log(actual_prop / expected_prop)\n",
      "/tmp/ipykernel_2178/2443564196.py:4: RuntimeWarning: divide by zero encountered in log\n",
      "  result = (actual_prop - expected_prop) * np.log(actual_prop / expected_prop)\n",
      "/tmp/ipykernel_2178/2443564196.py:4: RuntimeWarning: divide by zero encountered in log\n",
      "  result = (actual_prop - expected_prop) * np.log(actual_prop / expected_prop)\n",
      "/tmp/ipykernel_2178/2443564196.py:4: RuntimeWarning: divide by zero encountered in log\n",
      "  result = (actual_prop - expected_prop) * np.log(actual_prop / expected_prop)\n",
      "/tmp/ipykernel_2178/2443564196.py:4: RuntimeWarning: divide by zero encountered in log\n",
      "  result = (actual_prop - expected_prop) * np.log(actual_prop / expected_prop)\n",
      "/tmp/ipykernel_2178/2443564196.py:4: RuntimeWarning: divide by zero encountered in log\n",
      "  result = (actual_prop - expected_prop) * np.log(actual_prop / expected_prop)\n",
      "/tmp/ipykernel_2178/2443564196.py:4: RuntimeWarning: divide by zero encountered in log\n",
      "  result = (actual_prop - expected_prop) * np.log(actual_prop / expected_prop)\n",
      "/tmp/ipykernel_2178/2443564196.py:4: RuntimeWarning: divide by zero encountered in log\n",
      "  result = (actual_prop - expected_prop) * np.log(actual_prop / expected_prop)\n"
     ]
    },
    {
     "name": "stdout",
     "output_type": "stream",
     "text": [
      "Mes actual: 202006, Mes siguiente: 202007\n"
     ]
    },
    {
     "name": "stderr",
     "output_type": "stream",
     "text": [
      "/tmp/ipykernel_2178/2443564196.py:4: RuntimeWarning: divide by zero encountered in log\n",
      "  result = (actual_prop - expected_prop) * np.log(actual_prop / expected_prop)\n"
     ]
    },
    {
     "name": "stdout",
     "output_type": "stream",
     "text": [
      "Mes actual: 202007, Mes siguiente: 202008\n"
     ]
    },
    {
     "name": "stderr",
     "output_type": "stream",
     "text": [
      "/tmp/ipykernel_2178/2443564196.py:4: RuntimeWarning: divide by zero encountered in log\n",
      "  result = (actual_prop - expected_prop) * np.log(actual_prop / expected_prop)\n"
     ]
    },
    {
     "name": "stdout",
     "output_type": "stream",
     "text": [
      "Mes actual: 202008, Mes siguiente: 202009\n",
      "Mes actual: 202009, Mes siguiente: 202010\n"
     ]
    },
    {
     "name": "stderr",
     "output_type": "stream",
     "text": [
      "/tmp/ipykernel_2178/2443564196.py:4: RuntimeWarning: divide by zero encountered in log\n",
      "  result = (actual_prop - expected_prop) * np.log(actual_prop / expected_prop)\n"
     ]
    },
    {
     "name": "stdout",
     "output_type": "stream",
     "text": [
      "Mes actual: 202010, Mes siguiente: 202011\n"
     ]
    },
    {
     "name": "stderr",
     "output_type": "stream",
     "text": [
      "/tmp/ipykernel_2178/2443564196.py:4: RuntimeWarning: divide by zero encountered in log\n",
      "  result = (actual_prop - expected_prop) * np.log(actual_prop / expected_prop)\n",
      "/tmp/ipykernel_2178/2443564196.py:4: RuntimeWarning: divide by zero encountered in log\n",
      "  result = (actual_prop - expected_prop) * np.log(actual_prop / expected_prop)\n"
     ]
    },
    {
     "name": "stdout",
     "output_type": "stream",
     "text": [
      "Mes actual: 202011, Mes siguiente: 202012\n",
      "Mes actual: 202012, Mes siguiente: 202101\n"
     ]
    },
    {
     "name": "stderr",
     "output_type": "stream",
     "text": [
      "/tmp/ipykernel_2178/2443564196.py:4: RuntimeWarning: divide by zero encountered in log\n",
      "  result = (actual_prop - expected_prop) * np.log(actual_prop / expected_prop)\n"
     ]
    },
    {
     "name": "stdout",
     "output_type": "stream",
     "text": [
      "Mes actual: 202101, Mes siguiente: 202102\n",
      "Mes actual: 202102, Mes siguiente: 202103\n"
     ]
    },
    {
     "name": "stderr",
     "output_type": "stream",
     "text": [
      "/tmp/ipykernel_2178/2443564196.py:4: RuntimeWarning: divide by zero encountered in log\n",
      "  result = (actual_prop - expected_prop) * np.log(actual_prop / expected_prop)\n"
     ]
    },
    {
     "name": "stdout",
     "output_type": "stream",
     "text": [
      "Mes actual: 202103, Mes siguiente: 202104\n",
      "Mes actual: 202104, Mes siguiente: 202105\n",
      "Mes actual: 202105, Mes siguiente: 202106\n",
      "Mes actual: 202106, Mes siguiente: 202107\n",
      "Mes actual: 202107, Mes siguiente: 202108\n",
      "Mes actual: 202108, Mes siguiente: 202109\n"
     ]
    },
    {
     "name": "stderr",
     "output_type": "stream",
     "text": [
      "/tmp/ipykernel_2178/2443564196.py:4: RuntimeWarning: divide by zero encountered in log\n",
      "  result = (actual_prop - expected_prop) * np.log(actual_prop / expected_prop)\n"
     ]
    }
   ],
   "source": [
    "def psi(expected, actual, buckets=10):\n",
    "\n",
    "    def psi_formula(expected_prop, actual_prop):\n",
    "        result = (actual_prop - expected_prop) * np.log(actual_prop / expected_prop)\n",
    "        return result\n",
    "\n",
    "    expected_not_null = expected.dropna()\n",
    "    actual_not_null = actual.dropna()\n",
    "\n",
    "    bin_edges = pd.qcut(expected_not_null, q=buckets, duplicates='drop').unique().dropna()\n",
    "\n",
    "    bin_edges2 = [edge.left for edge in bin_edges] + [edge.right for edge in bin_edges]\n",
    "    breakpoints = sorted(list(set(bin_edges2)))\n",
    "\n",
    "    expected_counts, _ = np.histogram(expected_not_null, bins=breakpoints)\n",
    "    actual_counts, _ = np.histogram(actual_not_null, bins=breakpoints)\n",
    "\n",
    "    expected_prop = expected_counts / len(expected_not_null)\n",
    "    actual_prop = actual_counts / len(actual_not_null)\n",
    "\n",
    "    psi_not_null = psi_formula(expected_prop, actual_prop).sum()\n",
    "\n",
    "    psi_null = 0\n",
    "\n",
    "    if expected.isnull().sum() > 0 and actual.isnull().sum() > 0 :\n",
    "      expected_null_percentage = expected.isnull().mean()\n",
    "      actual_null_percentage = actual.isnull().mean()\n",
    "      psi_null = psi_formula(expected_null_percentage, actual_null_percentage)\n",
    "\n",
    "    return psi_not_null + psi_null\n",
    "\n",
    "\n",
    "psi_results = []\n",
    "\n",
    "# Obtener y ordenar los meses únicos\n",
    "meses = sorted(data['foto_mes'].unique())\n",
    "\n",
    "# Recorrer los meses de dos en dos (actual y siguiente)\n",
    "for i in range(len(meses) - 1):\n",
    "    mes_actual = meses[i]\n",
    "    mes_siguiente = meses[i + 1]\n",
    "    print(f\"Mes actual: {mes_actual}, Mes siguiente: {mes_siguiente}\")\n",
    "    train_data = data[data['foto_mes'] == mes_actual]\n",
    "    score_data = data[data['foto_mes'] == mes_siguiente]\n",
    "    for column in data.columns:\n",
    "      if column not in ['foto_mes','numero_de_cliente','clase_ternaria']:\n",
    "        train_variable = train_data[column]\n",
    "        score_variable = score_data[column]\n",
    "        psi_value = psi(train_variable, score_variable)\n",
    "        psi_results.append({'mes': mes_siguiente, 'feature': column, 'psi': psi_value})\n",
    "\n",
    "    psi_df = pd.DataFrame(psi_results)\n",
    "    psi_df = psi_df.sort_values('psi', ascending=False)"
   ]
  },
  {
   "cell_type": "code",
   "execution_count": 36,
   "metadata": {
    "colab": {
     "base_uri": "https://localhost:8080/",
     "height": 1000
    },
    "executionInfo": {
     "elapsed": 341,
     "status": "ok",
     "timestamp": 1732197795372,
     "user": {
      "displayName": "Jose Chelquer",
      "userId": "09375279337890014087"
     },
     "user_tz": 180
    },
    "id": "jkjIO1QongfO",
    "outputId": "5d6e930f-f1e4-4f91-d9d7-960b1cf538bc"
   },
   "outputs": [
    {
     "data": {
      "text/html": [
       "<div>\n",
       "<style scoped>\n",
       "    .dataframe tbody tr th:only-of-type {\n",
       "        vertical-align: middle;\n",
       "    }\n",
       "\n",
       "    .dataframe tbody tr th {\n",
       "        vertical-align: top;\n",
       "    }\n",
       "\n",
       "    .dataframe thead th {\n",
       "        text-align: right;\n",
       "    }\n",
       "</style>\n",
       "<table border=\"1\" class=\"dataframe\">\n",
       "  <thead>\n",
       "    <tr style=\"text-align: right;\">\n",
       "      <th></th>\n",
       "      <th>mes</th>\n",
       "      <th>feature</th>\n",
       "    </tr>\n",
       "  </thead>\n",
       "  <tbody>\n",
       "    <tr>\n",
       "      <th>17</th>\n",
       "      <td>201902</td>\n",
       "      <td>mcaja_ahorro_adicional</td>\n",
       "    </tr>\n",
       "    <tr>\n",
       "      <th>1173</th>\n",
       "      <td>201910</td>\n",
       "      <td>mrentabilidad</td>\n",
       "    </tr>\n",
       "    <tr>\n",
       "      <th>1239</th>\n",
       "      <td>201910</td>\n",
       "      <td>ccomisiones_otras</td>\n",
       "    </tr>\n",
       "    <tr>\n",
       "      <th>4543</th>\n",
       "      <td>202109</td>\n",
       "      <td>mcaja_ahorro_adicional</td>\n",
       "    </tr>\n",
       "    <tr>\n",
       "      <th>2353</th>\n",
       "      <td>202006</td>\n",
       "      <td>mcaja_ahorro_adicional</td>\n",
       "    </tr>\n",
       "    <tr>\n",
       "      <th>...</th>\n",
       "      <td>...</td>\n",
       "      <td>...</td>\n",
       "    </tr>\n",
       "    <tr>\n",
       "      <th>2474</th>\n",
       "      <td>202006</td>\n",
       "      <td>Visa_mpagado</td>\n",
       "    </tr>\n",
       "    <tr>\n",
       "      <th>3408</th>\n",
       "      <td>202101</td>\n",
       "      <td>mpayroll</td>\n",
       "    </tr>\n",
       "    <tr>\n",
       "      <th>780</th>\n",
       "      <td>201907</td>\n",
       "      <td>mpayroll</td>\n",
       "    </tr>\n",
       "    <tr>\n",
       "      <th>3722</th>\n",
       "      <td>202103</td>\n",
       "      <td>mcomisiones_otras</td>\n",
       "    </tr>\n",
       "    <tr>\n",
       "      <th>3657</th>\n",
       "      <td>202103</td>\n",
       "      <td>mcomisiones</td>\n",
       "    </tr>\n",
       "  </tbody>\n",
       "</table>\n",
       "<p>118 rows × 2 columns</p>\n",
       "</div>"
      ],
      "text/plain": [
       "         mes                 feature\n",
       "17    201902  mcaja_ahorro_adicional\n",
       "1173  201910           mrentabilidad\n",
       "1239  201910       ccomisiones_otras\n",
       "4543  202109  mcaja_ahorro_adicional\n",
       "2353  202006  mcaja_ahorro_adicional\n",
       "...      ...                     ...\n",
       "2474  202006            Visa_mpagado\n",
       "3408  202101                mpayroll\n",
       "780   201907                mpayroll\n",
       "3722  202103       mcomisiones_otras\n",
       "3657  202103             mcomisiones\n",
       "\n",
       "[118 rows x 2 columns]"
      ]
     },
     "execution_count": 36,
     "metadata": {},
     "output_type": "execute_result"
    }
   ],
   "source": [
    "\n",
    "#2. Observamos variables con PSI >= 0.1 (casos a atender).\n",
    "psi_df[psi_df[\"psi\"] > 0.1][['mes', \"feature\"]]"
   ]
  },
  {
   "cell_type": "code",
   "execution_count": 37,
   "metadata": {
    "id": "Wfhzzmz2ngfO"
   },
   "outputs": [
    {
     "name": "stdout",
     "output_type": "stream",
     "text": [
      "Cantidad de columnas restantes: 149\n"
     ]
    }
   ],
   "source": [
    "#3. Elimino las columnas con un PSI alto.\n",
    "cols_eliminar = list(psi_df[psi_df[\"psi\"] > 0.1][\"feature\"])\n",
    "#data.drop(columns=cols_eliminar,inplace=True)\n",
    "\n",
    "#train_data.drop(columns=cols_eliminar,inplace=True)\n",
    "#score_data.drop(columns=cols_eliminar,inplace=True)\n",
    "print (f\"Cantidad de columnas restantes: {len(data.columns)}\")"
   ]
  },
  {
   "cell_type": "code",
   "execution_count": 39,
   "metadata": {},
   "outputs": [
    {
     "name": "stdout",
     "output_type": "stream",
     "text": [
      "Cantidad de columnas restantes: 147\n"
     ]
    }
   ],
   "source": [
    "# eliminar selectivamente variables\n",
    "data = data.loc[:, ~data.columns.str.contains('prestamos_personales', case=False)]\n",
    "data = data.loc[:, ~data.columns.str.contains('ultimo_cierre', case=False)]\n",
    "print (f\"Cantidad de columnas restantes: {len(data.columns)}\")"
   ]
  },
  {
   "cell_type": "markdown",
   "metadata": {
    "id": "fxARGuLongfP"
   },
   "source": [
    "## Exportación."
   ]
  },
  {
   "cell_type": "code",
   "execution_count": 40,
   "metadata": {
    "executionInfo": {
     "elapsed": 10116,
     "status": "ok",
     "timestamp": 1732198140418,
     "user": {
      "displayName": "Jose Chelquer",
      "userId": "09375279337890014087"
     },
     "user_tz": 180
    },
    "id": "Lm1LFZ8cngfP"
   },
   "outputs": [],
   "source": [
    "#1. Exportación propiamente dicha.\n",
    "dataset_output=os.path.join(dataset_path, output_file)\n",
    "if dataset_output.endswith('.gz'):\n",
    "  data.to_parquet(dataset_output,index=False, compression='gzip')\n",
    "else:\n",
    "  data.to_parquet(dataset_output,index=False)"
   ]
  },
  {
   "cell_type": "code",
   "execution_count": 41,
   "metadata": {},
   "outputs": [
    {
     "name": "stdout",
     "output_type": "stream",
     "text": [
      "~/buckets/b1/datasets/k3__p__.parquet.gz\n"
     ]
    }
   ],
   "source": [
    "print (dataset_output)"
   ]
  },
  {
   "cell_type": "code",
   "execution_count": 42,
   "metadata": {},
   "outputs": [
    {
     "name": "stdout",
     "output_type": "stream",
     "text": [
      "Cantidad de columnas restantes: 147\n"
     ]
    }
   ],
   "source": [
    "print (f\"Cantidad de columnas restantes: {len(data.columns)}\")"
   ]
  },
  {
   "cell_type": "code",
   "execution_count": null,
   "metadata": {},
   "outputs": [],
   "source": []
  }
 ],
 "metadata": {
  "colab": {
   "provenance": [
    {
     "file_id": "1ejUsg34Oehb0H6mxpoo68AKgtzskg9AZ",
     "timestamp": 1732192600456
    }
   ]
  },
  "kernelspec": {
   "display_name": "Python 3 (ipykernel)",
   "language": "python",
   "name": "python3"
  },
  "language_info": {
   "codemirror_mode": {
    "name": "ipython",
    "version": 3
   },
   "file_extension": ".py",
   "mimetype": "text/x-python",
   "name": "python",
   "nbconvert_exporter": "python",
   "pygments_lexer": "ipython3",
   "version": "3.12.3"
  }
 },
 "nbformat": 4,
 "nbformat_minor": 4
}
