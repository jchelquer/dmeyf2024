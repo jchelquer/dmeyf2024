{
 "cells": [
  {
   "cell_type": "markdown",
   "metadata": {
    "id": "d_xvJXPhCkMA"
   },
   "source": [
    "#cambio y aplicar cambios en VM\n",
    "\n",
    "# Título  gbtd con semillero y envío \n",
    "## Autor: Jose Chelquer\n",
    "## Fecha de última modificación: 29/11/2024\n",
    "\n",
    "Carga el modelo optimizado, evalúa y envía\n",
    "\n"
   ]
  },
  {
   "cell_type": "markdown",
   "metadata": {
    "id": "qRTSvXdLHkpB"
   },
   "source": [
    "## Parámetros\n",
    "\n",
    "< Descripción de cada uno de los parámetros que utiliza el job >\n"
   ]
  },
  {
   "cell_type": "code",
   "execution_count": 1,
   "metadata": {
    "executionInfo": {
     "elapsed": 317,
     "status": "ok",
     "timestamp": 1731386833314,
     "user": {
      "displayName": "Jose Chelquer",
      "userId": "09375279337890014087"
     },
     "user_tz": 180
    },
    "id": "6DHEeh9rJ3Ig"
   },
   "outputs": [
    {
     "name": "stdout",
     "output_type": "stream",
     "text": [
      "Experimento _psf\n",
      "completo\n",
      "con preprocesamiento\n",
      " simple\n",
      " con RF\n"
     ]
    }
   ],
   "source": [
    "prueba=False                     # temporario. Volver a false\n",
    "\n",
    "semillero=True\n",
    "n_semillas = 10\n",
    "\n",
    "experimento=\"_pcf\"                   \n",
    "tipo_registros=experimento[0]            # '_'completo s sampleado\n",
    "con_preprocesamiento = experimento[1]    # p con preprocesamiento  '_' sin preprocesamiento\n",
    "tipo_featuring=experimento[2]            # _: 155 base  s: simple    c: completo\n",
    "rf=experimento[3]                        # _: sin RF   r: con RF\n",
    "\n",
    "dict_tipo_registros={'_': 'completo', 's': 'sampleado'}\n",
    "dict_con_preprocesamiento={'_': 'sin preprocesamiento', 'p':'con preprocesamiento'}\n",
    "dict_tipo_featuring={'_': 'base', 's':' simple', 'c': 'completo'}\n",
    "dict_rf={'_': 'sin RF', 'f':' con RF'}\n",
    "\n",
    "print (f'Experimento {experimento}')\n",
    "print (dict_tipo_registros[tipo_registros])\n",
    "print (dict_con_preprocesamiento[con_preprocesamiento])\n",
    "print (dict_tipo_featuring[tipo_featuring])\n",
    "print (dict_rf[rf])\n"
   ]
  },
  {
   "cell_type": "code",
   "execution_count": 2,
   "metadata": {
    "executionInfo": {
     "elapsed": 483,
     "status": "ok",
     "timestamp": 1731386834221,
     "user": {
      "displayName": "Jose Chelquer",
      "userId": "09375279337890014087"
     },
     "user_tz": 180
    },
    "id": "yMU00Fl7IIfm"
   },
   "outputs": [],
   "source": [
    "# vm o local?\n",
    "vm=True\n",
    "if vm:\n",
    "  usar_gdrive=False\n",
    "else:\n",
    "  usar_gdrive=True      #se va a usar google dirve\n"
   ]
  },
  {
   "cell_type": "code",
   "execution_count": 3,
   "metadata": {
    "executionInfo": {
     "elapsed": 75,
     "status": "ok",
     "timestamp": 1731386834222,
     "user": {
      "displayName": "Jose Chelquer",
      "userId": "09375279337890014087"
     },
     "user_tz": 180
    },
    "id": "KTHNlNBrPhX-"
   },
   "outputs": [],
   "source": [
    "semillas=[101, 103, 107, 109, 113, 127, 131, 137, 139, 149, 151, 157, 163, 167, 173, 179, 181, 191, 193, 197]\n",
    "\n",
    "ganancia_acierto=273000\n",
    "costo_estimulo=7000"
   ]
  },
  {
   "cell_type": "code",
   "execution_count": 4,
   "metadata": {
    "executionInfo": {
     "elapsed": 72,
     "status": "ok",
     "timestamp": 1731386834222,
     "user": {
      "displayName": "Jose Chelquer",
      "userId": "09375279337890014087"
     },
     "user_tz": 180
    },
    "id": "ZPUnCb5xZ-8K"
   },
   "outputs": [],
   "source": [
    "# meses de entrenamiento, evaluación y test\n",
    "if vm:\n",
    "  mes_train_desde = 202101\n",
    "  mes_train_hasta = 202106\n",
    "  mes_eval=202107\n",
    "  mes_test = 202109\n",
    "else:\n",
    "  mes_train_desde = 202104\n",
    "  mes_train_hasta = 202106\n",
    "  mes_eval=202107\n",
    "  mes_test = 202109"
   ]
  },
  {
   "cell_type": "code",
   "execution_count": 5,
   "metadata": {
    "executionInfo": {
     "elapsed": 51,
     "status": "ok",
     "timestamp": 1731386834223,
     "user": {
      "displayName": "Jose Chelquer",
      "userId": "09375279337890014087"
     },
     "user_tz": 180
    },
    "id": "61j56HBIKFeR"
   },
   "outputs": [],
   "source": [
    "\n",
    "grabar_importancias=False          # Se puede pedir que grabe las importancias de variables como resultado secundario\n",
    "importancias_file=f'importancias_lgb{experimento}.csv.gz'\n"
   ]
  },
  {
   "cell_type": "code",
   "execution_count": 6,
   "metadata": {
    "executionInfo": {
     "elapsed": 49,
     "status": "ok",
     "timestamp": 1731386834223,
     "user": {
      "displayName": "Jose Chelquer",
      "userId": "09375279337890014087"
     },
     "user_tz": 180
    },
    "id": "Xc_WH1DcmGbH"
   },
   "outputs": [],
   "source": [
    "# parámetros de envío a kaggle\n",
    "version = f'210_{experimento}_'\n",
    "prefijo_envio=f\"j010_lgb_{experimento}_\"\n",
    "enviar_desde=7000\n",
    "enviar_hasta=16000\n",
    "cant_envios=10            #Cantidad de envíos a Kaggle\n",
    "\n",
    "# para prueba\n",
    "#enviar_desde=12000\n",
    "#enviar_hasta=12000\n",
    "#cant_envios=2            #Cantidad de envíos a Kaggle\n"
   ]
  },
  {
   "cell_type": "markdown",
   "metadata": {
    "id": "sH5VivJSIM42"
   },
   "source": [
    "## Input\n",
    "\n",
    "< Archivos de datos (csv.gz) con sus paths que van a consumirse por el job>"
   ]
  },
  {
   "cell_type": "code",
   "execution_count": 7,
   "metadata": {
    "executionInfo": {
     "elapsed": 46,
     "status": "ok",
     "timestamp": 1731386834223,
     "user": {
      "displayName": "Jose Chelquer",
      "userId": "09375279337890014087"
     },
     "user_tz": 180
    },
    "id": "MEk4Fj7VIv7g"
   },
   "outputs": [
    {
     "name": "stdout",
     "output_type": "stream",
     "text": [
      "/home/jose/buckets/b1/datasets\n",
      "k3__psf.parquet.gz\n"
     ]
    }
   ],
   "source": [
    "if vm:\n",
    "  dataset_path = '/home/jose/buckets/b1/datasets'\n",
    "  kaggle_json_path=\"/home/jose/buckets/b1\"\n",
    "  if prueba:\n",
    "      dataset_file=\"k3_fe.parquet.gz\"\n",
    "  else:\n",
    "      dataset_file=f\"k3_{tipo_registros}{con_preprocesamiento}{tipo_featuring}{rf}.parquet.gz\"\n",
    "else:\n",
    "  dataset_path='/content/drive/MyDrive/Data Science y similares/Maestría Data Mining Exactas/dmeyf/dmeyf2024/datasets/'\n",
    "  kaggle_json_path=\"/content/drive/MyDrive/Data Science y similares/Maestría Data Mining Exactas\"\n",
    "\n",
    "  sufijo=''\n",
    "  if dset==\"rf\":\n",
    "    sufijo='_cRF'\n",
    "  infijo='_base'\n",
    "  if feat==\"aum\":\n",
    "    infijo='_aum'\n",
    "\n",
    "  dataset_file=f\"sample_c02{infijo}_m1a8{sufijo}.csv.gz\"\n",
    "\n",
    "print (dataset_path)\n",
    "print (dataset_file)"
   ]
  },
  {
   "cell_type": "code",
   "execution_count": 8,
   "metadata": {},
   "outputs": [
    {
     "name": "stdout",
     "output_type": "stream",
     "text": [
      "Se va a usar el modelo lgb_optimizado_final__psf\n",
      "Path del modelo: /home/jose/buckets/b1/modelos/lgb_optimizado_final__psf.txt\n",
      "-------------------------------\n",
      "controlar que sea el optimizado\n",
      "-------------------------------\n"
     ]
    }
   ],
   "source": [
    "if vm:\n",
    "  db_path='/home/jose/buckets/b1/db'\n",
    "  modelos_path='/home/jose/buckets/b1/modelos'\n",
    "\n",
    "else:\n",
    "  db_path='/content/drive/MyDrive/Data Science y similares/Maestría Data Mining Exactas/dmeyf/dmeyf2024/db/'\n",
    "        # optuna no puede hacerlo en drive.  La copia se hará al final, si se puede\n",
    "  modelos_path='/content/drive/MyDrive/Data Science y similares/Maestría Data Mining Exactas/dmeyf/dmeyf2024/modelos/'\n",
    "\n",
    "modelos_file=f'lgb_optimizado_final_{experimento}'\n",
    "print (f'Se va a usar el modelo {modelos_file}')\n",
    "import os\n",
    "path_modelo=os.path.join(modelos_path, modelos_file)+\".txt\"\n",
    "print (f'Path del modelo: {path_modelo}')\n",
    "print ('-------------------------------')\n",
    "print ('controlar que sea el optimizado')\n",
    "print ('-------------------------------')\n",
    "\n",
    "params_file=f'{experimento}_combined_params.json'"
   ]
  },
  {
   "cell_type": "markdown",
   "metadata": {
    "id": "fQ6MUhENI0Ya"
   },
   "source": [
    "## Output\n",
    "\n",
    "< Archivos, bases de datos, modelos que va a generar el job>"
   ]
  },
  {
   "cell_type": "code",
   "execution_count": null,
   "metadata": {
    "executionInfo": {
     "elapsed": 43,
     "status": "ok",
     "timestamp": 1731386834223,
     "user": {
      "displayName": "Jose Chelquer",
      "userId": "09375279337890014087"
     },
     "user_tz": 180
    },
    "id": "ZT3kxlkFIv4p"
   },
   "outputs": [],
   "source": [
    "\n"
   ]
  },
  {
   "cell_type": "markdown",
   "metadata": {
    "id": "VrRYsZMowzEl"
   },
   "source": [
    "## Procesos"
   ]
  },
  {
   "cell_type": "markdown",
   "metadata": {
    "id": "iVe0GO1IJHtI"
   },
   "source": [
    "### Paquetes necesarios"
   ]
  },
  {
   "cell_type": "markdown",
   "metadata": {
    "id": "0LM2kY_WJj15"
   },
   "source": [
    "## Código del proceso\n",
    "\n",
    "< Todo el código a partir de aquí debe poder ejecutarse sin necesidad de parametrizar nada>"
   ]
  },
  {
   "cell_type": "markdown",
   "metadata": {
    "id": "Q0X0atYk2Bqf"
   },
   "source": [
    "Instalamos, cargamos y seteamos el entorno"
   ]
  },
  {
   "cell_type": "markdown",
   "metadata": {
    "id": "vteA4xbLOv9m"
   },
   "source": [
    "## Gdrive?"
   ]
  },
  {
   "cell_type": "code",
   "execution_count": 9,
   "metadata": {
    "colab": {
     "base_uri": "https://localhost:8080/"
    },
    "executionInfo": {
     "elapsed": 2040,
     "status": "ok",
     "timestamp": 1731386841403,
     "user": {
      "displayName": "Jose Chelquer",
      "userId": "09375279337890014087"
     },
     "user_tz": 180
    },
    "id": "SocMOWB6Ofpw",
    "outputId": "2640044f-6eda-4fa9-fb72-5e083250d5b8"
   },
   "outputs": [],
   "source": [
    "if usar_gdrive:\n",
    "  from google.colab import drive\n",
    "  drive.mount('/content/drive')"
   ]
  },
  {
   "cell_type": "markdown",
   "metadata": {
    "id": "Tq58M1oylxcQ"
   },
   "source": [
    "## Librerías"
   ]
  },
  {
   "cell_type": "markdown",
   "metadata": {},
   "source": []
  },
  {
   "cell_type": "code",
   "execution_count": 10,
   "metadata": {},
   "outputs": [
    {
     "name": "stdout",
     "output_type": "stream",
     "text": [
      "Requirement already satisfied: pip in /home/jose/.venv/lib/python3.12/site-packages (24.3.1)\n",
      "Requirement already satisfied: lightgbm in /home/jose/.venv/lib/python3.12/site-packages (4.5.0)\n",
      "Requirement already satisfied: numpy>=1.17.0 in /home/jose/.venv/lib/python3.12/site-packages (from lightgbm) (1.26.4)\n",
      "Requirement already satisfied: scipy in /home/jose/.venv/lib/python3.12/site-packages (from lightgbm) (1.14.1)\n",
      "Requirement already satisfied: dask[dataframe] in /home/jose/.venv/lib/python3.12/site-packages (2024.9.0)\n",
      "Requirement already satisfied: click>=8.1 in /home/jose/.venv/lib/python3.12/site-packages (from dask[dataframe]) (8.1.7)\n",
      "Requirement already satisfied: cloudpickle>=3.0.0 in /home/jose/.venv/lib/python3.12/site-packages (from dask[dataframe]) (3.0.0)\n",
      "Requirement already satisfied: fsspec>=2021.09.0 in /home/jose/.venv/lib/python3.12/site-packages (from dask[dataframe]) (2024.9.0)\n",
      "Requirement already satisfied: packaging>=20.0 in /home/jose/.venv/lib/python3.12/site-packages (from dask[dataframe]) (24.1)\n",
      "Requirement already satisfied: partd>=1.4.0 in /home/jose/.venv/lib/python3.12/site-packages (from dask[dataframe]) (1.4.2)\n",
      "Requirement already satisfied: pyyaml>=5.3.1 in /home/jose/.venv/lib/python3.12/site-packages (from dask[dataframe]) (6.0.2)\n",
      "Requirement already satisfied: toolz>=0.10.0 in /home/jose/.venv/lib/python3.12/site-packages (from dask[dataframe]) (0.12.1)\n",
      "Requirement already satisfied: pandas>=2.0 in /home/jose/.venv/lib/python3.12/site-packages (from dask[dataframe]) (2.2.3)\n",
      "Requirement already satisfied: dask-expr<1.2,>=1.1 in /home/jose/.venv/lib/python3.12/site-packages (from dask[dataframe]) (1.1.14)\n",
      "Requirement already satisfied: pyarrow>=14.0.1 in /home/jose/.venv/lib/python3.12/site-packages (from dask-expr<1.2,>=1.1->dask[dataframe]) (17.0.0)\n",
      "Requirement already satisfied: numpy>=1.26.0 in /home/jose/.venv/lib/python3.12/site-packages (from pandas>=2.0->dask[dataframe]) (1.26.4)\n",
      "Requirement already satisfied: python-dateutil>=2.8.2 in /home/jose/.venv/lib/python3.12/site-packages (from pandas>=2.0->dask[dataframe]) (2.9.0.post0)\n",
      "Requirement already satisfied: pytz>=2020.1 in /home/jose/.venv/lib/python3.12/site-packages (from pandas>=2.0->dask[dataframe]) (2024.2)\n",
      "Requirement already satisfied: tzdata>=2022.7 in /home/jose/.venv/lib/python3.12/site-packages (from pandas>=2.0->dask[dataframe]) (2024.1)\n",
      "Requirement already satisfied: locket in /home/jose/.venv/lib/python3.12/site-packages (from partd>=1.4.0->dask[dataframe]) (1.0.0)\n",
      "Requirement already satisfied: six>=1.5 in /home/jose/.venv/lib/python3.12/site-packages (from python-dateutil>=2.8.2->pandas>=2.0->dask[dataframe]) (1.16.0)\n"
     ]
    }
   ],
   "source": [
    "!pip install --upgrade pip\n",
    "!pip install --upgrade lightgbm\n",
    "!pip install dask[dataframe]"
   ]
  },
  {
   "cell_type": "code",
   "execution_count": 11,
   "metadata": {
    "executionInfo": {
     "elapsed": 7,
     "status": "ok",
     "timestamp": 1731386841403,
     "user": {
      "displayName": "Jose Chelquer",
      "userId": "09375279337890014087"
     },
     "user_tz": 180
    },
    "id": "Cj-rL6xHlA2u"
   },
   "outputs": [],
   "source": [
    "import pandas as pd\n",
    "import numpy as np\n",
    "import seaborn as sns\n",
    "import matplotlib.pyplot as plt\n",
    "\n",
    "import os\n",
    "import shutil\n",
    "\n",
    "from sklearn.model_selection import train_test_split\n",
    "from sklearn.model_selection import ShuffleSplit, StratifiedShuffleSplit\n",
    "from sklearn.ensemble import RandomForestClassifier\n",
    "from sklearn.impute import SimpleImputer\n",
    "\n",
    "\n",
    "import json\n",
    "\n",
    "from time import time\n",
    "\n",
    "import pickle\n",
    "\n"
   ]
  },
  {
   "cell_type": "code",
   "execution_count": 12,
   "metadata": {
    "scrolled": true
   },
   "outputs": [
    {
     "data": {
      "text/html": [
       "<style type='text/css'>\n",
       ".datatable table.frame { margin-bottom: 0; }\n",
       ".datatable table.frame thead { border-bottom: none; }\n",
       ".datatable table.frame tr.coltypes td {  color: #FFFFFF;  line-height: 6px;  padding: 0 0.5em;}\n",
       ".datatable .bool    { background: #DDDD99; }\n",
       ".datatable .object  { background: #565656; }\n",
       ".datatable .int     { background: #5D9E5D; }\n",
       ".datatable .float   { background: #4040CC; }\n",
       ".datatable .str     { background: #CC4040; }\n",
       ".datatable .time    { background: #40CC40; }\n",
       ".datatable .row_index {  background: var(--jp-border-color3);  border-right: 1px solid var(--jp-border-color0);  color: var(--jp-ui-font-color3);  font-size: 9px;}\n",
       ".datatable .frame tbody td { text-align: left; }\n",
       ".datatable .frame tr.coltypes .row_index {  background: var(--jp-border-color0);}\n",
       ".datatable th:nth-child(2) { padding-left: 12px; }\n",
       ".datatable .hellipsis {  color: var(--jp-cell-editor-border-color);}\n",
       ".datatable .vellipsis {  background: var(--jp-layout-color0);  color: var(--jp-cell-editor-border-color);}\n",
       ".datatable .na {  color: var(--jp-cell-editor-border-color);  font-size: 80%;}\n",
       ".datatable .sp {  opacity: 0.25;}\n",
       ".datatable .footer { font-size: 9px; }\n",
       ".datatable .frame_dimensions {  background: var(--jp-border-color3);  border-top: 1px solid var(--jp-border-color0);  color: var(--jp-ui-font-color3);  display: inline-block;  opacity: 0.6;  padding: 1px 10px 1px 5px;}\n",
       ".datatable .frame thead tr.colnames {  background-image: url('data:image/png;base64,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');  background-repeat: repeat-x;  background-size: 14px;  height: 28px;}\n",
       "</style>\n"
      ],
      "text/plain": [
       "<IPython.core.display.HTML object>"
      ]
     },
     "metadata": {},
     "output_type": "display_data"
    }
   ],
   "source": [
    "import lightgbm as lgb"
   ]
  },
  {
   "cell_type": "markdown",
   "metadata": {},
   "source": [
    "## Funciones útiles varias"
   ]
  },
  {
   "cell_type": "code",
   "execution_count": 13,
   "metadata": {},
   "outputs": [],
   "source": [
    "def buscar_columnas(data, texto):\n",
    "    # devuelve los nombre de cols de data que contengan texto\n",
    "    # Encuentra las columnas que contienen el texto\n",
    "    columnas_filtradas = [col for col in data.columns if texto in col]\n",
    "    \n",
    "    # Imprime las columnas que coinciden\n",
    "    return columnas_filtradas"
   ]
  },
  {
   "cell_type": "markdown",
   "metadata": {
    "id": "bkwpAJ8_l0v5"
   },
   "source": [
    "## Leer datos"
   ]
  },
  {
   "cell_type": "code",
   "execution_count": 14,
   "metadata": {
    "executionInfo": {
     "elapsed": 7,
     "status": "ok",
     "timestamp": 1731386841403,
     "user": {
      "displayName": "Jose Chelquer",
      "userId": "09375279337890014087"
     },
     "user_tz": 180
    },
    "id": "8jGKjoN1lRho"
   },
   "outputs": [],
   "source": [
    "semilla=semillas[2]\n"
   ]
  },
  {
   "cell_type": "code",
   "execution_count": 15,
   "metadata": {},
   "outputs": [],
   "source": [
    "def contabilizar(df, descripción):\n",
    "  print (f'\\nContabilización de la base {descripción}\\n')\n",
    "  print (f'\\nShape: {df.shape}\\n')\n",
    "  n_vars=len(df.columns)\n",
    "  n_vars_tree=len([col for col in df.columns if col.startswith('tree')])\n",
    "  print (f\"Variables: {n_vars}\")\n",
    "  print (f\"Variables tree: {n_vars_tree}\")\n",
    "  print (f\"\\nFilas por mes: \\n{df['foto_mes'].value_counts()}\\n\")\n",
    "  if 'clase_ternaria' in df.columns:\n",
    "    print (f\"\\nFilas por mes y clase: \\n{pd.crosstab(df['foto_mes'], df['clase_ternaria'])}\\n\")\n",
    "def cant_meses(df):\n",
    "  return len(df['foto_mes'].unique())"
   ]
  },
  {
   "cell_type": "code",
   "execution_count": 16,
   "metadata": {
    "executionInfo": {
     "elapsed": 46934,
     "status": "ok",
     "timestamp": 1731386888331,
     "user": {
      "displayName": "Jose Chelquer",
      "userId": "09375279337890014087"
     },
     "user_tz": 180
    },
    "id": "Y6wt6RE4jmQd"
   },
   "outputs": [],
   "source": [
    "if 'parquet' in dataset_file:\n",
    "    data = pd.read_parquet(os.path.join(dataset_path, dataset_file))\n",
    "else:\n",
    "    data = pd.read_csv(os.path.join(dataset_path, dataset_file))\n",
    "if 'clase_ternaria_num' in data.columns:\n",
    "  data = data.drop(columns=['clase_ternaria_num'])"
   ]
  },
  {
   "cell_type": "code",
   "execution_count": 17,
   "metadata": {
    "scrolled": true
   },
   "outputs": [],
   "source": [
    "data = data.sort_values(by=['foto_mes', 'numero_de_cliente'])\n"
   ]
  },
  {
   "cell_type": "code",
   "execution_count": 18,
   "metadata": {},
   "outputs": [
    {
     "data": {
      "text/plain": [
       "234381     249221109\n",
       "703406     249221468\n",
       "4141563    249223005\n",
       "1987915    249232117\n",
       "2634530    249236712\n",
       "2849942    249236857\n",
       "3518403    249237079\n",
       "3564624    249237446\n",
       "2397374    249239632\n",
       "3471378    249242331\n",
       "Name: numero_de_cliente, dtype: int64"
      ]
     },
     "execution_count": 18,
     "metadata": {},
     "output_type": "execute_result"
    }
   ],
   "source": [
    "data.loc[data['foto_mes']==mes_test, 'numero_de_cliente'].head(10)"
   ]
  },
  {
   "cell_type": "code",
   "execution_count": 19,
   "metadata": {
    "colab": {
     "base_uri": "https://localhost:8080/"
    },
    "executionInfo": {
     "elapsed": 19,
     "status": "ok",
     "timestamp": 1731386888333,
     "user": {
      "displayName": "Jose Chelquer",
      "userId": "09375279337890014087"
     },
     "user_tz": 180
    },
    "id": "WUF_2WW6X9rK",
    "outputId": "d0b7578a-6b66-4808-8ba2-2d4c34629f4f",
    "scrolled": true
   },
   "outputs": [
    {
     "name": "stdout",
     "output_type": "stream",
     "text": [
      "\n",
      "Contabilización de la base Datos Leídos k3__psf.parquet.gz\n",
      "\n",
      "\n",
      "Shape: (4901237, 1097)\n",
      "\n",
      "Variables: 1097\n",
      "Variables tree: 320\n",
      "\n",
      "Filas por mes: \n",
      "foto_mes\n",
      "202109    165644\n",
      "202108    165442\n",
      "202107    165152\n",
      "202106    164876\n",
      "202105    164623\n",
      "202104    164090\n",
      "202103    163685\n",
      "202102    162646\n",
      "202101    162026\n",
      "202012    161526\n",
      "202011    160742\n",
      "202010    159731\n",
      "202009    158371\n",
      "202008    157058\n",
      "202007    155764\n",
      "202006    153757\n",
      "202005    151261\n",
      "202004    149872\n",
      "202003    149356\n",
      "202002    147109\n",
      "202001    143966\n",
      "201912    140661\n",
      "201911    138667\n",
      "201910    136682\n",
      "201909    134314\n",
      "201908    132664\n",
      "201907    130724\n",
      "201906    129186\n",
      "201905    127659\n",
      "201904    126996\n",
      "201903    126436\n",
      "201902    125799\n",
      "201901    124752\n",
      "Name: count, dtype: int64\n",
      "\n",
      "\n",
      "Filas por mes y clase: \n",
      "clase_ternaria  BAJA+1  BAJA+2  CONTINUA\n",
      "foto_mes                                \n",
      "201901             688     718    123346\n",
      "201902             720     688    124391\n",
      "201903             688     760    124988\n",
      "201904             759     579    125658\n",
      "201905             580     660    126419\n",
      "201906             662     608    127916\n",
      "201907             609     689    129426\n",
      "201908             683     552    131429\n",
      "201909             553     576    133185\n",
      "201910             583     624    135475\n",
      "201911             623     735    137309\n",
      "201912             734     598    139329\n",
      "202001             605     502    142859\n",
      "202002             508     185    146416\n",
      "202003             186     378    148792\n",
      "202004             377     533    148962\n",
      "202005             536     629    150096\n",
      "202006             632     624    152501\n",
      "202007             627     542    154595\n",
      "202008             544     472    156042\n",
      "202009             474     564    157333\n",
      "202010             565     488    158678\n",
      "202011             490     646    159606\n",
      "202012             649     634    160243\n",
      "202101             635     785    160606\n",
      "202102             785    1017    160844\n",
      "202103            1020     981    161684\n",
      "202104             982    1189    161919\n",
      "202105            1189     911    162523\n",
      "202106             908    1074    162894\n",
      "202107            1075    1294    162783\n",
      "202108            1296  164146         0\n",
      "202109          165644       0         0\n",
      "\n"
     ]
    }
   ],
   "source": [
    "\n",
    "contabilizar(data, 'Datos Leídos '+ dataset_file)"
   ]
  },
  {
   "cell_type": "markdown",
   "metadata": {},
   "source": [
    "# ------------------------------------------------------------------\n",
    "# Eliminado aquí a último momento para probar\n",
    "# ------------------------------------------------------------------\n"
   ]
  },
  {
   "cell_type": "code",
   "execution_count": 20,
   "metadata": {},
   "outputs": [
    {
     "name": "stdout",
     "output_type": "stream",
     "text": [
      "Nueva cantidad de columnas 1097\n"
     ]
    }
   ],
   "source": [
    "# eliminar selectivamente variables\n",
    "data = data.loc[:, ~data.columns.str.contains('prestamos_personales', case=False)]\n",
    "data = data.loc[:, ~data.columns.str.contains('ultimo_cierre', case=False)]\n",
    "print (f\"Nueva cantidad de columnas {len(data.columns)}\")"
   ]
  },
  {
   "cell_type": "code",
   "execution_count": 21,
   "metadata": {},
   "outputs": [],
   "source": [
    "# FIN DEL AGREGADO DE ULTIMO MOMENTO"
   ]
  },
  {
   "cell_type": "markdown",
   "metadata": {
    "id": "9TrH9f1L5Umd"
   },
   "source": [
    "Vamos a asignar pesos a las clases. En unos minutos explicaremos las razones detrás de esta decisión. Mientras tanto, pueden aprovechar el código para ajustar el peso de la clase **BAJA+2** según lo deseen.\n"
   ]
  },
  {
   "cell_type": "markdown",
   "metadata": {
    "id": "MNnckhMQl4QC"
   },
   "source": [
    "## Recodificar clase ternaria"
   ]
  },
  {
   "cell_type": "code",
   "execution_count": 22,
   "metadata": {
    "executionInfo": {
     "elapsed": 8,
     "status": "ok",
     "timestamp": 1731386888334,
     "user": {
      "displayName": "Jose Chelquer",
      "userId": "09375279337890014087"
     },
     "user_tz": 180
    },
    "id": "AlYeDIBQP3-s"
   },
   "outputs": [],
   "source": [
    "data['clase_peso'] = 1.0\n",
    "\n",
    "data.loc[data['clase_ternaria'] == 'BAJA+2', 'clase_peso'] = 1.00002\n",
    "data.loc[data['clase_ternaria'] == 'BAJA+1', 'clase_peso'] = 1.00001"
   ]
  },
  {
   "cell_type": "code",
   "execution_count": 23,
   "metadata": {
    "executionInfo": {
     "elapsed": 500,
     "status": "ok",
     "timestamp": 1731386888826,
     "user": {
      "displayName": "Jose Chelquer",
      "userId": "09375279337890014087"
     },
     "user_tz": 180
    },
    "id": "KV1meQ5cZ_Sl"
   },
   "outputs": [],
   "source": [
    "data['clase_binaria1'] = 0\n",
    "data['clase_binaria2'] = 0\n",
    "data['clase_binaria1'] = np.where(data['clase_ternaria'] == 'BAJA+2', 1, 0)\n",
    "data['clase_binaria2'] = np.where(data['clase_ternaria'] == 'CONTINUA', 0, 1)"
   ]
  },
  {
   "cell_type": "markdown",
   "metadata": {
    "id": "5AYJG0r16dW9"
   },
   "source": [
    "Y trabajaremos como es habitual en las últimas clases, con **Febrero** para entrenar y **Abril** para medir, con el fin de realizar *backtesting*"
   ]
  },
  {
   "cell_type": "markdown",
   "metadata": {
    "id": "8dXqpYY6l_Jk"
   },
   "source": [
    "## Preparar train y test"
   ]
  },
  {
   "cell_type": "code",
   "execution_count": 24,
   "metadata": {
    "colab": {
     "base_uri": "https://localhost:8080/"
    },
    "executionInfo": {
     "elapsed": 32,
     "status": "ok",
     "timestamp": 1731386888826,
     "user": {
      "displayName": "Jose Chelquer",
      "userId": "09375279337890014087"
     },
     "user_tz": 180
    },
    "id": "iDyeXHAuCKuT",
    "outputId": "5694402d-dfa1-4f08-d31b-75966f8baa79"
   },
   "outputs": [
    {
     "name": "stdout",
     "output_type": "stream",
     "text": [
      "Armando X_train\n",
      "Separando X_train y_train etc.\n",
      "Armando X_eval\n",
      "Armando X_test\n",
      "listo\n",
      "\n",
      "Contabilización de la base datos de evaluación\n",
      "\n",
      "\n",
      "Shape: (165152, 1093)\n",
      "\n",
      "Variables: 1093\n",
      "Variables tree: 320\n",
      "\n",
      "Filas por mes: \n",
      "foto_mes\n",
      "202107    165152\n",
      "Name: count, dtype: int64\n",
      "\n",
      "\n",
      "Contabilización de la base datos de test\n",
      "\n",
      "\n",
      "Shape: (165644, 1093)\n",
      "\n",
      "Variables: 1093\n",
      "Variables tree: 320\n",
      "\n",
      "Filas por mes: \n",
      "foto_mes\n",
      "202109    165644\n",
      "Name: count, dtype: int64\n",
      "\n"
     ]
    }
   ],
   "source": [
    "train_data = data[(data['foto_mes'] >= mes_train_desde)&(data['foto_mes'] <= mes_train_hasta)]\n",
    "test_data = data[data['foto_mes'] == mes_test]\n",
    "eval_data = data[data['foto_mes'] == mes_eval]\n",
    "\n",
    "print (\"Armando X_train\")\n",
    "print (\"Separando X_train y_train etc.\")\n",
    "X_train = train_data.drop(['clase_ternaria','clase_peso', 'clase_binaria1','clase_binaria2'], axis=1)\n",
    "y_train_binaria1 = train_data['clase_binaria1']\n",
    "y_train_binaria2 = train_data['clase_binaria2']\n",
    "w_train = train_data['clase_peso']\n",
    "y_train = y_train_binaria2\n",
    "\n",
    "print (\"Armando X_eval\")\n",
    "X_eval = eval_data.drop(['clase_ternaria', 'clase_peso', 'clase_binaria1','clase_binaria2'], axis=1)\n",
    "y_eval_binaria1 = eval_data['clase_binaria1']\n",
    "y_eval_binaria2 = eval_data['clase_binaria2']\n",
    "w_eval = eval_data['clase_peso']\n",
    "\n",
    "print (\"Armando X_test\")\n",
    "X_test = test_data.drop(['clase_ternaria', 'clase_peso', 'clase_binaria1','clase_binaria2'], axis=1)\n",
    "y_test= test_data['clase_binaria2']\n",
    "w_test = test_data['clase_peso']\n",
    "print (\"listo\")\n",
    "\n",
    "contabilizar(X_eval, 'datos de evaluación')\n",
    "contabilizar(X_test, 'datos de test')\n"
   ]
  },
  {
   "cell_type": "code",
   "execution_count": 25,
   "metadata": {
    "executionInfo": {
     "elapsed": 33,
     "status": "ok",
     "timestamp": 1731386888831,
     "user": {
      "displayName": "Jose Chelquer",
      "userId": "09375279337890014087"
     },
     "user_tz": 180
    },
    "id": "_FvDUXeatl66"
   },
   "outputs": [],
   "source": [
    "# Para calcular ganancias fuera del proceso de optimización:\n",
    "def ganancias_obtenidas(y_pred, X, weight):\n",
    "    n_meses=cant_meses(X)\n",
    "    ganancia = np.where(weight == 1.00002, ganancia_acierto, 0) - np.where(weight < 1.00002, costo_estimulo, 0)\n",
    "    ganancia = ganancia[np.argsort(y_pred)[::-1]] #: desde todo : hasta todo :-1 step hacia atrás\n",
    "    # Ganancias acumuladas so far\n",
    "    print (ganancia)\n",
    "    \n",
    "    ganancia_acum = np.cumsum(ganancia)\n",
    "    print (ganancia_acum)\n",
    "    ganancia_maxima=max(ganancia_acum)\n",
    "    cant_envios = np.argmax(ganancia_acum) + 1  # Sumar 1 para tener la posición en términos de \"cantidad\"\n",
    "\n",
    "    return np.round(ganancia_acum/n_meses/1000), np.round(ganancia_maxima/n_meses/1000), cant_envios\n",
    "\n"
   ]
  },
  {
   "cell_type": "markdown",
   "metadata": {},
   "source": [
    "## Recuperación de best params"
   ]
  },
  {
   "cell_type": "code",
   "execution_count": 26,
   "metadata": {},
   "outputs": [
    {
     "name": "stdout",
     "output_type": "stream",
     "text": [
      "leyendo /home/jose/buckets/b1/modelos/_psf_combined_params.json\n",
      "Num_boost_round: 360\n",
      "Parámetros cargados: {'num_leaves': 156, 'learning_rate': 0.03356010386318363, 'min_data_in_leaf': 14, 'feature_fraction': 0.7484330614229726, 'bagging_fraction': 0.02299407577995452, 'objective': 'binary', 'metric': 'custom', 'boosting_type': 'gbdt', 'first_metric_only': True, 'boost_from_average': True, 'feature_pre_filter': False, 'max_bin': 31, 'verbosity': -1}\n"
     ]
    }
   ],
   "source": [
    "# Entreno con el mejor modelo\n",
    "# Ruta al archivo JSON con los mejores parámetros\n",
    "input_path = os.path.join(modelos_path, params_file)\n",
    "print (f'leyendo {input_path}')\n",
    "# Cargar los parámetros desde el archivo\n",
    "with open(input_path, \"r\") as file:\n",
    "    params_con_rounds = json.load(file)\n",
    "\n",
    "num_boost_round= params_con_rounds['num_boost_round']\n",
    "combined_params=params_con_rounds\n",
    "del  combined_params['num_boost_round']\n",
    "print(\"Num_boost_round:\", num_boost_round)\n",
    "print(\"Parámetros cargados:\", combined_params)\n",
    "\n"
   ]
  },
  {
   "cell_type": "markdown",
   "metadata": {},
   "source": [
    "## Cargar el modelo"
   ]
  },
  {
   "cell_type": "code",
   "execution_count": 27,
   "metadata": {
    "executionInfo": {
     "elapsed": 7,
     "status": "ok",
     "timestamp": 1731387975381,
     "user": {
      "displayName": "Jose Chelquer",
      "userId": "09375279337890014087"
     },
     "user_tz": 180
    },
    "id": "H12h5wP2s645"
   },
   "outputs": [
    {
     "name": "stdout",
     "output_type": "stream",
     "text": [
      "/home/jose/buckets/b1/modelos/lgb_optimizado_final__psf.txt\n"
     ]
    }
   ],
   "source": [
    "\n",
    "print (path_modelo)\n",
    "model = lgb.Booster(model_file=os.path.join(modelos_path, modelos_file)+'.txt')"
   ]
  },
  {
   "cell_type": "code",
   "execution_count": 28,
   "metadata": {},
   "outputs": [
    {
     "data": {
      "text/plain": [
       "202109"
      ]
     },
     "execution_count": 28,
     "metadata": {},
     "output_type": "execute_result"
    }
   ],
   "source": [
    "mes_test"
   ]
  },
  {
   "cell_type": "markdown",
   "metadata": {
    "id": "Rz08XOVCL_4J"
   },
   "source": [
    "# Resultados de entrenamiento"
   ]
  },
  {
   "cell_type": "code",
   "execution_count": 29,
   "metadata": {
    "colab": {
     "base_uri": "https://localhost:8080/"
    },
    "executionInfo": {
     "elapsed": 25,
     "status": "ok",
     "timestamp": 1731387975881,
     "user": {
      "displayName": "Jose Chelquer",
      "userId": "09375279337890014087"
     },
     "user_tz": 180
    },
    "id": "cEqHD66f6x4c",
    "outputId": "9f3e76d0-dd13-4f1c-9b08-f6edd226ffa6"
   },
   "outputs": [
    {
     "name": "stdout",
     "output_type": "stream",
     "text": [
      "[-7000 -7000 -7000 ... -7000 -7000 -7000]\n",
      "[     -7000     -14000     -21000 ... -793730000 -793737000 -793744000]\n",
      "Ganancia máxima en eval: 161427.0\n",
      "\n",
      "Envíos para ganancia máxima: 11659\n",
      "\n",
      "Ganancias en eval: [-7.00000e+00 -1.40000e+01 -2.10000e+01 ... -7.93730e+05 -7.93737e+05\n",
      " -7.93744e+05]\n"
     ]
    }
   ],
   "source": [
    "\n",
    "y_pred_eval=model.predict(X_eval)\n",
    "\n",
    "ganancias_eval, gmax_eval, envios_eval=ganancias_obtenidas(y_pred_eval, X_eval, w_eval)\n",
    "print (f\"Ganancia máxima en eval: {gmax_eval}\\n\")\n",
    "print (f\"Envíos para ganancia máxima: {envios_eval}\\n\")\n",
    "print (f\"Ganancias en eval: {ganancias_eval}\")"
   ]
  },
  {
   "cell_type": "code",
   "execution_count": 30,
   "metadata": {
    "colab": {
     "base_uri": "https://localhost:8080/"
    },
    "executionInfo": {
     "elapsed": 6,
     "status": "ok",
     "timestamp": 1731387975381,
     "user": {
      "displayName": "Jose Chelquer",
      "userId": "09375279337890014087"
     },
     "user_tz": 180
    },
    "id": "RhA4q6SSeVp5",
    "outputId": "19faf5ae-f312-4ac9-f4a8-83722188c487"
   },
   "outputs": [
    {
     "name": "stdout",
     "output_type": "stream",
     "text": [
      "                        feature  importance\n",
      "0             numero_de_cliente         506\n",
      "272   mrentabilidad_annual_lag2         373\n",
      "5                  cliente_edad         366\n",
      "12                   cproductos         320\n",
      "70    mcomisiones_mantenimiento         305\n",
      "266           cliente_edad_lag2         305\n",
      "10              mactivos_margen         299\n",
      "16            mcuenta_corriente         294\n",
      "110         Master_Fvencimiento         291\n",
      "476    Master_Fvencimiento_lag2         287\n",
      "475    Master_Fvencimiento_lag1         281\n",
      "95   chomebanking_transacciones         273\n",
      "105                ctrx_quarter         271\n",
      "271   mrentabilidad_annual_lag1         255\n",
      "1                      foto_mes         253\n",
      "6            cliente_antiguedad         248\n",
      "22               mcuentas_saldo         247\n",
      "514      Visa_Fvencimiento_lag2         246\n",
      "265           cliente_edad_lag1         241\n",
      "287      mcuenta_corriente_lag1         240\n"
     ]
    }
   ],
   "source": [
    "def resultados_modelo(model, feature_names):\n",
    "  importances = model.feature_importance()\n",
    "  importance_df = pd.DataFrame({'feature': feature_names, 'importance': importances})\n",
    "  importance_df = importance_df.sort_values('importance', ascending=False)\n",
    "  importance_df[importance_df['importance'] > 0]\n",
    "\n",
    "  print(importance_df.head(20))\n",
    "\n",
    "  if grabar_importancias:\n",
    "      if importancias_file.endswith('.gz'):\n",
    "        importance_df.to_csv(os.path.join(dataset_path,  importancias_file), index=False, compression='gzip')\n",
    "      else:\n",
    "        importance_df.to_csv(os.path.join(dataset_path,  importancias_file), index=False)\n",
    "resultados_modelo(model, X_test.columns.tolist())"
   ]
  },
  {
   "cell_type": "code",
   "execution_count": 31,
   "metadata": {},
   "outputs": [
    {
     "name": "stdout",
     "output_type": "stream",
     "text": [
      "[0.00681562 0.00543632 0.00012355 ... 0.00477078 0.00621942 0.01364119]\n"
     ]
    }
   ],
   "source": [
    "print (y_pred_eval)"
   ]
  },
  {
   "cell_type": "code",
   "execution_count": null,
   "metadata": {},
   "outputs": [],
   "source": []
  },
  {
   "cell_type": "markdown",
   "metadata": {
    "id": "B_aIb6aWOH4y"
   },
   "source": [
    "## Para Kaggle\n",
    "\n"
   ]
  },
  {
   "cell_type": "code",
   "execution_count": 32,
   "metadata": {
    "executionInfo": {
     "elapsed": 4,
     "status": "ok",
     "timestamp": 1731388162282,
     "user": {
      "displayName": "Jose Chelquer",
      "userId": "09375279337890014087"
     },
     "user_tz": 180
    },
    "id": "lxqdXsi0CJB-"
   },
   "outputs": [],
   "source": [
    "def enviar_kaggle(y_pred_test, X_test):\n",
    "  # Cargo el kaggle.json para poder conectarme\n",
    "  # Mueve kaggle.json al directorio correcto\n",
    " if not vm:\n",
    "      os.makedirs('/root/.kaggle', exist_ok=True)\n",
    "      shutil.copy(f'{kaggle_json_path}/kaggle.json', '/root/.kaggle/kaggle.json')\n",
    "      os.chmod('/root/.kaggle/kaggle.json', 600)\n",
    "  # Obtengo el orden de prioridad para el envío\n",
    "    \n",
    " idx_deseables=np.argsort(y_pred_test)[::-1]\n",
    "    # ------------------------------------------------------------------\n",
    "  # Los topes de envíos se determinaron al hacer la curva en eval\n",
    " for envios in np.linspace(enviar_desde, enviar_hasta, cant_envios, dtype=int):\n",
    "      print (f\"Enviando: {envios}\")\n",
    "      # Notar que idx_deseables tiene índices de y_pred (de 0 al máximo de línes de y_pred)\n",
    "\n",
    "      # los primeros envíos irán con predicción 1 y el resto 0\n",
    "      # idx_deseables contiene los índices de y_pred (no los originales!!) cuyas predicciones tienen los mejores valores, en orden desdendente\n",
    "      # guardo en elegidos los índices de los datos correspondientes a los primeros :envios en idx\n",
    "      elegidos=X_test.index[idx_deseables[:envios]]\n",
    "\n",
    "      # Creo clientes_kaggle sólo con el número de cliente de  X_test\n",
    "      clientes_kaggle=X_test.loc[:, ['numero_de_cliente']].copy()\n",
    "      clientes_kaggle['Predicted']=0    #default\n",
    "      clientes_kaggle.loc[elegidos, 'Predicted'] = 1   # marco los \"enviados\"\n",
    "      if clientes_kaggle.shape != ( 165644, 2):\n",
    "          raise ValueError(f\"El DataFrame 'clientes_enviados' no tiene la forma esperada. Forma actual: {clientes_kaggle.shape}\")\n",
    "      else:\n",
    "          print(\"La forma de 'clientes_enviados' es correcta.\")\n",
    "\n",
    "          # elijo el nombre para el archivo enviar, para llevar control\n",
    "          # un mensaje para registrar\n",
    "          # y me grabo el archivo que mando para tener control local\n",
    "    \n",
    "          # Voy a mandar con un mensaje que incluya los parámetros usados y la cantidad de envíos\n",
    "          mensaje=f\"lgbm aumentada semillero {combined_params} {envios}\"\n",
    "          # # Me gusta guardar los envíos que hago\n",
    "          archivo=f'{prefijo_envio}-v_{version}-{envios}.csv'\n",
    "          import os \n",
    "          path_archivo=os.path.join(dataset_path,archivo)\n",
    "          clientes_kaggle.to_csv(path_archivo, index=False)\n",
    "    \n",
    "          # Envío a la competencia\n",
    "          competencia=\"dm-ey-f-2024-tercera\"\n",
    "          !kaggle competitions submit -c {competencia} -f '{path_archivo}' -m '{mensaje}'\n",
    "\n",
    " params_str = str(combined_params)\n",
    "\n",
    " # Eliminar llaves {}, apóstrofes ' y dos puntos :\n",
    " params_str = params_str.replace('{', '').replace('}', '').replace(\"'\", '').replace(':', '').replace(\",\",'')\n",
    " print (params_str)\n",
    "\n",
    " print (clientes_kaggle)\n",
    "\n"
   ]
  },
  {
   "cell_type": "code",
   "execution_count": 33,
   "metadata": {},
   "outputs": [
    {
     "data": {
      "image/png": "[encoded data removed]",
      "text/plain": [
       "<Figure size 640x480 with 1 Axes>"
      ]
     },
     "metadata": {},
     "output_type": "display_data"
    }
   ],
   "source": [
    "# Suponiendo que y_pred_eval es un array o lista\n",
    "plt.hist(y_pred_eval, bins=30, color='blue', edgecolor='black', alpha=0.7)\n",
    "plt.title('Histograma de y_pred_eval')\n",
    "plt.xlabel('Valores de y_pred_eval')\n",
    "plt.ylabel('Frecuencia')\n",
    "plt.show()"
   ]
  },
  {
   "cell_type": "markdown",
   "metadata": {},
   "source": [
    "## Predecir con o sin semillero"
   ]
  },
  {
   "cell_type": "code",
   "execution_count": 34,
   "metadata": {},
   "outputs": [],
   "source": [
    "def semillerio(X, semillas, n_semillas):\n",
    "    print ('Parámetros combinados')\n",
    "    train_data = lgb.Dataset(X_train,\n",
    "                          label=y_train,\n",
    "                          weight=w_train)\n",
    "    semillas_a_usar=semillas[:n_semillas-1]\n",
    "    resultados = []  # Lista para almacenar los resultados\n",
    "\n",
    "    for semilla in semillas_a_usar:\n",
    "        print(\"Optimizando con semilla\", semilla)\n",
    "        combined_params['seed'] = semilla\n",
    "        \n",
    "        # Entrenar el modelo con la semilla actual\n",
    "        model = lgb.train(\n",
    "            combined_params,\n",
    "            train_set=train_data,\n",
    "            num_boost_round=num_boost_round\n",
    "        )\n",
    "        print (X.shape)\n",
    "        \n",
    "        print(\"Prediciendo\")\n",
    "        # Obtener predicciones y guardarlas\n",
    "        y_pred = model.predict(X)\n",
    "        resultados.append(y_pred)\n",
    "    \n",
    "    # Promediar los resultados al final\n",
    "    resultado_promedio = sum(resultados) / len(resultados)\n",
    "    \n",
    "    # Retornar el resultado promedio\n",
    "    print(\"Resultado promedio:\", resultado_promedio)\n",
    "    return resultado_promedio\n"
   ]
  },
  {
   "cell_type": "code",
   "execution_count": 35,
   "metadata": {},
   "outputs": [
    {
     "name": "stdout",
     "output_type": "stream",
     "text": [
      "Parámetros combinados\n",
      "Optimizando con semilla 101\n",
      "(165644, 1093)\n",
      "Prediciendo\n",
      "Optimizando con semilla 103\n",
      "(165644, 1093)\n",
      "Prediciendo\n",
      "Optimizando con semilla 107\n",
      "(165644, 1093)\n",
      "Prediciendo\n",
      "Optimizando con semilla 109\n",
      "(165644, 1093)\n",
      "Prediciendo\n",
      "Optimizando con semilla 113\n",
      "(165644, 1093)\n",
      "Prediciendo\n",
      "Optimizando con semilla 127\n",
      "(165644, 1093)\n",
      "Prediciendo\n",
      "Optimizando con semilla 131\n",
      "(165644, 1093)\n",
      "Prediciendo\n",
      "Optimizando con semilla 137\n",
      "(165644, 1093)\n",
      "Prediciendo\n",
      "Optimizando con semilla 139\n",
      "(165644, 1093)\n",
      "Prediciendo\n",
      "Resultado promedio: [0.0010636  0.00215639 0.00013887 ... 0.00283485 0.01600721 0.01632858]\n"
     ]
    }
   ],
   "source": [
    "if semillero:\n",
    "    y_pred_test=semillerio(X_test, semillas, n_semillas)\n",
    "else:\n",
    "    y_pred_test=model.predict(X_test)\n",
    "    \n",
    "                        "
   ]
  },
  {
   "cell_type": "code",
   "execution_count": 36,
   "metadata": {},
   "outputs": [
    {
     "data": {
      "text/plain": [
       "array([9.08083259e-01, 8.70770817e-01, 8.60292934e-01, ...,\n",
       "       1.99519829e-05, 1.94468343e-05, 1.87971269e-05])"
      ]
     },
     "execution_count": 36,
     "metadata": {},
     "output_type": "execute_result"
    }
   ],
   "source": [
    "np.sort(y_pred_test)[::-1]\n",
    "#y_pred_test"
   ]
  },
  {
   "cell_type": "code",
   "execution_count": 37,
   "metadata": {},
   "outputs": [
    {
     "data": {
      "image/png": "[encoded data removed]",
      "text/plain": [
       "<Figure size 640x480 with 1 Axes>"
      ]
     },
     "metadata": {},
     "output_type": "display_data"
    }
   ],
   "source": [
    "# Suponiendo que y_pred_eval es un array o lista\n",
    "plt.hist(y_pred_test, bins=30, color='blue', edgecolor='black', alpha=0.7)\n",
    "plt.title('Histograma de y_pred_test')\n",
    "plt.xlabel('Valores de y_pred_test')\n",
    "plt.ylabel('Frecuencia')\n",
    "plt.show()"
   ]
  },
  {
   "cell_type": "markdown",
   "metadata": {},
   "source": [
    "# ENVIO A KAGGLE"
   ]
  },
  {
   "cell_type": "code",
   "execution_count": 38,
   "metadata": {},
   "outputs": [
    {
     "name": "stdout",
     "output_type": "stream",
     "text": [
      "Enviando: 7000\n",
      "La forma de 'clientes_enviados' es correcta.\n",
      "100%|██████████████████████████████████████| 1.94M/1.94M [00:00<00:00, 3.01MB/s]\n",
      "Successfully submitted to DMEyF 2024 TerceraEnviando: 8000\n",
      "La forma de 'clientes_enviados' es correcta.\n",
      "100%|██████████████████████████████████████| 1.94M/1.94M [00:00<00:00, 3.18MB/s]\n",
      "Successfully submitted to DMEyF 2024 TerceraEnviando: 9000\n",
      "La forma de 'clientes_enviados' es correcta.\n",
      "100%|██████████████████████████████████████| 1.94M/1.94M [00:00<00:00, 3.31MB/s]\n",
      "Successfully submitted to DMEyF 2024 TerceraEnviando: 10000\n",
      "La forma de 'clientes_enviados' es correcta.\n",
      "100%|██████████████████████████████████████| 1.94M/1.94M [00:00<00:00, 3.28MB/s]\n",
      "Successfully submitted to DMEyF 2024 TerceraEnviando: 11000\n",
      "La forma de 'clientes_enviados' es correcta.\n",
      "100%|██████████████████████████████████████| 1.94M/1.94M [00:00<00:00, 3.20MB/s]\n",
      "Successfully submitted to DMEyF 2024 TerceraEnviando: 12000\n",
      "La forma de 'clientes_enviados' es correcta.\n",
      "100%|██████████████████████████████████████| 1.94M/1.94M [00:00<00:00, 3.08MB/s]\n",
      "Successfully submitted to DMEyF 2024 TerceraEnviando: 13000\n",
      "La forma de 'clientes_enviados' es correcta.\n",
      "100%|██████████████████████████████████████| 1.94M/1.94M [00:00<00:00, 3.19MB/s]\n",
      "Successfully submitted to DMEyF 2024 TerceraEnviando: 14000\n",
      "La forma de 'clientes_enviados' es correcta.\n",
      "100%|██████████████████████████████████████| 1.94M/1.94M [00:00<00:00, 3.11MB/s]\n",
      "Successfully submitted to DMEyF 2024 TerceraEnviando: 15000\n",
      "La forma de 'clientes_enviados' es correcta.\n",
      "100%|██████████████████████████████████████| 1.94M/1.94M [00:00<00:00, 3.16MB/s]\n",
      "Successfully submitted to DMEyF 2024 TerceraEnviando: 16000\n",
      "La forma de 'clientes_enviados' es correcta.\n",
      "100%|██████████████████████████████████████| 1.94M/1.94M [00:00<00:00, 3.17MB/s]\n",
      "Successfully submitted to DMEyF 2024 Terceranum_leaves 156 learning_rate 0.03356010386318363 min_data_in_leaf 14 feature_fraction 0.7484330614229726 bagging_fraction 0.02299407577995452 objective binary metric custom boosting_type gbdt first_metric_only True boost_from_average True feature_pre_filter False max_bin 31 verbosity -1 seed 139\n",
      "         numero_de_cliente  Predicted\n",
      "234381           249221109          0\n",
      "703406           249221468          0\n",
      "4141563          249223005          0\n",
      "1987915          249232117          0\n",
      "2634530          249236712          0\n",
      "...                    ...        ...\n",
      "2233618         1606470344          0\n",
      "1686372         1606478730          0\n",
      "3262197         1606600592          0\n",
      "4691651         1606610942          0\n",
      "2157804         1606636903          0\n",
      "\n",
      "[165644 rows x 2 columns]\n"
     ]
    }
   ],
   "source": [
    "enviar_kaggle(y_pred_test, X_test)"
   ]
  },
  {
   "cell_type": "code",
   "execution_count": null,
   "metadata": {
    "colab": {
     "base_uri": "https://localhost:8080/"
    },
    "executionInfo": {
     "elapsed": 328160,
     "status": "ok",
     "timestamp": 1731388490438,
     "user": {
      "displayName": "Jose Chelquer",
      "userId": "09375279337890014087"
     },
     "user_tz": 180
    },
    "id": "1SxfAPnABA5d",
    "outputId": "564c9c50-b711-42ae-b249-09abbf5e98ef"
   },
   "outputs": [],
   "source": [
    "\n",
    "\n"
   ]
  },
  {
   "cell_type": "code",
   "execution_count": null,
   "metadata": {},
   "outputs": [],
   "source": []
  },
  {
   "cell_type": "code",
   "execution_count": null,
   "metadata": {},
   "outputs": [],
   "source": []
  }
 ],
 "metadata": {
  "colab": {
   "gpuType": "T4",
   "provenance": [
    {
     "file_id": "15Qja3yaIcGncom0zNctd584LW_maukON",
     "timestamp": 1730041694717
    },
    {
     "file_id": "1FPTZRsOUhcKFfbgSYW76KzbknDeILOWx",
     "timestamp": 1726524912160
    }
   ],
   "toc_visible": true
  },
  "kernelspec": {
   "display_name": "Python 3 (ipykernel)",
   "language": "python",
   "name": "python3"
  },
  "language_info": {
   "codemirror_mode": {
    "name": "ipython",
    "version": 3
   },
   "file_extension": ".py",
   "mimetype": "text/x-python",
   "name": "python",
   "nbconvert_exporter": "python",
   "pygments_lexer": "ipython3",
   "version": "3.12.3"
  }
 },
 "nbformat": 4,
 "nbformat_minor": 4
}
