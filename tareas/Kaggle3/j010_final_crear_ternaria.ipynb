{
 "cells": [
  {
   "cell_type": "markdown",
   "metadata": {
    "id": "d_xvJXPhCkMA"
   },
   "source": [
    "# Título   Crear clase ternaria\n",
    "Vn. usada para Kaggle3\n",
    "\n",
    "## Autor: Jose Chelquer\n",
    "## Fecha de última modificación: 26/11/2024\n",
    "\n",
    "Crear clase_ternaria a partir del crudo grabando otro dataset en formato parquet\n"
   ]
  },
  {
   "cell_type": "markdown",
   "metadata": {
    "id": "qRTSvXdLHkpB"
   },
   "source": [
    "## Parámetros\n",
    "\n",
    "< Descripción de cada uno de los parámetros que utiliza el job >\n"
   ]
  },
  {
   "cell_type": "code",
   "execution_count": 1,
   "metadata": {
    "id": "yMU00Fl7IIfm"
   },
   "outputs": [],
   "source": [
    "\n",
    "usar_gdrive=False    # Poner en true si se va a ejecutar con archivos de google drive"
   ]
  },
  {
   "cell_type": "markdown",
   "metadata": {
    "id": "sH5VivJSIM42"
   },
   "source": [
    "## Input\n",
    "\n",
    "< Archivos de datos (csv.gz) con sus paths que van a consumirse por el job>"
   ]
  },
  {
   "cell_type": "code",
   "execution_count": 2,
   "metadata": {
    "id": "MEk4Fj7VIv7g"
   },
   "outputs": [],
   "source": [
    "dataset_path = '~/buckets/b1/datasets'\n",
    "dataset_file = 'competencia_03_crudo.csv.gz'"
   ]
  },
  {
   "cell_type": "markdown",
   "metadata": {
    "id": "fQ6MUhENI0Ya"
   },
   "source": [
    "## Output\n",
    "\n",
    "< Archivos, bases de datos, modelos que va a generar el job>"
   ]
  },
  {
   "cell_type": "code",
   "execution_count": 3,
   "metadata": {
    "id": "ZT3kxlkFIv4p"
   },
   "outputs": [],
   "source": [
    "# si no se quiere usar parquet.gz hay que cambiar la parte de grabación\n",
    "output_file='k3_____.parquet.gz'\n"
   ]
  },
  {
   "cell_type": "code",
   "execution_count": 4,
   "metadata": {
    "id": "NtIT33WnJFx-"
   },
   "outputs": [],
   "source": [
    "## Procesos"
   ]
  },
  {
   "cell_type": "markdown",
   "metadata": {
    "id": "iVe0GO1IJHtI"
   },
   "source": [
    "### Paquetes necesarios"
   ]
  },
  {
   "cell_type": "code",
   "execution_count": null,
   "metadata": {
    "id": "O2VG2xS_Ivq3"
   },
   "outputs": [],
   "source": []
  },
  {
   "cell_type": "markdown",
   "metadata": {
    "id": "0LM2kY_WJj15"
   },
   "source": [
    "## Código del proceso\n",
    "\n",
    "< Todo el código a partir de aquí debe poder ejecutarse sin necesidad de parametrizar nada>"
   ]
  },
  {
   "cell_type": "code",
   "execution_count": 11,
   "metadata": {
    "id": "Nr6BNGDUJkWd"
   },
   "outputs": [],
   "source": [
    "import os\n",
    "import pandas as pd\n",
    "import numpy as np"
   ]
  },
  {
   "cell_type": "code",
   "execution_count": 6,
   "metadata": {
    "id": "g2aU4iUS6KGt"
   },
   "outputs": [],
   "source": [
    "if usar_gdrive:\n",
    "    from google.colab import drive\n",
    "    drive.mount('/content/drive')"
   ]
  },
  {
   "cell_type": "code",
   "execution_count": 7,
   "metadata": {
    "id": "hKYQsczX6KGt",
    "outputId": "d93b0faa-6e65-4759-cb65-2243a3819e31"
   },
   "outputs": [
    {
     "name": "stdout",
     "output_type": "stream",
     "text": [
      "Leyendo ~/buckets/b1/datasets/competencia_03_crudo.csv.gz\n"
     ]
    },
    {
     "data": {
      "text/plain": [
       "(4901237, 154)"
      ]
     },
     "execution_count": 7,
     "metadata": {},
     "output_type": "execute_result"
    }
   ],
   "source": [
    "# leer el dataset\n",
    "\n",
    "file_path = os.path.join(dataset_path, dataset_file)\n",
    "print (f'Leyendo {file_path}')\n",
    "# Read the CSV file into a DataFrame\n",
    "df = pd.read_csv(file_path)\n",
    "df.shape"
   ]
  },
  {
   "cell_type": "code",
   "execution_count": 8,
   "metadata": {
    "id": "h-f7-w7Y6KGu"
   },
   "outputs": [],
   "source": [
    "# Dado un mes en formato aaaamm y una cantidad de meses\n",
    "# devuelve el mes a distancia meses de mes\n",
    "def sig_mes(mes, meses):\n",
    "  aaaa=mes//100\n",
    "  mm=mes%100+meses\n",
    "  aExtra=(mm-1)//12\n",
    "  mm=mm-12*aExtra\n",
    "  return (aaaa+aExtra)*100+mm\n"
   ]
  },
  {
   "cell_type": "code",
   "execution_count": 13,
   "metadata": {},
   "outputs": [
    {
     "name": "stdout",
     "output_type": "stream",
     "text": [
      "201901 201902 201903\n",
      "201902 201903 201904\n",
      "201903 201904 201905\n",
      "201904 201905 201906\n",
      "201905 201906 201907\n",
      "201906 201907 201908\n",
      "201907 201908 201909\n",
      "201908 201909 201910\n",
      "201909 201910 201911\n",
      "201910 201911 201912\n",
      "201911 201912 202001\n",
      "201912 202001 202002\n",
      "202001 202002 202003\n",
      "202002 202003 202004\n",
      "202003 202004 202005\n",
      "202004 202005 202006\n",
      "202005 202006 202007\n",
      "202006 202007 202008\n",
      "202007 202008 202009\n",
      "202008 202009 202010\n",
      "202009 202010 202011\n",
      "202010 202011 202012\n",
      "202011 202012 202101\n",
      "202012 202101 202102\n",
      "202101 202102 202103\n",
      "202102 202103 202104\n",
      "202103 202104 202105\n",
      "202104 202105 202106\n",
      "202105 202106 202107\n",
      "202106 202107 202108\n",
      "202107 202108 202109\n",
      "202108 202109 202110\n",
      "202109 202110 202111\n"
     ]
    }
   ],
   "source": [
    "# Convertir a una lista de tuplas\n",
    "meses=np.sort(df['foto_mes'].unique())\n",
    "for mes in meses:\n",
    "    print (mes, sig_mes(mes,1), sig_mes(mes, 2))\n"
   ]
  },
  {
   "cell_type": "code",
   "execution_count": 14,
   "metadata": {
    "id": "JVDnZ5P46KGu"
   },
   "outputs": [],
   "source": [
    "df[\"cli_mes\"]=df[\"numero_de_cliente\"].astype(str)+df[\"foto_mes\"].astype(str)\n",
    "df[\"cli_mesMas1\"]=df[\"numero_de_cliente\"].astype(str)+df[\"foto_mes\"].apply(lambda x: sig_mes(x, 1)).astype(str)\n",
    "df[\"cli_mesMas2\"]=df[\"numero_de_cliente\"].astype(str)+df[\"foto_mes\"].apply(lambda x: sig_mes(x, 2)).astype(str)"
   ]
  },
  {
   "cell_type": "code",
   "execution_count": 15,
   "metadata": {
    "id": "QEKg8Yer6KGv",
    "outputId": "1768cf49-911f-4dfd-b5ae-6df580046864"
   },
   "outputs": [
    {
     "name": "stdout",
     "output_type": "stream",
     "text": [
      "Detectando existe1 y existe2\n"
     ]
    }
   ],
   "source": [
    "print (f'Detectando existe1 y existe2')\n",
    "df1=df['cli_mes']   #sólo las columnas del cliente\n",
    "# Realiza la unión entre df y df1\n",
    "resultado = df.merge(df1, left_on='cli_mesMas1', right_on='cli_mes', how='left', indicator=True)\n",
    "df['existe1'] = resultado['_merge'] == 'both'\n",
    "resultado = df.merge(df1, left_on='cli_mesMas2', right_on='cli_mes', how='left', indicator=True)\n",
    "df['existe2'] = resultado['_merge'] == 'both'\n"
   ]
  },
  {
   "cell_type": "code",
   "execution_count": 16,
   "metadata": {
    "id": "ghVTA1uX6KGv",
    "outputId": "002d2a83-c991-4046-eded-4c59308c199d"
   },
   "outputs": [
    {
     "name": "stdout",
     "output_type": "stream",
     "text": [
      "Creando clase ternaria\n"
     ]
    }
   ],
   "source": [
    "print (f'Creando clase ternaria')\n",
    "df[ \"clase_ternaria\"]=\"CONTINUA\"          #default\n",
    "df.loc[df[\"existe2\"]==False, \"clase_ternaria\"]=\"BAJA+2\"\n",
    "df.loc[df[\"existe1\"]==False, \"clase_ternaria\"]=\"BAJA+1\"\n",
    "df.loc[df[\"existe2\"]==True, \"clase_ternaria\"]=\"CONTINUA\""
   ]
  },
  {
   "cell_type": "code",
   "execution_count": 17,
   "metadata": {
    "id": "kU6NKIaT6KGv",
    "outputId": "74f1bb2b-1aa8-45b6-e94a-e9fc3243afb8"
   },
   "outputs": [
    {
     "name": "stdout",
     "output_type": "stream",
     "text": [
      "Eliminando campos creados\n"
     ]
    }
   ],
   "source": [
    "# Eliminar los campos creados\n",
    "print (f'Eliminando campos creados')\n",
    "df = df.drop(columns=['cli_mes', 'cli_mesMas1', 'cli_mesMas2', 'existe1', 'existe2'])"
   ]
  },
  {
   "cell_type": "code",
   "execution_count": 18,
   "metadata": {
    "id": "YuVZEnbITOPn",
    "outputId": "f76eb967-c82c-4119-bf76-0efff35750b8"
   },
   "outputs": [
    {
     "data": {
      "text/plain": [
       "clase_ternaria\n",
       "CONTINUA    4528247\n",
       "BAJA+1       187609\n",
       "BAJA+2       185381\n",
       "Name: count, dtype: int64"
      ]
     },
     "execution_count": 18,
     "metadata": {},
     "output_type": "execute_result"
    }
   ],
   "source": [
    "df['clase_ternaria'].value_counts()"
   ]
  },
  {
   "cell_type": "code",
   "execution_count": 19,
   "metadata": {
    "id": "fKiUzua36KGw",
    "outputId": "99c4a108-55b3-49e3-ca89-27af7230176e"
   },
   "outputs": [
    {
     "data": {
      "text/plain": [
       "4901237"
      ]
     },
     "execution_count": 19,
     "metadata": {},
     "output_type": "execute_result"
    }
   ],
   "source": [
    "df.shape[0]"
   ]
  },
  {
   "cell_type": "code",
   "execution_count": 20,
   "metadata": {
    "id": "caMWdZLY6KGv",
    "outputId": "ff292bd0-7426-440f-f37f-d2749a1b03ac"
   },
   "outputs": [
    {
     "name": "stdout",
     "output_type": "stream",
     "text": [
      "Guardando el archivo de salida\n",
      "El archivo ha sido guardado en: ~/buckets/b1/datasets/k3_____.parquet.gz\n"
     ]
    }
   ],
   "source": [
    "ruta_nuevo_archivo = os.path.join(dataset_path, output_file)\n",
    "# Guarda el DataFrame en el nuevo archivo\n",
    "print (f'Guardando el archivo de salida')\n",
    "df.to_parquet(ruta_nuevo_archivo, index=False, compression='gzip')\n",
    "print(f\"El archivo ha sido guardado en: {ruta_nuevo_archivo}\")"
   ]
  },
  {
   "cell_type": "code",
   "execution_count": null,
   "metadata": {},
   "outputs": [],
   "source": []
  }
 ],
 "metadata": {
  "colab": {
   "provenance": []
  },
  "kernelspec": {
   "display_name": "Python 3 (ipykernel)",
   "language": "python",
   "name": "python3"
  },
  "language_info": {
   "codemirror_mode": {
    "name": "ipython",
    "version": 3
   },
   "file_extension": ".py",
   "mimetype": "text/x-python",
   "name": "python",
   "nbconvert_exporter": "python",
   "pygments_lexer": "ipython3",
   "version": "3.12.3"
  }
 },
 "nbformat": 4,
 "nbformat_minor": 4
}
