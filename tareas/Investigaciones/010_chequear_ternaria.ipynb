{
 "cells": [
  {
   "cell_type": "markdown",
   "metadata": {
    "id": "d_xvJXPhCkMA"
   },
   "source": [
    "\n",
    "\n",
    "# Título   Chequear ternaria\n",
    "\n",
    "## Autor: Jose Chelquer\n",
    "## Fecha de última modificación: 22/10/2025\n",
    "## Descripción:\n",
    "\n",
    "Chequear en un número de filas si fueron bien clasificadas en clase_ternaria"
   ]
  },
  {
   "cell_type": "markdown",
   "metadata": {
    "id": "qRTSvXdLHkpB"
   },
   "source": [
    "## Parámetros\n",
    "\n",
    "< Descripción de cada uno de los parámetros que utiliza el job >\n"
   ]
  },
  {
   "cell_type": "code",
   "execution_count": 24,
   "metadata": {
    "id": "yMU00Fl7IIfm"
   },
   "outputs": [],
   "source": [
    "\n",
    "usar_gdrive=False    # Poner en true si se va a ejecutar con archivos de google drive\n",
    "\n",
    "casos_a_chequear=1000     # cantidad de filas a chequear\n",
    "\n",
    "#verbose=0       # Sólo muestra cantidad de errores\n",
    "verbose=1       # Sölo muestra los errores\n",
    "#verbose=2       # Muestra todos los casos analizados"
   ]
  },
  {
   "cell_type": "markdown",
   "metadata": {
    "id": "sH5VivJSIM42"
   },
   "source": [
    "## Input\n",
    "\n",
    "< Archivos de datos (csv.gz) con sus paths que van a consumirse por el job>"
   ]
  },
  {
   "cell_type": "code",
   "execution_count": 2,
   "metadata": {
    "id": "MEk4Fj7VIv7g"
   },
   "outputs": [],
   "source": [
    "dataset_path = '~/buckets/b1/datasets'\n",
    "dataset_file = 'competencia_02.csv.gz'"
   ]
  },
  {
   "cell_type": "markdown",
   "metadata": {
    "id": "fQ6MUhENI0Ya"
   },
   "source": [
    "## Output\n",
    "\n",
    "< Archivos, bases de datos, modelos que va a generar el job>"
   ]
  },
  {
   "cell_type": "code",
   "execution_count": 3,
   "metadata": {
    "id": "ZT3kxlkFIv4p"
   },
   "outputs": [],
   "source": [
    "#output_file='competencia_02.csv.gz'\n"
   ]
  },
  {
   "cell_type": "code",
   "execution_count": 4,
   "metadata": {
    "id": "NtIT33WnJFx-"
   },
   "outputs": [],
   "source": [
    "## Procesos"
   ]
  },
  {
   "cell_type": "markdown",
   "metadata": {
    "id": "iVe0GO1IJHtI"
   },
   "source": [
    "### Paquetes necesarios"
   ]
  },
  {
   "cell_type": "markdown",
   "metadata": {
    "id": "0LM2kY_WJj15"
   },
   "source": [
    "## Código del proceso\n",
    "\n",
    "< Todo el código a partir de aquí debe poder ejecutarse sin necesidad de parametrizar nada>"
   ]
  },
  {
   "cell_type": "code",
   "execution_count": 5,
   "metadata": {
    "id": "Nr6BNGDUJkWd"
   },
   "outputs": [],
   "source": [
    "import os\n",
    "import pandas as pd"
   ]
  },
  {
   "cell_type": "code",
   "execution_count": 6,
   "metadata": {
    "id": "5aCOIpXFR-bw"
   },
   "outputs": [],
   "source": [
    "if usar_gdrive:\n",
    "    from google.colab import drive\n",
    "    drive.mount('/content/drive')"
   ]
  },
  {
   "cell_type": "code",
   "execution_count": 7,
   "metadata": {
    "id": "oSenElPtR-bw",
    "outputId": "6ee41622-d63f-438b-b0ba-af1ab2070a66"
   },
   "outputs": [
    {
     "name": "stdout",
     "output_type": "stream",
     "text": [
      "Leyendo ~/buckets/b1/datasets/competencia_02.csv.gz\n"
     ]
    },
    {
     "data": {
      "text/plain": [
       "(4735593, 155)"
      ]
     },
     "execution_count": 7,
     "metadata": {},
     "output_type": "execute_result"
    }
   ],
   "source": [
    "# leer el dataset\n",
    "\n",
    "file_path = os.path.join(dataset_path, dataset_file)\n",
    "print (f'Leyendo {file_path}')\n",
    "# Read the CSV file into a DataFrame\n",
    "df = pd.read_csv(file_path)\n",
    "\n",
    "df.shape"
   ]
  },
  {
   "cell_type": "code",
   "execution_count": 9,
   "metadata": {
    "id": "4BrVo5qiR-bx"
   },
   "outputs": [],
   "source": [
    "# Dado un mes en formato aaaamm y una cantidad de meses\n",
    "# devuelve el mes a distancia meses de mes\n",
    "def sig_mes(mes, meses):\n",
    "  aaaa=mes//100\n",
    "  mm=mes%100+meses\n",
    "  aExtra=(mm-1)//12\n",
    "  mm=mm-12*aExtra\n",
    "  return (aaaa+aExtra)*100+mm\n"
   ]
  },
  {
   "cell_type": "code",
   "execution_count": 21,
   "metadata": {
    "id": "dO2Y7-4vR-bx"
   },
   "outputs": [
    {
     "data": {
      "text/plain": [
       "clase_ternaria\n",
       "CONTINUA    787\n",
       "BAJA+1      111\n",
       "BAJA+2      102\n",
       "Name: count, dtype: int64"
      ]
     },
     "execution_count": 21,
     "metadata": {},
     "output_type": "execute_result"
    }
   ],
   "source": [
    "columnas_de_interes = ['numero_de_cliente', 'foto_mes', 'clase_ternaria']\n",
    "\n",
    "# Obtener una muestra aleatoria (puedes especificar el tamaño de la muestra con n)\n",
    "df=df[columnas_de_interes]\n",
    "muestra = df.sample(n=casos_a_chequear)\n",
    "muestra['clase_ternaria'].value_counts()"
   ]
  },
  {
   "cell_type": "code",
   "execution_count": 22,
   "metadata": {
    "id": "cjo-P5c8R-by",
    "outputId": "75fb879d-afdc-4644-e493-c5dfc1367bba"
   },
   "outputs": [],
   "source": [
    "def chequear_fila (fila, df):\n",
    "  clase_ternaria=fila['clase_ternaria']\n",
    "  numero_de_cliente=fila['numero_de_cliente']\n",
    "  mes=fila['foto_mes']\n",
    "  mes_mas_1=sig_mes(mes, 1)\n",
    "  mes_mas_2=sig_mes(mes, 2)\n",
    "  existe1=df[(df['numero_de_cliente']==numero_de_cliente) & (df['foto_mes']==mes_mas_1)].shape[0]>0\n",
    "  existe2=df[(df['numero_de_cliente']==numero_de_cliente) & (df['foto_mes']==mes_mas_2)].shape[0]>0\n",
    "  if clase_ternaria=='CONTINUA':\n",
    "    ok=existe1 and existe2\n",
    "  elif clase_ternaria=='BAJA+1':\n",
    "    ok=not existe1\n",
    "  elif clase_ternaria=='BAJA+2':\n",
    "    ok=existe1 and not existe2\n",
    "  else:\n",
    "    ok=False\n",
    "  mensaje=f'Clte: {numero_de_cliente} {clase_ternaria} ok: {ok}   ex1: {existe1} ex2: {existe2}'\n",
    "  return (ok, mensaje)"
   ]
  },
  {
   "cell_type": "code",
   "execution_count": 25,
   "metadata": {
    "id": "NqIPLIzIR-by",
    "outputId": "ee9f1e00-bfcf-425c-92ee-a488712e3de9"
   },
   "outputs": [
    {
     "name": "stdout",
     "output_type": "stream",
     "text": [
      "11 Clte: 875855876 BAJA+1 ok: False   ex1: True ex2: True\n",
      "13 Clte: 621958040 BAJA+2 ok: False   ex1: True ex2: True\n",
      "27 Clte: 1208133168 BAJA+2 ok: False   ex1: True ex2: True\n",
      "39 Clte: 594804307 BAJA+1 ok: False   ex1: True ex2: True\n",
      "49 Clte: 516187616 BAJA+1 ok: False   ex1: True ex2: True\n",
      "57 Clte: 512086494 BAJA+1 ok: False   ex1: True ex2: True\n",
      "63 Clte: 1027307302 BAJA+2 ok: False   ex1: True ex2: True\n",
      "68 Clte: 571894045 BAJA+1 ok: False   ex1: True ex2: True\n",
      "72 Clte: 1197261344 BAJA+1 ok: False   ex1: True ex2: True\n",
      "77 Clte: 895338195 BAJA+1 ok: False   ex1: True ex2: True\n",
      "87 Clte: 432297426 BAJA+2 ok: False   ex1: True ex2: True\n",
      "95 Clte: 560646438 BAJA+1 ok: False   ex1: True ex2: True\n",
      "97 Clte: 620625005 BAJA+1 ok: False   ex1: True ex2: True\n",
      "131 Clte: 788608930 BAJA+2 ok: False   ex1: True ex2: True\n",
      "132 Clte: 271687382 BAJA+1 ok: False   ex1: True ex2: True\n",
      "156 Clte: 794242174 BAJA+2 ok: False   ex1: True ex2: True\n",
      "165 Clte: 1163639855 BAJA+2 ok: False   ex1: True ex2: True\n",
      "176 Clte: 1082496897 BAJA+2 ok: False   ex1: True ex2: True\n",
      "185 Clte: 1182579303 BAJA+1 ok: False   ex1: True ex2: True\n",
      "198 Clte: 351181744 BAJA+1 ok: False   ex1: True ex2: True\n",
      "216 Clte: 1458989211 BAJA+2 ok: False   ex1: True ex2: True\n",
      "220 Clte: 568513224 BAJA+2 ok: False   ex1: True ex2: True\n",
      "222 Clte: 1051717449 BAJA+1 ok: False   ex1: True ex2: True\n",
      "248 Clte: 1007823523 BAJA+2 ok: False   ex1: True ex2: True\n",
      "281 Clte: 671963906 BAJA+1 ok: False   ex1: True ex2: True\n",
      "285 Clte: 257302593 BAJA+2 ok: False   ex1: True ex2: True\n",
      "294 Clte: 678222660 BAJA+2 ok: False   ex1: True ex2: True\n",
      "299 Clte: 602629889 BAJA+2 ok: False   ex1: True ex2: True\n",
      "307 Clte: 816526354 BAJA+2 ok: False   ex1: True ex2: True\n",
      "314 Clte: 644581624 BAJA+2 ok: False   ex1: True ex2: True\n",
      "315 Clte: 605198163 BAJA+1 ok: False   ex1: True ex2: True\n",
      "326 Clte: 1052290730 BAJA+1 ok: False   ex1: True ex2: True\n",
      "327 Clte: 512399715 BAJA+2 ok: False   ex1: True ex2: True\n",
      "330 Clte: 586265563 BAJA+1 ok: False   ex1: True ex2: True\n",
      "335 Clte: 1019927230 BAJA+1 ok: False   ex1: True ex2: True\n",
      "337 Clte: 341152014 BAJA+2 ok: False   ex1: True ex2: True\n",
      "344 Clte: 350446644 BAJA+2 ok: False   ex1: True ex2: True\n",
      "348 Clte: 816194901 BAJA+2 ok: False   ex1: True ex2: True\n",
      "365 Clte: 1161947656 BAJA+1 ok: False   ex1: True ex2: True\n",
      "369 Clte: 1178637593 BAJA+1 ok: False   ex1: True ex2: True\n",
      "394 Clte: 1383068932 BAJA+2 ok: False   ex1: True ex2: True\n",
      "400 Clte: 325254061 BAJA+2 ok: False   ex1: True ex2: True\n",
      "402 Clte: 1450137545 BAJA+2 ok: False   ex1: True ex2: True\n",
      "412 Clte: 1101076310 BAJA+1 ok: False   ex1: True ex2: True\n",
      "429 Clte: 943864739 BAJA+2 ok: False   ex1: True ex2: True\n",
      "459 Clte: 553733531 BAJA+1 ok: False   ex1: True ex2: True\n",
      "462 Clte: 1194056057 BAJA+1 ok: False   ex1: True ex2: True\n",
      "468 Clte: 705802432 BAJA+1 ok: False   ex1: True ex2: True\n",
      "487 Clte: 861295552 BAJA+2 ok: False   ex1: True ex2: True\n",
      "493 Clte: 848503415 BAJA+2 ok: False   ex1: True ex2: True\n",
      "497 Clte: 474592569 BAJA+2 ok: False   ex1: True ex2: True\n",
      "499 Clte: 267066071 BAJA+2 ok: False   ex1: True ex2: True\n",
      "506 Clte: 1233949707 BAJA+1 ok: False   ex1: True ex2: True\n",
      "511 Clte: 276083134 BAJA+2 ok: False   ex1: True ex2: True\n",
      "527 Clte: 514317406 BAJA+2 ok: False   ex1: True ex2: True\n",
      "557 Clte: 816510598 BAJA+1 ok: False   ex1: True ex2: True\n",
      "559 Clte: 462108041 BAJA+1 ok: False   ex1: True ex2: True\n",
      "562 Clte: 1212645308 BAJA+1 ok: False   ex1: True ex2: True\n",
      "571 Clte: 607657700 BAJA+2 ok: False   ex1: True ex2: True\n",
      "573 Clte: 730123313 BAJA+1 ok: False   ex1: True ex2: True\n",
      "576 Clte: 674346586 BAJA+1 ok: False   ex1: True ex2: True\n",
      "581 Clte: 496190727 BAJA+1 ok: False   ex1: True ex2: True\n",
      "593 Clte: 1137981703 BAJA+2 ok: False   ex1: True ex2: True\n",
      "606 Clte: 274456058 BAJA+2 ok: False   ex1: True ex2: True\n",
      "607 Clte: 708871860 BAJA+1 ok: False   ex1: True ex2: True\n",
      "609 Clte: 1106499093 BAJA+1 ok: False   ex1: True ex2: True\n",
      "615 Clte: 836599384 BAJA+1 ok: False   ex1: True ex2: True\n",
      "618 Clte: 293256146 BAJA+1 ok: False   ex1: True ex2: True\n",
      "631 Clte: 479818016 BAJA+1 ok: False   ex1: True ex2: True\n",
      "632 Clte: 287868078 BAJA+2 ok: False   ex1: True ex2: True\n",
      "635 Clte: 347513297 BAJA+2 ok: False   ex1: True ex2: True\n",
      "656 Clte: 989246518 BAJA+1 ok: False   ex1: True ex2: True\n",
      "661 Clte: 914873170 BAJA+2 ok: False   ex1: True ex2: True\n",
      "697 Clte: 457729429 BAJA+1 ok: False   ex1: True ex2: True\n",
      "701 Clte: 264487148 BAJA+1 ok: False   ex1: True ex2: True\n",
      "704 Clte: 1065139742 BAJA+2 ok: False   ex1: True ex2: True\n",
      "715 Clte: 572447420 BAJA+2 ok: False   ex1: True ex2: True\n",
      "736 Clte: 631076768 BAJA+2 ok: False   ex1: True ex2: True\n",
      "742 Clte: 306369310 BAJA+1 ok: False   ex1: True ex2: True\n",
      "753 Clte: 1068819061 BAJA+1 ok: False   ex1: True ex2: True\n",
      "754 Clte: 493399293 BAJA+1 ok: False   ex1: True ex2: True\n",
      "755 Clte: 680115261 BAJA+2 ok: False   ex1: True ex2: True\n",
      "757 Clte: 490499421 BAJA+1 ok: False   ex1: True ex2: True\n",
      "759 Clte: 317406967 BAJA+2 ok: False   ex1: True ex2: True\n",
      "762 Clte: 249758583 BAJA+1 ok: False   ex1: True ex2: True\n",
      "770 Clte: 1440150617 BAJA+2 ok: False   ex1: True ex2: True\n",
      "772 Clte: 267473075 BAJA+1 ok: False   ex1: True ex2: True\n",
      "775 Clte: 1167159097 BAJA+1 ok: False   ex1: True ex2: True\n",
      "786 Clte: 597356748 BAJA+1 ok: False   ex1: True ex2: True\n",
      "795 Clte: 552091656 BAJA+1 ok: False   ex1: True ex2: True\n",
      "797 Clte: 845135130 BAJA+2 ok: False   ex1: True ex2: True\n",
      "809 Clte: 819168941 BAJA+1 ok: False   ex1: True ex2: True\n",
      "818 Clte: 651166638 BAJA+2 ok: False   ex1: True ex2: True\n",
      "823 Clte: 1343333233 BAJA+1 ok: False   ex1: True ex2: True\n",
      "825 Clte: 797122285 BAJA+2 ok: False   ex1: True ex2: True\n",
      "827 Clte: 782853080 BAJA+2 ok: False   ex1: True ex2: True\n",
      "837 Clte: 891085962 BAJA+1 ok: False   ex1: True ex2: True\n",
      "838 Clte: 340664934 BAJA+1 ok: False   ex1: True ex2: True\n",
      "839 Clte: 917528951 BAJA+1 ok: False   ex1: True ex2: True\n",
      "848 Clte: 966540535 BAJA+1 ok: False   ex1: True ex2: True\n",
      "853 Clte: 609205143 BAJA+2 ok: False   ex1: True ex2: True\n",
      "865 Clte: 437710217 BAJA+2 ok: False   ex1: True ex2: True\n",
      "869 Clte: 273773537 BAJA+1 ok: False   ex1: True ex2: True\n",
      "876 Clte: 628250116 BAJA+1 ok: False   ex1: True ex2: True\n",
      "879 Clte: 543582161 BAJA+1 ok: False   ex1: True ex2: True\n",
      "883 Clte: 677690139 BAJA+2 ok: False   ex1: True ex2: True\n",
      "888 Clte: 924188509 BAJA+2 ok: False   ex1: True ex2: True\n",
      "893 Clte: 891824931 BAJA+2 ok: False   ex1: True ex2: True\n",
      "897 Clte: 945879271 BAJA+1 ok: False   ex1: True ex2: True\n",
      "906 Clte: 777066762 BAJA+1 ok: False   ex1: True ex2: True\n",
      "907 Clte: 893608873 BAJA+1 ok: False   ex1: True ex2: True\n",
      "922 Clte: 690318416 BAJA+2 ok: False   ex1: True ex2: True\n",
      "926 Clte: 465484277 BAJA+2 ok: False   ex1: True ex2: True\n",
      "928 Clte: 620596200 BAJA+2 ok: False   ex1: True ex2: True\n",
      "929 Clte: 352552414 BAJA+2 ok: False   ex1: True ex2: True\n",
      "941 Clte: 988762358 BAJA+1 ok: False   ex1: True ex2: True\n",
      "942 Clte: 849739524 BAJA+1 ok: False   ex1: True ex2: True\n",
      "944 Clte: 328027331 BAJA+1 ok: False   ex1: True ex2: True\n",
      "952 Clte: 527942800 BAJA+1 ok: False   ex1: True ex2: True\n",
      "962 Clte: 688472553 BAJA+1 ok: False   ex1: True ex2: True\n",
      "970 Clte: 590741025 BAJA+2 ok: False   ex1: True ex2: True\n",
      "976 Clte: 299831614 BAJA+2 ok: False   ex1: True ex2: True\n",
      "981 Clte: 1214964093 BAJA+2 ok: False   ex1: True ex2: True\n",
      "987 Clte: 1307376469 BAJA+1 ok: False   ex1: True ex2: True\n",
      "988 Clte: 281423004 BAJA+1 ok: False   ex1: True ex2: True\n"
     ]
    }
   ],
   "source": [
    "num=0\n",
    "errores=0\n",
    "for index, fila in muestra.iterrows():\n",
    "  num=num+1\n",
    "  ok, mensaje=chequear_fila(fila, df)\n",
    "  if verbose==2 or (verbose==1 and not ok):\n",
    "      print (num, mensaje)\n",
    "  if not ok:\n",
    "    errores=errores+1\n"
   ]
  },
  {
   "cell_type": "code",
   "execution_count": null,
   "metadata": {
    "id": "BaEdxJKsUYn4"
   },
   "outputs": [],
   "source": [
    "errores"
   ]
  },
  {
   "cell_type": "code",
   "execution_count": null,
   "metadata": {
    "id": "aKEEL0xTR-by",
    "outputId": "a2b2990b-348e-41d8-8ce3-78159cf02646"
   },
   "outputs": [
    {
     "name": "stdout",
     "output_type": "stream",
     "text": [
      "Eliminando campos creados\n"
     ]
    }
   ],
   "source": [
    "# Eliminar los campos creados\n",
    "print (f'Eliminando campos creados')\n",
    "df = df.drop(columns=['cli_mes', 'cli_mesMas1', 'cli_mesMas2', 'existe1', 'existe2'])"
   ]
  },
  {
   "cell_type": "code",
   "execution_count": null,
   "metadata": {
    "id": "xZ60n1l1R-bz",
    "outputId": "ce257664-1d7a-4de8-8de3-4a9450aaacb6"
   },
   "outputs": [
    {
     "name": "stdout",
     "output_type": "stream",
     "text": [
      "Guardando el archivo de salida\n",
      "El archivo ha sido guardado en: ~/buckets/b1/datasets/competencia_02.csv.gz\n"
     ]
    }
   ],
   "source": [
    "ruta_nuevo_archivo = os.path.join(dataset_path, output_file)\n",
    "# Guarda el DataFrame en el nuevo archivo\n",
    "print (f'Guardando el archivo de salida')\n",
    "df.to_csv(ruta_nuevo_archivo, index=False, compression='gzip')\n",
    "print(f\"El archivo ha sido guardado en: {ruta_nuevo_archivo}\")"
   ]
  },
  {
   "cell_type": "code",
   "execution_count": null,
   "metadata": {
    "id": "53940WXbR-bz",
    "outputId": "11144721-1e12-43ed-bcc9-d35423ce3e49"
   },
   "outputs": [
    {
     "data": {
      "text/plain": [
       "clase_ternaria\n",
       "CONTINUA    3768977\n",
       "BAJA+1       486920\n",
       "BAJA+2       479696\n",
       "Name: count, dtype: int64"
      ]
     },
     "execution_count": 21,
     "metadata": {},
     "output_type": "execute_result"
    }
   ],
   "source": [
    "df['clase_ternaria'].value_counts()"
   ]
  },
  {
   "cell_type": "code",
   "execution_count": null,
   "metadata": {
    "id": "lU5FDeJwR-bz",
    "outputId": "0807f159-78c5-42fb-a890-6e225e4032dc"
   },
   "outputs": [
    {
     "data": {
      "text/plain": [
       "4735593"
      ]
     },
     "execution_count": 22,
     "metadata": {},
     "output_type": "execute_result"
    }
   ],
   "source": [
    "df.shape[0]"
   ]
  },
  {
   "cell_type": "code",
   "execution_count": null,
   "metadata": {
    "id": "HUgToQXDR-b0"
   },
   "outputs": [],
   "source": []
  }
 ],
 "metadata": {
  "colab": {
   "provenance": [
    {
     "file_id": "1jd9WnDVZv-J1kc-JeTJud8N2Ft_M6Snm",
     "timestamp": 1729635023041
    }
   ]
  },
  "kernelspec": {
   "display_name": "Python 3 (ipykernel)",
   "language": "python",
   "name": "python3"
  },
  "language_info": {
   "codemirror_mode": {
    "name": "ipython",
    "version": 3
   },
   "file_extension": ".py",
   "mimetype": "text/x-python",
   "name": "python",
   "nbconvert_exporter": "python",
   "pygments_lexer": "ipython3",
   "version": "3.12.3"
  }
 },
 "nbformat": 4,
 "nbformat_minor": 4
}
