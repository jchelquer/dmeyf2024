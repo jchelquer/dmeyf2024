{
 "cells": [
  {
   "cell_type": "markdown",
   "metadata": {
    "id": "d_xvJXPhCkMA"
   },
   "source": [
    "# Título   Crear clase ternaria con duckdb\n",
    "## Autor: Jose Chelquer\n",
    "## Fecha de última modificación: 23/10/2025\n",
    "## Descripción:\n",
    "\n",
    "Crear clase ternaria usando duckdb"
   ]
  },
  {
   "cell_type": "markdown",
   "metadata": {
    "id": "qRTSvXdLHkpB"
   },
   "source": [
    "## Parámetros\n",
    "\n",
    "< Descripción de cada uno de los parámetros que utiliza el job >\n"
   ]
  },
  {
   "cell_type": "code",
   "execution_count": 7,
   "metadata": {
    "executionInfo": {
     "elapsed": 324,
     "status": "ok",
     "timestamp": 1729728605158,
     "user": {
      "displayName": "Jose Chelquer",
      "userId": "09375279337890014087"
     },
     "user_tz": 180
    },
    "id": "yMU00Fl7IIfm"
   },
   "outputs": [],
   "source": [
    "#usar_gdrive=True    # Poner en true si se va a ejecutar con archivos de google drive en máquinas locales\n",
    "usar_gdrive=False"
   ]
  },
  {
   "cell_type": "markdown",
   "metadata": {
    "id": "sH5VivJSIM42"
   },
   "source": [
    "## Input\n",
    "\n",
    "< Archivos de datos (csv.gz) con sus paths que van a consumirse por el job>"
   ]
  },
  {
   "cell_type": "code",
   "execution_count": 35,
   "metadata": {
    "executionInfo": {
     "elapsed": 12,
     "status": "ok",
     "timestamp": 1729728605506,
     "user": {
      "displayName": "Jose Chelquer",
      "userId": "09375279337890014087"
     },
     "user_tz": 180
    },
    "id": "MEk4Fj7VIv7g"
   },
   "outputs": [],
   "source": [
    "#dataset_path='/content/drive/MyDrive/Data Science y similares/Maestría Data Mining Exactas/dmeyf/dmeyf2024/datasets/'\n",
    "dataset_path = '~/buckets/b1/datasets'\n",
    "#dataset_file='competencia_01.csv'\n",
    "dataset_file = 'competencia_02_crudo.csv.gz'"
   ]
  },
  {
   "cell_type": "markdown",
   "metadata": {
    "id": "fQ6MUhENI0Ya"
   },
   "source": [
    "## Output\n",
    "\n",
    "< Archivos, bases de datos, modelos que va a generar el job>"
   ]
  },
  {
   "cell_type": "code",
   "execution_count": 3,
   "metadata": {
    "executionInfo": {
     "elapsed": 11,
     "status": "ok",
     "timestamp": 1729728605506,
     "user": {
      "displayName": "Jose Chelquer",
      "userId": "09375279337890014087"
     },
     "user_tz": 180
    },
    "id": "ZT3kxlkFIv4p"
   },
   "outputs": [],
   "source": [
    "output_file='competencia_02_duck.csv.gz'\n",
    "duckdb_file='competencia_02.db'"
   ]
  },
  {
   "cell_type": "markdown",
   "metadata": {
    "id": "VrRYsZMowzEl"
   },
   "source": [
    "## Procesos"
   ]
  },
  {
   "cell_type": "markdown",
   "metadata": {
    "id": "iVe0GO1IJHtI"
   },
   "source": [
    "### Paquetes necesarios"
   ]
  },
  {
   "cell_type": "code",
   "execution_count": 4,
   "metadata": {
    "colab": {
     "base_uri": "https://localhost:8080/"
    },
    "executionInfo": {
     "elapsed": 4480,
     "status": "ok",
     "timestamp": 1729728609975,
     "user": {
      "displayName": "Jose Chelquer",
      "userId": "09375279337890014087"
     },
     "user_tz": 180
    },
    "id": "O2VG2xS_Ivq3",
    "outputId": "78bf6437-69ef-4b07-c1c3-8918368278a2"
   },
   "outputs": [
    {
     "name": "stdout",
     "output_type": "stream",
     "text": [
      "Requirement already satisfied: duckdb in /home/jose/.venv/lib/python3.12/site-packages (1.1.0)\n"
     ]
    }
   ],
   "source": [
    "!pip install duckdb"
   ]
  },
  {
   "cell_type": "markdown",
   "metadata": {
    "id": "0LM2kY_WJj15"
   },
   "source": [
    "## Código del proceso\n",
    "\n",
    "< Todo el código a partir de aquí debe poder ejecutarse sin necesidad de parametrizar nada>"
   ]
  },
  {
   "cell_type": "code",
   "execution_count": 5,
   "metadata": {
    "executionInfo": {
     "elapsed": 1070,
     "status": "ok",
     "timestamp": 1729728611040,
     "user": {
      "displayName": "Jose Chelquer",
      "userId": "09375279337890014087"
     },
     "user_tz": 180
    },
    "id": "Nr6BNGDUJkWd"
   },
   "outputs": [],
   "source": [
    "import os\n",
    "import pandas as pd\n",
    "import duckdb"
   ]
  },
  {
   "cell_type": "code",
   "execution_count": 8,
   "metadata": {
    "colab": {
     "base_uri": "https://localhost:8080/"
    },
    "executionInfo": {
     "elapsed": 9414,
     "status": "ok",
     "timestamp": 1729728620451,
     "user": {
      "displayName": "Jose Chelquer",
      "userId": "09375279337890014087"
     },
     "user_tz": 180
    },
    "id": "Y7_CLuCpX1-t",
    "outputId": "7fc14d25-06fc-4b9f-c0e8-a7ec1f8a46da"
   },
   "outputs": [],
   "source": [
    "if usar_gdrive:\n",
    "    from google.colab import drive\n",
    "    drive.mount('/content/drive')"
   ]
  },
  {
   "cell_type": "code",
   "execution_count": 29,
   "metadata": {
    "executionInfo": {
     "elapsed": 386,
     "status": "ok",
     "timestamp": 1729728841356,
     "user": {
      "displayName": "Jose Chelquer",
      "userId": "09375279337890014087"
     },
     "user_tz": 180
    },
    "id": "zp6gXeVhWuP3"
   },
   "outputs": [],
   "source": [
    "file_path = os.path.join(dataset_path, dataset_file)\n",
    "# Conectar a una base de datos en memoria o en un archivo\n",
    "duckdb_path=os.path.join(dataset_path, duckdb_file)\n",
    "\n",
    "conn = duckdb.connect(duckdb_path)\n"
   ]
  },
  {
   "cell_type": "code",
   "execution_count": 30,
   "metadata": {
    "executionInfo": {
     "elapsed": 331,
     "status": "ok",
     "timestamp": 1729728847603,
     "user": {
      "displayName": "Jose Chelquer",
      "userId": "09375279337890014087"
     },
     "user_tz": 180
    },
    "id": "cDdoASKRbIYj"
   },
   "outputs": [],
   "source": [
    "# Dado un mes en formato aaaamm y una cantidad de meses\n",
    "# devuelve el mes a distancia meses de mes\n",
    "def sig_mes(mes: int, meses: int) -> int:\n",
    "  aaaa=mes//100\n",
    "  mm=mes%100+meses\n",
    "  aExtra=(mm-1)//12\n",
    "  mm=mm-12*aExtra\n",
    "  return (aaaa+aExtra)*100+mm\n",
    "\n"
   ]
  },
  {
   "cell_type": "code",
   "execution_count": 13,
   "metadata": {
    "colab": {
     "base_uri": "https://localhost:8080/",
     "height": 159
    },
    "executionInfo": {
     "elapsed": 341,
     "status": "error",
     "timestamp": 1729728849398,
     "user": {
      "displayName": "Jose Chelquer",
      "userId": "09375279337890014087"
     },
     "user_tz": 180
    },
    "id": "OO3lyn6nu-Zy",
    "outputId": "691b7289-c90f-490c-95f9-61da449d7561"
   },
   "outputs": [
    {
     "data": {
      "text/plain": [
       "<duckdb.duckdb.DuckDBPyConnection at 0x79da10d75470>"
      ]
     },
     "execution_count": 13,
     "metadata": {},
     "output_type": "execute_result"
    }
   ],
   "source": [
    "\n",
    "# Registrar la función UDF en DuckDB\n",
    "conn.create_function('sig_mes', sig_mes)"
   ]
  },
  {
   "cell_type": "markdown",
   "metadata": {
    "id": "G73RA-wb7S02"
   },
   "source": [
    "## Leer datos en tabla"
   ]
  },
  {
   "cell_type": "code",
   "execution_count": 14,
   "metadata": {
    "executionInfo": {
     "elapsed": 3,
     "status": "ok",
     "timestamp": 1729728899541,
     "user": {
      "displayName": "Jose Chelquer",
      "userId": "09375279337890014087"
     },
     "user_tz": 180
    },
    "id": "IAJ5dGkP2Oay"
   },
   "outputs": [],
   "source": [
    "def do_sql(sql):\n",
    "  print (sql)\n",
    "  resultado=conn.execute(sql).fetchall()\n",
    "  print (resultado)"
   ]
  },
  {
   "cell_type": "code",
   "execution_count": 16,
   "metadata": {
    "colab": {
     "base_uri": "https://localhost:8080/",
     "height": 104,
     "referenced_widgets": [
      "c20ae70866c7464e9ba167ae35357196",
      "ec859b42a65d4bec801b19b79a900682",
      "1e7194bbfa0e4efea8afe4d76adefdf0"
     ]
    },
    "executionInfo": {
     "elapsed": 30670,
     "status": "ok",
     "timestamp": 1729728899540,
     "user": {
      "displayName": "Jose Chelquer",
      "userId": "09375279337890014087"
     },
     "user_tz": 180
    },
    "id": "UIUsYRBRW4aw",
    "outputId": "77cab360-5566-4de0-f9b2-2412fe6e56aa"
   },
   "outputs": [
    {
     "name": "stdout",
     "output_type": "stream",
     "text": [
      "CREATE TABLE competencia_02 AS SELECT * FROM read_csv_auto('~/buckets/b1/datasets/competencia_02_crudo.csv.gz', COMPRESSION='GZIP')\n"
     ]
    },
    {
     "data": {
      "text/plain": [
       "<duckdb.duckdb.DuckDBPyConnection at 0x79da10d75470>"
      ]
     },
     "execution_count": 16,
     "metadata": {},
     "output_type": "execute_result"
    }
   ],
   "source": [
    "# Leer el CSV y cargarlo en una tabla de DuckDB\n",
    "sql=f\"DROP TABLE IF EXISTS competencia_02\"\n",
    "conn.execute(sql)\n",
    "sql = f\"CREATE TABLE competencia_02 AS SELECT * FROM read_csv_auto('{file_path}', COMPRESSION='GZIP')\"\n",
    "print (sql)\n",
    "conn.execute(sql)\n",
    "\n"
   ]
  },
  {
   "cell_type": "code",
   "execution_count": 17,
   "metadata": {
    "colab": {
     "base_uri": "https://localhost:8080/"
    },
    "executionInfo": {
     "elapsed": 3,
     "status": "ok",
     "timestamp": 1729728899540,
     "user": {
      "displayName": "Jose Chelquer",
      "userId": "09375279337890014087"
     },
     "user_tz": 180
    },
    "id": "lFIRn1SRY-EF",
    "outputId": "8f7ac134-72c6-471e-fc13-798771fa4897"
   },
   "outputs": [
    {
     "name": "stdout",
     "output_type": "stream",
     "text": [
      "[(249221109, 201901, 1, 0, 1, 59, 276, 7597.55, 47433.58, 5654.59, -915.57, 2571.97, 9, 1, 1, 0.0, -317.98, 2, 24068.63, 0.0, 268675.63, 1, 280992.59, 3, 0, 0.0, 1, 23, 31249.45, 1, 5, 9333.88, 0, 0.0, 0, 0.0, 0, 0.0, 0, 0.0, 0.0, 0, 0.0, 0.0, 0, 0.0, 0, 0, 1, 1, 0, 0, 0.0, 0.0, 0, 5, 15333.25, 6, 19820.48, 4, 8786.59, 0, 0.0, 6, 14612.56, 0, 0.0, 0, 0.0, 0, 0.0, 1, 1199.97, 18, 5654.59, 0, 0, 0.0, 0, 0.0, 0, 0.0, 0, 0.0, 0, 0.0, 1, 5161.2, 0, 0.0, 0, 0.0, 0, 0.0, 0, 0, 1, 71, 1, 1, 4, 2, 0, 0, 0.0, 0, 0.0, 164, None, None, 0, 0, 209004.84, -1307, None, 9333.88, 9333.88, 0.0, 8786.59, 0.0, 232227.6, 0.0, 0.0, 15, 8815.09, -9635.71, 0.0, 6755, 8786.59, 4, 0, 398.82, 0, 0, 274901.32, -1276, None, 26663.38, 31176.66, 99.48, 24336.99, 4.28, 305484.53, 0.0, 0.0, 1, 0.0, -44919.57, 3.23, 7136, 24336.99, 13, 0, 1466.25)]\n",
      "Count:4735593\n"
     ]
    }
   ],
   "source": [
    "# Verificar si la tabla fue creada correctamente\n",
    "result = conn.execute(\"SELECT * FROM competencia_02 LIMIT 1\").fetchall()\n",
    "print(result)\n",
    "# Contar los registros en la tabla\n",
    "count = conn.execute(\"SELECT COUNT(*) FROM competencia_02\").fetchone()[0]\n",
    "print (f'Count:{count}')\n",
    "\n"
   ]
  },
  {
   "cell_type": "markdown",
   "metadata": {
    "id": "Y9Y8eLQz7bl4"
   },
   "source": [
    "## Calcular clase ternaria"
   ]
  },
  {
   "cell_type": "code",
   "execution_count": 18,
   "metadata": {
    "colab": {
     "base_uri": "https://localhost:8080/"
    },
    "executionInfo": {
     "elapsed": 352,
     "status": "ok",
     "timestamp": 1729729037996,
     "user": {
      "displayName": "Jose Chelquer",
      "userId": "09375279337890014087"
     },
     "user_tz": 180
    },
    "id": "QHcnjEF-2VsH",
    "outputId": "11b1c506-b959-4c95-e563-d8e634bc6791"
   },
   "outputs": [
    {
     "name": "stdout",
     "output_type": "stream",
     "text": [
      "\n",
      "ALTER TABLE competencia_02\n",
      "ADD COLUMN IF NOT EXISTS existe1 BOOLEAN;\n",
      "\n",
      "[]\n",
      "\n",
      "ALTER TABLE competencia_02\n",
      "ADD COLUMN IF NOT EXISTS existe2 BOOLEAN;\n",
      "\n",
      "[]\n",
      "\n",
      "ALTER TABLE competencia_02\n",
      "ADD COLUMN IF NOT EXISTS clase_ternaria STRING;\n",
      "\n",
      "[]\n"
     ]
    }
   ],
   "source": [
    "# Crear campos auxiliares\n",
    "sql=\"\"\"\n",
    "ALTER TABLE competencia_02\n",
    "ADD COLUMN IF NOT EXISTS existe1 BOOLEAN;\n",
    "\"\"\"\n",
    "do_sql(sql)\n",
    "sql=\"\"\"\n",
    "ALTER TABLE competencia_02\n",
    "ADD COLUMN IF NOT EXISTS existe2 BOOLEAN;\n",
    "\"\"\"\n",
    "do_sql(sql)\n",
    "sql=\"\"\"\n",
    "ALTER TABLE competencia_02\n",
    "ADD COLUMN IF NOT EXISTS clase_ternaria STRING;\n",
    "\"\"\"\n",
    "do_sql(sql)\n",
    "\n"
   ]
  },
  {
   "cell_type": "code",
   "execution_count": 19,
   "metadata": {
    "colab": {
     "base_uri": "https://localhost:8080/"
    },
    "executionInfo": {
     "elapsed": 1982,
     "status": "ok",
     "timestamp": 1729729056646,
     "user": {
      "displayName": "Jose Chelquer",
      "userId": "09375279337890014087"
     },
     "user_tz": 180
    },
    "id": "BWcaMoax2lmk",
    "outputId": "a3eb57a4-4245-4d69-f128-9b4f573794a3"
   },
   "outputs": [
    {
     "name": "stdout",
     "output_type": "stream",
     "text": [
      "\n",
      "UPDATE competencia_02 c1\n",
      "SET existe1 = EXISTS (\n",
      "    SELECT 1\n",
      "    FROM competencia_02 c2\n",
      "    WHERE c2.numero_de_cliente = c1.numero_de_cliente\n",
      "      AND c2.foto_mes = sig_mes(c1.foto_mes, 1)\n",
      ");\n",
      "\n",
      "[(4735593,)]\n"
     ]
    }
   ],
   "source": [
    "# existe1\n",
    "sql=\"\"\"\n",
    "UPDATE competencia_02 c1\n",
    "SET existe1 = EXISTS (\n",
    "    SELECT 1\n",
    "    FROM competencia_02 c2\n",
    "    WHERE c2.numero_de_cliente = c1.numero_de_cliente\n",
    "      AND c2.foto_mes = sig_mes(c1.foto_mes, 1)\n",
    ");\n",
    "\"\"\"\n",
    "do_sql(sql)"
   ]
  },
  {
   "cell_type": "code",
   "execution_count": 20,
   "metadata": {
    "colab": {
     "base_uri": "https://localhost:8080/",
     "height": 223,
     "referenced_widgets": [
      "1f0f572394a34004839f5e1b641fcf03",
      "5974c07d93474ba28d24055e53936ab9",
      "62fc33d84419428d9610b148063fcc24"
     ]
    },
    "executionInfo": {
     "elapsed": 2902,
     "status": "ok",
     "timestamp": 1729729064693,
     "user": {
      "displayName": "Jose Chelquer",
      "userId": "09375279337890014087"
     },
     "user_tz": 180
    },
    "id": "gESZD-2J3chD",
    "outputId": "d3bda87d-fed4-43f8-a0b2-caebafba2e33"
   },
   "outputs": [
    {
     "name": "stdout",
     "output_type": "stream",
     "text": [
      "\n",
      "UPDATE competencia_02 c1\n",
      "SET existe2 = EXISTS (\n",
      "    SELECT 1\n",
      "    FROM competencia_02 c2\n",
      "    WHERE c2.numero_de_cliente = c1.numero_de_cliente\n",
      "      AND c2.foto_mes = sig_mes(c1.foto_mes, 2)\n",
      ");\n",
      "\n",
      "[(4735593,)]\n"
     ]
    }
   ],
   "source": [
    "# existe 2\n",
    "sql=\"\"\"\n",
    "UPDATE competencia_02 c1\n",
    "SET existe2 = EXISTS (\n",
    "    SELECT 1\n",
    "    FROM competencia_02 c2\n",
    "    WHERE c2.numero_de_cliente = c1.numero_de_cliente\n",
    "      AND c2.foto_mes = sig_mes(c1.foto_mes, 2)\n",
    ");\n",
    "\"\"\"\n",
    "do_sql(sql)"
   ]
  },
  {
   "cell_type": "code",
   "execution_count": 21,
   "metadata": {
    "colab": {
     "base_uri": "https://localhost:8080/"
    },
    "executionInfo": {
     "elapsed": 663,
     "status": "ok",
     "timestamp": 1729729141182,
     "user": {
      "displayName": "Jose Chelquer",
      "userId": "09375279337890014087"
     },
     "user_tz": 180
    },
    "id": "eplby2bI3jfp",
    "outputId": "199f2ac3-4c33-42fe-fb20-580e133d492d"
   },
   "outputs": [
    {
     "name": "stdout",
     "output_type": "stream",
     "text": [
      "\n",
      "UPDATE competencia_02\n",
      "SET clase_ternaria = CASE\n",
      "    WHEN existe2 = TRUE THEN 'CONTINUA'\n",
      "    WHEN existe1 = FALSE THEN 'BAJA+1'\n",
      "    WHEN existe1 = TRUE AND existe2 = FALSE THEN 'BAJA+2'\n",
      "END;\n",
      "\n",
      "[(4735593,)]\n"
     ]
    }
   ],
   "source": [
    "# clase ternaria\n",
    "sql=\"\"\"\n",
    "UPDATE competencia_02\n",
    "SET clase_ternaria = CASE\n",
    "    WHEN existe2 = TRUE THEN 'CONTINUA'\n",
    "    WHEN existe1 = FALSE THEN 'BAJA+1'\n",
    "    WHEN existe1 = TRUE AND existe2 = FALSE THEN 'BAJA+2'\n",
    "END;\n",
    "\"\"\"\n",
    "do_sql(sql)"
   ]
  },
  {
   "cell_type": "code",
   "execution_count": 22,
   "metadata": {
    "colab": {
     "base_uri": "https://localhost:8080/"
    },
    "executionInfo": {
     "elapsed": 328,
     "status": "ok",
     "timestamp": 1729729681395,
     "user": {
      "displayName": "Jose Chelquer",
      "userId": "09375279337890014087"
     },
     "user_tz": 180
    },
    "id": "MXpUFwQU6kbR",
    "outputId": "6d01fd75-b609-4189-faaf-c4128dcbaadb"
   },
   "outputs": [
    {
     "name": "stdout",
     "output_type": "stream",
     "text": [
      "\n",
      "ALTER TABLE competencia_02\n",
      "DROP COLUMN IF EXISTS existe1;\n",
      "\n",
      "[]\n",
      "\n",
      "ALTER TABLE competencia_02\n",
      "DROP COLUMN IF EXISTS existe2;\n",
      "\n",
      "[]\n"
     ]
    }
   ],
   "source": [
    "# elimina auxiliares\n",
    "sql=\"\"\"\n",
    "ALTER TABLE competencia_02\n",
    "DROP COLUMN IF EXISTS existe1;\n",
    "\"\"\"\n",
    "do_sql(sql)\n",
    "sql=\"\"\"\n",
    "ALTER TABLE competencia_02\n",
    "DROP COLUMN IF EXISTS existe2;\n",
    "\"\"\"\n",
    "do_sql(sql)"
   ]
  },
  {
   "cell_type": "markdown",
   "metadata": {
    "id": "XPeN5Foi7PKu"
   },
   "source": [
    "## Graba output"
   ]
  },
  {
   "cell_type": "code",
   "execution_count": null,
   "metadata": {
    "id": "WR-3Bdch6FWk"
   },
   "outputs": [],
   "source": [
    "df = conn.execute(\"SELECT * FROM competencia_02\").fetchdf()\n",
    "\n"
   ]
  },
  {
   "cell_type": "code",
   "execution_count": null,
   "metadata": {},
   "outputs": [],
   "source": [
    "\n",
    "\n",
    "# Grabar como CSV comprimido\n",
    "output_file_path =os.path.join(dataset_path, output_file)\n",
    "df.to_csv(output_file_path, index=False, compression='gzip')\n"
   ]
  },
  {
   "cell_type": "code",
   "execution_count": 27,
   "metadata": {
    "id": "6Cdw_hOUY_5N"
   },
   "outputs": [],
   "source": [
    "# Cerrar la conexión cuando termines\n",
    "conn.close()"
   ]
  },
  {
   "cell_type": "code",
   "execution_count": null,
   "metadata": {},
   "outputs": [],
   "source": []
  }
 ],
 "metadata": {
  "colab": {
   "provenance": [
    {
     "file_id": "1GOSnNlj9cnvFFoEsz4p3dZMxypPVmEXg",
     "timestamp": 1723562787788
    }
   ]
  },
  "kernelspec": {
   "display_name": "Python 3 (ipykernel)",
   "language": "python",
   "name": "python3"
  },
  "language_info": {
   "codemirror_mode": {
    "name": "ipython",
    "version": 3
   },
   "file_extension": ".py",
   "mimetype": "text/x-python",
   "name": "python",
   "nbconvert_exporter": "python",
   "pygments_lexer": "ipython3",
   "version": "3.12.3"
  },
  "widgets": {
   "application/vnd.jupyter.widget-state+json": {
    "1e7194bbfa0e4efea8afe4d76adefdf0": {
     "model_module": "@jupyter-widgets/controls",
     "model_module_version": "1.5.0",
     "model_name": "ProgressStyleModel",
     "state": {
      "_model_module": "@jupyter-widgets/controls",
      "_model_module_version": "1.5.0",
      "_model_name": "ProgressStyleModel",
      "_view_count": null,
      "_view_module": "@jupyter-widgets/base",
      "_view_module_version": "1.2.0",
      "_view_name": "StyleView",
      "bar_color": "black",
      "description_width": ""
     }
    },
    "1f0f572394a34004839f5e1b641fcf03": {
     "model_module": "@jupyter-widgets/controls",
     "model_module_version": "1.5.0",
     "model_name": "FloatProgressModel",
     "state": {
      "_dom_classes": [],
      "_model_module": "@jupyter-widgets/controls",
      "_model_module_version": "1.5.0",
      "_model_name": "FloatProgressModel",
      "_view_count": null,
      "_view_module": "@jupyter-widgets/controls",
      "_view_module_version": "1.5.0",
      "_view_name": "ProgressView",
      "bar_style": "",
      "description": "",
      "description_tooltip": null,
      "layout": "IPY_MODEL_5974c07d93474ba28d24055e53936ab9",
      "max": 100,
      "min": 0,
      "orientation": "horizontal",
      "style": "IPY_MODEL_62fc33d84419428d9610b148063fcc24",
      "value": 100
     }
    },
    "5974c07d93474ba28d24055e53936ab9": {
     "model_module": "@jupyter-widgets/base",
     "model_module_version": "1.2.0",
     "model_name": "LayoutModel",
     "state": {
      "_model_module": "@jupyter-widgets/base",
      "_model_module_version": "1.2.0",
      "_model_name": "LayoutModel",
      "_view_count": null,
      "_view_module": "@jupyter-widgets/base",
      "_view_module_version": "1.2.0",
      "_view_name": "LayoutView",
      "align_content": null,
      "align_items": null,
      "align_self": null,
      "border": null,
      "bottom": null,
      "display": null,
      "flex": null,
      "flex_flow": null,
      "grid_area": null,
      "grid_auto_columns": null,
      "grid_auto_flow": null,
      "grid_auto_rows": null,
      "grid_column": null,
      "grid_gap": null,
      "grid_row": null,
      "grid_template_areas": null,
      "grid_template_columns": null,
      "grid_template_rows": null,
      "height": null,
      "justify_content": null,
      "justify_items": null,
      "left": null,
      "margin": null,
      "max_height": null,
      "max_width": null,
      "min_height": null,
      "min_width": null,
      "object_fit": null,
      "object_position": null,
      "order": null,
      "overflow": null,
      "overflow_x": null,
      "overflow_y": null,
      "padding": null,
      "right": null,
      "top": null,
      "visibility": null,
      "width": "auto"
     }
    },
    "62fc33d84419428d9610b148063fcc24": {
     "model_module": "@jupyter-widgets/controls",
     "model_module_version": "1.5.0",
     "model_name": "ProgressStyleModel",
     "state": {
      "_model_module": "@jupyter-widgets/controls",
      "_model_module_version": "1.5.0",
      "_model_name": "ProgressStyleModel",
      "_view_count": null,
      "_view_module": "@jupyter-widgets/base",
      "_view_module_version": "1.2.0",
      "_view_name": "StyleView",
      "bar_color": "black",
      "description_width": ""
     }
    },
    "c20ae70866c7464e9ba167ae35357196": {
     "model_module": "@jupyter-widgets/controls",
     "model_module_version": "1.5.0",
     "model_name": "FloatProgressModel",
     "state": {
      "_dom_classes": [],
      "_model_module": "@jupyter-widgets/controls",
      "_model_module_version": "1.5.0",
      "_model_name": "FloatProgressModel",
      "_view_count": null,
      "_view_module": "@jupyter-widgets/controls",
      "_view_module_version": "1.5.0",
      "_view_name": "ProgressView",
      "bar_style": "",
      "description": "",
      "description_tooltip": null,
      "layout": "IPY_MODEL_ec859b42a65d4bec801b19b79a900682",
      "max": 100,
      "min": 0,
      "orientation": "horizontal",
      "style": "IPY_MODEL_1e7194bbfa0e4efea8afe4d76adefdf0",
      "value": 100
     }
    },
    "ec859b42a65d4bec801b19b79a900682": {
     "model_module": "@jupyter-widgets/base",
     "model_module_version": "1.2.0",
     "model_name": "LayoutModel",
     "state": {
      "_model_module": "@jupyter-widgets/base",
      "_model_module_version": "1.2.0",
      "_model_name": "LayoutModel",
      "_view_count": null,
      "_view_module": "@jupyter-widgets/base",
      "_view_module_version": "1.2.0",
      "_view_name": "LayoutView",
      "align_content": null,
      "align_items": null,
      "align_self": null,
      "border": null,
      "bottom": null,
      "display": null,
      "flex": null,
      "flex_flow": null,
      "grid_area": null,
      "grid_auto_columns": null,
      "grid_auto_flow": null,
      "grid_auto_rows": null,
      "grid_column": null,
      "grid_gap": null,
      "grid_row": null,
      "grid_template_areas": null,
      "grid_template_columns": null,
      "grid_template_rows": null,
      "height": null,
      "justify_content": null,
      "justify_items": null,
      "left": null,
      "margin": null,
      "max_height": null,
      "max_width": null,
      "min_height": null,
      "min_width": null,
      "object_fit": null,
      "object_position": null,
      "order": null,
      "overflow": null,
      "overflow_x": null,
      "overflow_y": null,
      "padding": null,
      "right": null,
      "top": null,
      "visibility": null,
      "width": "auto"
     }
    }
   }
  }
 },
 "nbformat": 4,
 "nbformat_minor": 4
}
