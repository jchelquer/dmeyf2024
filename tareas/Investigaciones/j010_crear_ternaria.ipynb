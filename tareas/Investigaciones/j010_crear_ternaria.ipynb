{
 "cells": [
  {
   "cell_type": "markdown",
   "metadata": {
    "id": "d_xvJXPhCkMA"
   },
   "source": [
    "# Título   Crear clase ternaria\n",
    "\n",
    "## Autor: Jose Chelquer\n",
    "## Fecha de última modificación: 22/10/2025\n",
    "## Descripción:\n",
    "\n",
    "Crear clase ternaria a partir del crudo grabando otro dataset"
   ]
  },
  {
   "cell_type": "markdown",
   "metadata": {
    "id": "qRTSvXdLHkpB"
   },
   "source": [
    "## Parámetros\n",
    "\n",
    "< Descripción de cada uno de los parámetros que utiliza el job >\n"
   ]
  },
  {
   "cell_type": "code",
   "execution_count": 8,
   "metadata": {
    "id": "yMU00Fl7IIfm"
   },
   "outputs": [],
   "source": [
    "\n",
    "usar_gdrive=False    # Poner en true si se va a ejecutar con archivos de google drive"
   ]
  },
  {
   "cell_type": "markdown",
   "metadata": {
    "id": "sH5VivJSIM42"
   },
   "source": [
    "## Input\n",
    "\n",
    "< Archivos de datos (csv.gz) con sus paths que van a consumirse por el job>"
   ]
  },
  {
   "cell_type": "code",
   "execution_count": 9,
   "metadata": {
    "id": "MEk4Fj7VIv7g"
   },
   "outputs": [],
   "source": [
    "# Ejemplo\n",
    "\n",
    "\n",
    "dataset_path = '~/buckets/b1/datasets'\n",
    "dataset_file = 'competencia_02_crudo.csv.gz'"
   ]
  },
  {
   "cell_type": "markdown",
   "metadata": {
    "id": "fQ6MUhENI0Ya"
   },
   "source": [
    "## Output\n",
    "\n",
    "< Archivos, bases de datos, modelos que va a generar el job>"
   ]
  },
  {
   "cell_type": "code",
   "execution_count": 10,
   "metadata": {
    "id": "ZT3kxlkFIv4p"
   },
   "outputs": [],
   "source": [
    "output_file='competencia_02.csv.gz'\n"
   ]
  },
  {
   "cell_type": "code",
   "execution_count": 11,
   "metadata": {
    "id": "NtIT33WnJFx-"
   },
   "outputs": [],
   "source": [
    "## Procesos"
   ]
  },
  {
   "cell_type": "markdown",
   "metadata": {
    "id": "iVe0GO1IJHtI"
   },
   "source": [
    "### Paquetes necesarios"
   ]
  },
  {
   "cell_type": "code",
   "execution_count": null,
   "metadata": {
    "id": "O2VG2xS_Ivq3"
   },
   "outputs": [],
   "source": []
  },
  {
   "cell_type": "markdown",
   "metadata": {
    "id": "0LM2kY_WJj15"
   },
   "source": [
    "## Código del proceso\n",
    "\n",
    "< Todo el código a partir de aquí debe poder ejecutarse sin necesidad de parametrizar nada>"
   ]
  },
  {
   "cell_type": "code",
   "execution_count": 12,
   "metadata": {
    "id": "Nr6BNGDUJkWd"
   },
   "outputs": [],
   "source": [
    "import os\n",
    "import pandas as pd"
   ]
  },
  {
   "cell_type": "code",
   "execution_count": 13,
   "metadata": {
    "id": "g2aU4iUS6KGt"
   },
   "outputs": [],
   "source": [
    "if usar_gdrive:\n",
    "    from google.colab import drive\n",
    "    drive.mount('/content/drive')"
   ]
  },
  {
   "cell_type": "code",
   "execution_count": 14,
   "metadata": {
    "id": "hKYQsczX6KGt",
    "outputId": "d93b0faa-6e65-4759-cb65-2243a3819e31"
   },
   "outputs": [
    {
     "name": "stdout",
     "output_type": "stream",
     "text": [
      "Leyendo ~/buckets/b1/datasets/competencia_02_crudo.csv.gz\n"
     ]
    },
    {
     "data": {
      "text/plain": [
       "(4735593, 154)"
      ]
     },
     "execution_count": 14,
     "metadata": {},
     "output_type": "execute_result"
    }
   ],
   "source": [
    "# leer el dataset\n",
    "\n",
    "file_path = os.path.join(dataset_path, dataset_file)\n",
    "print (f'Leyendo {file_path}')\n",
    "# Read the CSV file into a DataFrame\n",
    "df = pd.read_csv(file_path)\n",
    "df.shape"
   ]
  },
  {
   "cell_type": "code",
   "execution_count": 15,
   "metadata": {
    "id": "h-f7-w7Y6KGu"
   },
   "outputs": [],
   "source": [
    "# Dado un mes en formato aaaamm y una cantidad de meses\n",
    "# devuelve el mes a distancia meses de mes\n",
    "def sig_mes(mes, meses):\n",
    "  aaaa=mes//100\n",
    "  mm=mes%100+meses\n",
    "  aExtra=(mm-1)//12\n",
    "  mm=mm-12*aExtra\n",
    "  return (aaaa+aExtra)*100+mm\n"
   ]
  },
  {
   "cell_type": "code",
   "execution_count": 17,
   "metadata": {
    "id": "JVDnZ5P46KGu"
   },
   "outputs": [],
   "source": [
    "df[\"cli_mes\"]=df[\"numero_de_cliente\"].astype(str)+df[\"foto_mes\"].astype(str)\n",
    "df[\"cli_mesMas1\"]=df[\"numero_de_cliente\"].astype(str)+df[\"foto_mes\"].apply(lambda x: sig_mes(x, 1)).astype(str)\n",
    "df[\"cli_mesMas2\"]=df[\"numero_de_cliente\"].astype(str)+df[\"foto_mes\"].apply(lambda x: sig_mes(x, 2)).astype(str)"
   ]
  },
  {
   "cell_type": "code",
   "execution_count": 18,
   "metadata": {
    "id": "QEKg8Yer6KGv",
    "outputId": "1768cf49-911f-4dfd-b5ae-6df580046864"
   },
   "outputs": [
    {
     "name": "stdout",
     "output_type": "stream",
     "text": [
      "Detectando existe1 y existe2\n"
     ]
    }
   ],
   "source": [
    "print (f'Detectando existe1 y existe2')\n",
    "df1=df['cli_mes']   #sólo las columnas del cliente\n",
    "# Realiza la unión entre df y df1\n",
    "resultado = df.merge(df1, left_on='cli_mesMas1', right_on='cli_mes', how='left', indicator=True)\n",
    "df['existe1'] = resultado['_merge'] == 'both'\n",
    "resultado = df.merge(df1, left_on='cli_mesMas2', right_on='cli_mes', how='left', indicator=True)\n",
    "df['existe2'] = resultado['_merge'] == 'both'\n"
   ]
  },
  {
   "cell_type": "code",
   "execution_count": 19,
   "metadata": {
    "id": "ghVTA1uX6KGv",
    "outputId": "002d2a83-c991-4046-eded-4c59308c199d"
   },
   "outputs": [
    {
     "name": "stdout",
     "output_type": "stream",
     "text": [
      "Creando clase ternaria\n"
     ]
    }
   ],
   "source": [
    "print (f'Creando clase ternaria')\n",
    "df[ \"clase_ternaria\"]=\"CONTINUA\"          #default\n",
    "df.loc[df[\"existe2\"]==False, \"clase_ternaria\"]=\"BAJA+2\"\n",
    "df.loc[df[\"existe1\"]==False, \"clase_ternaria\"]=\"BAJA+1\"\n",
    "df.loc[df[\"existe2\"]==True, \"clase_ternaria\"]=\"CONTINUA\""
   ]
  },
  {
   "cell_type": "code",
   "execution_count": 20,
   "metadata": {
    "id": "kU6NKIaT6KGv",
    "outputId": "74f1bb2b-1aa8-45b6-e94a-e9fc3243afb8"
   },
   "outputs": [
    {
     "name": "stdout",
     "output_type": "stream",
     "text": [
      "Eliminando campos creados\n"
     ]
    }
   ],
   "source": [
    "# Eliminar los campos creados\n",
    "print (f'Eliminando campos creados')\n",
    "df = df.drop(columns=['cli_mes', 'cli_mesMas1', 'cli_mesMas2', 'existe1', 'existe2'])"
   ]
  },
  {
   "cell_type": "code",
   "execution_count": null,
   "metadata": {},
   "outputs": [],
   "source": [
    "df['clase_ternaria'].value_counts()"
   ]
  },
  {
   "cell_type": "code",
   "execution_count": null,
   "metadata": {
    "id": "fKiUzua36KGw",
    "outputId": "99c4a108-55b3-49e3-ca89-27af7230176e"
   },
   "outputs": [],
   "source": [
    "df.shape[0]"
   ]
  },
  {
   "cell_type": "code",
   "execution_count": null,
   "metadata": {
    "id": "caMWdZLY6KGv",
    "outputId": "ff292bd0-7426-440f-f37f-d2749a1b03ac"
   },
   "outputs": [
    {
     "name": "stdout",
     "output_type": "stream",
     "text": [
      "Guardando el archivo de salida\n"
     ]
    }
   ],
   "source": [
    "ruta_nuevo_archivo = os.path.join(dataset_path, output_file)\n",
    "# Guarda el DataFrame en el nuevo archivo\n",
    "print (f'Guardando el archivo de salida')\n",
    "df.to_csv(ruta_nuevo_archivo, index=False, compression='gzip')\n",
    "print(f\"El archivo ha sido guardado en: {ruta_nuevo_archivo}\")"
   ]
  }
 ],
 "metadata": {
  "colab": {
   "provenance": []
  },
  "kernelspec": {
   "display_name": "Python 3 (ipykernel)",
   "language": "python",
   "name": "python3"
  },
  "language_info": {
   "codemirror_mode": {
    "name": "ipython",
    "version": 3
   },
   "file_extension": ".py",
   "mimetype": "text/x-python",
   "name": "python",
   "nbconvert_exporter": "python",
   "pygments_lexer": "ipython3",
   "version": "3.12.3"
  }
 },
 "nbformat": 4,
 "nbformat_minor": 4
}
