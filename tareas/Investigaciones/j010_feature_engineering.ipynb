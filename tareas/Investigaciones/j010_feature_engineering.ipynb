{
 "cells": [
  {
   "cell_type": "markdown",
   "metadata": {
    "id": "d_xvJXPhCkMA"
   },
   "source": [
    "# Título  Feature Engineering\n",
    "## Autor: Jose Chelquer\n",
    "## Fecha de última modificación: 24/10/2024\n",
    "## Descripción:\n",
    "\n",
    "Agrega features:\n",
    "Sumas de variables (con o sin eliminación de las originales)\n",
    "decilado de todas las variables de dinero (con o sin eliminación de las originales)\n",
    "lag1, 2, 3 de todas\n",
    "slope de algunas variables elegidas\n"
   ]
  },
  {
   "cell_type": "markdown",
   "metadata": {
    "id": "qRTSvXdLHkpB"
   },
   "source": [
    "## Parámetros\n",
    "\n",
    "< Descripción de cada uno de los parámetros que utiliza el job >\n"
   ]
  },
  {
   "cell_type": "code",
   "execution_count": 1,
   "metadata": {
    "executionInfo": {
     "elapsed": 1033,
     "status": "ok",
     "timestamp": 1729771914597,
     "user": {
      "displayName": "Jose Chelquer",
      "userId": "09375279337890014087"
     },
     "user_tz": 180
    },
    "id": "yMU00Fl7IIfm"
   },
   "outputs": [],
   "source": [
    "usar_gdrive=True    # Poner en true si se va a ejecutar con archivos de google drive en máquinas locales\n",
    "#usar_gdrive=False"
   ]
  },
  {
   "cell_type": "code",
   "execution_count": 56,
   "metadata": {
    "executionInfo": {
     "elapsed": 339,
     "status": "ok",
     "timestamp": 1729775293762,
     "user": {
      "displayName": "Jose Chelquer",
      "userId": "09375279337890014087"
     },
     "user_tz": 180
    },
    "id": "KTHNlNBrPhX-"
   },
   "outputs": [],
   "source": [
    "# A decilar\n",
    "#         Va a decilar las columnas de dinero\n",
    "a_decilar_eliminar_originales=True     # Eliminar las variables originales después de decilarlas\n",
    "# Columnas a sumar\n",
    "a_sumar_eliminar_originales=True        # Eliminar las variables sumadas después de crear las sumas\n",
    "a_sumar = [\n",
    "    [['ctarjeta_visa', 'ctarjeta_master'], 'ctarjeta'],\n",
    "    [['ctarjeta_visa_transacciones', 'ctarjeta_master_transacciones'], 'ctarjeta_transacciones'],\n",
    "    [['mtarjeta_visa_consumo', 'mtarjeta_master_consumo'], 'mtarjeta_consumo'],\n",
    "    [['cprestamos_personales', 'cprestamos_prendarios', 'cprestamos_hipotecarios'], 'cprestamos'],\n",
    "    [['mprestamos_personales', 'mprestamos_prendarios', 'mprestamos_hipotecarios'], 'mprestamos'],\n",
    "    [['cplazo_fijo', 'cinversion1', 'cinversion2'], 'cinversion'],\n",
    "    [['mplazo_fijo_pesos', 'minversion1_pesos', 'minversion2'], 'minversion_pesos'],\n",
    "    [['mplazo_fijo_dolares', 'minversion1_dolares'], 'minversion_dolares'],\n",
    "    [['cseguro_vida', 'cseguro_auto', 'cseguro_vivienda', 'cseguro_accidentes_personales'], 'cseguro'],\n",
    "    [['ctarjeta_visa_debitos_automaticos', 'ctarjeta_master_debitos_automaticos'], 'ctarjeta_debitos_automaticos'],\n",
    "    [['mttarjeta_visa_debitos_automaticos', 'mttarjeta_master_debitos_automaticos'], 'mtarjeta_debitos_automaticos'],\n",
    "    [['cpagodeservicios', 'cpagomiscuentas'], 'cpagos'],\n",
    "    [['mpagodeservicios', 'mpagomiscuentas'], 'mpagos'],\n",
    "    [['Master_msaldopesos', 'Visa_msaldopesos'], 'Tarjeta_msaldopesos'],\n",
    "    [['Master_msaldodolares', 'Visa_msaldodolares'], 'Tarjeta_msaldodolares'],\n",
    "    [['Master_msaldototal', 'Visa_msaldototal'], 'Tarjeta_msaldototal'],\n",
    "    [['Master_mconsumospesos', 'Visa_mconsumospesos'], 'Tarjeta_mconsumospesos'],\n",
    "    [['Master_mconsumosdolares', 'Visa_mconsumosdolares'], 'Tarjeta_mconsumosdolares'],\n",
    "    [['Master_mlimitecompra', 'Visa_mlimitecompra'], 'Tarjeta_mlimitecompra'],\n",
    "    [['Master_madelantopesos', 'Visa_madelantopesos'], 'Tarjeta_madelantopesos'],\n",
    "    [['Master_madelantodolares', 'Visa_madelantodolares'], 'Tarjeta_madelantodolares'],\n",
    "    [['Master_mpagado', 'Visa_mpagado'], 'Tarjeta_mpagado'],\n",
    "    [['Master_mpagospesos', 'Visa_mpagospesos'], 'Tarjeta_mpagospesos'],\n",
    "    [['Master_mpagosdolares', 'Visa_mpagosdolares'], 'Tarjeta_mpagosdolares'],\n",
    "    [['Master_mconsumototal', 'Visa_mconsumototal'], 'Tarjeta_mconsumototal'],\n",
    "    [['Master_cadelantosefectivo', 'Visa_cadelantosefectivo'], 'Tarjeta_cadelantosefectivo'],\n",
    "    [['Master_mpagominimo', 'Visa_mpagominimo'], 'Tarjeta_mpagominimo'],\n",
    "\n",
    "]\n"
   ]
  },
  {
   "cell_type": "markdown",
   "metadata": {
    "id": "sH5VivJSIM42"
   },
   "source": [
    "## Input\n",
    "\n",
    "< Archivos de datos (csv.gz) con sus paths que van a consumirse por el job>"
   ]
  },
  {
   "cell_type": "code",
   "execution_count": 3,
   "metadata": {
    "executionInfo": {
     "elapsed": 6,
     "status": "ok",
     "timestamp": 1729771914597,
     "user": {
      "displayName": "Jose Chelquer",
      "userId": "09375279337890014087"
     },
     "user_tz": 180
    },
    "id": "MEk4Fj7VIv7g"
   },
   "outputs": [],
   "source": [
    "dataset_path='/content/drive/MyDrive/Data Science y similares/Maestría Data Mining Exactas/dmeyf/dmeyf2024/datasets/'\n",
    "#dataset_path = '~/buckets/b1/datasets'\n",
    "dataset_file='competencia_01_sin_nan.csv'\n",
    "#dataset_file = 'competencia_02_crudo.csv.gz'"
   ]
  },
  {
   "cell_type": "markdown",
   "metadata": {
    "id": "fQ6MUhENI0Ya"
   },
   "source": [
    "## Output\n",
    "\n",
    "< Archivos, bases de datos, modelos que va a generar el job>"
   ]
  },
  {
   "cell_type": "code",
   "execution_count": 4,
   "metadata": {
    "executionInfo": {
     "elapsed": 7,
     "status": "ok",
     "timestamp": 1729771914598,
     "user": {
      "displayName": "Jose Chelquer",
      "userId": "09375279337890014087"
     },
     "user_tz": 180
    },
    "id": "ZT3kxlkFIv4p"
   },
   "outputs": [],
   "source": [
    "output_file='competencia_02_aumentada.csv.gz'\n",
    "duckdb_file='competencia_02.db'"
   ]
  },
  {
   "cell_type": "markdown",
   "metadata": {
    "id": "VrRYsZMowzEl"
   },
   "source": [
    "## Procesos"
   ]
  },
  {
   "cell_type": "markdown",
   "metadata": {
    "id": "iVe0GO1IJHtI"
   },
   "source": [
    "### Paquetes necesarios"
   ]
  },
  {
   "cell_type": "code",
   "execution_count": 5,
   "metadata": {
    "colab": {
     "base_uri": "https://localhost:8080/"
    },
    "executionInfo": {
     "elapsed": 10557,
     "status": "ok",
     "timestamp": 1729771925148,
     "user": {
      "displayName": "Jose Chelquer",
      "userId": "09375279337890014087"
     },
     "user_tz": 180
    },
    "id": "O2VG2xS_Ivq3",
    "outputId": "ae950b2f-e361-487e-9b56-7a98f2618c66"
   },
   "outputs": [
    {
     "name": "stdout",
     "output_type": "stream",
     "text": [
      "Requirement already satisfied: duckdb in /usr/local/lib/python3.10/dist-packages (1.1.2)\n"
     ]
    }
   ],
   "source": [
    "!pip install duckdb"
   ]
  },
  {
   "cell_type": "markdown",
   "metadata": {
    "id": "0LM2kY_WJj15"
   },
   "source": [
    "## Código del proceso\n",
    "\n",
    "< Todo el código a partir de aquí debe poder ejecutarse sin necesidad de parametrizar nada>"
   ]
  },
  {
   "cell_type": "code",
   "execution_count": 6,
   "metadata": {
    "colab": {
     "base_uri": "https://localhost:8080/"
    },
    "executionInfo": {
     "elapsed": 31211,
     "status": "ok",
     "timestamp": 1729771956351,
     "user": {
      "displayName": "Jose Chelquer",
      "userId": "09375279337890014087"
     },
     "user_tz": 180
    },
    "id": "fnq1DC36uYym",
    "outputId": "b4eecc1f-19b1-412e-cfab-63801e22d5f7"
   },
   "outputs": [
    {
     "name": "stdout",
     "output_type": "stream",
     "text": [
      "Mounted at /content/drive\n"
     ]
    }
   ],
   "source": [
    "if usar_gdrive:\n",
    "  from google.colab import drive\n",
    "  drive.mount('/content/drive')"
   ]
  },
  {
   "cell_type": "code",
   "execution_count": 7,
   "metadata": {
    "executionInfo": {
     "elapsed": 1332,
     "status": "ok",
     "timestamp": 1729771957676,
     "user": {
      "displayName": "Jose Chelquer",
      "userId": "09375279337890014087"
     },
     "user_tz": 180
    },
    "id": "id9aIXnzqYJz"
   },
   "outputs": [],
   "source": [
    "import duckdb\n",
    "import pandas as pd\n",
    "import os\n",
    "\n"
   ]
  },
  {
   "cell_type": "code",
   "execution_count": 8,
   "metadata": {
    "executionInfo": {
     "elapsed": 2,
     "status": "ok",
     "timestamp": 1729771957676,
     "user": {
      "displayName": "Jose Chelquer",
      "userId": "09375279337890014087"
     },
     "user_tz": 180
    },
    "id": "EMW6DLm6hDhh"
   },
   "outputs": [],
   "source": [
    "input_gz=dataset_file.endswith('.gz')\n",
    "output_gz=output_file.endswith('.gz')"
   ]
  },
  {
   "cell_type": "code",
   "execution_count": 9,
   "metadata": {
    "executionInfo": {
     "elapsed": 4211,
     "status": "ok",
     "timestamp": 1729771961885,
     "user": {
      "displayName": "Jose Chelquer",
      "userId": "09375279337890014087"
     },
     "user_tz": 180
    },
    "id": "8Zbo9y4vKalM"
   },
   "outputs": [],
   "source": [
    "file_path = os.path.join(dataset_path, dataset_file)\n",
    "# Conectar a una base de datos en memoria o en un archivo\n",
    "duckdb_path=os.path.join(dataset_path, duckdb_file)\n",
    "\n",
    "conn = duckdb.connect(duckdb_path)\n"
   ]
  },
  {
   "cell_type": "code",
   "execution_count": 38,
   "metadata": {
    "executionInfo": {
     "elapsed": 348,
     "status": "ok",
     "timestamp": 1729774125084,
     "user": {
      "displayName": "Jose Chelquer",
      "userId": "09375279337890014087"
     },
     "user_tz": 180
    },
    "id": "t9y2bOQ7PAUC"
   },
   "outputs": [],
   "source": [
    "def do_sql(sql):\n",
    "  print (sql)\n",
    "  resultado=conn.execute(sql).fetchall()\n",
    "  print(resultado)\n",
    "\n",
    "def get_sql(sql):\n",
    "  print (sql)\n",
    "  resultado=conn.execute(sql).fetchall()\n",
    "  return resultado"
   ]
  },
  {
   "cell_type": "code",
   "execution_count": 41,
   "metadata": {
    "colab": {
     "base_uri": "https://localhost:8080/",
     "height": 104,
     "referenced_widgets": [
      "f70229bf0fad448095e174d722150ce0",
      "ecdc576f4dcb4cb787fb4182d30025f5",
      "d783d9b8eb0147bfaa61e168f0ad24ff"
     ]
    },
    "executionInfo": {
     "elapsed": 21817,
     "status": "ok",
     "timestamp": 1729774221692,
     "user": {
      "displayName": "Jose Chelquer",
      "userId": "09375279337890014087"
     },
     "user_tz": 180
    },
    "id": "DeC9ZQJZPAy2",
    "outputId": "2085fe0a-72ff-4992-a292-ab0d0decbb26"
   },
   "outputs": [
    {
     "name": "stdout",
     "output_type": "stream",
     "text": [
      "CREATE TABLE competencia_02 AS SELECT * FROM read_csv_auto('/content/drive/MyDrive/Data Science y similares/Maestría Data Mining Exactas/dmeyf/dmeyf2024/datasets/competencia_01_sin_nan.csv')\n"
     ]
    },
    {
     "data": {
      "application/vnd.jupyter.widget-view+json": {
       "model_id": "f70229bf0fad448095e174d722150ce0",
       "version_major": 2,
       "version_minor": 0
      },
      "text/plain": [
       "FloatProgress(value=0.0, layout=Layout(width='auto'), style=ProgressStyle(bar_color='black'))"
      ]
     },
     "metadata": {},
     "output_type": "display_data"
    },
    {
     "data": {
      "text/plain": [
       "<duckdb.duckdb.DuckDBPyConnection at 0x79ae9df2f4b0>"
      ]
     },
     "execution_count": 41,
     "metadata": {},
     "output_type": "execute_result"
    }
   ],
   "source": [
    "# Leer el CSV y cargarlo en una tabla de DuckDB\n",
    "sql=f\"DROP TABLE IF EXISTS competencia_02\"\n",
    "conn.execute(sql)\n",
    "if input_gz:\n",
    "  sql = f\"CREATE TABLE competencia_02 AS SELECT * FROM read_csv_auto('{file_path}', COMPRESSION='GZIP')\"\n",
    "else:\n",
    "  sql = f\"CREATE TABLE competencia_02 AS SELECT * FROM read_csv_auto('{file_path}')\"\n",
    "print (sql)\n",
    "conn.execute(sql)\n"
   ]
  },
  {
   "cell_type": "markdown",
   "metadata": {
    "id": "EBy47muscoaN"
   },
   "source": [
    "## Listas de de variables"
   ]
  },
  {
   "cell_type": "code",
   "execution_count": 42,
   "metadata": {
    "executionInfo": {
     "elapsed": 9,
     "status": "ok",
     "timestamp": 1729774221692,
     "user": {
      "displayName": "Jose Chelquer",
      "userId": "09375279337890014087"
     },
     "user_tz": 180
    },
    "id": "fY0u6vd4Yr_b"
   },
   "outputs": [],
   "source": [
    "# Variables dinero originales (después se le agregarán las creadas en base a ellas)\n",
    "dinero=[\n",
    " 'mrentabilidad',\n",
    " 'mrentabilidad_annual',\n",
    " 'mcomisiones',\n",
    " 'mactivos_margen',\n",
    " 'mpasivos_margen',\n",
    " 'mcuenta_corriente_adicional',\n",
    " 'mcuenta_corriente',\n",
    " 'mcaja_ahorro',\n",
    " 'mcaja_ahorro_adicional',\n",
    " 'mcaja_ahorro_dolares',\n",
    " 'mcuentas_saldo',\n",
    " 'mautoservicio',\n",
    " 'mtarjeta_visa_consumo',\n",
    " 'mtarjeta_master_consumo',\n",
    " 'mprestamos_personales',\n",
    " 'mprestamos_prendarios',\n",
    " 'mprestamos_hipotecarios',\n",
    " 'mplazo_fijo_dolares',\n",
    " 'mplazo_fijo_pesos',\n",
    " 'minversion1_pesos',\n",
    " 'minversion1_dolares',\n",
    " 'minversion2',\n",
    " 'mpayroll',\n",
    " 'mpayroll2',\n",
    " 'mcuenta_debitos_automaticos',\n",
    " 'mttarjeta_visa_debitos_automaticos',\n",
    " 'mttarjeta_master_debitos_automaticos',\n",
    " 'mpagodeservicios',\n",
    " 'mpagomiscuentas',\n",
    " 'mcajeros_propios_descuentos',\n",
    " 'mtarjeta_visa_descuentos',\n",
    " 'mtarjeta_master_descuentos',\n",
    " 'mcomisiones_mantenimiento',\n",
    " 'mcomisiones_otras',\n",
    " 'mforex_buy',\n",
    " 'mforex_sell',\n",
    " 'mtransferencias_recibidas',\n",
    " 'mtransferencias_emitidas',\n",
    " 'mextraccion_autoservicio',\n",
    " 'mcheques_depositados',\n",
    " 'mcheques_emitidos',\n",
    " 'mcheques_depositados_rechazados',\n",
    " 'mcheques_emitidos_rechazados',\n",
    " 'matm',\n",
    " 'matm_other',\n",
    " 'Master_mfinanciacion_limite',\n",
    " 'Master_msaldototal',\n",
    " 'Master_msaldopesos',\n",
    " 'Master_msaldodolares',\n",
    " 'Master_mconsumospesos',\n",
    " 'Master_mconsumosdolares',\n",
    " 'Master_mlimitecompra',\n",
    " 'Master_madelantopesos',\n",
    " 'Master_madelantodolares',\n",
    " 'Master_mpagado',\n",
    " 'Master_mpagospesos',\n",
    " 'Master_mpagosdolares',\n",
    " 'Master_mconsumototal',\n",
    " 'Master_mpagominimo',\n",
    " 'Visa_mfinanciacion_limite',\n",
    " 'Visa_msaldototal',\n",
    " 'Visa_msaldopesos',\n",
    " 'Visa_msaldodolares',\n",
    " 'Visa_mconsumospesos',\n",
    " 'Visa_mconsumosdolares',\n",
    " 'Visa_mlimitecompra',\n",
    " 'Visa_madelantopesos',\n",
    " 'Visa_madelantodolares',\n",
    " 'Visa_mpagado',\n",
    " 'Visa_mpagospesos',\n",
    " 'Visa_mpagosdolares',\n",
    " 'Visa_mconsumototal',\n",
    " 'Visa_mpagominimo',\n",
    "]\n"
   ]
  },
  {
   "cell_type": "code",
   "execution_count": 43,
   "metadata": {
    "colab": {
     "base_uri": "https://localhost:8080/"
    },
    "executionInfo": {
     "elapsed": 9,
     "status": "ok",
     "timestamp": 1729774221692,
     "user": {
      "displayName": "Jose Chelquer",
      "userId": "09375279337890014087"
     },
     "user_tz": 180
    },
    "id": "KmOP6dcaCYKR",
    "outputId": "3cad6a38-d5c5-44f0-8cdb-834a1c873fa0"
   },
   "outputs": [
    {
     "name": "stdout",
     "output_type": "stream",
     "text": [
      "CREATE OR REPLACE MACRO suma_sin_null(a, b) AS ifnull(a, 0) + ifnull(b, 0);\n",
      "[]\n"
     ]
    }
   ],
   "source": [
    "# Crea macro de suma_sin_null\n",
    "do_sql('CREATE OR REPLACE MACRO suma_sin_null(a, b) AS ifnull(a, 0) + ifnull(b, 0);')\n",
    "\n"
   ]
  },
  {
   "cell_type": "code",
   "execution_count": 51,
   "metadata": {
    "executionInfo": {
     "elapsed": 371,
     "status": "ok",
     "timestamp": 1729774513012,
     "user": {
      "displayName": "Jose Chelquer",
      "userId": "09375279337890014087"
     },
     "user_tz": 180
    },
    "id": "WhJBuEfKV8QM"
   },
   "outputs": [],
   "source": [
    "# Obtiene lista de columnas\n",
    "def columnas(tabla):\n",
    "  sql=f\"\"\"\n",
    "  SELECT column_name\n",
    "  FROM information_schema.columns\n",
    "  WHERE table_name = '{tabla}';\n",
    "  \"\"\"\n",
    "  lista=get_sql(sql)\n",
    "  lista=[elemento[0] for elemento in lista]\n",
    "\n",
    "  return lista\n",
    "\n",
    "\n",
    "# Prepara las sumas sin null\n",
    "def agregables_a(a_sumar, lista):\n",
    "  # Seleccionan de todos los campo#\n",
    "  # aquellos cuyos sumandos están en la lista\n",
    "  a_agregar=[]\n",
    "  for caso in a_sumar:\n",
    "    if set(caso[0]).issubset(set(lista)):\n",
    "      a_agregar.append(caso[1])\n",
    "  return a_agregar\n",
    "\n",
    "def crear_suma_sin_null_un_caso(caso):\n",
    "  sumandos=caso[0]\n",
    "  resultado=caso[1]\n",
    "# Construye la línea\n",
    "  linea=sumandos[0]\n",
    "\n",
    "  sumandos=caso[0]\n",
    "  suma=caso[1]\n",
    "  linea=f'{sumandos[0]}'\n",
    "  for sumando in sumandos[1:]:\n",
    "    linea=f'suma_sin_null({sumando}, {linea})'\n",
    "  linea=f'{linea} as {resultado}'\n",
    "  return linea\n",
    "\n",
    "def lista_suma_sin_null (a_sumar):\n",
    "  lineas=[]\n",
    "  for caso in a_sumar:\n",
    "    lineas.append(crear_suma_sin_null_un_caso(caso))\n",
    "  return lineas\n",
    "\n",
    "def sql_sumar_sin_null(a_sumar, tabla):\n",
    "  lista=lista_suma_sin_null(a_sumar)\n",
    "  texto_con_saltos = \"\\n,\".join(lista)\n",
    "  sql=f'create or replace table {tabla} as \\n  select *, {texto_con_saltos}\\nfrom {tabla};'\n",
    "  return sql\n",
    "\n",
    "def lista_de_sumandos(a_sumar):\n",
    "  return[elemento for sublista in a_sumar for elemento in sublista[0]]\n",
    "\n",
    "def sql_eliminar_columnas(columnas, tabla):\n",
    "    # Unir las columnas en un formato adecuado para el SQL\n",
    "    sql = '; \\n'.join([f\"ALTER TABLE {tabla} DROP COLUMN {col}\" for col in columnas])\n",
    "    return sql"
   ]
  },
  {
   "cell_type": "markdown",
   "metadata": {
    "id": "O97-Ektnj-yU"
   },
   "source": [
    "## Campos suma"
   ]
  },
  {
   "cell_type": "code",
   "execution_count": 45,
   "metadata": {
    "colab": {
     "base_uri": "https://localhost:8080/",
     "height": 1000,
     "referenced_widgets": [
      "d24fcb3c67db4a1c93ee374348c99b4a",
      "e717934f912e4ba990fe40552a11f415",
      "53f275d92c284d96a5573d2e649178cd"
     ]
    },
    "executionInfo": {
     "elapsed": 11522,
     "status": "ok",
     "timestamp": 1729774233210,
     "user": {
      "displayName": "Jose Chelquer",
      "userId": "09375279337890014087"
     },
     "user_tz": 180
    },
    "id": "dg06Em_gcdst",
    "outputId": "69a5bf52-551a-441f-8cc8-9f984304d406"
   },
   "outputs": [
    {
     "name": "stdout",
     "output_type": "stream",
     "text": [
      "create or replace table competencia_02 as \n",
      "  select *, suma_sin_null(ctarjeta_master, ctarjeta_visa) as ctarjeta\n",
      ",suma_sin_null(ctarjeta_master_transacciones, ctarjeta_visa_transacciones) as ctarjeta_transacciones\n",
      ",suma_sin_null(mtarjeta_master_consumo, mtarjeta_visa_consumo) as mtarjeta_consumo\n",
      ",suma_sin_null(cprestamos_hipotecarios, suma_sin_null(cprestamos_prendarios, cprestamos_personales)) as cprestamos\n",
      ",suma_sin_null(mprestamos_hipotecarios, suma_sin_null(mprestamos_prendarios, mprestamos_personales)) as mprestamos\n",
      ",suma_sin_null(cinversion2, suma_sin_null(cinversion1, cplazo_fijo)) as cinversion\n",
      ",suma_sin_null(minversion2, suma_sin_null(minversion1_pesos, mplazo_fijo_pesos)) as minversion_pesos\n",
      ",suma_sin_null(minversion1_dolares, mplazo_fijo_dolares) as minversion_dolares\n",
      ",suma_sin_null(cseguro_accidentes_personales, suma_sin_null(cseguro_vivienda, suma_sin_null(cseguro_auto, cseguro_vida))) as cseguro\n",
      ",suma_sin_null(ctarjeta_master_debitos_automaticos, ctarjeta_visa_debitos_automaticos) as ctarjeta_debitos_automaticos\n",
      ",suma_sin_null(mttarjeta_master_debitos_automaticos, mttarjeta_visa_debitos_automaticos) as mtarjeta_debitos_automaticos\n",
      ",suma_sin_null(cpagomiscuentas, cpagodeservicios) as cpagos\n",
      ",suma_sin_null(mpagomiscuentas, mpagodeservicios) as mpagos\n",
      ",suma_sin_null(Visa_msaldopesos, Master_msaldopesos) as Tarjeta_msaldopesos\n",
      ",suma_sin_null(Visa_msaldodolares, Master_msaldodolares) as Tarjeta_msaldodolares\n",
      ",suma_sin_null(Visa_msaldototal, Master_msaldototal) as Tarjeta_msaldototal\n",
      ",suma_sin_null(Visa_mconsumospesos, Master_mconsumospesos) as Tarjeta_mconsumospesos\n",
      ",suma_sin_null(Visa_mconsumosdolares, Master_mconsumosdolares) as Tarjeta_mconsumosdolares\n",
      ",suma_sin_null(Visa_mlimitecompra, Master_mlimitecompra) as Tarjeta_mlimitecompra\n",
      ",suma_sin_null(Visa_madelantopesos, Master_madelantopesos) as Tarjeta_madelantopesos\n",
      ",suma_sin_null(Visa_madelantodolares, Master_madelantodolares) as Tarjeta_madelantodolares\n",
      ",suma_sin_null(Visa_mpagado, Master_mpagado) as Tarjeta_mpagado\n",
      ",suma_sin_null(Visa_mpagospesos, Master_mpagospesos) as Tarjeta_mpagospesos\n",
      ",suma_sin_null(Visa_mpagosdolares, Master_mpagosdolares) as Tarjeta_mpagosdolares\n",
      ",suma_sin_null(Visa_mconsumototal, Master_mconsumototal) as Tarjeta_mconsumototal\n",
      ",suma_sin_null(Visa_cadelantosefectivo, Master_cadelantosefectivo) as Tarjeta_cadelantosefectivo\n",
      ",suma_sin_null(Visa_mpagominimo, Master_mpagominimo) as Tarjeta_mpagominimo\n",
      "from competencia_02;\n"
     ]
    },
    {
     "data": {
      "application/vnd.jupyter.widget-view+json": {
       "model_id": "d24fcb3c67db4a1c93ee374348c99b4a",
       "version_major": 2,
       "version_minor": 0
      },
      "text/plain": [
       "FloatProgress(value=0.0, layout=Layout(width='auto'), style=ProgressStyle(bar_color='black'))"
      ]
     },
     "metadata": {},
     "output_type": "display_data"
    },
    {
     "name": "stdout",
     "output_type": "stream",
     "text": [
      "[(981946,)]\n",
      "ALTER TABLE competencia_02 DROP COLUMN ctarjeta_visa; \n",
      "ALTER TABLE competencia_02 DROP COLUMN ctarjeta_master; \n",
      "ALTER TABLE competencia_02 DROP COLUMN ctarjeta_visa_transacciones; \n",
      "ALTER TABLE competencia_02 DROP COLUMN ctarjeta_master_transacciones; \n",
      "ALTER TABLE competencia_02 DROP COLUMN mtarjeta_visa_consumo; \n",
      "ALTER TABLE competencia_02 DROP COLUMN mtarjeta_master_consumo; \n",
      "ALTER TABLE competencia_02 DROP COLUMN cprestamos_personales; \n",
      "ALTER TABLE competencia_02 DROP COLUMN cprestamos_prendarios; \n",
      "ALTER TABLE competencia_02 DROP COLUMN cprestamos_hipotecarios; \n",
      "ALTER TABLE competencia_02 DROP COLUMN mprestamos_personales; \n",
      "ALTER TABLE competencia_02 DROP COLUMN mprestamos_prendarios; \n",
      "ALTER TABLE competencia_02 DROP COLUMN mprestamos_hipotecarios; \n",
      "ALTER TABLE competencia_02 DROP COLUMN cplazo_fijo; \n",
      "ALTER TABLE competencia_02 DROP COLUMN cinversion1; \n",
      "ALTER TABLE competencia_02 DROP COLUMN cinversion2; \n",
      "ALTER TABLE competencia_02 DROP COLUMN mplazo_fijo_pesos; \n",
      "ALTER TABLE competencia_02 DROP COLUMN minversion1_pesos; \n",
      "ALTER TABLE competencia_02 DROP COLUMN minversion2; \n",
      "ALTER TABLE competencia_02 DROP COLUMN mplazo_fijo_dolares; \n",
      "ALTER TABLE competencia_02 DROP COLUMN minversion1_dolares; \n",
      "ALTER TABLE competencia_02 DROP COLUMN cseguro_vida; \n",
      "ALTER TABLE competencia_02 DROP COLUMN cseguro_auto; \n",
      "ALTER TABLE competencia_02 DROP COLUMN cseguro_vivienda; \n",
      "ALTER TABLE competencia_02 DROP COLUMN cseguro_accidentes_personales; \n",
      "ALTER TABLE competencia_02 DROP COLUMN ctarjeta_visa_debitos_automaticos; \n",
      "ALTER TABLE competencia_02 DROP COLUMN ctarjeta_master_debitos_automaticos; \n",
      "ALTER TABLE competencia_02 DROP COLUMN mttarjeta_visa_debitos_automaticos; \n",
      "ALTER TABLE competencia_02 DROP COLUMN mttarjeta_master_debitos_automaticos; \n",
      "ALTER TABLE competencia_02 DROP COLUMN cpagodeservicios; \n",
      "ALTER TABLE competencia_02 DROP COLUMN cpagomiscuentas; \n",
      "ALTER TABLE competencia_02 DROP COLUMN mpagodeservicios; \n",
      "ALTER TABLE competencia_02 DROP COLUMN mpagomiscuentas; \n",
      "ALTER TABLE competencia_02 DROP COLUMN Master_msaldopesos; \n",
      "ALTER TABLE competencia_02 DROP COLUMN Visa_msaldopesos; \n",
      "ALTER TABLE competencia_02 DROP COLUMN Master_msaldodolares; \n",
      "ALTER TABLE competencia_02 DROP COLUMN Visa_msaldodolares; \n",
      "ALTER TABLE competencia_02 DROP COLUMN Master_msaldototal; \n",
      "ALTER TABLE competencia_02 DROP COLUMN Visa_msaldototal; \n",
      "ALTER TABLE competencia_02 DROP COLUMN Master_mconsumospesos; \n",
      "ALTER TABLE competencia_02 DROP COLUMN Visa_mconsumospesos; \n",
      "ALTER TABLE competencia_02 DROP COLUMN Master_mconsumosdolares; \n",
      "ALTER TABLE competencia_02 DROP COLUMN Visa_mconsumosdolares; \n",
      "ALTER TABLE competencia_02 DROP COLUMN Master_mlimitecompra; \n",
      "ALTER TABLE competencia_02 DROP COLUMN Visa_mlimitecompra; \n",
      "ALTER TABLE competencia_02 DROP COLUMN Master_madelantopesos; \n",
      "ALTER TABLE competencia_02 DROP COLUMN Visa_madelantopesos; \n",
      "ALTER TABLE competencia_02 DROP COLUMN Master_madelantodolares; \n",
      "ALTER TABLE competencia_02 DROP COLUMN Visa_madelantodolares; \n",
      "ALTER TABLE competencia_02 DROP COLUMN Master_mpagado; \n",
      "ALTER TABLE competencia_02 DROP COLUMN Visa_mpagado; \n",
      "ALTER TABLE competencia_02 DROP COLUMN Master_mpagospesos; \n",
      "ALTER TABLE competencia_02 DROP COLUMN Visa_mpagospesos; \n",
      "ALTER TABLE competencia_02 DROP COLUMN Master_mpagosdolares; \n",
      "ALTER TABLE competencia_02 DROP COLUMN Visa_mpagosdolares; \n",
      "ALTER TABLE competencia_02 DROP COLUMN Master_mconsumototal; \n",
      "ALTER TABLE competencia_02 DROP COLUMN Visa_mconsumototal; \n",
      "ALTER TABLE competencia_02 DROP COLUMN Master_cadelantosefectivo; \n",
      "ALTER TABLE competencia_02 DROP COLUMN Visa_cadelantosefectivo; \n",
      "ALTER TABLE competencia_02 DROP COLUMN Master_mpagominimo; \n",
      "ALTER TABLE competencia_02 DROP COLUMN Visa_mpagominimo\n",
      "[]\n"
     ]
    }
   ],
   "source": [
    "# Agrega los nuevos campos dinero\n",
    "dinero.extend(agregables_a(a_sumar, dinero))\n",
    "\n",
    "# Crea kas variables suma\n",
    "sql=sql_sumar_sin_null(a_sumar, 'competencia_02')\n",
    "do_sql(sql)\n",
    "\n",
    "# Elimina las originales\n",
    "if a_sumar_eliminar_originales:\n",
    "  sql=sql_eliminar_columnas(lista_de_sumandos(a_sumar), 'competencia_02')\n",
    "  do_sql(sql)"
   ]
  },
  {
   "cell_type": "code",
   "execution_count": 46,
   "metadata": {
    "colab": {
     "base_uri": "https://localhost:8080/"
    },
    "executionInfo": {
     "elapsed": 587,
     "status": "ok",
     "timestamp": 1729774241026,
     "user": {
      "displayName": "Jose Chelquer",
      "userId": "09375279337890014087"
     },
     "user_tz": 180
    },
    "id": "gyeHiaabvdfD",
    "outputId": "0dede5a0-3e17-4f20-8408-b80548f17fa3"
   },
   "outputs": [
    {
     "name": "stdout",
     "output_type": "stream",
     "text": [
      "\n",
      "CREATE OR REPLACE MACRO division_segura (a, b) AS (\n",
      "  CASE\n",
      "    WHEN b IS NULL THEN 0\n",
      "    WHEN a IS NULL THEN 0\n",
      "    WHEN b = 0 THEN 0\n",
      "    WHEN a = 0 THEN 0\n",
      "    ELSE a / b\n",
      "  END\n",
      "  )\n",
      "\n",
      "[]\n"
     ]
    }
   ],
   "source": [
    "sql=\"\"\"\n",
    "CREATE OR REPLACE MACRO division_segura (a, b) AS (\n",
    "  CASE\n",
    "    WHEN b IS NULL THEN 0\n",
    "    WHEN a IS NULL THEN 0\n",
    "    WHEN b = 0 THEN 0\n",
    "    WHEN a = 0 THEN 0\n",
    "    ELSE a / b\n",
    "  END\n",
    "  )\n",
    "\"\"\"\n",
    "do_sql(sql)\n"
   ]
  },
  {
   "cell_type": "code",
   "execution_count": null,
   "metadata": {
    "id": "OPOmWkiQhPDx"
   },
   "outputs": [],
   "source": [
    "# grabar competencia aumentada con features\n",
    "def grabar_aumentada():\n",
    "  if output_gz:\n",
    "    output_file_path=os.path.join(dataset_path, output_file)\n",
    "    sql=(f\"COPY competencia_02 TO '{output_file_path}' (FORMAT CSV, HEADER, COMPRESSION 'GZIP')\")\n",
    "  else:\n",
    "    sql=(f\"COPY competencia_02 TO '{output_file_path}' (FORMAT CSV, HEADER)\")\n",
    "  print (f\"Se grabó {output_file_path}\")\n"
   ]
  },
  {
   "cell_type": "markdown",
   "metadata": {
    "id": "KGquuHUhYp0-"
   },
   "source": [
    "## Grupos de variables"
   ]
  },
  {
   "cell_type": "code",
   "execution_count": null,
   "metadata": {
    "colab": {
     "base_uri": "https://localhost:8080/",
     "height": 505,
     "referenced_widgets": [
      "79828b1f37a6454082d03b908f13e83e",
      "ff4884654d4749b39e4559c8d4f3fb7e",
      "c27f2aca316f4a2f85b7657bb483fa21",
      "a46e52d13efc4d67ae0aff60092726cd",
      "23511db6e06f49cfae1db45dab4564f7",
      "003ca3eef9024c2c9b89ebc256306f73"
     ]
    },
    "executionInfo": {
     "elapsed": 61624,
     "status": "ok",
     "timestamp": 1727803718217,
     "user": {
      "displayName": "Jose Chelquer",
      "userId": "09375279337890014087"
     },
     "user_tz": 180
    },
    "id": "lwFjk5_9JAhC",
    "outputId": "80564ef3-4ae8-432a-c77f-b737197b46b2"
   },
   "outputs": [
    {
     "data": {
      "application/vnd.jupyter.widget-view+json": {
       "model_id": "79828b1f37a6454082d03b908f13e83e",
       "version_major": 2,
       "version_minor": 0
      },
      "text/plain": [
       "FloatProgress(value=0.0, layout=Layout(width='auto'), style=ProgressStyle(bar_color='black'))"
      ]
     },
     "metadata": {},
     "output_type": "display_data"
    },
    {
     "data": {
      "application/vnd.jupyter.widget-view+json": {
       "model_id": "a46e52d13efc4d67ae0aff60092726cd",
       "version_major": 2,
       "version_minor": 0
      },
      "text/plain": [
       "FloatProgress(value=0.0, layout=Layout(width='auto'), style=ProgressStyle(bar_color='black'))"
      ]
     },
     "metadata": {},
     "output_type": "display_data"
    },
    {
     "data": {
      "application/vnd.google.colaboratory.intrinsic+json": {
       "type": "dataframe"
      },
      "text/html": [
       "\n",
       "  <div id=\"df-c47bcff9-8ef2-492f-abd6-4802b1961d24\" class=\"colab-df-container\">\n",
       "    <div>\n",
       "<style scoped>\n",
       "    .dataframe tbody tr th:only-of-type {\n",
       "        vertical-align: middle;\n",
       "    }\n",
       "\n",
       "    .dataframe tbody tr th {\n",
       "        vertical-align: top;\n",
       "    }\n",
       "\n",
       "    .dataframe thead th {\n",
       "        text-align: right;\n",
       "    }\n",
       "</style>\n",
       "<table border=\"1\" class=\"dataframe\">\n",
       "  <thead>\n",
       "    <tr style=\"text-align: right;\">\n",
       "      <th></th>\n",
       "      <th>numero_de_cliente</th>\n",
       "      <th>foto_mes</th>\n",
       "      <th>active_quarter</th>\n",
       "      <th>cliente_vip</th>\n",
       "      <th>internet</th>\n",
       "      <th>cliente_edad</th>\n",
       "      <th>cliente_antiguedad</th>\n",
       "      <th>mrentabilidad</th>\n",
       "      <th>mrentabilidad_annual</th>\n",
       "      <th>mcomisiones</th>\n",
       "      <th>...</th>\n",
       "      <th>ratio_comisiones_recursos</th>\n",
       "      <th>ratio_comisiones_recursos_1</th>\n",
       "      <th>foto_mes_1</th>\n",
       "      <th>numero_de_cliente_1</th>\n",
       "      <th>cliente_antiguedad_1</th>\n",
       "      <th>cliente_antiguedad_2</th>\n",
       "      <th>cliente_antiguedad_3</th>\n",
       "      <th>cliente_antiguedad_4</th>\n",
       "      <th>cliente_antiguedad_5</th>\n",
       "      <th>cliente_antiguedad_6</th>\n",
       "    </tr>\n",
       "  </thead>\n",
       "  <tbody>\n",
       "    <tr>\n",
       "      <th>0</th>\n",
       "      <td>249221109</td>\n",
       "      <td>202101</td>\n",
       "      <td>1</td>\n",
       "      <td>0</td>\n",
       "      <td>0</td>\n",
       "      <td>61</td>\n",
       "      <td>300</td>\n",
       "      <td>1664.94</td>\n",
       "      <td>17994.40</td>\n",
       "      <td>1605.81</td>\n",
       "      <td>...</td>\n",
       "      <td>0.022461</td>\n",
       "      <td>0.0</td>\n",
       "      <td>202101</td>\n",
       "      <td>249221109</td>\n",
       "      <td>300</td>\n",
       "      <td>1</td>\n",
       "      <td>0.947564</td>\n",
       "      <td>0.947947</td>\n",
       "      <td>4</td>\n",
       "      <td>10</td>\n",
       "    </tr>\n",
       "    <tr>\n",
       "      <th>1</th>\n",
       "      <td>249221109</td>\n",
       "      <td>202102</td>\n",
       "      <td>1</td>\n",
       "      <td>0</td>\n",
       "      <td>0</td>\n",
       "      <td>61</td>\n",
       "      <td>301</td>\n",
       "      <td>1002.92</td>\n",
       "      <td>18337.34</td>\n",
       "      <td>1312.91</td>\n",
       "      <td>...</td>\n",
       "      <td>0.012355</td>\n",
       "      <td>0.0</td>\n",
       "      <td>202102</td>\n",
       "      <td>249221109</td>\n",
       "      <td>301</td>\n",
       "      <td>2</td>\n",
       "      <td>0.947831</td>\n",
       "      <td>0.948213</td>\n",
       "      <td>4</td>\n",
       "      <td>10</td>\n",
       "    </tr>\n",
       "    <tr>\n",
       "      <th>2</th>\n",
       "      <td>249221109</td>\n",
       "      <td>202103</td>\n",
       "      <td>1</td>\n",
       "      <td>0</td>\n",
       "      <td>0</td>\n",
       "      <td>61</td>\n",
       "      <td>302</td>\n",
       "      <td>769.74</td>\n",
       "      <td>18596.58</td>\n",
       "      <td>1662.56</td>\n",
       "      <td>...</td>\n",
       "      <td>0.024973</td>\n",
       "      <td>0.0</td>\n",
       "      <td>202103</td>\n",
       "      <td>249221109</td>\n",
       "      <td>302</td>\n",
       "      <td>3</td>\n",
       "      <td>0.948291</td>\n",
       "      <td>0.948670</td>\n",
       "      <td>4</td>\n",
       "      <td>10</td>\n",
       "    </tr>\n",
       "    <tr>\n",
       "      <th>3</th>\n",
       "      <td>249221109</td>\n",
       "      <td>202104</td>\n",
       "      <td>1</td>\n",
       "      <td>0</td>\n",
       "      <td>0</td>\n",
       "      <td>62</td>\n",
       "      <td>303</td>\n",
       "      <td>1532.79</td>\n",
       "      <td>19935.00</td>\n",
       "      <td>1899.52</td>\n",
       "      <td>...</td>\n",
       "      <td>0.009814</td>\n",
       "      <td>0.0</td>\n",
       "      <td>202104</td>\n",
       "      <td>249221109</td>\n",
       "      <td>303</td>\n",
       "      <td>4</td>\n",
       "      <td>0.948638</td>\n",
       "      <td>0.949016</td>\n",
       "      <td>4</td>\n",
       "      <td>10</td>\n",
       "    </tr>\n",
       "    <tr>\n",
       "      <th>4</th>\n",
       "      <td>249221109</td>\n",
       "      <td>202105</td>\n",
       "      <td>1</td>\n",
       "      <td>0</td>\n",
       "      <td>0</td>\n",
       "      <td>62</td>\n",
       "      <td>304</td>\n",
       "      <td>1804.14</td>\n",
       "      <td>20862.15</td>\n",
       "      <td>2693.91</td>\n",
       "      <td>...</td>\n",
       "      <td>0.094253</td>\n",
       "      <td>0.0</td>\n",
       "      <td>202105</td>\n",
       "      <td>249221109</td>\n",
       "      <td>304</td>\n",
       "      <td>5</td>\n",
       "      <td>0.948950</td>\n",
       "      <td>0.949327</td>\n",
       "      <td>4</td>\n",
       "      <td>10</td>\n",
       "    </tr>\n",
       "    <tr>\n",
       "      <th>...</th>\n",
       "      <td>...</td>\n",
       "      <td>...</td>\n",
       "      <td>...</td>\n",
       "      <td>...</td>\n",
       "      <td>...</td>\n",
       "      <td>...</td>\n",
       "      <td>...</td>\n",
       "      <td>...</td>\n",
       "      <td>...</td>\n",
       "      <td>...</td>\n",
       "      <td>...</td>\n",
       "      <td>...</td>\n",
       "      <td>...</td>\n",
       "      <td>...</td>\n",
       "      <td>...</td>\n",
       "      <td>...</td>\n",
       "      <td>...</td>\n",
       "      <td>...</td>\n",
       "      <td>...</td>\n",
       "      <td>...</td>\n",
       "      <td>...</td>\n",
       "    </tr>\n",
       "    <tr>\n",
       "      <th>981941</th>\n",
       "      <td>1598444941</td>\n",
       "      <td>202106</td>\n",
       "      <td>0</td>\n",
       "      <td>0</td>\n",
       "      <td>0</td>\n",
       "      <td>27</td>\n",
       "      <td>1</td>\n",
       "      <td>0.00</td>\n",
       "      <td>0.00</td>\n",
       "      <td>0.00</td>\n",
       "      <td>...</td>\n",
       "      <td>0.000000</td>\n",
       "      <td>0.0</td>\n",
       "      <td>202106</td>\n",
       "      <td>1598444941</td>\n",
       "      <td>1</td>\n",
       "      <td>1</td>\n",
       "      <td>0.000000</td>\n",
       "      <td>0.001553</td>\n",
       "      <td>1</td>\n",
       "      <td>1</td>\n",
       "    </tr>\n",
       "    <tr>\n",
       "      <th>981942</th>\n",
       "      <td>1598471047</td>\n",
       "      <td>202106</td>\n",
       "      <td>1</td>\n",
       "      <td>0</td>\n",
       "      <td>0</td>\n",
       "      <td>28</td>\n",
       "      <td>1</td>\n",
       "      <td>95.20</td>\n",
       "      <td>95.20</td>\n",
       "      <td>0.00</td>\n",
       "      <td>...</td>\n",
       "      <td>0.000000</td>\n",
       "      <td>0.0</td>\n",
       "      <td>202106</td>\n",
       "      <td>1598471047</td>\n",
       "      <td>1</td>\n",
       "      <td>1</td>\n",
       "      <td>0.000000</td>\n",
       "      <td>0.001553</td>\n",
       "      <td>1</td>\n",
       "      <td>1</td>\n",
       "    </tr>\n",
       "    <tr>\n",
       "      <th>981943</th>\n",
       "      <td>1598515897</td>\n",
       "      <td>202106</td>\n",
       "      <td>0</td>\n",
       "      <td>0</td>\n",
       "      <td>0</td>\n",
       "      <td>30</td>\n",
       "      <td>1</td>\n",
       "      <td>72.08</td>\n",
       "      <td>72.08</td>\n",
       "      <td>0.00</td>\n",
       "      <td>...</td>\n",
       "      <td>0.000000</td>\n",
       "      <td>0.0</td>\n",
       "      <td>202106</td>\n",
       "      <td>1598515897</td>\n",
       "      <td>1</td>\n",
       "      <td>1</td>\n",
       "      <td>0.000000</td>\n",
       "      <td>0.001553</td>\n",
       "      <td>1</td>\n",
       "      <td>1</td>\n",
       "    </tr>\n",
       "    <tr>\n",
       "      <th>981944</th>\n",
       "      <td>1598517059</td>\n",
       "      <td>202106</td>\n",
       "      <td>0</td>\n",
       "      <td>0</td>\n",
       "      <td>0</td>\n",
       "      <td>24</td>\n",
       "      <td>1</td>\n",
       "      <td>0.00</td>\n",
       "      <td>0.00</td>\n",
       "      <td>0.00</td>\n",
       "      <td>...</td>\n",
       "      <td>0.000000</td>\n",
       "      <td>0.0</td>\n",
       "      <td>202106</td>\n",
       "      <td>1598517059</td>\n",
       "      <td>1</td>\n",
       "      <td>1</td>\n",
       "      <td>0.000000</td>\n",
       "      <td>0.001553</td>\n",
       "      <td>1</td>\n",
       "      <td>1</td>\n",
       "    </tr>\n",
       "    <tr>\n",
       "      <th>981945</th>\n",
       "      <td>1598518152</td>\n",
       "      <td>202106</td>\n",
       "      <td>1</td>\n",
       "      <td>0</td>\n",
       "      <td>0</td>\n",
       "      <td>29</td>\n",
       "      <td>1</td>\n",
       "      <td>0.48</td>\n",
       "      <td>0.48</td>\n",
       "      <td>0.00</td>\n",
       "      <td>...</td>\n",
       "      <td>0.000000</td>\n",
       "      <td>0.0</td>\n",
       "      <td>202106</td>\n",
       "      <td>1598518152</td>\n",
       "      <td>1</td>\n",
       "      <td>1</td>\n",
       "      <td>0.000000</td>\n",
       "      <td>0.001553</td>\n",
       "      <td>1</td>\n",
       "      <td>1</td>\n",
       "    </tr>\n",
       "  </tbody>\n",
       "</table>\n",
       "<p>981946 rows × 194 columns</p>\n",
       "</div>\n",
       "    <div class=\"colab-df-buttons\">\n",
       "\n",
       "  <div class=\"colab-df-container\">\n",
       "    <button class=\"colab-df-convert\" onclick=\"convertToInteractive('df-c47bcff9-8ef2-492f-abd6-4802b1961d24')\"\n",
       "            title=\"Convert this dataframe to an interactive table.\"\n",
       "            style=\"display:none;\">\n",
       "\n",
       "  <svg xmlns=\"http://www.w3.org/2000/svg\" height=\"24px\" viewBox=\"0 -960 960 960\">\n",
       "    <path d=\"M120-120v-720h720v720H120Zm60-500h600v-160H180v160Zm220 220h160v-160H400v160Zm0 220h160v-160H400v160ZM180-400h160v-160H180v160Zm440 0h160v-160H620v160ZM180-180h160v-160H180v160Zm440 0h160v-160H620v160Z\"/>\n",
       "  </svg>\n",
       "    </button>\n",
       "\n",
       "  <style>\n",
       "    .colab-df-container {\n",
       "      display:flex;\n",
       "      gap: 12px;\n",
       "    }\n",
       "\n",
       "    .colab-df-convert {\n",
       "      background-color: #E8F0FE;\n",
       "      border: none;\n",
       "      border-radius: 50%;\n",
       "      cursor: pointer;\n",
       "      display: none;\n",
       "      fill: #1967D2;\n",
       "      height: 32px;\n",
       "      padding: 0 0 0 0;\n",
       "      width: 32px;\n",
       "    }\n",
       "\n",
       "    .colab-df-convert:hover {\n",
       "      background-color: #E2EBFA;\n",
       "      box-shadow: 0px 1px 2px rgba(60, 64, 67, 0.3), 0px 1px 3px 1px rgba(60, 64, 67, 0.15);\n",
       "      fill: #174EA6;\n",
       "    }\n",
       "\n",
       "    .colab-df-buttons div {\n",
       "      margin-bottom: 4px;\n",
       "    }\n",
       "\n",
       "    [theme=dark] .colab-df-convert {\n",
       "      background-color: #3B4455;\n",
       "      fill: #D2E3FC;\n",
       "    }\n",
       "\n",
       "    [theme=dark] .colab-df-convert:hover {\n",
       "      background-color: #434B5C;\n",
       "      box-shadow: 0px 1px 3px 1px rgba(0, 0, 0, 0.15);\n",
       "      filter: drop-shadow(0px 1px 2px rgba(0, 0, 0, 0.3));\n",
       "      fill: #FFFFFF;\n",
       "    }\n",
       "  </style>\n",
       "\n",
       "    <script>\n",
       "      const buttonEl =\n",
       "        document.querySelector('#df-c47bcff9-8ef2-492f-abd6-4802b1961d24 button.colab-df-convert');\n",
       "      buttonEl.style.display =\n",
       "        google.colab.kernel.accessAllowed ? 'block' : 'none';\n",
       "\n",
       "      async function convertToInteractive(key) {\n",
       "        const element = document.querySelector('#df-c47bcff9-8ef2-492f-abd6-4802b1961d24');\n",
       "        const dataTable =\n",
       "          await google.colab.kernel.invokeFunction('convertToInteractive',\n",
       "                                                    [key], {});\n",
       "        if (!dataTable) return;\n",
       "\n",
       "        const docLinkHtml = 'Like what you see? Visit the ' +\n",
       "          '<a target=\"_blank\" href=https://colab.research.google.com/notebooks/data_table.ipynb>data table notebook</a>'\n",
       "          + ' to learn more about interactive tables.';\n",
       "        element.innerHTML = '';\n",
       "        dataTable['output_type'] = 'display_data';\n",
       "        await google.colab.output.renderOutput(dataTable, element);\n",
       "        const docLink = document.createElement('div');\n",
       "        docLink.innerHTML = docLinkHtml;\n",
       "        element.appendChild(docLink);\n",
       "      }\n",
       "    </script>\n",
       "  </div>\n",
       "\n",
       "\n",
       "<div id=\"df-0105a28c-d53b-448b-9c3e-ca15a74f8b11\">\n",
       "  <button class=\"colab-df-quickchart\" onclick=\"quickchart('df-0105a28c-d53b-448b-9c3e-ca15a74f8b11')\"\n",
       "            title=\"Suggest charts\"\n",
       "            style=\"display:none;\">\n",
       "\n",
       "<svg xmlns=\"http://www.w3.org/2000/svg\" height=\"24px\"viewBox=\"0 0 24 24\"\n",
       "     width=\"24px\">\n",
       "    <g>\n",
       "        <path d=\"M19 3H5c-1.1 0-2 .9-2 2v14c0 1.1.9 2 2 2h14c1.1 0 2-.9 2-2V5c0-1.1-.9-2-2-2zM9 17H7v-7h2v7zm4 0h-2V7h2v10zm4 0h-2v-4h2v4z\"/>\n",
       "    </g>\n",
       "</svg>\n",
       "  </button>\n",
       "\n",
       "<style>\n",
       "  .colab-df-quickchart {\n",
       "      --bg-color: #E8F0FE;\n",
       "      --fill-color: #1967D2;\n",
       "      --hover-bg-color: #E2EBFA;\n",
       "      --hover-fill-color: #174EA6;\n",
       "      --disabled-fill-color: #AAA;\n",
       "      --disabled-bg-color: #DDD;\n",
       "  }\n",
       "\n",
       "  [theme=dark] .colab-df-quickchart {\n",
       "      --bg-color: #3B4455;\n",
       "      --fill-color: #D2E3FC;\n",
       "      --hover-bg-color: #434B5C;\n",
       "      --hover-fill-color: #FFFFFF;\n",
       "      --disabled-bg-color: #3B4455;\n",
       "      --disabled-fill-color: #666;\n",
       "  }\n",
       "\n",
       "  .colab-df-quickchart {\n",
       "    background-color: var(--bg-color);\n",
       "    border: none;\n",
       "    border-radius: 50%;\n",
       "    cursor: pointer;\n",
       "    display: none;\n",
       "    fill: var(--fill-color);\n",
       "    height: 32px;\n",
       "    padding: 0;\n",
       "    width: 32px;\n",
       "  }\n",
       "\n",
       "  .colab-df-quickchart:hover {\n",
       "    background-color: var(--hover-bg-color);\n",
       "    box-shadow: 0 1px 2px rgba(60, 64, 67, 0.3), 0 1px 3px 1px rgba(60, 64, 67, 0.15);\n",
       "    fill: var(--button-hover-fill-color);\n",
       "  }\n",
       "\n",
       "  .colab-df-quickchart-complete:disabled,\n",
       "  .colab-df-quickchart-complete:disabled:hover {\n",
       "    background-color: var(--disabled-bg-color);\n",
       "    fill: var(--disabled-fill-color);\n",
       "    box-shadow: none;\n",
       "  }\n",
       "\n",
       "  .colab-df-spinner {\n",
       "    border: 2px solid var(--fill-color);\n",
       "    border-color: transparent;\n",
       "    border-bottom-color: var(--fill-color);\n",
       "    animation:\n",
       "      spin 1s steps(1) infinite;\n",
       "  }\n",
       "\n",
       "  @keyframes spin {\n",
       "    0% {\n",
       "      border-color: transparent;\n",
       "      border-bottom-color: var(--fill-color);\n",
       "      border-left-color: var(--fill-color);\n",
       "    }\n",
       "    20% {\n",
       "      border-color: transparent;\n",
       "      border-left-color: var(--fill-color);\n",
       "      border-top-color: var(--fill-color);\n",
       "    }\n",
       "    30% {\n",
       "      border-color: transparent;\n",
       "      border-left-color: var(--fill-color);\n",
       "      border-top-color: var(--fill-color);\n",
       "      border-right-color: var(--fill-color);\n",
       "    }\n",
       "    40% {\n",
       "      border-color: transparent;\n",
       "      border-right-color: var(--fill-color);\n",
       "      border-top-color: var(--fill-color);\n",
       "    }\n",
       "    60% {\n",
       "      border-color: transparent;\n",
       "      border-right-color: var(--fill-color);\n",
       "    }\n",
       "    80% {\n",
       "      border-color: transparent;\n",
       "      border-right-color: var(--fill-color);\n",
       "      border-bottom-color: var(--fill-color);\n",
       "    }\n",
       "    90% {\n",
       "      border-color: transparent;\n",
       "      border-bottom-color: var(--fill-color);\n",
       "    }\n",
       "  }\n",
       "</style>\n",
       "\n",
       "  <script>\n",
       "    async function quickchart(key) {\n",
       "      const quickchartButtonEl =\n",
       "        document.querySelector('#' + key + ' button');\n",
       "      quickchartButtonEl.disabled = true;  // To prevent multiple clicks.\n",
       "      quickchartButtonEl.classList.add('colab-df-spinner');\n",
       "      try {\n",
       "        const charts = await google.colab.kernel.invokeFunction(\n",
       "            'suggestCharts', [key], {});\n",
       "      } catch (error) {\n",
       "        console.error('Error during call to suggestCharts:', error);\n",
       "      }\n",
       "      quickchartButtonEl.classList.remove('colab-df-spinner');\n",
       "      quickchartButtonEl.classList.add('colab-df-quickchart-complete');\n",
       "    }\n",
       "    (() => {\n",
       "      let quickchartButtonEl =\n",
       "        document.querySelector('#df-0105a28c-d53b-448b-9c3e-ca15a74f8b11 button');\n",
       "      quickchartButtonEl.style.display =\n",
       "        google.colab.kernel.accessAllowed ? 'block' : 'none';\n",
       "    })();\n",
       "  </script>\n",
       "</div>\n",
       "\n",
       "    </div>\n",
       "  </div>\n"
      ],
      "text/plain": [
       "        numero_de_cliente  foto_mes  active_quarter  cliente_vip  internet  \\\n",
       "0               249221109    202101               1            0         0   \n",
       "1               249221109    202102               1            0         0   \n",
       "2               249221109    202103               1            0         0   \n",
       "3               249221109    202104               1            0         0   \n",
       "4               249221109    202105               1            0         0   \n",
       "...                   ...       ...             ...          ...       ...   \n",
       "981941         1598444941    202106               0            0         0   \n",
       "981942         1598471047    202106               1            0         0   \n",
       "981943         1598515897    202106               0            0         0   \n",
       "981944         1598517059    202106               0            0         0   \n",
       "981945         1598518152    202106               1            0         0   \n",
       "\n",
       "        cliente_edad  cliente_antiguedad  mrentabilidad  mrentabilidad_annual  \\\n",
       "0                 61                 300        1664.94              17994.40   \n",
       "1                 61                 301        1002.92              18337.34   \n",
       "2                 61                 302         769.74              18596.58   \n",
       "3                 62                 303        1532.79              19935.00   \n",
       "4                 62                 304        1804.14              20862.15   \n",
       "...              ...                 ...            ...                   ...   \n",
       "981941            27                   1           0.00                  0.00   \n",
       "981942            28                   1          95.20                 95.20   \n",
       "981943            30                   1          72.08                 72.08   \n",
       "981944            24                   1           0.00                  0.00   \n",
       "981945            29                   1           0.48                  0.48   \n",
       "\n",
       "        mcomisiones  ...  ratio_comisiones_recursos  \\\n",
       "0           1605.81  ...                   0.022461   \n",
       "1           1312.91  ...                   0.012355   \n",
       "2           1662.56  ...                   0.024973   \n",
       "3           1899.52  ...                   0.009814   \n",
       "4           2693.91  ...                   0.094253   \n",
       "...             ...  ...                        ...   \n",
       "981941         0.00  ...                   0.000000   \n",
       "981942         0.00  ...                   0.000000   \n",
       "981943         0.00  ...                   0.000000   \n",
       "981944         0.00  ...                   0.000000   \n",
       "981945         0.00  ...                   0.000000   \n",
       "\n",
       "        ratio_comisiones_recursos_1  foto_mes_1  numero_de_cliente_1  \\\n",
       "0                               0.0      202101            249221109   \n",
       "1                               0.0      202102            249221109   \n",
       "2                               0.0      202103            249221109   \n",
       "3                               0.0      202104            249221109   \n",
       "4                               0.0      202105            249221109   \n",
       "...                             ...         ...                  ...   \n",
       "981941                          0.0      202106           1598444941   \n",
       "981942                          0.0      202106           1598471047   \n",
       "981943                          0.0      202106           1598515897   \n",
       "981944                          0.0      202106           1598517059   \n",
       "981945                          0.0      202106           1598518152   \n",
       "\n",
       "        cliente_antiguedad_1  cliente_antiguedad_2  cliente_antiguedad_3  \\\n",
       "0                        300                     1              0.947564   \n",
       "1                        301                     2              0.947831   \n",
       "2                        302                     3              0.948291   \n",
       "3                        303                     4              0.948638   \n",
       "4                        304                     5              0.948950   \n",
       "...                      ...                   ...                   ...   \n",
       "981941                     1                     1              0.000000   \n",
       "981942                     1                     1              0.000000   \n",
       "981943                     1                     1              0.000000   \n",
       "981944                     1                     1              0.000000   \n",
       "981945                     1                     1              0.000000   \n",
       "\n",
       "        cliente_antiguedad_4  cliente_antiguedad_5  cliente_antiguedad_6  \n",
       "0                   0.947947                     4                    10  \n",
       "1                   0.948213                     4                    10  \n",
       "2                   0.948670                     4                    10  \n",
       "3                   0.949016                     4                    10  \n",
       "4                   0.949327                     4                    10  \n",
       "...                      ...                   ...                   ...  \n",
       "981941              0.001553                     1                     1  \n",
       "981942              0.001553                     1                     1  \n",
       "981943              0.001553                     1                     1  \n",
       "981944              0.001553                     1                     1  \n",
       "981945              0.001553                     1                     1  \n",
       "\n",
       "[981946 rows x 194 columns]"
      ]
     },
     "execution_count": 16,
     "metadata": {},
     "output_type": "execute_result"
    }
   ],
   "source": [
    "%%sql --no-execute\n",
    "select\n",
    "    *,\n",
    "    foto_mes\n",
    "    , numero_de_cliente\n",
    "    , cliente_antiguedad\n",
    "    , row_number() over (partition by numero_de_cliente order by foto_mes) as cliente_antiguedad_2\n",
    "    , percent_rank() over (partition by foto_mes order by cliente_antiguedad) as cliente_antiguedad_3\n",
    "    , cume_dist() over (partition by foto_mes order by cliente_antiguedad) as cliente_antiguedad_4\n",
    "    , ntile(4) over (partition by foto_mes order by cliente_antiguedad) as cliente_antiguedad_5\n",
    "\n",
    "    , ntile(10) over (partition by foto_mes order by cliente_antiguedad) as cliente_antiguedad_6\n",
    "from competencia_01\n",
    "order by numero_de_cliente, cliente_antiguedad\n"
   ]
  },
  {
   "cell_type": "markdown",
   "metadata": {
    "id": "fnKSTA1OlJ4f"
   },
   "source": [
    "## Decilar\n"
   ]
  },
  {
   "cell_type": "code",
   "execution_count": 53,
   "metadata": {
    "colab": {
     "base_uri": "https://localhost:8080/",
     "height": 1000,
     "referenced_widgets": [
      "b13de1745e214ab38a1b05f1d322a820",
      "88c6b5ff8b9b42498b4b52a66f441740",
      "1030687804cf478cb021f985369fa508"
     ]
    },
    "executionInfo": {
     "elapsed": 517559,
     "status": "ok",
     "timestamp": 1729775269859,
     "user": {
      "displayName": "Jose Chelquer",
      "userId": "09375279337890014087"
     },
     "user_tz": 180
    },
    "id": "e32-ztBCbxVq",
    "outputId": "6104daa8-0e18-441d-da4f-f200e266e34f"
   },
   "outputs": [
    {
     "name": "stdout",
     "output_type": "stream",
     "text": [
      "\n",
      "  SELECT column_name\n",
      "  FROM information_schema.columns\n",
      "  WHERE table_name = 'competencia_02';\n",
      "  \n",
      "create or replace TABLE competencia_02 as\n",
      "select *\n",
      ",ntile(10) over (partition by foto_mes order by mrentabilidad) as mrentabilidad_n10\n",
      ",ntile(10) over (partition by foto_mes order by mrentabilidad_annual) as mrentabilidad_annual_n10\n",
      ",ntile(10) over (partition by foto_mes order by mcomisiones) as mcomisiones_n10\n",
      ",ntile(10) over (partition by foto_mes order by mactivos_margen) as mactivos_margen_n10\n",
      ",ntile(10) over (partition by foto_mes order by mpasivos_margen) as mpasivos_margen_n10\n",
      ",ntile(10) over (partition by foto_mes order by mcuenta_corriente_adicional) as mcuenta_corriente_adicional_n10\n",
      ",ntile(10) over (partition by foto_mes order by mcuenta_corriente) as mcuenta_corriente_n10\n",
      ",ntile(10) over (partition by foto_mes order by mcaja_ahorro) as mcaja_ahorro_n10\n",
      ",ntile(10) over (partition by foto_mes order by mcaja_ahorro_adicional) as mcaja_ahorro_adicional_n10\n",
      ",ntile(10) over (partition by foto_mes order by mcaja_ahorro_dolares) as mcaja_ahorro_dolares_n10\n",
      ",ntile(10) over (partition by foto_mes order by mcuentas_saldo) as mcuentas_saldo_n10\n",
      ",ntile(10) over (partition by foto_mes order by mautoservicio) as mautoservicio_n10\n",
      ",ntile(10) over (partition by foto_mes order by mpayroll) as mpayroll_n10\n",
      ",ntile(10) over (partition by foto_mes order by mpayroll2) as mpayroll2_n10\n",
      ",ntile(10) over (partition by foto_mes order by mcuenta_debitos_automaticos) as mcuenta_debitos_automaticos_n10\n",
      ",ntile(10) over (partition by foto_mes order by mcajeros_propios_descuentos) as mcajeros_propios_descuentos_n10\n",
      ",ntile(10) over (partition by foto_mes order by mtarjeta_visa_descuentos) as mtarjeta_visa_descuentos_n10\n",
      ",ntile(10) over (partition by foto_mes order by mtarjeta_master_descuentos) as mtarjeta_master_descuentos_n10\n",
      ",ntile(10) over (partition by foto_mes order by mcomisiones_mantenimiento) as mcomisiones_mantenimiento_n10\n",
      ",ntile(10) over (partition by foto_mes order by mcomisiones_otras) as mcomisiones_otras_n10\n",
      ",ntile(10) over (partition by foto_mes order by mforex_buy) as mforex_buy_n10\n",
      ",ntile(10) over (partition by foto_mes order by mforex_sell) as mforex_sell_n10\n",
      ",ntile(10) over (partition by foto_mes order by mtransferencias_recibidas) as mtransferencias_recibidas_n10\n",
      ",ntile(10) over (partition by foto_mes order by mtransferencias_emitidas) as mtransferencias_emitidas_n10\n",
      ",ntile(10) over (partition by foto_mes order by mextraccion_autoservicio) as mextraccion_autoservicio_n10\n",
      ",ntile(10) over (partition by foto_mes order by mcheques_depositados) as mcheques_depositados_n10\n",
      ",ntile(10) over (partition by foto_mes order by mcheques_emitidos) as mcheques_emitidos_n10\n",
      ",ntile(10) over (partition by foto_mes order by mcheques_depositados_rechazados) as mcheques_depositados_rechazados_n10\n",
      ",ntile(10) over (partition by foto_mes order by mcheques_emitidos_rechazados) as mcheques_emitidos_rechazados_n10\n",
      ",ntile(10) over (partition by foto_mes order by matm) as matm_n10\n",
      ",ntile(10) over (partition by foto_mes order by matm_other) as matm_other_n10\n",
      ",ntile(10) over (partition by foto_mes order by Master_mfinanciacion_limite) as Master_mfinanciacion_limite_n10\n",
      ",ntile(10) over (partition by foto_mes order by Visa_mfinanciacion_limite) as Visa_mfinanciacion_limite_n10\n",
      ",ntile(10) over (partition by foto_mes order by mtarjeta_consumo) as mtarjeta_consumo_n10\n",
      ",ntile(10) over (partition by foto_mes order by mprestamos) as mprestamos_n10\n",
      ",ntile(10) over (partition by foto_mes order by minversion_pesos) as minversion_pesos_n10\n",
      ",ntile(10) over (partition by foto_mes order by minversion_dolares) as minversion_dolares_n10\n",
      ",ntile(10) over (partition by foto_mes order by mtarjeta_debitos_automaticos) as mtarjeta_debitos_automaticos_n10\n",
      ",ntile(10) over (partition by foto_mes order by mpagos) as mpagos_n10\n",
      ",ntile(10) over (partition by foto_mes order by Tarjeta_msaldopesos) as Tarjeta_msaldopesos_n10\n",
      ",ntile(10) over (partition by foto_mes order by Tarjeta_msaldodolares) as Tarjeta_msaldodolares_n10\n",
      ",ntile(10) over (partition by foto_mes order by Tarjeta_msaldototal) as Tarjeta_msaldototal_n10\n",
      ",ntile(10) over (partition by foto_mes order by Tarjeta_mconsumospesos) as Tarjeta_mconsumospesos_n10\n",
      ",ntile(10) over (partition by foto_mes order by Tarjeta_mconsumosdolares) as Tarjeta_mconsumosdolares_n10\n",
      ",ntile(10) over (partition by foto_mes order by Tarjeta_mlimitecompra) as Tarjeta_mlimitecompra_n10\n",
      ",ntile(10) over (partition by foto_mes order by Tarjeta_madelantopesos) as Tarjeta_madelantopesos_n10\n",
      ",ntile(10) over (partition by foto_mes order by Tarjeta_madelantodolares) as Tarjeta_madelantodolares_n10\n",
      ",ntile(10) over (partition by foto_mes order by Tarjeta_mpagado) as Tarjeta_mpagado_n10\n",
      ",ntile(10) over (partition by foto_mes order by Tarjeta_mpagospesos) as Tarjeta_mpagospesos_n10\n",
      ",ntile(10) over (partition by foto_mes order by Tarjeta_mpagosdolares) as Tarjeta_mpagosdolares_n10\n",
      ",ntile(10) over (partition by foto_mes order by Tarjeta_mconsumototal) as Tarjeta_mconsumototal_n10\n",
      ",ntile(10) over (partition by foto_mes order by Tarjeta_mpagominimo) as Tarjeta_mpagominimo_n10\n",
      "from competencia_02\n",
      "\n"
     ]
    },
    {
     "data": {
      "application/vnd.jupyter.widget-view+json": {
       "model_id": "b13de1745e214ab38a1b05f1d322a820",
       "version_major": 2,
       "version_minor": 0
      },
      "text/plain": [
       "FloatProgress(value=0.0, layout=Layout(width='auto'), style=ProgressStyle(bar_color='black'))"
      ]
     },
     "metadata": {},
     "output_type": "display_data"
    },
    {
     "name": "stdout",
     "output_type": "stream",
     "text": [
      "[(981946,)]\n"
     ]
    }
   ],
   "source": [
    "decilar=dinero\n",
    "columnas_tabla=columnas('competencia_02')\n",
    "decilar = [elemento for elemento in dinero if elemento in columnas_tabla]\n",
    "orden=\"\"\n",
    "orden=orden+\"create or replace TABLE competencia_02 as\\n\"\n",
    "orden+=f\"select *\\n\"\n",
    "for campo in decilar:\n",
    "  orden+=f\",ntile(10) over (partition by foto_mes order by {campo}) as {campo}_n10\\n\"\n",
    "orden+=f\"from competencia_02\\n\"\n",
    "\n",
    "\n",
    "do_sql(orden)\n",
    "\n"
   ]
  },
  {
   "cell_type": "code",
   "execution_count": 57,
   "metadata": {
    "colab": {
     "base_uri": "https://localhost:8080/"
    },
    "executionInfo": {
     "elapsed": 306,
     "status": "ok",
     "timestamp": 1729775308020,
     "user": {
      "displayName": "Jose Chelquer",
      "userId": "09375279337890014087"
     },
     "user_tz": 180
    },
    "id": "OkvM93KXnuT0",
    "outputId": "7bcf7806-10e3-4675-fadc-939cea341a3f"
   },
   "outputs": [
    {
     "name": "stdout",
     "output_type": "stream",
     "text": [
      "ALTER TABLE competencia_02 DROP COLUMN mrentabilidad; \n",
      "ALTER TABLE competencia_02 DROP COLUMN mrentabilidad_annual; \n",
      "ALTER TABLE competencia_02 DROP COLUMN mcomisiones; \n",
      "ALTER TABLE competencia_02 DROP COLUMN mactivos_margen; \n",
      "ALTER TABLE competencia_02 DROP COLUMN mpasivos_margen; \n",
      "ALTER TABLE competencia_02 DROP COLUMN mcuenta_corriente_adicional; \n",
      "ALTER TABLE competencia_02 DROP COLUMN mcuenta_corriente; \n",
      "ALTER TABLE competencia_02 DROP COLUMN mcaja_ahorro; \n",
      "ALTER TABLE competencia_02 DROP COLUMN mcaja_ahorro_adicional; \n",
      "ALTER TABLE competencia_02 DROP COLUMN mcaja_ahorro_dolares; \n",
      "ALTER TABLE competencia_02 DROP COLUMN mcuentas_saldo; \n",
      "ALTER TABLE competencia_02 DROP COLUMN mautoservicio; \n",
      "ALTER TABLE competencia_02 DROP COLUMN mpayroll; \n",
      "ALTER TABLE competencia_02 DROP COLUMN mpayroll2; \n",
      "ALTER TABLE competencia_02 DROP COLUMN mcuenta_debitos_automaticos; \n",
      "ALTER TABLE competencia_02 DROP COLUMN mcajeros_propios_descuentos; \n",
      "ALTER TABLE competencia_02 DROP COLUMN mtarjeta_visa_descuentos; \n",
      "ALTER TABLE competencia_02 DROP COLUMN mtarjeta_master_descuentos; \n",
      "ALTER TABLE competencia_02 DROP COLUMN mcomisiones_mantenimiento; \n",
      "ALTER TABLE competencia_02 DROP COLUMN mcomisiones_otras; \n",
      "ALTER TABLE competencia_02 DROP COLUMN mforex_buy; \n",
      "ALTER TABLE competencia_02 DROP COLUMN mforex_sell; \n",
      "ALTER TABLE competencia_02 DROP COLUMN mtransferencias_recibidas; \n",
      "ALTER TABLE competencia_02 DROP COLUMN mtransferencias_emitidas; \n",
      "ALTER TABLE competencia_02 DROP COLUMN mextraccion_autoservicio; \n",
      "ALTER TABLE competencia_02 DROP COLUMN mcheques_depositados; \n",
      "ALTER TABLE competencia_02 DROP COLUMN mcheques_emitidos; \n",
      "ALTER TABLE competencia_02 DROP COLUMN mcheques_depositados_rechazados; \n",
      "ALTER TABLE competencia_02 DROP COLUMN mcheques_emitidos_rechazados; \n",
      "ALTER TABLE competencia_02 DROP COLUMN matm; \n",
      "ALTER TABLE competencia_02 DROP COLUMN matm_other; \n",
      "ALTER TABLE competencia_02 DROP COLUMN Master_mfinanciacion_limite; \n",
      "ALTER TABLE competencia_02 DROP COLUMN Visa_mfinanciacion_limite; \n",
      "ALTER TABLE competencia_02 DROP COLUMN mtarjeta_consumo; \n",
      "ALTER TABLE competencia_02 DROP COLUMN mprestamos; \n",
      "ALTER TABLE competencia_02 DROP COLUMN minversion_pesos; \n",
      "ALTER TABLE competencia_02 DROP COLUMN minversion_dolares; \n",
      "ALTER TABLE competencia_02 DROP COLUMN mtarjeta_debitos_automaticos; \n",
      "ALTER TABLE competencia_02 DROP COLUMN mpagos; \n",
      "ALTER TABLE competencia_02 DROP COLUMN Tarjeta_msaldopesos; \n",
      "ALTER TABLE competencia_02 DROP COLUMN Tarjeta_msaldodolares; \n",
      "ALTER TABLE competencia_02 DROP COLUMN Tarjeta_msaldototal; \n",
      "ALTER TABLE competencia_02 DROP COLUMN Tarjeta_mconsumospesos; \n",
      "ALTER TABLE competencia_02 DROP COLUMN Tarjeta_mconsumosdolares; \n",
      "ALTER TABLE competencia_02 DROP COLUMN Tarjeta_mlimitecompra; \n",
      "ALTER TABLE competencia_02 DROP COLUMN Tarjeta_madelantopesos; \n",
      "ALTER TABLE competencia_02 DROP COLUMN Tarjeta_madelantodolares; \n",
      "ALTER TABLE competencia_02 DROP COLUMN Tarjeta_mpagado; \n",
      "ALTER TABLE competencia_02 DROP COLUMN Tarjeta_mpagospesos; \n",
      "ALTER TABLE competencia_02 DROP COLUMN Tarjeta_mpagosdolares; \n",
      "ALTER TABLE competencia_02 DROP COLUMN Tarjeta_mconsumototal; \n",
      "ALTER TABLE competencia_02 DROP COLUMN Tarjeta_mpagominimo\n",
      "[]\n"
     ]
    }
   ],
   "source": [
    "if a_decilar_eliminar_originales:\n",
    "  sql=sql_eliminar_columnas(decilar, 'competencia_02')\n",
    "  do_sql(sql)"
   ]
  },
  {
   "cell_type": "markdown",
   "metadata": {
    "id": "OCYl18pGpglP"
   },
   "source": [
    "## Lags"
   ]
  },
  {
   "cell_type": "code",
   "execution_count": 61,
   "metadata": {
    "colab": {
     "base_uri": "https://localhost:8080/",
     "height": 1000,
     "referenced_widgets": [
      "f15e74f6d12140f59af48f4feda3ce05",
      "e245bb65a68e4a49aa48c07d7df60bf7",
      "fd2daf652efa40dd8781b4a2f9a9b097"
     ]
    },
    "executionInfo": {
     "elapsed": 48426,
     "status": "ok",
     "timestamp": 1729775703208,
     "user": {
      "displayName": "Jose Chelquer",
      "userId": "09375279337890014087"
     },
     "user_tz": 180
    },
    "id": "jVoBjZoppi2H",
    "outputId": "fd177635-7f8a-46ae-a4f2-7e9851f40a1f"
   },
   "outputs": [
    {
     "name": "stdout",
     "output_type": "stream",
     "text": [
      "\n",
      "  SELECT column_name\n",
      "  FROM information_schema.columns\n",
      "  WHERE table_name = 'competencia_02';\n",
      "  \n",
      "create or replace TABLE competencia_02 as\n",
      "select *\n",
      ",lag(numero_de_cliente, 1) over (partition by numero_de_cliente order by foto_mes) as numero_de_cliente_lag1\n",
      ",lag(numero_de_cliente, 2) over (partition by numero_de_cliente order by foto_mes) as numero_de_cliente_lag2\n",
      ",lag(numero_de_cliente, 3) over (partition by numero_de_cliente order by foto_mes) as numero_de_cliente_lag3\n",
      ",lag(foto_mes, 1) over (partition by numero_de_cliente order by foto_mes) as foto_mes_lag1\n",
      ",lag(foto_mes, 2) over (partition by numero_de_cliente order by foto_mes) as foto_mes_lag2\n",
      ",lag(foto_mes, 3) over (partition by numero_de_cliente order by foto_mes) as foto_mes_lag3\n",
      ",lag(active_quarter, 1) over (partition by numero_de_cliente order by foto_mes) as active_quarter_lag1\n",
      ",lag(active_quarter, 2) over (partition by numero_de_cliente order by foto_mes) as active_quarter_lag2\n",
      ",lag(active_quarter, 3) over (partition by numero_de_cliente order by foto_mes) as active_quarter_lag3\n",
      ",lag(cliente_vip, 1) over (partition by numero_de_cliente order by foto_mes) as cliente_vip_lag1\n",
      ",lag(cliente_vip, 2) over (partition by numero_de_cliente order by foto_mes) as cliente_vip_lag2\n",
      ",lag(cliente_vip, 3) over (partition by numero_de_cliente order by foto_mes) as cliente_vip_lag3\n",
      ",lag(internet, 1) over (partition by numero_de_cliente order by foto_mes) as internet_lag1\n",
      ",lag(internet, 2) over (partition by numero_de_cliente order by foto_mes) as internet_lag2\n",
      ",lag(internet, 3) over (partition by numero_de_cliente order by foto_mes) as internet_lag3\n",
      ",lag(cliente_edad, 1) over (partition by numero_de_cliente order by foto_mes) as cliente_edad_lag1\n",
      ",lag(cliente_edad, 2) over (partition by numero_de_cliente order by foto_mes) as cliente_edad_lag2\n",
      ",lag(cliente_edad, 3) over (partition by numero_de_cliente order by foto_mes) as cliente_edad_lag3\n",
      ",lag(cliente_antiguedad, 1) over (partition by numero_de_cliente order by foto_mes) as cliente_antiguedad_lag1\n",
      ",lag(cliente_antiguedad, 2) over (partition by numero_de_cliente order by foto_mes) as cliente_antiguedad_lag2\n",
      ",lag(cliente_antiguedad, 3) over (partition by numero_de_cliente order by foto_mes) as cliente_antiguedad_lag3\n",
      ",lag(cproductos, 1) over (partition by numero_de_cliente order by foto_mes) as cproductos_lag1\n",
      ",lag(cproductos, 2) over (partition by numero_de_cliente order by foto_mes) as cproductos_lag2\n",
      ",lag(cproductos, 3) over (partition by numero_de_cliente order by foto_mes) as cproductos_lag3\n",
      ",lag(tcuentas, 1) over (partition by numero_de_cliente order by foto_mes) as tcuentas_lag1\n",
      ",lag(tcuentas, 2) over (partition by numero_de_cliente order by foto_mes) as tcuentas_lag2\n",
      ",lag(tcuentas, 3) over (partition by numero_de_cliente order by foto_mes) as tcuentas_lag3\n",
      ",lag(ccuenta_corriente, 1) over (partition by numero_de_cliente order by foto_mes) as ccuenta_corriente_lag1\n",
      ",lag(ccuenta_corriente, 2) over (partition by numero_de_cliente order by foto_mes) as ccuenta_corriente_lag2\n",
      ",lag(ccuenta_corriente, 3) over (partition by numero_de_cliente order by foto_mes) as ccuenta_corriente_lag3\n",
      ",lag(ccaja_ahorro, 1) over (partition by numero_de_cliente order by foto_mes) as ccaja_ahorro_lag1\n",
      ",lag(ccaja_ahorro, 2) over (partition by numero_de_cliente order by foto_mes) as ccaja_ahorro_lag2\n",
      ",lag(ccaja_ahorro, 3) over (partition by numero_de_cliente order by foto_mes) as ccaja_ahorro_lag3\n",
      ",lag(cdescubierto_preacordado, 1) over (partition by numero_de_cliente order by foto_mes) as cdescubierto_preacordado_lag1\n",
      ",lag(cdescubierto_preacordado, 2) over (partition by numero_de_cliente order by foto_mes) as cdescubierto_preacordado_lag2\n",
      ",lag(cdescubierto_preacordado, 3) over (partition by numero_de_cliente order by foto_mes) as cdescubierto_preacordado_lag3\n",
      ",lag(ctarjeta_debito, 1) over (partition by numero_de_cliente order by foto_mes) as ctarjeta_debito_lag1\n",
      ",lag(ctarjeta_debito, 2) over (partition by numero_de_cliente order by foto_mes) as ctarjeta_debito_lag2\n",
      ",lag(ctarjeta_debito, 3) over (partition by numero_de_cliente order by foto_mes) as ctarjeta_debito_lag3\n",
      ",lag(ctarjeta_debito_transacciones, 1) over (partition by numero_de_cliente order by foto_mes) as ctarjeta_debito_transacciones_lag1\n",
      ",lag(ctarjeta_debito_transacciones, 2) over (partition by numero_de_cliente order by foto_mes) as ctarjeta_debito_transacciones_lag2\n",
      ",lag(ctarjeta_debito_transacciones, 3) over (partition by numero_de_cliente order by foto_mes) as ctarjeta_debito_transacciones_lag3\n",
      ",lag(ccaja_seguridad, 1) over (partition by numero_de_cliente order by foto_mes) as ccaja_seguridad_lag1\n",
      ",lag(ccaja_seguridad, 2) over (partition by numero_de_cliente order by foto_mes) as ccaja_seguridad_lag2\n",
      ",lag(ccaja_seguridad, 3) over (partition by numero_de_cliente order by foto_mes) as ccaja_seguridad_lag3\n",
      ",lag(cpayroll_trx, 1) over (partition by numero_de_cliente order by foto_mes) as cpayroll_trx_lag1\n",
      ",lag(cpayroll_trx, 2) over (partition by numero_de_cliente order by foto_mes) as cpayroll_trx_lag2\n",
      ",lag(cpayroll_trx, 3) over (partition by numero_de_cliente order by foto_mes) as cpayroll_trx_lag3\n",
      ",lag(cpayroll2_trx, 1) over (partition by numero_de_cliente order by foto_mes) as cpayroll2_trx_lag1\n",
      ",lag(cpayroll2_trx, 2) over (partition by numero_de_cliente order by foto_mes) as cpayroll2_trx_lag2\n",
      ",lag(cpayroll2_trx, 3) over (partition by numero_de_cliente order by foto_mes) as cpayroll2_trx_lag3\n",
      ",lag(ccuenta_debitos_automaticos, 1) over (partition by numero_de_cliente order by foto_mes) as ccuenta_debitos_automaticos_lag1\n",
      ",lag(ccuenta_debitos_automaticos, 2) over (partition by numero_de_cliente order by foto_mes) as ccuenta_debitos_automaticos_lag2\n",
      ",lag(ccuenta_debitos_automaticos, 3) over (partition by numero_de_cliente order by foto_mes) as ccuenta_debitos_automaticos_lag3\n",
      ",lag(ccajeros_propios_descuentos, 1) over (partition by numero_de_cliente order by foto_mes) as ccajeros_propios_descuentos_lag1\n",
      ",lag(ccajeros_propios_descuentos, 2) over (partition by numero_de_cliente order by foto_mes) as ccajeros_propios_descuentos_lag2\n",
      ",lag(ccajeros_propios_descuentos, 3) over (partition by numero_de_cliente order by foto_mes) as ccajeros_propios_descuentos_lag3\n",
      ",lag(ctarjeta_visa_descuentos, 1) over (partition by numero_de_cliente order by foto_mes) as ctarjeta_visa_descuentos_lag1\n",
      ",lag(ctarjeta_visa_descuentos, 2) over (partition by numero_de_cliente order by foto_mes) as ctarjeta_visa_descuentos_lag2\n",
      ",lag(ctarjeta_visa_descuentos, 3) over (partition by numero_de_cliente order by foto_mes) as ctarjeta_visa_descuentos_lag3\n",
      ",lag(ctarjeta_master_descuentos, 1) over (partition by numero_de_cliente order by foto_mes) as ctarjeta_master_descuentos_lag1\n",
      ",lag(ctarjeta_master_descuentos, 2) over (partition by numero_de_cliente order by foto_mes) as ctarjeta_master_descuentos_lag2\n",
      ",lag(ctarjeta_master_descuentos, 3) over (partition by numero_de_cliente order by foto_mes) as ctarjeta_master_descuentos_lag3\n",
      ",lag(ccomisiones_mantenimiento, 1) over (partition by numero_de_cliente order by foto_mes) as ccomisiones_mantenimiento_lag1\n",
      ",lag(ccomisiones_mantenimiento, 2) over (partition by numero_de_cliente order by foto_mes) as ccomisiones_mantenimiento_lag2\n",
      ",lag(ccomisiones_mantenimiento, 3) over (partition by numero_de_cliente order by foto_mes) as ccomisiones_mantenimiento_lag3\n",
      ",lag(ccomisiones_otras, 1) over (partition by numero_de_cliente order by foto_mes) as ccomisiones_otras_lag1\n",
      ",lag(ccomisiones_otras, 2) over (partition by numero_de_cliente order by foto_mes) as ccomisiones_otras_lag2\n",
      ",lag(ccomisiones_otras, 3) over (partition by numero_de_cliente order by foto_mes) as ccomisiones_otras_lag3\n",
      ",lag(cforex, 1) over (partition by numero_de_cliente order by foto_mes) as cforex_lag1\n",
      ",lag(cforex, 2) over (partition by numero_de_cliente order by foto_mes) as cforex_lag2\n",
      ",lag(cforex, 3) over (partition by numero_de_cliente order by foto_mes) as cforex_lag3\n",
      ",lag(cforex_buy, 1) over (partition by numero_de_cliente order by foto_mes) as cforex_buy_lag1\n",
      ",lag(cforex_buy, 2) over (partition by numero_de_cliente order by foto_mes) as cforex_buy_lag2\n",
      ",lag(cforex_buy, 3) over (partition by numero_de_cliente order by foto_mes) as cforex_buy_lag3\n",
      ",lag(cforex_sell, 1) over (partition by numero_de_cliente order by foto_mes) as cforex_sell_lag1\n",
      ",lag(cforex_sell, 2) over (partition by numero_de_cliente order by foto_mes) as cforex_sell_lag2\n",
      ",lag(cforex_sell, 3) over (partition by numero_de_cliente order by foto_mes) as cforex_sell_lag3\n",
      ",lag(ctransferencias_recibidas, 1) over (partition by numero_de_cliente order by foto_mes) as ctransferencias_recibidas_lag1\n",
      ",lag(ctransferencias_recibidas, 2) over (partition by numero_de_cliente order by foto_mes) as ctransferencias_recibidas_lag2\n",
      ",lag(ctransferencias_recibidas, 3) over (partition by numero_de_cliente order by foto_mes) as ctransferencias_recibidas_lag3\n",
      ",lag(ctransferencias_emitidas, 1) over (partition by numero_de_cliente order by foto_mes) as ctransferencias_emitidas_lag1\n",
      ",lag(ctransferencias_emitidas, 2) over (partition by numero_de_cliente order by foto_mes) as ctransferencias_emitidas_lag2\n",
      ",lag(ctransferencias_emitidas, 3) over (partition by numero_de_cliente order by foto_mes) as ctransferencias_emitidas_lag3\n",
      ",lag(cextraccion_autoservicio, 1) over (partition by numero_de_cliente order by foto_mes) as cextraccion_autoservicio_lag1\n",
      ",lag(cextraccion_autoservicio, 2) over (partition by numero_de_cliente order by foto_mes) as cextraccion_autoservicio_lag2\n",
      ",lag(cextraccion_autoservicio, 3) over (partition by numero_de_cliente order by foto_mes) as cextraccion_autoservicio_lag3\n",
      ",lag(ccheques_depositados, 1) over (partition by numero_de_cliente order by foto_mes) as ccheques_depositados_lag1\n",
      ",lag(ccheques_depositados, 2) over (partition by numero_de_cliente order by foto_mes) as ccheques_depositados_lag2\n",
      ",lag(ccheques_depositados, 3) over (partition by numero_de_cliente order by foto_mes) as ccheques_depositados_lag3\n",
      ",lag(ccheques_emitidos, 1) over (partition by numero_de_cliente order by foto_mes) as ccheques_emitidos_lag1\n",
      ",lag(ccheques_emitidos, 2) over (partition by numero_de_cliente order by foto_mes) as ccheques_emitidos_lag2\n",
      ",lag(ccheques_emitidos, 3) over (partition by numero_de_cliente order by foto_mes) as ccheques_emitidos_lag3\n",
      ",lag(ccheques_depositados_rechazados, 1) over (partition by numero_de_cliente order by foto_mes) as ccheques_depositados_rechazados_lag1\n",
      ",lag(ccheques_depositados_rechazados, 2) over (partition by numero_de_cliente order by foto_mes) as ccheques_depositados_rechazados_lag2\n",
      ",lag(ccheques_depositados_rechazados, 3) over (partition by numero_de_cliente order by foto_mes) as ccheques_depositados_rechazados_lag3\n",
      ",lag(ccheques_emitidos_rechazados, 1) over (partition by numero_de_cliente order by foto_mes) as ccheques_emitidos_rechazados_lag1\n",
      ",lag(ccheques_emitidos_rechazados, 2) over (partition by numero_de_cliente order by foto_mes) as ccheques_emitidos_rechazados_lag2\n",
      ",lag(ccheques_emitidos_rechazados, 3) over (partition by numero_de_cliente order by foto_mes) as ccheques_emitidos_rechazados_lag3\n",
      ",lag(tcallcenter, 1) over (partition by numero_de_cliente order by foto_mes) as tcallcenter_lag1\n",
      ",lag(tcallcenter, 2) over (partition by numero_de_cliente order by foto_mes) as tcallcenter_lag2\n",
      ",lag(tcallcenter, 3) over (partition by numero_de_cliente order by foto_mes) as tcallcenter_lag3\n",
      ",lag(ccallcenter_transacciones, 1) over (partition by numero_de_cliente order by foto_mes) as ccallcenter_transacciones_lag1\n",
      ",lag(ccallcenter_transacciones, 2) over (partition by numero_de_cliente order by foto_mes) as ccallcenter_transacciones_lag2\n",
      ",lag(ccallcenter_transacciones, 3) over (partition by numero_de_cliente order by foto_mes) as ccallcenter_transacciones_lag3\n",
      ",lag(thomebanking, 1) over (partition by numero_de_cliente order by foto_mes) as thomebanking_lag1\n",
      ",lag(thomebanking, 2) over (partition by numero_de_cliente order by foto_mes) as thomebanking_lag2\n",
      ",lag(thomebanking, 3) over (partition by numero_de_cliente order by foto_mes) as thomebanking_lag3\n",
      ",lag(chomebanking_transacciones, 1) over (partition by numero_de_cliente order by foto_mes) as chomebanking_transacciones_lag1\n",
      ",lag(chomebanking_transacciones, 2) over (partition by numero_de_cliente order by foto_mes) as chomebanking_transacciones_lag2\n",
      ",lag(chomebanking_transacciones, 3) over (partition by numero_de_cliente order by foto_mes) as chomebanking_transacciones_lag3\n",
      ",lag(ccajas_transacciones, 1) over (partition by numero_de_cliente order by foto_mes) as ccajas_transacciones_lag1\n",
      ",lag(ccajas_transacciones, 2) over (partition by numero_de_cliente order by foto_mes) as ccajas_transacciones_lag2\n",
      ",lag(ccajas_transacciones, 3) over (partition by numero_de_cliente order by foto_mes) as ccajas_transacciones_lag3\n",
      ",lag(ccajas_consultas, 1) over (partition by numero_de_cliente order by foto_mes) as ccajas_consultas_lag1\n",
      ",lag(ccajas_consultas, 2) over (partition by numero_de_cliente order by foto_mes) as ccajas_consultas_lag2\n",
      ",lag(ccajas_consultas, 3) over (partition by numero_de_cliente order by foto_mes) as ccajas_consultas_lag3\n",
      ",lag(ccajas_depositos, 1) over (partition by numero_de_cliente order by foto_mes) as ccajas_depositos_lag1\n",
      ",lag(ccajas_depositos, 2) over (partition by numero_de_cliente order by foto_mes) as ccajas_depositos_lag2\n",
      ",lag(ccajas_depositos, 3) over (partition by numero_de_cliente order by foto_mes) as ccajas_depositos_lag3\n",
      ",lag(ccajas_extracciones, 1) over (partition by numero_de_cliente order by foto_mes) as ccajas_extracciones_lag1\n",
      ",lag(ccajas_extracciones, 2) over (partition by numero_de_cliente order by foto_mes) as ccajas_extracciones_lag2\n",
      ",lag(ccajas_extracciones, 3) over (partition by numero_de_cliente order by foto_mes) as ccajas_extracciones_lag3\n",
      ",lag(ccajas_otras, 1) over (partition by numero_de_cliente order by foto_mes) as ccajas_otras_lag1\n",
      ",lag(ccajas_otras, 2) over (partition by numero_de_cliente order by foto_mes) as ccajas_otras_lag2\n",
      ",lag(ccajas_otras, 3) over (partition by numero_de_cliente order by foto_mes) as ccajas_otras_lag3\n",
      ",lag(catm_trx, 1) over (partition by numero_de_cliente order by foto_mes) as catm_trx_lag1\n",
      ",lag(catm_trx, 2) over (partition by numero_de_cliente order by foto_mes) as catm_trx_lag2\n",
      ",lag(catm_trx, 3) over (partition by numero_de_cliente order by foto_mes) as catm_trx_lag3\n",
      ",lag(catm_trx_other, 1) over (partition by numero_de_cliente order by foto_mes) as catm_trx_other_lag1\n",
      ",lag(catm_trx_other, 2) over (partition by numero_de_cliente order by foto_mes) as catm_trx_other_lag2\n",
      ",lag(catm_trx_other, 3) over (partition by numero_de_cliente order by foto_mes) as catm_trx_other_lag3\n",
      ",lag(ctrx_quarter, 1) over (partition by numero_de_cliente order by foto_mes) as ctrx_quarter_lag1\n",
      ",lag(ctrx_quarter, 2) over (partition by numero_de_cliente order by foto_mes) as ctrx_quarter_lag2\n",
      ",lag(ctrx_quarter, 3) over (partition by numero_de_cliente order by foto_mes) as ctrx_quarter_lag3\n",
      ",lag(tmobile_app, 1) over (partition by numero_de_cliente order by foto_mes) as tmobile_app_lag1\n",
      ",lag(tmobile_app, 2) over (partition by numero_de_cliente order by foto_mes) as tmobile_app_lag2\n",
      ",lag(tmobile_app, 3) over (partition by numero_de_cliente order by foto_mes) as tmobile_app_lag3\n",
      ",lag(cmobile_app_trx, 1) over (partition by numero_de_cliente order by foto_mes) as cmobile_app_trx_lag1\n",
      ",lag(cmobile_app_trx, 2) over (partition by numero_de_cliente order by foto_mes) as cmobile_app_trx_lag2\n",
      ",lag(cmobile_app_trx, 3) over (partition by numero_de_cliente order by foto_mes) as cmobile_app_trx_lag3\n",
      ",lag(Master_delinquency, 1) over (partition by numero_de_cliente order by foto_mes) as Master_delinquency_lag1\n",
      ",lag(Master_delinquency, 2) over (partition by numero_de_cliente order by foto_mes) as Master_delinquency_lag2\n",
      ",lag(Master_delinquency, 3) over (partition by numero_de_cliente order by foto_mes) as Master_delinquency_lag3\n",
      ",lag(Master_status, 1) over (partition by numero_de_cliente order by foto_mes) as Master_status_lag1\n",
      ",lag(Master_status, 2) over (partition by numero_de_cliente order by foto_mes) as Master_status_lag2\n",
      ",lag(Master_status, 3) over (partition by numero_de_cliente order by foto_mes) as Master_status_lag3\n",
      ",lag(Master_Fvencimiento, 1) over (partition by numero_de_cliente order by foto_mes) as Master_Fvencimiento_lag1\n",
      ",lag(Master_Fvencimiento, 2) over (partition by numero_de_cliente order by foto_mes) as Master_Fvencimiento_lag2\n",
      ",lag(Master_Fvencimiento, 3) over (partition by numero_de_cliente order by foto_mes) as Master_Fvencimiento_lag3\n",
      ",lag(Master_Finiciomora, 1) over (partition by numero_de_cliente order by foto_mes) as Master_Finiciomora_lag1\n",
      ",lag(Master_Finiciomora, 2) over (partition by numero_de_cliente order by foto_mes) as Master_Finiciomora_lag2\n",
      ",lag(Master_Finiciomora, 3) over (partition by numero_de_cliente order by foto_mes) as Master_Finiciomora_lag3\n",
      ",lag(Master_fultimo_cierre, 1) over (partition by numero_de_cliente order by foto_mes) as Master_fultimo_cierre_lag1\n",
      ",lag(Master_fultimo_cierre, 2) over (partition by numero_de_cliente order by foto_mes) as Master_fultimo_cierre_lag2\n",
      ",lag(Master_fultimo_cierre, 3) over (partition by numero_de_cliente order by foto_mes) as Master_fultimo_cierre_lag3\n",
      ",lag(Master_fechaalta, 1) over (partition by numero_de_cliente order by foto_mes) as Master_fechaalta_lag1\n",
      ",lag(Master_fechaalta, 2) over (partition by numero_de_cliente order by foto_mes) as Master_fechaalta_lag2\n",
      ",lag(Master_fechaalta, 3) over (partition by numero_de_cliente order by foto_mes) as Master_fechaalta_lag3\n",
      ",lag(Master_cconsumos, 1) over (partition by numero_de_cliente order by foto_mes) as Master_cconsumos_lag1\n",
      ",lag(Master_cconsumos, 2) over (partition by numero_de_cliente order by foto_mes) as Master_cconsumos_lag2\n",
      ",lag(Master_cconsumos, 3) over (partition by numero_de_cliente order by foto_mes) as Master_cconsumos_lag3\n",
      ",lag(Visa_delinquency, 1) over (partition by numero_de_cliente order by foto_mes) as Visa_delinquency_lag1\n",
      ",lag(Visa_delinquency, 2) over (partition by numero_de_cliente order by foto_mes) as Visa_delinquency_lag2\n",
      ",lag(Visa_delinquency, 3) over (partition by numero_de_cliente order by foto_mes) as Visa_delinquency_lag3\n",
      ",lag(Visa_status, 1) over (partition by numero_de_cliente order by foto_mes) as Visa_status_lag1\n",
      ",lag(Visa_status, 2) over (partition by numero_de_cliente order by foto_mes) as Visa_status_lag2\n",
      ",lag(Visa_status, 3) over (partition by numero_de_cliente order by foto_mes) as Visa_status_lag3\n",
      ",lag(Visa_Fvencimiento, 1) over (partition by numero_de_cliente order by foto_mes) as Visa_Fvencimiento_lag1\n",
      ",lag(Visa_Fvencimiento, 2) over (partition by numero_de_cliente order by foto_mes) as Visa_Fvencimiento_lag2\n",
      ",lag(Visa_Fvencimiento, 3) over (partition by numero_de_cliente order by foto_mes) as Visa_Fvencimiento_lag3\n",
      ",lag(Visa_Finiciomora, 1) over (partition by numero_de_cliente order by foto_mes) as Visa_Finiciomora_lag1\n",
      ",lag(Visa_Finiciomora, 2) over (partition by numero_de_cliente order by foto_mes) as Visa_Finiciomora_lag2\n",
      ",lag(Visa_Finiciomora, 3) over (partition by numero_de_cliente order by foto_mes) as Visa_Finiciomora_lag3\n",
      ",lag(Visa_fultimo_cierre, 1) over (partition by numero_de_cliente order by foto_mes) as Visa_fultimo_cierre_lag1\n",
      ",lag(Visa_fultimo_cierre, 2) over (partition by numero_de_cliente order by foto_mes) as Visa_fultimo_cierre_lag2\n",
      ",lag(Visa_fultimo_cierre, 3) over (partition by numero_de_cliente order by foto_mes) as Visa_fultimo_cierre_lag3\n",
      ",lag(Visa_fechaalta, 1) over (partition by numero_de_cliente order by foto_mes) as Visa_fechaalta_lag1\n",
      ",lag(Visa_fechaalta, 2) over (partition by numero_de_cliente order by foto_mes) as Visa_fechaalta_lag2\n",
      ",lag(Visa_fechaalta, 3) over (partition by numero_de_cliente order by foto_mes) as Visa_fechaalta_lag3\n",
      ",lag(Visa_cconsumos, 1) over (partition by numero_de_cliente order by foto_mes) as Visa_cconsumos_lag1\n",
      ",lag(Visa_cconsumos, 2) over (partition by numero_de_cliente order by foto_mes) as Visa_cconsumos_lag2\n",
      ",lag(Visa_cconsumos, 3) over (partition by numero_de_cliente order by foto_mes) as Visa_cconsumos_lag3\n",
      ",lag(clase_ternaria, 1) over (partition by numero_de_cliente order by foto_mes) as clase_ternaria_lag1\n",
      ",lag(clase_ternaria, 2) over (partition by numero_de_cliente order by foto_mes) as clase_ternaria_lag2\n",
      ",lag(clase_ternaria, 3) over (partition by numero_de_cliente order by foto_mes) as clase_ternaria_lag3\n",
      ",lag(clase_ternaria_num, 1) over (partition by numero_de_cliente order by foto_mes) as clase_ternaria_num_lag1\n",
      ",lag(clase_ternaria_num, 2) over (partition by numero_de_cliente order by foto_mes) as clase_ternaria_num_lag2\n",
      ",lag(clase_ternaria_num, 3) over (partition by numero_de_cliente order by foto_mes) as clase_ternaria_num_lag3\n",
      ",lag(ctarjeta, 1) over (partition by numero_de_cliente order by foto_mes) as ctarjeta_lag1\n",
      ",lag(ctarjeta, 2) over (partition by numero_de_cliente order by foto_mes) as ctarjeta_lag2\n",
      ",lag(ctarjeta, 3) over (partition by numero_de_cliente order by foto_mes) as ctarjeta_lag3\n",
      ",lag(ctarjeta_transacciones, 1) over (partition by numero_de_cliente order by foto_mes) as ctarjeta_transacciones_lag1\n",
      ",lag(ctarjeta_transacciones, 2) over (partition by numero_de_cliente order by foto_mes) as ctarjeta_transacciones_lag2\n",
      ",lag(ctarjeta_transacciones, 3) over (partition by numero_de_cliente order by foto_mes) as ctarjeta_transacciones_lag3\n",
      ",lag(cprestamos, 1) over (partition by numero_de_cliente order by foto_mes) as cprestamos_lag1\n",
      ",lag(cprestamos, 2) over (partition by numero_de_cliente order by foto_mes) as cprestamos_lag2\n",
      ",lag(cprestamos, 3) over (partition by numero_de_cliente order by foto_mes) as cprestamos_lag3\n",
      ",lag(cinversion, 1) over (partition by numero_de_cliente order by foto_mes) as cinversion_lag1\n",
      ",lag(cinversion, 2) over (partition by numero_de_cliente order by foto_mes) as cinversion_lag2\n",
      ",lag(cinversion, 3) over (partition by numero_de_cliente order by foto_mes) as cinversion_lag3\n",
      ",lag(cseguro, 1) over (partition by numero_de_cliente order by foto_mes) as cseguro_lag1\n",
      ",lag(cseguro, 2) over (partition by numero_de_cliente order by foto_mes) as cseguro_lag2\n",
      ",lag(cseguro, 3) over (partition by numero_de_cliente order by foto_mes) as cseguro_lag3\n",
      ",lag(ctarjeta_debitos_automaticos, 1) over (partition by numero_de_cliente order by foto_mes) as ctarjeta_debitos_automaticos_lag1\n",
      ",lag(ctarjeta_debitos_automaticos, 2) over (partition by numero_de_cliente order by foto_mes) as ctarjeta_debitos_automaticos_lag2\n",
      ",lag(ctarjeta_debitos_automaticos, 3) over (partition by numero_de_cliente order by foto_mes) as ctarjeta_debitos_automaticos_lag3\n",
      ",lag(cpagos, 1) over (partition by numero_de_cliente order by foto_mes) as cpagos_lag1\n",
      ",lag(cpagos, 2) over (partition by numero_de_cliente order by foto_mes) as cpagos_lag2\n",
      ",lag(cpagos, 3) over (partition by numero_de_cliente order by foto_mes) as cpagos_lag3\n",
      ",lag(Tarjeta_cadelantosefectivo, 1) over (partition by numero_de_cliente order by foto_mes) as Tarjeta_cadelantosefectivo_lag1\n",
      ",lag(Tarjeta_cadelantosefectivo, 2) over (partition by numero_de_cliente order by foto_mes) as Tarjeta_cadelantosefectivo_lag2\n",
      ",lag(Tarjeta_cadelantosefectivo, 3) over (partition by numero_de_cliente order by foto_mes) as Tarjeta_cadelantosefectivo_lag3\n",
      ",lag(mrentabilidad_n10, 1) over (partition by numero_de_cliente order by foto_mes) as mrentabilidad_n10_lag1\n",
      ",lag(mrentabilidad_n10, 2) over (partition by numero_de_cliente order by foto_mes) as mrentabilidad_n10_lag2\n",
      ",lag(mrentabilidad_n10, 3) over (partition by numero_de_cliente order by foto_mes) as mrentabilidad_n10_lag3\n",
      ",lag(mrentabilidad_annual_n10, 1) over (partition by numero_de_cliente order by foto_mes) as mrentabilidad_annual_n10_lag1\n",
      ",lag(mrentabilidad_annual_n10, 2) over (partition by numero_de_cliente order by foto_mes) as mrentabilidad_annual_n10_lag2\n",
      ",lag(mrentabilidad_annual_n10, 3) over (partition by numero_de_cliente order by foto_mes) as mrentabilidad_annual_n10_lag3\n",
      ",lag(mcomisiones_n10, 1) over (partition by numero_de_cliente order by foto_mes) as mcomisiones_n10_lag1\n",
      ",lag(mcomisiones_n10, 2) over (partition by numero_de_cliente order by foto_mes) as mcomisiones_n10_lag2\n",
      ",lag(mcomisiones_n10, 3) over (partition by numero_de_cliente order by foto_mes) as mcomisiones_n10_lag3\n",
      ",lag(mactivos_margen_n10, 1) over (partition by numero_de_cliente order by foto_mes) as mactivos_margen_n10_lag1\n",
      ",lag(mactivos_margen_n10, 2) over (partition by numero_de_cliente order by foto_mes) as mactivos_margen_n10_lag2\n",
      ",lag(mactivos_margen_n10, 3) over (partition by numero_de_cliente order by foto_mes) as mactivos_margen_n10_lag3\n",
      ",lag(mpasivos_margen_n10, 1) over (partition by numero_de_cliente order by foto_mes) as mpasivos_margen_n10_lag1\n",
      ",lag(mpasivos_margen_n10, 2) over (partition by numero_de_cliente order by foto_mes) as mpasivos_margen_n10_lag2\n",
      ",lag(mpasivos_margen_n10, 3) over (partition by numero_de_cliente order by foto_mes) as mpasivos_margen_n10_lag3\n",
      ",lag(mcuenta_corriente_adicional_n10, 1) over (partition by numero_de_cliente order by foto_mes) as mcuenta_corriente_adicional_n10_lag1\n",
      ",lag(mcuenta_corriente_adicional_n10, 2) over (partition by numero_de_cliente order by foto_mes) as mcuenta_corriente_adicional_n10_lag2\n",
      ",lag(mcuenta_corriente_adicional_n10, 3) over (partition by numero_de_cliente order by foto_mes) as mcuenta_corriente_adicional_n10_lag3\n",
      ",lag(mcuenta_corriente_n10, 1) over (partition by numero_de_cliente order by foto_mes) as mcuenta_corriente_n10_lag1\n",
      ",lag(mcuenta_corriente_n10, 2) over (partition by numero_de_cliente order by foto_mes) as mcuenta_corriente_n10_lag2\n",
      ",lag(mcuenta_corriente_n10, 3) over (partition by numero_de_cliente order by foto_mes) as mcuenta_corriente_n10_lag3\n",
      ",lag(mcaja_ahorro_n10, 1) over (partition by numero_de_cliente order by foto_mes) as mcaja_ahorro_n10_lag1\n",
      ",lag(mcaja_ahorro_n10, 2) over (partition by numero_de_cliente order by foto_mes) as mcaja_ahorro_n10_lag2\n",
      ",lag(mcaja_ahorro_n10, 3) over (partition by numero_de_cliente order by foto_mes) as mcaja_ahorro_n10_lag3\n",
      ",lag(mcaja_ahorro_adicional_n10, 1) over (partition by numero_de_cliente order by foto_mes) as mcaja_ahorro_adicional_n10_lag1\n",
      ",lag(mcaja_ahorro_adicional_n10, 2) over (partition by numero_de_cliente order by foto_mes) as mcaja_ahorro_adicional_n10_lag2\n",
      ",lag(mcaja_ahorro_adicional_n10, 3) over (partition by numero_de_cliente order by foto_mes) as mcaja_ahorro_adicional_n10_lag3\n",
      ",lag(mcaja_ahorro_dolares_n10, 1) over (partition by numero_de_cliente order by foto_mes) as mcaja_ahorro_dolares_n10_lag1\n",
      ",lag(mcaja_ahorro_dolares_n10, 2) over (partition by numero_de_cliente order by foto_mes) as mcaja_ahorro_dolares_n10_lag2\n",
      ",lag(mcaja_ahorro_dolares_n10, 3) over (partition by numero_de_cliente order by foto_mes) as mcaja_ahorro_dolares_n10_lag3\n",
      ",lag(mcuentas_saldo_n10, 1) over (partition by numero_de_cliente order by foto_mes) as mcuentas_saldo_n10_lag1\n",
      ",lag(mcuentas_saldo_n10, 2) over (partition by numero_de_cliente order by foto_mes) as mcuentas_saldo_n10_lag2\n",
      ",lag(mcuentas_saldo_n10, 3) over (partition by numero_de_cliente order by foto_mes) as mcuentas_saldo_n10_lag3\n",
      ",lag(mautoservicio_n10, 1) over (partition by numero_de_cliente order by foto_mes) as mautoservicio_n10_lag1\n",
      ",lag(mautoservicio_n10, 2) over (partition by numero_de_cliente order by foto_mes) as mautoservicio_n10_lag2\n",
      ",lag(mautoservicio_n10, 3) over (partition by numero_de_cliente order by foto_mes) as mautoservicio_n10_lag3\n",
      ",lag(mpayroll_n10, 1) over (partition by numero_de_cliente order by foto_mes) as mpayroll_n10_lag1\n",
      ",lag(mpayroll_n10, 2) over (partition by numero_de_cliente order by foto_mes) as mpayroll_n10_lag2\n",
      ",lag(mpayroll_n10, 3) over (partition by numero_de_cliente order by foto_mes) as mpayroll_n10_lag3\n",
      ",lag(mpayroll2_n10, 1) over (partition by numero_de_cliente order by foto_mes) as mpayroll2_n10_lag1\n",
      ",lag(mpayroll2_n10, 2) over (partition by numero_de_cliente order by foto_mes) as mpayroll2_n10_lag2\n",
      ",lag(mpayroll2_n10, 3) over (partition by numero_de_cliente order by foto_mes) as mpayroll2_n10_lag3\n",
      ",lag(mcuenta_debitos_automaticos_n10, 1) over (partition by numero_de_cliente order by foto_mes) as mcuenta_debitos_automaticos_n10_lag1\n",
      ",lag(mcuenta_debitos_automaticos_n10, 2) over (partition by numero_de_cliente order by foto_mes) as mcuenta_debitos_automaticos_n10_lag2\n",
      ",lag(mcuenta_debitos_automaticos_n10, 3) over (partition by numero_de_cliente order by foto_mes) as mcuenta_debitos_automaticos_n10_lag3\n",
      ",lag(mcajeros_propios_descuentos_n10, 1) over (partition by numero_de_cliente order by foto_mes) as mcajeros_propios_descuentos_n10_lag1\n",
      ",lag(mcajeros_propios_descuentos_n10, 2) over (partition by numero_de_cliente order by foto_mes) as mcajeros_propios_descuentos_n10_lag2\n",
      ",lag(mcajeros_propios_descuentos_n10, 3) over (partition by numero_de_cliente order by foto_mes) as mcajeros_propios_descuentos_n10_lag3\n",
      ",lag(mtarjeta_visa_descuentos_n10, 1) over (partition by numero_de_cliente order by foto_mes) as mtarjeta_visa_descuentos_n10_lag1\n",
      ",lag(mtarjeta_visa_descuentos_n10, 2) over (partition by numero_de_cliente order by foto_mes) as mtarjeta_visa_descuentos_n10_lag2\n",
      ",lag(mtarjeta_visa_descuentos_n10, 3) over (partition by numero_de_cliente order by foto_mes) as mtarjeta_visa_descuentos_n10_lag3\n",
      ",lag(mtarjeta_master_descuentos_n10, 1) over (partition by numero_de_cliente order by foto_mes) as mtarjeta_master_descuentos_n10_lag1\n",
      ",lag(mtarjeta_master_descuentos_n10, 2) over (partition by numero_de_cliente order by foto_mes) as mtarjeta_master_descuentos_n10_lag2\n",
      ",lag(mtarjeta_master_descuentos_n10, 3) over (partition by numero_de_cliente order by foto_mes) as mtarjeta_master_descuentos_n10_lag3\n",
      ",lag(mcomisiones_mantenimiento_n10, 1) over (partition by numero_de_cliente order by foto_mes) as mcomisiones_mantenimiento_n10_lag1\n",
      ",lag(mcomisiones_mantenimiento_n10, 2) over (partition by numero_de_cliente order by foto_mes) as mcomisiones_mantenimiento_n10_lag2\n",
      ",lag(mcomisiones_mantenimiento_n10, 3) over (partition by numero_de_cliente order by foto_mes) as mcomisiones_mantenimiento_n10_lag3\n",
      ",lag(mcomisiones_otras_n10, 1) over (partition by numero_de_cliente order by foto_mes) as mcomisiones_otras_n10_lag1\n",
      ",lag(mcomisiones_otras_n10, 2) over (partition by numero_de_cliente order by foto_mes) as mcomisiones_otras_n10_lag2\n",
      ",lag(mcomisiones_otras_n10, 3) over (partition by numero_de_cliente order by foto_mes) as mcomisiones_otras_n10_lag3\n",
      ",lag(mforex_buy_n10, 1) over (partition by numero_de_cliente order by foto_mes) as mforex_buy_n10_lag1\n",
      ",lag(mforex_buy_n10, 2) over (partition by numero_de_cliente order by foto_mes) as mforex_buy_n10_lag2\n",
      ",lag(mforex_buy_n10, 3) over (partition by numero_de_cliente order by foto_mes) as mforex_buy_n10_lag3\n",
      ",lag(mforex_sell_n10, 1) over (partition by numero_de_cliente order by foto_mes) as mforex_sell_n10_lag1\n",
      ",lag(mforex_sell_n10, 2) over (partition by numero_de_cliente order by foto_mes) as mforex_sell_n10_lag2\n",
      ",lag(mforex_sell_n10, 3) over (partition by numero_de_cliente order by foto_mes) as mforex_sell_n10_lag3\n",
      ",lag(mtransferencias_recibidas_n10, 1) over (partition by numero_de_cliente order by foto_mes) as mtransferencias_recibidas_n10_lag1\n",
      ",lag(mtransferencias_recibidas_n10, 2) over (partition by numero_de_cliente order by foto_mes) as mtransferencias_recibidas_n10_lag2\n",
      ",lag(mtransferencias_recibidas_n10, 3) over (partition by numero_de_cliente order by foto_mes) as mtransferencias_recibidas_n10_lag3\n",
      ",lag(mtransferencias_emitidas_n10, 1) over (partition by numero_de_cliente order by foto_mes) as mtransferencias_emitidas_n10_lag1\n",
      ",lag(mtransferencias_emitidas_n10, 2) over (partition by numero_de_cliente order by foto_mes) as mtransferencias_emitidas_n10_lag2\n",
      ",lag(mtransferencias_emitidas_n10, 3) over (partition by numero_de_cliente order by foto_mes) as mtransferencias_emitidas_n10_lag3\n",
      ",lag(mextraccion_autoservicio_n10, 1) over (partition by numero_de_cliente order by foto_mes) as mextraccion_autoservicio_n10_lag1\n",
      ",lag(mextraccion_autoservicio_n10, 2) over (partition by numero_de_cliente order by foto_mes) as mextraccion_autoservicio_n10_lag2\n",
      ",lag(mextraccion_autoservicio_n10, 3) over (partition by numero_de_cliente order by foto_mes) as mextraccion_autoservicio_n10_lag3\n",
      ",lag(mcheques_depositados_n10, 1) over (partition by numero_de_cliente order by foto_mes) as mcheques_depositados_n10_lag1\n",
      ",lag(mcheques_depositados_n10, 2) over (partition by numero_de_cliente order by foto_mes) as mcheques_depositados_n10_lag2\n",
      ",lag(mcheques_depositados_n10, 3) over (partition by numero_de_cliente order by foto_mes) as mcheques_depositados_n10_lag3\n",
      ",lag(mcheques_emitidos_n10, 1) over (partition by numero_de_cliente order by foto_mes) as mcheques_emitidos_n10_lag1\n",
      ",lag(mcheques_emitidos_n10, 2) over (partition by numero_de_cliente order by foto_mes) as mcheques_emitidos_n10_lag2\n",
      ",lag(mcheques_emitidos_n10, 3) over (partition by numero_de_cliente order by foto_mes) as mcheques_emitidos_n10_lag3\n",
      ",lag(mcheques_depositados_rechazados_n10, 1) over (partition by numero_de_cliente order by foto_mes) as mcheques_depositados_rechazados_n10_lag1\n",
      ",lag(mcheques_depositados_rechazados_n10, 2) over (partition by numero_de_cliente order by foto_mes) as mcheques_depositados_rechazados_n10_lag2\n",
      ",lag(mcheques_depositados_rechazados_n10, 3) over (partition by numero_de_cliente order by foto_mes) as mcheques_depositados_rechazados_n10_lag3\n",
      ",lag(mcheques_emitidos_rechazados_n10, 1) over (partition by numero_de_cliente order by foto_mes) as mcheques_emitidos_rechazados_n10_lag1\n",
      ",lag(mcheques_emitidos_rechazados_n10, 2) over (partition by numero_de_cliente order by foto_mes) as mcheques_emitidos_rechazados_n10_lag2\n",
      ",lag(mcheques_emitidos_rechazados_n10, 3) over (partition by numero_de_cliente order by foto_mes) as mcheques_emitidos_rechazados_n10_lag3\n",
      ",lag(matm_n10, 1) over (partition by numero_de_cliente order by foto_mes) as matm_n10_lag1\n",
      ",lag(matm_n10, 2) over (partition by numero_de_cliente order by foto_mes) as matm_n10_lag2\n",
      ",lag(matm_n10, 3) over (partition by numero_de_cliente order by foto_mes) as matm_n10_lag3\n",
      ",lag(matm_other_n10, 1) over (partition by numero_de_cliente order by foto_mes) as matm_other_n10_lag1\n",
      ",lag(matm_other_n10, 2) over (partition by numero_de_cliente order by foto_mes) as matm_other_n10_lag2\n",
      ",lag(matm_other_n10, 3) over (partition by numero_de_cliente order by foto_mes) as matm_other_n10_lag3\n",
      ",lag(Master_mfinanciacion_limite_n10, 1) over (partition by numero_de_cliente order by foto_mes) as Master_mfinanciacion_limite_n10_lag1\n",
      ",lag(Master_mfinanciacion_limite_n10, 2) over (partition by numero_de_cliente order by foto_mes) as Master_mfinanciacion_limite_n10_lag2\n",
      ",lag(Master_mfinanciacion_limite_n10, 3) over (partition by numero_de_cliente order by foto_mes) as Master_mfinanciacion_limite_n10_lag3\n",
      ",lag(Visa_mfinanciacion_limite_n10, 1) over (partition by numero_de_cliente order by foto_mes) as Visa_mfinanciacion_limite_n10_lag1\n",
      ",lag(Visa_mfinanciacion_limite_n10, 2) over (partition by numero_de_cliente order by foto_mes) as Visa_mfinanciacion_limite_n10_lag2\n",
      ",lag(Visa_mfinanciacion_limite_n10, 3) over (partition by numero_de_cliente order by foto_mes) as Visa_mfinanciacion_limite_n10_lag3\n",
      ",lag(mtarjeta_consumo_n10, 1) over (partition by numero_de_cliente order by foto_mes) as mtarjeta_consumo_n10_lag1\n",
      ",lag(mtarjeta_consumo_n10, 2) over (partition by numero_de_cliente order by foto_mes) as mtarjeta_consumo_n10_lag2\n",
      ",lag(mtarjeta_consumo_n10, 3) over (partition by numero_de_cliente order by foto_mes) as mtarjeta_consumo_n10_lag3\n",
      ",lag(mprestamos_n10, 1) over (partition by numero_de_cliente order by foto_mes) as mprestamos_n10_lag1\n",
      ",lag(mprestamos_n10, 2) over (partition by numero_de_cliente order by foto_mes) as mprestamos_n10_lag2\n",
      ",lag(mprestamos_n10, 3) over (partition by numero_de_cliente order by foto_mes) as mprestamos_n10_lag3\n",
      ",lag(minversion_pesos_n10, 1) over (partition by numero_de_cliente order by foto_mes) as minversion_pesos_n10_lag1\n",
      ",lag(minversion_pesos_n10, 2) over (partition by numero_de_cliente order by foto_mes) as minversion_pesos_n10_lag2\n",
      ",lag(minversion_pesos_n10, 3) over (partition by numero_de_cliente order by foto_mes) as minversion_pesos_n10_lag3\n",
      ",lag(minversion_dolares_n10, 1) over (partition by numero_de_cliente order by foto_mes) as minversion_dolares_n10_lag1\n",
      ",lag(minversion_dolares_n10, 2) over (partition by numero_de_cliente order by foto_mes) as minversion_dolares_n10_lag2\n",
      ",lag(minversion_dolares_n10, 3) over (partition by numero_de_cliente order by foto_mes) as minversion_dolares_n10_lag3\n",
      ",lag(mtarjeta_debitos_automaticos_n10, 1) over (partition by numero_de_cliente order by foto_mes) as mtarjeta_debitos_automaticos_n10_lag1\n",
      ",lag(mtarjeta_debitos_automaticos_n10, 2) over (partition by numero_de_cliente order by foto_mes) as mtarjeta_debitos_automaticos_n10_lag2\n",
      ",lag(mtarjeta_debitos_automaticos_n10, 3) over (partition by numero_de_cliente order by foto_mes) as mtarjeta_debitos_automaticos_n10_lag3\n",
      ",lag(mpagos_n10, 1) over (partition by numero_de_cliente order by foto_mes) as mpagos_n10_lag1\n",
      ",lag(mpagos_n10, 2) over (partition by numero_de_cliente order by foto_mes) as mpagos_n10_lag2\n",
      ",lag(mpagos_n10, 3) over (partition by numero_de_cliente order by foto_mes) as mpagos_n10_lag3\n",
      ",lag(Tarjeta_msaldopesos_n10, 1) over (partition by numero_de_cliente order by foto_mes) as Tarjeta_msaldopesos_n10_lag1\n",
      ",lag(Tarjeta_msaldopesos_n10, 2) over (partition by numero_de_cliente order by foto_mes) as Tarjeta_msaldopesos_n10_lag2\n",
      ",lag(Tarjeta_msaldopesos_n10, 3) over (partition by numero_de_cliente order by foto_mes) as Tarjeta_msaldopesos_n10_lag3\n",
      ",lag(Tarjeta_msaldodolares_n10, 1) over (partition by numero_de_cliente order by foto_mes) as Tarjeta_msaldodolares_n10_lag1\n",
      ",lag(Tarjeta_msaldodolares_n10, 2) over (partition by numero_de_cliente order by foto_mes) as Tarjeta_msaldodolares_n10_lag2\n",
      ",lag(Tarjeta_msaldodolares_n10, 3) over (partition by numero_de_cliente order by foto_mes) as Tarjeta_msaldodolares_n10_lag3\n",
      ",lag(Tarjeta_msaldototal_n10, 1) over (partition by numero_de_cliente order by foto_mes) as Tarjeta_msaldototal_n10_lag1\n",
      ",lag(Tarjeta_msaldototal_n10, 2) over (partition by numero_de_cliente order by foto_mes) as Tarjeta_msaldototal_n10_lag2\n",
      ",lag(Tarjeta_msaldototal_n10, 3) over (partition by numero_de_cliente order by foto_mes) as Tarjeta_msaldototal_n10_lag3\n",
      ",lag(Tarjeta_mconsumospesos_n10, 1) over (partition by numero_de_cliente order by foto_mes) as Tarjeta_mconsumospesos_n10_lag1\n",
      ",lag(Tarjeta_mconsumospesos_n10, 2) over (partition by numero_de_cliente order by foto_mes) as Tarjeta_mconsumospesos_n10_lag2\n",
      ",lag(Tarjeta_mconsumospesos_n10, 3) over (partition by numero_de_cliente order by foto_mes) as Tarjeta_mconsumospesos_n10_lag3\n",
      ",lag(Tarjeta_mconsumosdolares_n10, 1) over (partition by numero_de_cliente order by foto_mes) as Tarjeta_mconsumosdolares_n10_lag1\n",
      ",lag(Tarjeta_mconsumosdolares_n10, 2) over (partition by numero_de_cliente order by foto_mes) as Tarjeta_mconsumosdolares_n10_lag2\n",
      ",lag(Tarjeta_mconsumosdolares_n10, 3) over (partition by numero_de_cliente order by foto_mes) as Tarjeta_mconsumosdolares_n10_lag3\n",
      ",lag(Tarjeta_mlimitecompra_n10, 1) over (partition by numero_de_cliente order by foto_mes) as Tarjeta_mlimitecompra_n10_lag1\n",
      ",lag(Tarjeta_mlimitecompra_n10, 2) over (partition by numero_de_cliente order by foto_mes) as Tarjeta_mlimitecompra_n10_lag2\n",
      ",lag(Tarjeta_mlimitecompra_n10, 3) over (partition by numero_de_cliente order by foto_mes) as Tarjeta_mlimitecompra_n10_lag3\n",
      ",lag(Tarjeta_madelantopesos_n10, 1) over (partition by numero_de_cliente order by foto_mes) as Tarjeta_madelantopesos_n10_lag1\n",
      ",lag(Tarjeta_madelantopesos_n10, 2) over (partition by numero_de_cliente order by foto_mes) as Tarjeta_madelantopesos_n10_lag2\n",
      ",lag(Tarjeta_madelantopesos_n10, 3) over (partition by numero_de_cliente order by foto_mes) as Tarjeta_madelantopesos_n10_lag3\n",
      ",lag(Tarjeta_madelantodolares_n10, 1) over (partition by numero_de_cliente order by foto_mes) as Tarjeta_madelantodolares_n10_lag1\n",
      ",lag(Tarjeta_madelantodolares_n10, 2) over (partition by numero_de_cliente order by foto_mes) as Tarjeta_madelantodolares_n10_lag2\n",
      ",lag(Tarjeta_madelantodolares_n10, 3) over (partition by numero_de_cliente order by foto_mes) as Tarjeta_madelantodolares_n10_lag3\n",
      ",lag(Tarjeta_mpagado_n10, 1) over (partition by numero_de_cliente order by foto_mes) as Tarjeta_mpagado_n10_lag1\n",
      ",lag(Tarjeta_mpagado_n10, 2) over (partition by numero_de_cliente order by foto_mes) as Tarjeta_mpagado_n10_lag2\n",
      ",lag(Tarjeta_mpagado_n10, 3) over (partition by numero_de_cliente order by foto_mes) as Tarjeta_mpagado_n10_lag3\n",
      ",lag(Tarjeta_mpagospesos_n10, 1) over (partition by numero_de_cliente order by foto_mes) as Tarjeta_mpagospesos_n10_lag1\n",
      ",lag(Tarjeta_mpagospesos_n10, 2) over (partition by numero_de_cliente order by foto_mes) as Tarjeta_mpagospesos_n10_lag2\n",
      ",lag(Tarjeta_mpagospesos_n10, 3) over (partition by numero_de_cliente order by foto_mes) as Tarjeta_mpagospesos_n10_lag3\n",
      ",lag(Tarjeta_mpagosdolares_n10, 1) over (partition by numero_de_cliente order by foto_mes) as Tarjeta_mpagosdolares_n10_lag1\n",
      ",lag(Tarjeta_mpagosdolares_n10, 2) over (partition by numero_de_cliente order by foto_mes) as Tarjeta_mpagosdolares_n10_lag2\n",
      ",lag(Tarjeta_mpagosdolares_n10, 3) over (partition by numero_de_cliente order by foto_mes) as Tarjeta_mpagosdolares_n10_lag3\n",
      ",lag(Tarjeta_mconsumototal_n10, 1) over (partition by numero_de_cliente order by foto_mes) as Tarjeta_mconsumototal_n10_lag1\n",
      ",lag(Tarjeta_mconsumototal_n10, 2) over (partition by numero_de_cliente order by foto_mes) as Tarjeta_mconsumototal_n10_lag2\n",
      ",lag(Tarjeta_mconsumototal_n10, 3) over (partition by numero_de_cliente order by foto_mes) as Tarjeta_mconsumototal_n10_lag3\n",
      ",lag(Tarjeta_mpagominimo_n10, 1) over (partition by numero_de_cliente order by foto_mes) as Tarjeta_mpagominimo_n10_lag1\n",
      ",lag(Tarjeta_mpagominimo_n10, 2) over (partition by numero_de_cliente order by foto_mes) as Tarjeta_mpagominimo_n10_lag2\n",
      ",lag(Tarjeta_mpagominimo_n10, 3) over (partition by numero_de_cliente order by foto_mes) as Tarjeta_mpagominimo_n10_lag3\n",
      "from competencia_02\n",
      "\n"
     ]
    },
    {
     "data": {
      "application/vnd.jupyter.widget-view+json": {
       "model_id": "f15e74f6d12140f59af48f4feda3ce05",
       "version_major": 2,
       "version_minor": 0
      },
      "text/plain": [
       "FloatProgress(value=0.0, layout=Layout(width='auto'), style=ProgressStyle(bar_color='black'))"
      ]
     },
     "metadata": {},
     "output_type": "display_data"
    },
    {
     "name": "stdout",
     "output_type": "stream",
     "text": [
      "[(981946,)]\n"
     ]
    }
   ],
   "source": [
    "orden=\"\"\n",
    "orden=orden+\"create or replace TABLE competencia_02 as\\n\"\n",
    "orden+=f\"select *\\n\"\n",
    "for campo in columnas('competencia_02'):\n",
    "  for lag in [1, 2, 3]:\n",
    "    orden+=f\",lag({campo}, {lag}) over (partition by numero_de_cliente order by foto_mes) as {campo}_lag{lag}\\n\"\n",
    "orden+=f\"from competencia_02\\n\"\n",
    "\n",
    "do_sql(orden)\n",
    "\n"
   ]
  },
  {
   "cell_type": "markdown",
   "metadata": {
    "id": "iCVqjxHrUErU"
   },
   "source": [
    "## Otros agregados:\n",
    "promedios de valores en meses\n",
    "cambios en cant de tarjetas u otros.\n",
    "comparar un valor con el mínimo, máximo o promedio de los últimos meses,\n"
   ]
  },
  {
   "cell_type": "markdown",
   "metadata": {
    "id": "YArVBpb8LSGL"
   },
   "source": [
    "Podemos calcular el delta (diferencia) entre el valor pasado y el presente, para uno o varios meses\n"
   ]
  },
  {
   "cell_type": "code",
   "execution_count": null,
   "metadata": {
    "colab": {
     "base_uri": "https://localhost:8080/",
     "height": 34
    },
    "executionInfo": {
     "elapsed": 18,
     "status": "ok",
     "timestamp": 1727805344344,
     "user": {
      "displayName": "Jose Chelquer",
      "userId": "09375279337890014087"
     },
     "user_tz": 180
    },
    "id": "3fzJHwWsLU2u",
    "outputId": "f06e386c-bea6-4a26-819e-a4c10e3641cf"
   },
   "outputs": [
    {
     "data": {
      "text/html": [
       "<span style=\"None\">Skipping execution...</span>"
      ],
      "text/plain": [
       "Skipping execution..."
      ]
     },
     "metadata": {},
     "output_type": "display_data"
    }
   ],
   "source": [
    "%%sql --no-execute\n",
    "select\n",
    "  numero_de_cliente\n",
    "  , foto_mes\n",
    "  , ctrx_quarter\n",
    "  , lag(ctrx_quarter, 1) over (partition by numero_de_cliente order by foto_mes) as lag_1_ctrx_quarter\n",
    "  , ctrx_quarter - lag_1_ctrx_quarter as delta_1_ctrx_quarter\n",
    "  , ctrx_quarter - lag(ctrx_quarter, 2) over (partition by numero_de_cliente order by foto_mes) as lag_2_ctrx_quarter\n",
    "from competencia_01\n",
    "limit 10\n"
   ]
  },
  {
   "cell_type": "markdown",
   "metadata": {
    "id": "t1cd9CbqMzNy"
   },
   "source": [
    "Para saber más que funciones tenemos disponibles, recomiendo ver los siguientes links:\n",
    "\n",
    "https://duckdb.org/docs/archive/0.8.1/sql/window_functions\n",
    "https://duckdb.org/docs/archive/0.8.1/sql/aggregates\n",
    "Un caso más, que ni me voy a molestar en explicar que significa...\n"
   ]
  },
  {
   "cell_type": "code",
   "execution_count": null,
   "metadata": {
    "id": "e3YIZ-b0-kJc"
   },
   "outputs": [],
   "source": [
    "a_slopear=[\n",
    "  'mrentabilidad'\n",
    ", 'cproductos'\n",
    ", 'mpayroll'\n",
    ", 'mpayroll2'\n",
    ", 'cpayroll'\n",
    ", 'mcuentas_saldo'\n",
    ", 'ccuenta_debitos_automaticos'\n",
    ", 'ccajas_transacciones'\n",
    ", 'ccajas_consultas'\n",
    ", 'ccajas_depositos'\n",
    ", 'ccajas_extracciones'\n",
    ", 'Master_status'\n",
    ", 'Visa_status'\n",
    ", 'ctarjeta'\n",
    ", 'ctarjeta_transacciones'\n",
    ", 'cprestamos'\n",
    ", 'cinversion'\n",
    ", 'cseguro'\n",
    ", 'ctarjeta_debitos_automaticos'\n",
    ", 'mcuentas_saldo'\n",
    ", 'msaldos_e_inversion'\n",
    "]\n",
    "a_slopear= [col for col in a_slopear if col in columnas('competencia_02')]\n"
   ]
  },
  {
   "cell_type": "code",
   "execution_count": 1,
   "metadata": {
    "colab": {
     "base_uri": "https://localhost:8080/",
     "height": 211
    },
    "executionInfo": {
     "elapsed": 1266,
     "status": "error",
     "timestamp": 1729798419808,
     "user": {
      "displayName": "Jose Chelquer",
      "userId": "09375279337890014087"
     },
     "user_tz": 180
    },
    "id": "794Ih77b-zvP",
    "outputId": "e6f8cfa9-68fd-4912-f2dc-15d5070595f5"
   },
   "outputs": [
    {
     "ename": "NameError",
     "evalue": "name 'ver_slope' is not defined",
     "output_type": "error",
     "traceback": [
      "\u001b[0;31m---------------------------------------------------------------------------\u001b[0m",
      "\u001b[0;31mNameError\u001b[0m                                 Traceback (most recent call last)",
      "\u001b[0;32m<ipython-input-1-c978d6c468ff>\u001b[0m in \u001b[0;36m<cell line: 3>\u001b[0;34m()\u001b[0m\n\u001b[1;32m      1\u001b[0m \u001b[0morden\u001b[0m\u001b[0;34m=\u001b[0m\u001b[0;34m\"\"\u001b[0m\u001b[0;34m\u001b[0m\u001b[0;34m\u001b[0m\u001b[0m\n\u001b[1;32m      2\u001b[0m \u001b[0morden\u001b[0m\u001b[0;34m+=\u001b[0m\u001b[0;34mf\"select *\\n\"\u001b[0m\u001b[0;34m\u001b[0m\u001b[0;34m\u001b[0m\u001b[0m\n\u001b[0;32m----> 3\u001b[0;31m \u001b[0;32mfor\u001b[0m \u001b[0mcampo\u001b[0m \u001b[0;32min\u001b[0m \u001b[0mver_slope\u001b[0m\u001b[0;34m:\u001b[0m\u001b[0;34m\u001b[0m\u001b[0;34m\u001b[0m\u001b[0m\n\u001b[0m\u001b[1;32m      4\u001b[0m   \u001b[0morden\u001b[0m\u001b[0;34m+=\u001b[0m\u001b[0;34mf\",regr_slope({campo}, foto_mes) over ventana_3 as {campo}_slope_3\\n\"\u001b[0m\u001b[0;34m\u001b[0m\u001b[0;34m\u001b[0m\u001b[0m\n\u001b[1;32m      5\u001b[0m \u001b[0morden\u001b[0m\u001b[0;34m+=\u001b[0m\u001b[0;34mf\"from competencia_01\\n\"\u001b[0m\u001b[0;34m\u001b[0m\u001b[0;34m\u001b[0m\u001b[0m\n",
      "\u001b[0;31mNameError\u001b[0m: name 'ver_slope' is not defined"
     ]
    }
   ],
   "source": [
    "orden=\"\"\n",
    "orden+=f\"select *\\n\"\n",
    "for campo in a_slopear:\n",
    "  orden+=f\",regr_slope({campo}, foto_mes) over ventana_3 as {campo}_slope_3\\n\"\n",
    "orden+=f\"from competencia_01\\n\"\n",
    "orden+=f\"window ventana_3 as (partition by numero_de_cliente order by foto_mes rows between 3 preceding and current row)\\n\"\n",
    "do_sql(orden)\n",
    "\n"
   ]
  },
  {
   "cell_type": "code",
   "execution_count": null,
   "metadata": {
    "colab": {
     "base_uri": "https://localhost:8080/",
     "height": 49,
     "referenced_widgets": [
      "0a18402445c14cd69e928b4a1686e646",
      "65339699c71640a3a199ff3b10a3e38d",
      "11fd1bb4ca834603902fe479631b661e"
     ]
    },
    "executionInfo": {
     "elapsed": 73491,
     "status": "ok",
     "timestamp": 1727805490712,
     "user": {
      "displayName": "Jose Chelquer",
      "userId": "09375279337890014087"
     },
     "user_tz": 180
    },
    "id": "5sZvnQt9BVHv",
    "outputId": "728d6231-6dcb-47de-94ab-f3db15cb9218"
   },
   "outputs": [
    {
     "data": {
      "application/vnd.jupyter.widget-view+json": {
       "model_id": "0a18402445c14cd69e928b4a1686e646",
       "version_major": 2,
       "version_minor": 0
      },
      "text/plain": [
       "FloatProgress(value=0.0, layout=Layout(width='auto'), style=ProgressStyle(bar_color='black'))"
      ]
     },
     "metadata": {},
     "output_type": "display_data"
    }
   ],
   "source": [
    "grabar_aumentada()"
   ]
  }
 ],
 "metadata": {
  "colab": {
   "authorship_tag": "ABX9TyNCrePnsrVciGLXg9wiT4N8",
   "provenance": [],
   "toc_visible": true
  },
  "kernelspec": {
   "display_name": "Python 3 (ipykernel)",
   "language": "python",
   "name": "python3"
  },
  "language_info": {
   "codemirror_mode": {
    "name": "ipython",
    "version": 3
   },
   "file_extension": ".py",
   "mimetype": "text/x-python",
   "name": "python",
   "nbconvert_exporter": "python",
   "pygments_lexer": "ipython3",
   "version": "3.12.3"
  },
  "widgets": {
   "application/vnd.jupyter.widget-state+json": {
    "1030687804cf478cb021f985369fa508": {
     "model_module": "@jupyter-widgets/controls",
     "model_module_version": "1.5.0",
     "model_name": "ProgressStyleModel",
     "state": {
      "_model_module": "@jupyter-widgets/controls",
      "_model_module_version": "1.5.0",
      "_model_name": "ProgressStyleModel",
      "_view_count": null,
      "_view_module": "@jupyter-widgets/base",
      "_view_module_version": "1.2.0",
      "_view_name": "StyleView",
      "bar_color": "black",
      "description_width": ""
     }
    },
    "53f275d92c284d96a5573d2e649178cd": {
     "model_module": "@jupyter-widgets/controls",
     "model_module_version": "1.5.0",
     "model_name": "ProgressStyleModel",
     "state": {
      "_model_module": "@jupyter-widgets/controls",
      "_model_module_version": "1.5.0",
      "_model_name": "ProgressStyleModel",
      "_view_count": null,
      "_view_module": "@jupyter-widgets/base",
      "_view_module_version": "1.2.0",
      "_view_name": "StyleView",
      "bar_color": "black",
      "description_width": ""
     }
    },
    "88c6b5ff8b9b42498b4b52a66f441740": {
     "model_module": "@jupyter-widgets/base",
     "model_module_version": "1.2.0",
     "model_name": "LayoutModel",
     "state": {
      "_model_module": "@jupyter-widgets/base",
      "_model_module_version": "1.2.0",
      "_model_name": "LayoutModel",
      "_view_count": null,
      "_view_module": "@jupyter-widgets/base",
      "_view_module_version": "1.2.0",
      "_view_name": "LayoutView",
      "align_content": null,
      "align_items": null,
      "align_self": null,
      "border": null,
      "bottom": null,
      "display": null,
      "flex": null,
      "flex_flow": null,
      "grid_area": null,
      "grid_auto_columns": null,
      "grid_auto_flow": null,
      "grid_auto_rows": null,
      "grid_column": null,
      "grid_gap": null,
      "grid_row": null,
      "grid_template_areas": null,
      "grid_template_columns": null,
      "grid_template_rows": null,
      "height": null,
      "justify_content": null,
      "justify_items": null,
      "left": null,
      "margin": null,
      "max_height": null,
      "max_width": null,
      "min_height": null,
      "min_width": null,
      "object_fit": null,
      "object_position": null,
      "order": null,
      "overflow": null,
      "overflow_x": null,
      "overflow_y": null,
      "padding": null,
      "right": null,
      "top": null,
      "visibility": null,
      "width": "auto"
     }
    },
    "b13de1745e214ab38a1b05f1d322a820": {
     "model_module": "@jupyter-widgets/controls",
     "model_module_version": "1.5.0",
     "model_name": "FloatProgressModel",
     "state": {
      "_dom_classes": [],
      "_model_module": "@jupyter-widgets/controls",
      "_model_module_version": "1.5.0",
      "_model_name": "FloatProgressModel",
      "_view_count": null,
      "_view_module": "@jupyter-widgets/controls",
      "_view_module_version": "1.5.0",
      "_view_name": "ProgressView",
      "bar_style": "",
      "description": "",
      "description_tooltip": null,
      "layout": "IPY_MODEL_88c6b5ff8b9b42498b4b52a66f441740",
      "max": 100,
      "min": 0,
      "orientation": "horizontal",
      "style": "IPY_MODEL_1030687804cf478cb021f985369fa508",
      "value": 100
     }
    },
    "d24fcb3c67db4a1c93ee374348c99b4a": {
     "model_module": "@jupyter-widgets/controls",
     "model_module_version": "1.5.0",
     "model_name": "FloatProgressModel",
     "state": {
      "_dom_classes": [],
      "_model_module": "@jupyter-widgets/controls",
      "_model_module_version": "1.5.0",
      "_model_name": "FloatProgressModel",
      "_view_count": null,
      "_view_module": "@jupyter-widgets/controls",
      "_view_module_version": "1.5.0",
      "_view_name": "ProgressView",
      "bar_style": "",
      "description": "",
      "description_tooltip": null,
      "layout": "IPY_MODEL_e717934f912e4ba990fe40552a11f415",
      "max": 100,
      "min": 0,
      "orientation": "horizontal",
      "style": "IPY_MODEL_53f275d92c284d96a5573d2e649178cd",
      "value": 100
     }
    },
    "d783d9b8eb0147bfaa61e168f0ad24ff": {
     "model_module": "@jupyter-widgets/controls",
     "model_module_version": "1.5.0",
     "model_name": "ProgressStyleModel",
     "state": {
      "_model_module": "@jupyter-widgets/controls",
      "_model_module_version": "1.5.0",
      "_model_name": "ProgressStyleModel",
      "_view_count": null,
      "_view_module": "@jupyter-widgets/base",
      "_view_module_version": "1.2.0",
      "_view_name": "StyleView",
      "bar_color": "black",
      "description_width": ""
     }
    },
    "e245bb65a68e4a49aa48c07d7df60bf7": {
     "model_module": "@jupyter-widgets/base",
     "model_module_version": "1.2.0",
     "model_name": "LayoutModel",
     "state": {
      "_model_module": "@jupyter-widgets/base",
      "_model_module_version": "1.2.0",
      "_model_name": "LayoutModel",
      "_view_count": null,
      "_view_module": "@jupyter-widgets/base",
      "_view_module_version": "1.2.0",
      "_view_name": "LayoutView",
      "align_content": null,
      "align_items": null,
      "align_self": null,
      "border": null,
      "bottom": null,
      "display": null,
      "flex": null,
      "flex_flow": null,
      "grid_area": null,
      "grid_auto_columns": null,
      "grid_auto_flow": null,
      "grid_auto_rows": null,
      "grid_column": null,
      "grid_gap": null,
      "grid_row": null,
      "grid_template_areas": null,
      "grid_template_columns": null,
      "grid_template_rows": null,
      "height": null,
      "justify_content": null,
      "justify_items": null,
      "left": null,
      "margin": null,
      "max_height": null,
      "max_width": null,
      "min_height": null,
      "min_width": null,
      "object_fit": null,
      "object_position": null,
      "order": null,
      "overflow": null,
      "overflow_x": null,
      "overflow_y": null,
      "padding": null,
      "right": null,
      "top": null,
      "visibility": null,
      "width": "auto"
     }
    },
    "e717934f912e4ba990fe40552a11f415": {
     "model_module": "@jupyter-widgets/base",
     "model_module_version": "1.2.0",
     "model_name": "LayoutModel",
     "state": {
      "_model_module": "@jupyter-widgets/base",
      "_model_module_version": "1.2.0",
      "_model_name": "LayoutModel",
      "_view_count": null,
      "_view_module": "@jupyter-widgets/base",
      "_view_module_version": "1.2.0",
      "_view_name": "LayoutView",
      "align_content": null,
      "align_items": null,
      "align_self": null,
      "border": null,
      "bottom": null,
      "display": null,
      "flex": null,
      "flex_flow": null,
      "grid_area": null,
      "grid_auto_columns": null,
      "grid_auto_flow": null,
      "grid_auto_rows": null,
      "grid_column": null,
      "grid_gap": null,
      "grid_row": null,
      "grid_template_areas": null,
      "grid_template_columns": null,
      "grid_template_rows": null,
      "height": null,
      "justify_content": null,
      "justify_items": null,
      "left": null,
      "margin": null,
      "max_height": null,
      "max_width": null,
      "min_height": null,
      "min_width": null,
      "object_fit": null,
      "object_position": null,
      "order": null,
      "overflow": null,
      "overflow_x": null,
      "overflow_y": null,
      "padding": null,
      "right": null,
      "top": null,
      "visibility": null,
      "width": "auto"
     }
    },
    "ecdc576f4dcb4cb787fb4182d30025f5": {
     "model_module": "@jupyter-widgets/base",
     "model_module_version": "1.2.0",
     "model_name": "LayoutModel",
     "state": {
      "_model_module": "@jupyter-widgets/base",
      "_model_module_version": "1.2.0",
      "_model_name": "LayoutModel",
      "_view_count": null,
      "_view_module": "@jupyter-widgets/base",
      "_view_module_version": "1.2.0",
      "_view_name": "LayoutView",
      "align_content": null,
      "align_items": null,
      "align_self": null,
      "border": null,
      "bottom": null,
      "display": null,
      "flex": null,
      "flex_flow": null,
      "grid_area": null,
      "grid_auto_columns": null,
      "grid_auto_flow": null,
      "grid_auto_rows": null,
      "grid_column": null,
      "grid_gap": null,
      "grid_row": null,
      "grid_template_areas": null,
      "grid_template_columns": null,
      "grid_template_rows": null,
      "height": null,
      "justify_content": null,
      "justify_items": null,
      "left": null,
      "margin": null,
      "max_height": null,
      "max_width": null,
      "min_height": null,
      "min_width": null,
      "object_fit": null,
      "object_position": null,
      "order": null,
      "overflow": null,
      "overflow_x": null,
      "overflow_y": null,
      "padding": null,
      "right": null,
      "top": null,
      "visibility": null,
      "width": "auto"
     }
    },
    "f15e74f6d12140f59af48f4feda3ce05": {
     "model_module": "@jupyter-widgets/controls",
     "model_module_version": "1.5.0",
     "model_name": "FloatProgressModel",
     "state": {
      "_dom_classes": [],
      "_model_module": "@jupyter-widgets/controls",
      "_model_module_version": "1.5.0",
      "_model_name": "FloatProgressModel",
      "_view_count": null,
      "_view_module": "@jupyter-widgets/controls",
      "_view_module_version": "1.5.0",
      "_view_name": "ProgressView",
      "bar_style": "",
      "description": "",
      "description_tooltip": null,
      "layout": "IPY_MODEL_e245bb65a68e4a49aa48c07d7df60bf7",
      "max": 100,
      "min": 0,
      "orientation": "horizontal",
      "style": "IPY_MODEL_fd2daf652efa40dd8781b4a2f9a9b097",
      "value": 100
     }
    },
    "f70229bf0fad448095e174d722150ce0": {
     "model_module": "@jupyter-widgets/controls",
     "model_module_version": "1.5.0",
     "model_name": "FloatProgressModel",
     "state": {
      "_dom_classes": [],
      "_model_module": "@jupyter-widgets/controls",
      "_model_module_version": "1.5.0",
      "_model_name": "FloatProgressModel",
      "_view_count": null,
      "_view_module": "@jupyter-widgets/controls",
      "_view_module_version": "1.5.0",
      "_view_name": "ProgressView",
      "bar_style": "",
      "description": "",
      "description_tooltip": null,
      "layout": "IPY_MODEL_ecdc576f4dcb4cb787fb4182d30025f5",
      "max": 100,
      "min": 0,
      "orientation": "horizontal",
      "style": "IPY_MODEL_d783d9b8eb0147bfaa61e168f0ad24ff",
      "value": 100
     }
    },
    "fd2daf652efa40dd8781b4a2f9a9b097": {
     "model_module": "@jupyter-widgets/controls",
     "model_module_version": "1.5.0",
     "model_name": "ProgressStyleModel",
     "state": {
      "_model_module": "@jupyter-widgets/controls",
      "_model_module_version": "1.5.0",
      "_model_name": "ProgressStyleModel",
      "_view_count": null,
      "_view_module": "@jupyter-widgets/base",
      "_view_module_version": "1.2.0",
      "_view_name": "StyleView",
      "bar_color": "black",
      "description_width": ""
     }
    }
   }
  }
 },
 "nbformat": 4,
 "nbformat_minor": 4
}
