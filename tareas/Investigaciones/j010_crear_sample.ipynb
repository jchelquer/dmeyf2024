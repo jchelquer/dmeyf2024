{
 "cells": [
  {
   "cell_type": "markdown",
   "metadata": {
    "id": "d_xvJXPhCkMA"
   },
   "source": [
    "# Título   Crear clase sample\n",
    "\n",
    "## Autor: Jose Chelquer\n",
    "## Fecha de última modificación: 24/10/2025\n",
    "## Descripción:\n",
    "\n",
    "Crear un sample del dataset con proporciones parametrizadas y meses seleccionados"
   ]
  },
  {
   "cell_type": "markdown",
   "metadata": {
    "id": "qRTSvXdLHkpB"
   },
   "source": [
    "## Parámetros\n",
    "\n",
    "< Descripción de cada uno de los parámetros que utiliza el job >\n"
   ]
  },
  {
   "cell_type": "code",
   "execution_count": 1,
   "metadata": {
    "id": "yMU00Fl7IIfm"
   },
   "outputs": [],
   "source": [
    "\n",
    "usar_gdrive=False    # Poner en true si se va a ejecutar con archivos de google drive\n",
    "\n",
    "feature_a_usar = 'clase_ternaria'     #feature a la que hacen referencia los valores de % a seleccionar\n",
    "sample_pct={'BAJA+1':1, 'BAJA+2':1, 'CONTINUA':.05}   # % de cada clase a obtener en el sample\n",
    "# meses_a_seleccionar = [201908, 201909, 201910]      # Versión para seleccionar meses específicos\n",
    "meses_a_seleccionar=[]                                # Versión para seleccionar todos los meses"
   ]
  },
  {
   "cell_type": "markdown",
   "metadata": {
    "id": "sH5VivJSIM42"
   },
   "source": [
    "## Input\n",
    "\n",
    "< Archivos de datos (csv.gz) con sus paths que van a consumirse por el job>"
   ]
  },
  {
   "cell_type": "code",
   "execution_count": 2,
   "metadata": {
    "id": "MEk4Fj7VIv7g"
   },
   "outputs": [],
   "source": [
    "# Ejemplo\n",
    "\n",
    "\n",
    "dataset_path = '~/buckets/b1/datasets' \n",
    "dataset_file = 'competencia_02.csv.gz'"
   ]
  },
  {
   "cell_type": "markdown",
   "metadata": {
    "id": "fQ6MUhENI0Ya"
   },
   "source": [
    "## Output\n",
    "\n",
    "< Archivos, bases de datos, modelos que va a generar el job>"
   ]
  },
  {
   "cell_type": "code",
   "execution_count": 3,
   "metadata": {
    "id": "ZT3kxlkFIv4p"
   },
   "outputs": [],
   "source": [
    "output_file='competencia_02_sampleado.csv.gz'\n"
   ]
  },
  {
   "cell_type": "code",
   "execution_count": 4,
   "metadata": {
    "id": "NtIT33WnJFx-"
   },
   "outputs": [],
   "source": [
    "## Procesos"
   ]
  },
  {
   "cell_type": "markdown",
   "metadata": {
    "id": "iVe0GO1IJHtI"
   },
   "source": [
    "### Paquetes necesarios"
   ]
  },
  {
   "cell_type": "code",
   "execution_count": null,
   "metadata": {
    "id": "O2VG2xS_Ivq3"
   },
   "outputs": [],
   "source": []
  },
  {
   "cell_type": "markdown",
   "metadata": {
    "id": "0LM2kY_WJj15"
   },
   "source": [
    "## Código del proceso\n",
    "\n",
    "< Todo el código a partir de aquí debe poder ejecutarse sin necesidad de parametrizar nada>"
   ]
  },
  {
   "cell_type": "code",
   "execution_count": 5,
   "metadata": {
    "id": "Nr6BNGDUJkWd"
   },
   "outputs": [],
   "source": [
    "import os\n",
    "import pandas as pd"
   ]
  },
  {
   "cell_type": "code",
   "execution_count": 6,
   "metadata": {},
   "outputs": [],
   "source": [
    "if usar_gdrive:\n",
    "    print ('Cargando google drive')\n",
    "    from google.colab import drive\n",
    "    drive.mount('/content/drive')"
   ]
  },
  {
   "cell_type": "code",
   "execution_count": null,
   "metadata": {},
   "outputs": [],
   "source": [
    "input_gz=dataset_file.endswith('.gz')\n",
    "output_gz=output_file.endswith('.gz')"
   ]
  },
  {
   "cell_type": "code",
   "execution_count": 7,
   "metadata": {},
   "outputs": [
    {
     "name": "stdout",
     "output_type": "stream",
     "text": [
      "leyendo ~/buckets/b1/datasets/competencia_02.csv.gz\n",
      "Se leyeron 4735593 filas\n"
     ]
    }
   ],
   "source": [
    "# leer el dataset\n",
    "\n",
    "file_path = os.path.join(dataset_path, dataset_file)\n",
    "print (f'leyendo {file_path}')\n",
    "# Read the CSV file into a DataFrame\n",
    "df = pd.read_csv(file_path)\n",
    "\n",
    "print (f'Se leyeron {df.shape[0]} filas')"
   ]
  },
  {
   "cell_type": "code",
   "execution_count": 8,
   "metadata": {},
   "outputs": [],
   "source": [
    "# Seleccionar meses\n",
    "if meses_a_seleccionar:\n",
    "    print (f'seleccionando meses {meses_a_seleccionar}')\n",
    "    df=df[df['foto_mes'].isin(meses_a_seleccionar)]\n",
    "    print (f'quedaron {df.shape[0]} filas')"
   ]
  },
  {
   "cell_type": "code",
   "execution_count": 9,
   "metadata": {},
   "outputs": [
    {
     "name": "stdout",
     "output_type": "stream",
     "text": [
      "quedaron 588402 filas\n"
     ]
    }
   ],
   "source": [
    "# muestrar\n",
    "# Función para filtrar y muestrear por cada valor del feature\n",
    "def filtrar_muestrear(df, feature, sample_pct):\n",
    "    df_sampled = pd.concat([\n",
    "        df[df[feature] == clase].sample(frac=sample_pct[clase], random_state=42)\n",
    "        for clase in sample_pct\n",
    "    ])\n",
    "    return df_sampled\n",
    "\n",
    "# Aplicamos la función al DataFrame\n",
    "df = filtrar_muestrear(df, feature_a_usar, sample_pct)\n",
    "\n",
    "print (f'quedaron {df.shape[0]} filas')\n"
   ]
  },
  {
   "cell_type": "code",
   "execution_count": null,
   "metadata": {},
   "outputs": [],
   "source": [
    "output_file_path=os.path.join(dataset_path, output_file)\n",
    "if output_gz:\n",
    "    df.to_csv('nombre_archivo.csv.gz', index=False, compression='gzip')\n",
    "else:\n",
    "    df.to_csv('nombre_archivo.csv.gz', index=False)\n",
    "    "
   ]
  }
 ],
 "metadata": {
  "colab": {
   "provenance": []
  },
  "kernelspec": {
   "display_name": "Python 3 (ipykernel)",
   "language": "python",
   "name": "python3"
  },
  "language_info": {
   "codemirror_mode": {
    "name": "ipython",
    "version": 3
   },
   "file_extension": ".py",
   "mimetype": "text/x-python",
   "name": "python",
   "nbconvert_exporter": "python",
   "pygments_lexer": "ipython3",
   "version": "3.12.3"
  }
 },
 "nbformat": 4,
 "nbformat_minor": 4
}
