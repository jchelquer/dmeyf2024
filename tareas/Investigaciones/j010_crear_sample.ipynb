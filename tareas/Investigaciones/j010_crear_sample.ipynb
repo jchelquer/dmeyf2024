{
 "cells": [
  {
   "cell_type": "markdown",
   "metadata": {
    "id": "d_xvJXPhCkMA"
   },
   "source": [
    "# Título   Crear clase sample\n",
    "\n",
    "## Autor: Jose Chelquer\n",
    "## Fecha de última modificación: 11/11/2024\n",
    "## Descripción:\n",
    "\n",
    "Crear un sample del dataset con proporciones parametrizadas y meses seleccionados"
   ]
  },
  {
   "cell_type": "markdown",
   "metadata": {
    "id": "qRTSvXdLHkpB"
   },
   "source": [
    "## Parámetros\n",
    "\n",
    "< Descripción de cada uno de los parámetros que utiliza el job >\n"
   ]
  },
  {
   "cell_type": "code",
   "execution_count": 36,
   "metadata": {
    "id": "yMU00Fl7IIfm"
   },
   "outputs": [],
   "source": [
    "vm=True              # Se está trabajando en la vm o local?\n",
    "usar_gdrive=not(vm)  # en vm no se usa google drive\n",
    "\n",
    "feature_a_usar = 'clase_ternaria'     #feature a la que hacen referencia los valores de % a seleccionar\n",
    "sample_pct={'BAJA+1':1, 'BAJA+2':1, 'CONTINUA':.05}   # % de cada clase a obtener en el sample\n",
    "meses_a_seleccionar = [202101, 202102, 202103, 202104, 202105, 202106]       # Versión para seleccionar meses específicos\n",
    "#meses_a_seleccionar=[]                                # Versión para seleccionar todos los meses\n",
    "mes_test=202108         #el mes test va completo. SIEMPRE se lo selecciona"
   ]
  },
  {
   "cell_type": "markdown",
   "metadata": {
    "id": "sH5VivJSIM42"
   },
   "source": [
    "## Input\n",
    "\n",
    "< Archivos de datos (csv.gz) con sus paths que van a consumirse por el job>"
   ]
  },
  {
   "cell_type": "code",
   "execution_count": 37,
   "metadata": {
    "id": "MEk4Fj7VIv7g"
   },
   "outputs": [],
   "source": [
    "dataset_path = '~/buckets/b1/datasets' \n",
    "#dataset_file='competencia_02.csv.gz'\n",
    "dataset_file='competencia_02_aumentada.csv.gz'"
   ]
  },
  {
   "cell_type": "markdown",
   "metadata": {
    "id": "fQ6MUhENI0Ya"
   },
   "source": [
    "## Output\n",
    "\n",
    "< Archivos, bases de datos, modelos que va a generar el job>"
   ]
  },
  {
   "cell_type": "code",
   "execution_count": 38,
   "metadata": {
    "id": "ZT3kxlkFIv4p"
   },
   "outputs": [],
   "source": [
    "#output_file='competencia_02_sampleado.csv.gz'\n",
    "#output_file='sample_c02_base_m1a8.csv.gz'\n",
    "output_file='sample_c02_aum_m1a8.csv.gz'\n"
   ]
  },
  {
   "cell_type": "markdown",
   "metadata": {
    "id": "NtIT33WnJFx-",
    "jp-MarkdownHeadingCollapsed": true
   },
   "source": [
    "## Procesos"
   ]
  },
  {
   "cell_type": "markdown",
   "metadata": {
    "id": "iVe0GO1IJHtI"
   },
   "source": [
    "### Paquetes necesarios"
   ]
  },
  {
   "cell_type": "code",
   "execution_count": null,
   "metadata": {
    "id": "O2VG2xS_Ivq3"
   },
   "outputs": [],
   "source": []
  },
  {
   "cell_type": "markdown",
   "metadata": {
    "id": "0LM2kY_WJj15"
   },
   "source": [
    "## Código del proceso\n",
    "\n",
    "< Todo el código a partir de aquí debe poder ejecutarse sin necesidad de parametrizar nada>"
   ]
  },
  {
   "cell_type": "code",
   "execution_count": 39,
   "metadata": {
    "id": "Nr6BNGDUJkWd"
   },
   "outputs": [],
   "source": [
    "import os\n",
    "import pandas as pd"
   ]
  },
  {
   "cell_type": "code",
   "execution_count": 40,
   "metadata": {},
   "outputs": [],
   "source": [
    "if usar_gdrive:\n",
    "    print ('Cargando google drive')\n",
    "    from google.colab import drive\n",
    "    drive.mount('/content/drive')"
   ]
  },
  {
   "cell_type": "code",
   "execution_count": 41,
   "metadata": {},
   "outputs": [],
   "source": [
    "input_gz=dataset_file.endswith('.gz')\n",
    "output_gz=output_file.endswith('.gz')"
   ]
  },
  {
   "cell_type": "code",
   "execution_count": 42,
   "metadata": {},
   "outputs": [
    {
     "name": "stdout",
     "output_type": "stream",
     "text": [
      "leyendo ~/buckets/b1/datasets/competencia_02_aumentada.csv.gz\n"
     ]
    }
   ],
   "source": [
    "# leer el dataset\n",
    "file_path = os.path.join(dataset_path, dataset_file)\n",
    "print (f'leyendo {file_path}')\n",
    "# Read the CSV file into a DataFrame\n",
    "df = pd.read_csv(file_path)"
   ]
  },
  {
   "cell_type": "code",
   "execution_count": 43,
   "metadata": {},
   "outputs": [
    {
     "name": "stdout",
     "output_type": "stream",
     "text": [
      "Total de filas y features: \n",
      "(4735593, 485)\n",
      "Filas por mes:\n",
      " foto_mes\n",
      "202108    165442\n",
      "202107    165152\n",
      "202106    164876\n",
      "202105    164623\n",
      "202104    164090\n",
      "202103    163685\n",
      "202102    162646\n",
      "202101    162026\n",
      "202012    161526\n",
      "202011    160742\n",
      "202010    159731\n",
      "202009    158371\n",
      "202008    157058\n",
      "202007    155764\n",
      "202006    153757\n",
      "202005    151261\n",
      "202004    149872\n",
      "202003    149356\n",
      "202002    147109\n",
      "202001    143966\n",
      "201912    140661\n",
      "201911    138667\n",
      "201910    136682\n",
      "201909    134314\n",
      "201908    132664\n",
      "201907    130724\n",
      "201906    129186\n",
      "201905    127659\n",
      "201904    126996\n",
      "201903    126436\n",
      "201902    125799\n",
      "201901    124752\n",
      "Name: count, dtype: int64\n",
      "Casos por mes y clase:\n",
      "clase_ternaria  BAJA+1  BAJA+2  CONTINUA\n",
      "foto_mes                                \n",
      "201901             688     718    123346\n",
      "201902             720     688    124391\n",
      "201903             688     760    124988\n",
      "201904             759     579    125658\n",
      "201905             580     660    126419\n",
      "201906             662     608    127916\n",
      "201907             609     689    129426\n",
      "201908             683     552    131429\n",
      "201909             553     576    133185\n",
      "201910             583     624    135475\n",
      "201911             623     735    137309\n",
      "201912             734     598    139329\n",
      "202001             605     502    142859\n",
      "202002             508     185    146416\n",
      "202003             186     378    148792\n",
      "202004             377     533    148962\n",
      "202005             536     629    150096\n",
      "202006             632     624    152501\n",
      "202007             627     542    154595\n",
      "202008             544     472    156042\n",
      "202009             474     564    157333\n",
      "202010             565     488    158678\n",
      "202011             490     646    159606\n",
      "202012             649     634    160243\n",
      "202101             635     785    160606\n",
      "202102             785    1017    160844\n",
      "202103            1020     981    161684\n",
      "202104             982    1189    161919\n",
      "202105            1189     911    162523\n",
      "202106             908    1074    162894\n",
      "202107            1075  164077         0\n",
      "202108          165442       0         0\n"
     ]
    }
   ],
   "source": [
    "def contabilizar(df):\n",
    "    print (f'Total de filas y features: \\n{df.shape}')\n",
    "    print (f'Filas por mes:\\n {df['foto_mes'].value_counts()}')\n",
    "    print (f'Casos por mes y clase:\\n{pd.crosstab(df['foto_mes'], df['clase_ternaria'])}')\n",
    "contabilizar(df)"
   ]
  },
  {
   "cell_type": "code",
   "execution_count": 44,
   "metadata": {},
   "outputs": [],
   "source": [
    "df_out=df"
   ]
  },
  {
   "cell_type": "code",
   "execution_count": 45,
   "metadata": {},
   "outputs": [
    {
     "name": "stdout",
     "output_type": "stream",
     "text": [
      "seleccionando meses [202101, 202102, 202103, 202104, 202105, 202106]\n",
      "quedaron 981946 filas\n",
      "Total de filas y features: \n",
      "(981946, 485)\n",
      "Filas por mes:\n",
      " foto_mes\n",
      "202106    164876\n",
      "202105    164623\n",
      "202104    164090\n",
      "202103    163685\n",
      "202102    162646\n",
      "202101    162026\n",
      "Name: count, dtype: int64\n",
      "Casos por mes y clase:\n",
      "clase_ternaria  BAJA+1  BAJA+2  CONTINUA\n",
      "foto_mes                                \n",
      "202101             635     785    160606\n",
      "202102             785    1017    160844\n",
      "202103            1020     981    161684\n",
      "202104             982    1189    161919\n",
      "202105            1189     911    162523\n",
      "202106             908    1074    162894\n"
     ]
    }
   ],
   "source": [
    "# Seleccionar meses\n",
    "if meses_a_seleccionar:\n",
    "    print (f'seleccionando meses {meses_a_seleccionar}')\n",
    "    df_out=df_out[df_out['foto_mes'].isin(meses_a_seleccionar)]\n",
    "    print (f'quedaron {df_out.shape[0]} filas')\n",
    "contabilizar(df_out)"
   ]
  },
  {
   "cell_type": "code",
   "execution_count": 46,
   "metadata": {},
   "outputs": [
    {
     "name": "stdout",
     "output_type": "stream",
     "text": [
      "[202104 202105 202106 202101 202102 202103]\n",
      "quedaron 59999 filas\n"
     ]
    }
   ],
   "source": [
    "# muestrar\n",
    "# Función para filtrar y muestrear por cada valor del feature\n",
    "def filtrar_muestrear(df, feature, feat_grupos, sample_pct):\n",
    "    grupos=df[feat_grupos].unique()\n",
    "    print (grupos)\n",
    "    df_sampled = pd.concat([\n",
    "        df[(df[feature] == clase) & (df[feat_grupos]==grupo)].sample(frac=sample_pct[clase], random_state=42)\n",
    "        for clase in sample_pct\n",
    "        for grupo in grupos\n",
    "    ])\n",
    "    return df_sampled\n",
    "\n",
    "\n",
    "\n",
    "\n",
    "# Aplicamos la función al DataFrame\n",
    "df_out = filtrar_muestrear(df_out, feature_a_usar, 'foto_mes', sample_pct)\n",
    "\n",
    "print (f'quedaron {df_out.shape[0]} filas')\n"
   ]
  },
  {
   "cell_type": "code",
   "execution_count": 47,
   "metadata": {},
   "outputs": [
    {
     "name": "stdout",
     "output_type": "stream",
     "text": [
      "Total de filas y features: \n",
      "(59999, 485)\n",
      "Filas por mes:\n",
      " foto_mes\n",
      "202104    10267\n",
      "202105    10226\n",
      "202106    10127\n",
      "202103    10085\n",
      "202102     9844\n",
      "202101     9450\n",
      "Name: count, dtype: int64\n",
      "Casos por mes y clase:\n",
      "clase_ternaria  BAJA+1  BAJA+2  CONTINUA\n",
      "foto_mes                                \n",
      "202101             635     785      8030\n",
      "202102             785    1017      8042\n",
      "202103            1020     981      8084\n",
      "202104             982    1189      8096\n",
      "202105            1189     911      8126\n",
      "202106             908    1074      8145\n"
     ]
    }
   ],
   "source": [
    "contabilizar(df_out)"
   ]
  },
  {
   "cell_type": "code",
   "execution_count": 48,
   "metadata": {},
   "outputs": [],
   "source": [
    "# Elimino el mes_test si por alguna razón quedó ahí\n",
    "# Por las dudas, se eliminan registros de ese mes:\n",
    "df_out = df_out[df_out['foto_mes'] != mes_test]\n",
    "\n"
   ]
  },
  {
   "cell_type": "code",
   "execution_count": 49,
   "metadata": {},
   "outputs": [],
   "source": [
    "# Agrego completo el mes_test\n",
    "# Filtra las filas de df que cumplen la condición\n",
    "df_mes_test = df[df[\"foto_mes\"] == mes_test]\n",
    "\n",
    "# Agrega esas filas a df_out\n",
    "df_out = pd.concat([df_out, df_mes_test], ignore_index=True)"
   ]
  },
  {
   "cell_type": "code",
   "execution_count": 50,
   "metadata": {},
   "outputs": [
    {
     "name": "stdout",
     "output_type": "stream",
     "text": [
      "Total de filas y features: \n",
      "(225441, 485)\n",
      "Filas por mes:\n",
      " foto_mes\n",
      "202108    165442\n",
      "202104     10267\n",
      "202105     10226\n",
      "202106     10127\n",
      "202103     10085\n",
      "202102      9844\n",
      "202101      9450\n",
      "Name: count, dtype: int64\n",
      "Casos por mes y clase:\n",
      "clase_ternaria  BAJA+1  BAJA+2  CONTINUA\n",
      "foto_mes                                \n",
      "202101             635     785      8030\n",
      "202102             785    1017      8042\n",
      "202103            1020     981      8084\n",
      "202104             982    1189      8096\n",
      "202105            1189     911      8126\n",
      "202106             908    1074      8145\n",
      "202108          165442       0         0\n"
     ]
    }
   ],
   "source": [
    "contabilizar(df_out)"
   ]
  },
  {
   "cell_type": "code",
   "execution_count": 51,
   "metadata": {},
   "outputs": [],
   "source": [
    "output_file_path=os.path.join(dataset_path, output_file)\n",
    "if output_gz:\n",
    "    df_out.to_csv(output_file_path, index=False, compression='gzip')\n",
    "else:\n",
    "    df_out.to_csv(output_file_path, index=False)\n",
    "    "
   ]
  },
  {
   "cell_type": "code",
   "execution_count": 55,
   "metadata": {},
   "outputs": [
    {
     "name": "stdout",
     "output_type": "stream",
     "text": [
      "Cantidad total de variables 485\n",
      "Cantidad de columnas que empiezan con 'tree': 0\n",
      "Cantidad de variables normales: 485\n",
      "Archivo grabado: sample_c02_aum_m1a8.csv.gz\n"
     ]
    }
   ],
   "source": [
    "# Cantidad de variables\n",
    "num_variables=len(df.columns)\n",
    "# Filtra las columnas que empiezan con 'tree'\n",
    "tree_columns = [col for col in df.columns if col.startswith('tree')]\n",
    "# Cuenta el número de columnas\n",
    "num_tree_columns = len(tree_columns)\n",
    "print (f\"Cantidad total de variables {num_variables}\")\n",
    "print(f\"Cantidad de columnas que empiezan con 'tree': {num_tree_columns}\")\n",
    "print (f\"Cantidad de variables normales: {num_variables-num_tree_columns}\")\n",
    "print (f\"Archivo grabado: {output_file}\")\n"
   ]
  },
  {
   "cell_type": "code",
   "execution_count": null,
   "metadata": {},
   "outputs": [],
   "source": []
  }
 ],
 "metadata": {
  "colab": {
   "provenance": []
  },
  "kernelspec": {
   "display_name": "Python 3 (ipykernel)",
   "language": "python",
   "name": "python3"
  },
  "language_info": {
   "codemirror_mode": {
    "name": "ipython",
    "version": 3
   },
   "file_extension": ".py",
   "mimetype": "text/x-python",
   "name": "python",
   "nbconvert_exporter": "python",
   "pygments_lexer": "ipython3",
   "version": "3.12.3"
  }
 },
 "nbformat": 4,
 "nbformat_minor": 4
}
