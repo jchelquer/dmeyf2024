{
 "cells": [
  {
   "cell_type": "markdown",
   "metadata": {
    "id": "d_xvJXPhCkMA"
   },
   "source": [
    "# Título   Crear clase sample\n",
    "\n",
    "## Autor: Jose Chelquer\n",
    "## Fecha de última modificación: 22/10/2025\n",
    "## Descripción:\n",
    "\n",
    "Crear un sample del dataset con proporciones parametrizadas"
   ]
  },
  {
   "cell_type": "markdown",
   "metadata": {
    "id": "qRTSvXdLHkpB"
   },
   "source": [
    "## Parámetros\n",
    "\n",
    "< Descripción de cada uno de los parámetros que utiliza el job >\n"
   ]
  },
  {
   "cell_type": "code",
   "execution_count": 1,
   "metadata": {
    "id": "yMU00Fl7IIfm"
   },
   "outputs": [],
   "source": [
    "\n",
    "usar_gdrive=False    # Poner en true si se va a ejecutar con archivos de google drive\n",
    "\n",
    "feature_a_usar = 'clase_ternaria'     #feature a la que hacen referencia los valores de % a seleccionar\n",
    "sample_pct={'BAJA+1':1, 'BAJA+2':1, 'CONTINUA':.05}   # % de cada clase a obtener en el sample"
   ]
  },
  {
   "cell_type": "markdown",
   "metadata": {
    "id": "sH5VivJSIM42"
   },
   "source": [
    "## Input\n",
    "\n",
    "< Archivos de datos (csv.gz) con sus paths que van a consumirse por el job>"
   ]
  },
  {
   "cell_type": "code",
   "execution_count": 11,
   "metadata": {
    "id": "MEk4Fj7VIv7g"
   },
   "outputs": [],
   "source": [
    "# Ejemplo\n",
    "\n",
    "\n",
    "dataset_path = '~/buckets/b1/datasets' \n",
    "dataset_file = 'competencia_02.csv.gz'"
   ]
  },
  {
   "cell_type": "markdown",
   "metadata": {
    "id": "fQ6MUhENI0Ya"
   },
   "source": [
    "## Output\n",
    "\n",
    "< Archivos, bases de datos, modelos que va a generar el job>"
   ]
  },
  {
   "cell_type": "code",
   "execution_count": 4,
   "metadata": {
    "id": "ZT3kxlkFIv4p"
   },
   "outputs": [],
   "source": [
    "output_file='competencia_02_sampleado.csv.gz'\n"
   ]
  },
  {
   "cell_type": "code",
   "execution_count": 5,
   "metadata": {
    "id": "NtIT33WnJFx-"
   },
   "outputs": [],
   "source": [
    "## Procesos"
   ]
  },
  {
   "cell_type": "markdown",
   "metadata": {
    "id": "iVe0GO1IJHtI"
   },
   "source": [
    "### Paquetes necesarios"
   ]
  },
  {
   "cell_type": "code",
   "execution_count": null,
   "metadata": {
    "id": "O2VG2xS_Ivq3"
   },
   "outputs": [],
   "source": []
  },
  {
   "cell_type": "markdown",
   "metadata": {
    "id": "0LM2kY_WJj15"
   },
   "source": [
    "## Código del proceso\n",
    "\n",
    "< Todo el código a partir de aquí debe poder ejecutarse sin necesidad de parametrizar nada>"
   ]
  },
  {
   "cell_type": "code",
   "execution_count": 6,
   "metadata": {
    "id": "Nr6BNGDUJkWd"
   },
   "outputs": [],
   "source": [
    "import os\n",
    "import pandas as pd"
   ]
  },
  {
   "cell_type": "code",
   "execution_count": 7,
   "metadata": {},
   "outputs": [],
   "source": [
    "if usar_gdrive:\n",
    "    from google.colab import drive\n",
    "    drive.mount('/content/drive')"
   ]
  },
  {
   "cell_type": "code",
   "execution_count": 12,
   "metadata": {},
   "outputs": [
    {
     "name": "stdout",
     "output_type": "stream",
     "text": [
      "   numero_de_cliente  foto_mes  active_quarter  cliente_vip  internet  \\\n",
      "0          249221109    201901               1            0         1   \n",
      "1          249221468    201901               1            0         1   \n",
      "2          249223005    201901               1            0         1   \n",
      "3          249228180    201901               1            0         1   \n",
      "4          249232117    201901               1            0         1   \n",
      "\n",
      "   cliente_edad  cliente_antiguedad  mrentabilidad  mrentabilidad_annual  \\\n",
      "0            59                 276        7597.55              47433.58   \n",
      "1            51                  13         738.16               -325.09   \n",
      "2            46                 178        1014.31               9434.15   \n",
      "3            64                 296        1028.33               6873.80   \n",
      "4            77                 349       11617.61              43291.55   \n",
      "\n",
      "   mcomisiones  ...  Visa_madelantodolares  Visa_fultimo_cierre  Visa_mpagado  \\\n",
      "0      5654.59  ...                    0.0                  1.0           0.0   \n",
      "1       491.31  ...                    0.0                  1.0           0.0   \n",
      "2       417.36  ...                    0.0                  1.0           0.0   \n",
      "3      1129.43  ...                    0.0                  1.0           0.0   \n",
      "4     10726.08  ...                    0.0                  1.0           0.0   \n",
      "\n",
      "   Visa_mpagospesos  Visa_mpagosdolares  Visa_fechaalta  Visa_mconsumototal  \\\n",
      "0         -44919.57                3.23          7136.0            24336.99   \n",
      "1         -30184.75               15.24           393.0            16345.79   \n",
      "2          -3730.14                0.00          2755.0             1181.65   \n",
      "3         -13196.25                0.00          8194.0             1892.04   \n",
      "4         -22073.65                0.00          7876.0            21902.85   \n",
      "\n",
      "   Visa_cconsumos  Visa_cadelantosefectivo  Visa_mpagominimo  \n",
      "0            13.0                      0.0           1466.25  \n",
      "1             8.0                      0.0           1548.36  \n",
      "2             3.0                      0.0           3917.82  \n",
      "3             1.0                      0.0           2017.56  \n",
      "4             6.0                      0.0            891.48  \n",
      "\n",
      "[5 rows x 154 columns]\n"
     ]
    }
   ],
   "source": [
    "# leer el dataset\n",
    "\n",
    "file_path = os.path.join(dataset_path, dataset_file)\n",
    "\n",
    "# Read the CSV file into a DataFrame\n",
    "df = pd.read_csv(file_path)\n",
    "\n",
    "# Display the first few rows of the DataFrame\n",
    "print(df.head())"
   ]
  },
  {
   "cell_type": "code",
   "execution_count": 13,
   "metadata": {},
   "outputs": [],
   "source": [
    "# Dado un mes en formato aaaamm y una cantidad de meses\n",
    "# devuelve el mes a distancia meses de mes\n",
    "def sig_mes(mes, meses):\n",
    "  aaaa=mes//100\n",
    "  mm=mes%100+meses\n",
    "  aExtra=(mm-1)//12\n",
    "  mm=mm-12*aExtra\n",
    "  return (aaaa+aExtra)*100+mm\n"
   ]
  },
  {
   "cell_type": "code",
   "execution_count": 14,
   "metadata": {},
   "outputs": [],
   "source": [
    "df[\"cli_mes\"]=df[\"numero_de_cliente\"].astype(str)+df[\"foto_mes\"].astype(str)\n",
    "df[\"cli_mesMas1\"]=df[\"numero_de_cliente\"].astype(str)+(df[\"foto_mes\"]+1).astype(str)\n",
    "df[\"cli_mesMas2\"]=df[\"numero_de_cliente\"].astype(str)+(df[\"foto_mes\"]+2).astype(str)\n"
   ]
  },
  {
   "cell_type": "code",
   "execution_count": 15,
   "metadata": {},
   "outputs": [],
   "source": [
    "df1=df['cli_mes']   #sólo las columnas del cliente\n",
    "# Realiza la unión entre df y df1\n",
    "resultado = df.merge(df1, left_on='cli_mesMas1', right_on='cli_mes', how='left', indicator=True)\n",
    "df['existe1'] = resultado['_merge'] == 'both'\n",
    "resultado = df.merge(df1, left_on='cli_mesMas2', right_on='cli_mes', how='left', indicator=True)\n",
    "df['existe2'] = resultado['_merge'] == 'both'\n"
   ]
  },
  {
   "cell_type": "code",
   "execution_count": 16,
   "metadata": {},
   "outputs": [],
   "source": [
    "df[ \"clase_ternaria\"]=\"CONTINUA\"          #default\n",
    "df.loc[df[\"existe2\"]==False, \"clase_ternaria\"]=\"BAJA+2\"\n",
    "df.loc[df[\"existe1\"]==False, \"clase_ternaria\"]=\"BAJA+1\"\n",
    "df.loc[df[\"existe2\"]==True, \"clase_ternaria\"]=\"CONTINUA\""
   ]
  },
  {
   "cell_type": "code",
   "execution_count": 17,
   "metadata": {},
   "outputs": [],
   "source": [
    "# Eliminar los campos creados\n",
    "df = df.drop(columns=['cli_mes', 'cli_mesMas1', 'cli_mesMas2', 'existe1', 'existe2'])"
   ]
  },
  {
   "cell_type": "code",
   "execution_count": null,
   "metadata": {},
   "outputs": [],
   "source": [
    "ruta_nuevo_archivo = os.path.join(dataset_path, output_file)\n",
    "# Guarda el DataFrame en el nuevo archivo\n",
    "df.to_csv(ruta_nuevo_archivo, index=False, compression='gzip')\n",
    "print(f\"El archivo ha sido guardado en: {ruta_nuevo_archivo}\")"
   ]
  }
 ],
 "metadata": {
  "colab": {
   "provenance": []
  },
  "kernelspec": {
   "display_name": "Python 3 (ipykernel)",
   "language": "python",
   "name": "python3"
  },
  "language_info": {
   "codemirror_mode": {
    "name": "ipython",
    "version": 3
   },
   "file_extension": ".py",
   "mimetype": "text/x-python",
   "name": "python",
   "nbconvert_exporter": "python",
   "pygments_lexer": "ipython3",
   "version": "3.12.3"
  }
 },
 "nbformat": 4,
 "nbformat_minor": 4
}
