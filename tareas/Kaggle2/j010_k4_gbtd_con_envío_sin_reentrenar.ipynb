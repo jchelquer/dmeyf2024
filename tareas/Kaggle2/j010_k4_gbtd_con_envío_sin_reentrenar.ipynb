{
 "cells": [
  {
   "cell_type": "markdown",
   "metadata": {
    "id": "d_xvJXPhCkMA"
   },
   "source": [
    "#cambio y aplicar cambios en VM\n",
    "\n",
    "# Título  gbtd con envío sin reentrenar\n",
    "## Autor: Jose Chelquer\n",
    "## Fecha de última modificación: 24/11/2024\n",
    "\n",
    "Carga el modelo optimizado, evalúa y envía\n",
    "\n"
   ]
  },
  {
   "cell_type": "markdown",
   "metadata": {
    "id": "qRTSvXdLHkpB"
   },
   "source": [
    "## Parámetros\n",
    "\n",
    "< Descripción de cada uno de los parámetros que utiliza el job >\n"
   ]
  },
  {
   "cell_type": "code",
   "execution_count": 241,
   "metadata": {
    "executionInfo": {
     "elapsed": 317,
     "status": "ok",
     "timestamp": 1731386833314,
     "user": {
      "displayName": "Jose Chelquer",
      "userId": "09375279337890014087"
     },
     "user_tz": 180
    },
    "id": "6DHEeh9rJ3Ig"
   },
   "outputs": [
    {
     "name": "stdout",
     "output_type": "stream",
     "text": [
      "Experimento sp__\n",
      "sampleado\n",
      "con preprocesamiento\n",
      "base\n",
      "sin RF\n"
     ]
    }
   ],
   "source": [
    "experimento=\"sp__\"                        # sampleado, preprocesado feat simple\n",
    "tipo_registros=experimento[0]            # '_'completo s sampleado\n",
    "con_preprocesamiento = experimento[1]    # p con preprocesamiento  '_' sin preprocesamiento\n",
    "tipo_featuring=experimento[2]            # _: 155 base  s: simple    c: completo\n",
    "rf=experimento[3]                        # _: sin RF   r: con RF\n",
    "\n",
    "dict_tipo_registros={'_': 'completo', 's': 'sampleado'}\n",
    "dict_con_preprocesamiento={'_': 'sin preprocesamiento', 'p':'con preprocesamiento'}\n",
    "dict_tipo_featuring={'_': 'base', 's':' simple', 'c': 'completo'}\n",
    "dict_rf={'_': 'sin RF', 'f':' con RF'}\n",
    "\n",
    "print (f'Experimento {experimento}')\n",
    "print (dict_tipo_registros[tipo_registros])\n",
    "print (dict_con_preprocesamiento[con_preprocesamiento])\n",
    "print (dict_tipo_featuring[tipo_featuring])\n",
    "print (dict_rf[rf])\n"
   ]
  },
  {
   "cell_type": "code",
   "execution_count": 242,
   "metadata": {
    "executionInfo": {
     "elapsed": 483,
     "status": "ok",
     "timestamp": 1731386834221,
     "user": {
      "displayName": "Jose Chelquer",
      "userId": "09375279337890014087"
     },
     "user_tz": 180
    },
    "id": "yMU00Fl7IIfm"
   },
   "outputs": [],
   "source": [
    "# vm o local?\n",
    "vm=True\n",
    "if vm:\n",
    "  usar_gdrive=False\n",
    "else:\n",
    "  usar_gdrive=True      #se va a usar google dirve\n"
   ]
  },
  {
   "cell_type": "code",
   "execution_count": 243,
   "metadata": {
    "executionInfo": {
     "elapsed": 75,
     "status": "ok",
     "timestamp": 1731386834222,
     "user": {
      "displayName": "Jose Chelquer",
      "userId": "09375279337890014087"
     },
     "user_tz": 180
    },
    "id": "KTHNlNBrPhX-"
   },
   "outputs": [],
   "source": [
    "semillas=[101, 103, 107, 109, 113, 127, 131, 137, 139, 149, 151, 157, 163, 167, 173, 179, 181, 191, 193, 197]\n",
    "\n",
    "ganancia_acierto=273000\n",
    "costo_estimulo=7000"
   ]
  },
  {
   "cell_type": "code",
   "execution_count": 244,
   "metadata": {
    "executionInfo": {
     "elapsed": 72,
     "status": "ok",
     "timestamp": 1731386834222,
     "user": {
      "displayName": "Jose Chelquer",
      "userId": "09375279337890014087"
     },
     "user_tz": 180
    },
    "id": "ZPUnCb5xZ-8K"
   },
   "outputs": [],
   "source": [
    "# meses de entrenamiento, evaluación y test\n",
    "if vm:\n",
    "  mes_train_desde = 202101\n",
    "  mes_train_hasta = 202105\n",
    "  mes_eval=202106\n",
    "  mes_test = 202108\n",
    "else:\n",
    "  mes_train_desde = 202104\n",
    "  mes_train_hasta = 202105\n",
    "  mes_eval=202106\n",
    "  mes_test = 202108"
   ]
  },
  {
   "cell_type": "code",
   "execution_count": 245,
   "metadata": {
    "executionInfo": {
     "elapsed": 53,
     "status": "ok",
     "timestamp": 1731386834223,
     "user": {
      "displayName": "Jose Chelquer",
      "userId": "09375279337890014087"
     },
     "user_tz": 180
    },
    "id": "IsQTUk9-InJl"
   },
   "outputs": [],
   "source": [
    "params_file=\"best_params.json\""
   ]
  },
  {
   "cell_type": "code",
   "execution_count": 246,
   "metadata": {
    "executionInfo": {
     "elapsed": 51,
     "status": "ok",
     "timestamp": 1731386834223,
     "user": {
      "displayName": "Jose Chelquer",
      "userId": "09375279337890014087"
     },
     "user_tz": 180
    },
    "id": "61j56HBIKFeR"
   },
   "outputs": [],
   "source": [
    "\n",
    "grabar_importancias=False          # Se puede pedir que grabe las importancias de variables como resultado secundario\n",
    "importancias_file=f'importancias_lgb{experimento}.csv.gz'\n"
   ]
  },
  {
   "cell_type": "code",
   "execution_count": 247,
   "metadata": {
    "executionInfo": {
     "elapsed": 49,
     "status": "ok",
     "timestamp": 1731386834223,
     "user": {
      "displayName": "Jose Chelquer",
      "userId": "09375279337890014087"
     },
     "user_tz": 180
    },
    "id": "Xc_WH1DcmGbH"
   },
   "outputs": [],
   "source": [
    "# parámetros de envío a kaggle\n",
    "version = f'210_{experimento}_'\n",
    "prefijo_envio=f\"j010_lgb_{experimento}_\"\n",
    "enviar_desde=7000\n",
    "enviar_hasta=16000\n",
    "cant_envios=10            #Cantidad de envíos a Kaggle\n",
    "\n",
    "# para prueba\n",
    "#enviar_desde=12000\n",
    "#enviar_hasta=12000\n",
    "#cant_envios=2            #Cantidad de envíos a Kaggle\n"
   ]
  },
  {
   "cell_type": "markdown",
   "metadata": {
    "id": "sH5VivJSIM42"
   },
   "source": [
    "## Input\n",
    "\n",
    "< Archivos de datos (csv.gz) con sus paths que van a consumirse por el job>"
   ]
  },
  {
   "cell_type": "code",
   "execution_count": 248,
   "metadata": {
    "executionInfo": {
     "elapsed": 46,
     "status": "ok",
     "timestamp": 1731386834223,
     "user": {
      "displayName": "Jose Chelquer",
      "userId": "09375279337890014087"
     },
     "user_tz": 180
    },
    "id": "MEk4Fj7VIv7g"
   },
   "outputs": [
    {
     "name": "stdout",
     "output_type": "stream",
     "text": [
      "/home/jose/buckets/b1/datasets\n",
      "k2_sp__.parquet.gz\n"
     ]
    }
   ],
   "source": [
    "if vm:\n",
    "  dataset_path = '/home/jose/buckets/b1/datasets'\n",
    "  kaggle_json_path=\"/home/jose/buckets/b1\"\n",
    "  dataset_file=f\"k2_{tipo_registros}{con_preprocesamiento}{tipo_featuring}{rf}.parquet.gz\"\n",
    "else:\n",
    "  dataset_path='/content/drive/MyDrive/Data Science y similares/Maestría Data Mining Exactas/dmeyf/dmeyf2024/datasets/'\n",
    "  kaggle_json_path=\"/content/drive/MyDrive/Data Science y similares/Maestría Data Mining Exactas\"\n",
    "\n",
    "  sufijo=''\n",
    "  if dset==\"rf\":\n",
    "    sufijo='_cRF'\n",
    "  infijo='_base'\n",
    "  if feat==\"aum\":\n",
    "    infijo='_aum'\n",
    "\n",
    "  dataset_file=f\"sample_c02{infijo}_m1a8{sufijo}.csv.gz\"\n",
    "\n",
    "print (dataset_path)\n",
    "print (dataset_file)"
   ]
  },
  {
   "cell_type": "code",
   "execution_count": 249,
   "metadata": {},
   "outputs": [
    {
     "name": "stdout",
     "output_type": "stream",
     "text": [
      "Se va a usar el modelo lgb_optimizado_sp__\n",
      "Path del modelo: /home/jose/buckets/b1/modelos/lgb_optimizado_sp__.txt\n",
      "-------------------------------\n",
      "controlar que sea el optimizado\n",
      "-------------------------------\n"
     ]
    }
   ],
   "source": [
    "if vm:\n",
    "  db_path='/home/jose/buckets/b1/db'\n",
    "  modelos_path='/home/jose/buckets/b1/modelos'\n",
    "\n",
    "else:\n",
    "  db_path='/content/drive/MyDrive/Data Science y similares/Maestría Data Mining Exactas/dmeyf/dmeyf2024/db/'\n",
    "        # optuna no puede hacerlo en drive.  La copia se hará al final, si se puede\n",
    "  modelos_path='/content/drive/MyDrive/Data Science y similares/Maestría Data Mining Exactas/dmeyf/dmeyf2024/modelos/'\n",
    "\n",
    "modelos_file=f'lgb_optimizado_{experimento}'\n",
    "print (f'Se va a usar el modelo {modelos_file}')\n",
    "import os\n",
    "path_modelo=os.path.join(modelos_path, modelos_file)+\".txt\"\n",
    "print (f'Path del modelo: {path_modelo}')\n",
    "print ('-------------------------------')\n",
    "print ('controlar que sea el optimizado')\n",
    "print ('-------------------------------')\n"
   ]
  },
  {
   "cell_type": "markdown",
   "metadata": {
    "id": "fQ6MUhENI0Ya"
   },
   "source": [
    "## Output\n",
    "\n",
    "< Archivos, bases de datos, modelos que va a generar el job>"
   ]
  },
  {
   "cell_type": "code",
   "execution_count": null,
   "metadata": {
    "executionInfo": {
     "elapsed": 43,
     "status": "ok",
     "timestamp": 1731386834223,
     "user": {
      "displayName": "Jose Chelquer",
      "userId": "09375279337890014087"
     },
     "user_tz": 180
    },
    "id": "ZT3kxlkFIv4p"
   },
   "outputs": [],
   "source": [
    "\n"
   ]
  },
  {
   "cell_type": "markdown",
   "metadata": {
    "id": "VrRYsZMowzEl"
   },
   "source": [
    "## Procesos"
   ]
  },
  {
   "cell_type": "markdown",
   "metadata": {
    "id": "iVe0GO1IJHtI"
   },
   "source": [
    "### Paquetes necesarios"
   ]
  },
  {
   "cell_type": "markdown",
   "metadata": {
    "id": "0LM2kY_WJj15"
   },
   "source": [
    "## Código del proceso\n",
    "\n",
    "< Todo el código a partir de aquí debe poder ejecutarse sin necesidad de parametrizar nada>"
   ]
  },
  {
   "cell_type": "markdown",
   "metadata": {
    "id": "Q0X0atYk2Bqf"
   },
   "source": [
    "Instalamos, cargamos y seteamos el entorno"
   ]
  },
  {
   "cell_type": "markdown",
   "metadata": {
    "id": "vteA4xbLOv9m"
   },
   "source": [
    "## Gdrive?"
   ]
  },
  {
   "cell_type": "code",
   "execution_count": 250,
   "metadata": {
    "colab": {
     "base_uri": "https://localhost:8080/"
    },
    "executionInfo": {
     "elapsed": 2040,
     "status": "ok",
     "timestamp": 1731386841403,
     "user": {
      "displayName": "Jose Chelquer",
      "userId": "09375279337890014087"
     },
     "user_tz": 180
    },
    "id": "SocMOWB6Ofpw",
    "outputId": "2640044f-6eda-4fa9-fb72-5e083250d5b8"
   },
   "outputs": [],
   "source": [
    "if usar_gdrive:\n",
    "  from google.colab import drive\n",
    "  drive.mount('/content/drive')"
   ]
  },
  {
   "cell_type": "markdown",
   "metadata": {
    "id": "Tq58M1oylxcQ"
   },
   "source": [
    "## Librerías"
   ]
  },
  {
   "cell_type": "code",
   "execution_count": 251,
   "metadata": {},
   "outputs": [
    {
     "name": "stdout",
     "output_type": "stream",
     "text": [
      "Requirement already satisfied: pip in /home/jose/.venv/lib/python3.12/site-packages (24.3.1)\n",
      "Requirement already satisfied: lightgbm in /home/jose/.venv/lib/python3.12/site-packages (4.5.0)\n",
      "Requirement already satisfied: numpy>=1.17.0 in /home/jose/.venv/lib/python3.12/site-packages (from lightgbm) (1.26.4)\n",
      "Requirement already satisfied: scipy in /home/jose/.venv/lib/python3.12/site-packages (from lightgbm) (1.14.1)\n",
      "Requirement already satisfied: dask[dataframe] in /home/jose/.venv/lib/python3.12/site-packages (2024.9.0)\n",
      "Requirement already satisfied: click>=8.1 in /home/jose/.venv/lib/python3.12/site-packages (from dask[dataframe]) (8.1.7)\n",
      "Requirement already satisfied: cloudpickle>=3.0.0 in /home/jose/.venv/lib/python3.12/site-packages (from dask[dataframe]) (3.0.0)\n",
      "Requirement already satisfied: fsspec>=2021.09.0 in /home/jose/.venv/lib/python3.12/site-packages (from dask[dataframe]) (2024.9.0)\n",
      "Requirement already satisfied: packaging>=20.0 in /home/jose/.venv/lib/python3.12/site-packages (from dask[dataframe]) (24.1)\n",
      "Requirement already satisfied: partd>=1.4.0 in /home/jose/.venv/lib/python3.12/site-packages (from dask[dataframe]) (1.4.2)\n",
      "Requirement already satisfied: pyyaml>=5.3.1 in /home/jose/.venv/lib/python3.12/site-packages (from dask[dataframe]) (6.0.2)\n",
      "Requirement already satisfied: toolz>=0.10.0 in /home/jose/.venv/lib/python3.12/site-packages (from dask[dataframe]) (0.12.1)\n",
      "Requirement already satisfied: pandas>=2.0 in /home/jose/.venv/lib/python3.12/site-packages (from dask[dataframe]) (2.2.3)\n",
      "Requirement already satisfied: dask-expr<1.2,>=1.1 in /home/jose/.venv/lib/python3.12/site-packages (from dask[dataframe]) (1.1.14)\n",
      "Requirement already satisfied: pyarrow>=14.0.1 in /home/jose/.venv/lib/python3.12/site-packages (from dask-expr<1.2,>=1.1->dask[dataframe]) (17.0.0)\n",
      "Requirement already satisfied: numpy>=1.26.0 in /home/jose/.venv/lib/python3.12/site-packages (from pandas>=2.0->dask[dataframe]) (1.26.4)\n",
      "Requirement already satisfied: python-dateutil>=2.8.2 in /home/jose/.venv/lib/python3.12/site-packages (from pandas>=2.0->dask[dataframe]) (2.9.0.post0)\n",
      "Requirement already satisfied: pytz>=2020.1 in /home/jose/.venv/lib/python3.12/site-packages (from pandas>=2.0->dask[dataframe]) (2024.2)\n",
      "Requirement already satisfied: tzdata>=2022.7 in /home/jose/.venv/lib/python3.12/site-packages (from pandas>=2.0->dask[dataframe]) (2024.1)\n",
      "Requirement already satisfied: locket in /home/jose/.venv/lib/python3.12/site-packages (from partd>=1.4.0->dask[dataframe]) (1.0.0)\n",
      "Requirement already satisfied: six>=1.5 in /home/jose/.venv/lib/python3.12/site-packages (from python-dateutil>=2.8.2->pandas>=2.0->dask[dataframe]) (1.16.0)\n"
     ]
    }
   ],
   "source": [
    "!pip install --upgrade pip\n",
    "!pip install --upgrade lightgbm\n",
    "!pip install dask[dataframe]"
   ]
  },
  {
   "cell_type": "code",
   "execution_count": 252,
   "metadata": {
    "executionInfo": {
     "elapsed": 7,
     "status": "ok",
     "timestamp": 1731386841403,
     "user": {
      "displayName": "Jose Chelquer",
      "userId": "09375279337890014087"
     },
     "user_tz": 180
    },
    "id": "Cj-rL6xHlA2u"
   },
   "outputs": [],
   "source": [
    "import pandas as pd\n",
    "import numpy as np\n",
    "import seaborn as sns\n",
    "import matplotlib.pyplot as plt\n",
    "\n",
    "import os\n",
    "import shutil\n",
    "\n",
    "from sklearn.model_selection import train_test_split\n",
    "from sklearn.model_selection import ShuffleSplit, StratifiedShuffleSplit\n",
    "from sklearn.ensemble import RandomForestClassifier\n",
    "from sklearn.impute import SimpleImputer\n",
    "\n",
    "\n",
    "import json\n",
    "\n",
    "from time import time\n",
    "\n",
    "import pickle\n",
    "\n"
   ]
  },
  {
   "cell_type": "code",
   "execution_count": 253,
   "metadata": {
    "scrolled": true
   },
   "outputs": [],
   "source": [
    "import lightgbm as lgb"
   ]
  },
  {
   "cell_type": "markdown",
   "metadata": {},
   "source": [
    "## Funciones útiles varias"
   ]
  },
  {
   "cell_type": "code",
   "execution_count": 254,
   "metadata": {},
   "outputs": [],
   "source": [
    "def buscar_columnas(data, texto):\n",
    "    # devuelve los nombre de cols de data que contengan texto\n",
    "    # Encuentra las columnas que contienen el texto\n",
    "    columnas_filtradas = [col for col in data.columns if texto in col]\n",
    "    \n",
    "    # Imprime las columnas que coinciden\n",
    "    return columnas_filtradas"
   ]
  },
  {
   "cell_type": "markdown",
   "metadata": {
    "id": "bkwpAJ8_l0v5"
   },
   "source": [
    "## Leer datos"
   ]
  },
  {
   "cell_type": "code",
   "execution_count": 255,
   "metadata": {
    "executionInfo": {
     "elapsed": 7,
     "status": "ok",
     "timestamp": 1731386841403,
     "user": {
      "displayName": "Jose Chelquer",
      "userId": "09375279337890014087"
     },
     "user_tz": 180
    },
    "id": "8jGKjoN1lRho"
   },
   "outputs": [],
   "source": [
    "semilla=semillas[2]\n"
   ]
  },
  {
   "cell_type": "code",
   "execution_count": 256,
   "metadata": {},
   "outputs": [],
   "source": [
    "def contabilizar(df, descripción):\n",
    "  print (f'\\nContabilización de la base {descripción}\\n')\n",
    "  print (f'\\nShape: {df.shape}\\n')\n",
    "  n_vars=len(df.columns)\n",
    "  n_vars_tree=len([col for col in df.columns if col.startswith('tree')])\n",
    "  print (f\"Variables: {n_vars}\")\n",
    "  print (f\"Variables tree: {n_vars_tree}\")\n",
    "  print (f\"\\nFilas por mes: \\n{df['foto_mes'].value_counts()}\\n\")\n",
    "  if 'clase_ternaria' in df.columns:\n",
    "    print (f\"\\nFilas por mes y clase: \\n{pd.crosstab(df['foto_mes'], df['clase_ternaria'])}\\n\")\n",
    "def cant_meses(df):\n",
    "  return len(df['foto_mes'].unique())"
   ]
  },
  {
   "cell_type": "code",
   "execution_count": 257,
   "metadata": {
    "executionInfo": {
     "elapsed": 46934,
     "status": "ok",
     "timestamp": 1731386888331,
     "user": {
      "displayName": "Jose Chelquer",
      "userId": "09375279337890014087"
     },
     "user_tz": 180
    },
    "id": "Y6wt6RE4jmQd"
   },
   "outputs": [],
   "source": [
    "if 'parquet' in dataset_file:\n",
    "    data = pd.read_parquet(os.path.join(dataset_path, dataset_file))\n",
    "else:\n",
    "    data = pd.read_csv(os.path.join(dataset_path, dataset_file))\n",
    "if 'clase_ternaria_num' in data.columns:\n",
    "  data = data.drop(columns=['clase_ternaria_num'])"
   ]
  },
  {
   "cell_type": "code",
   "execution_count": 258,
   "metadata": {
    "scrolled": true
   },
   "outputs": [],
   "source": [
    "data = data.sort_values(by=['foto_mes', 'numero_de_cliente'])\n"
   ]
  },
  {
   "cell_type": "code",
   "execution_count": 259,
   "metadata": {},
   "outputs": [
    {
     "data": {
      "text/plain": [
       "209867    249221109\n",
       "209868    249221468\n",
       "209869    249223005\n",
       "209870    249228180\n",
       "209871    249232117\n",
       "209872    249236712\n",
       "209873    249236857\n",
       "209874    249237079\n",
       "209875    249237446\n",
       "209876    249239632\n",
       "Name: numero_de_cliente, dtype: int64"
      ]
     },
     "execution_count": 259,
     "metadata": {},
     "output_type": "execute_result"
    }
   ],
   "source": [
    "data.loc[data['foto_mes']==mes_test, 'numero_de_cliente'].head(10)"
   ]
  },
  {
   "cell_type": "code",
   "execution_count": 260,
   "metadata": {
    "colab": {
     "base_uri": "https://localhost:8080/"
    },
    "executionInfo": {
     "elapsed": 19,
     "status": "ok",
     "timestamp": 1731386888333,
     "user": {
      "displayName": "Jose Chelquer",
      "userId": "09375279337890014087"
     },
     "user_tz": 180
    },
    "id": "WUF_2WW6X9rK",
    "outputId": "d0b7578a-6b66-4808-8ba2-2d4c34629f4f",
    "scrolled": true
   },
   "outputs": [
    {
     "name": "stdout",
     "output_type": "stream",
     "text": [
      "\n",
      "Contabilización de la base Datos Leídos k2_sp__.parquet.gz\n",
      "\n",
      "\n",
      "Shape: (375309, 155)\n",
      "\n",
      "Variables: 155\n",
      "Variables tree: 0\n",
      "\n",
      "Filas por mes: \n",
      "foto_mes\n",
      "202108    165442\n",
      "202104     18363\n",
      "202105     18352\n",
      "202106     18271\n",
      "202103     18169\n",
      "202102     17886\n",
      "202101     17481\n",
      "202012     17307\n",
      "202011     17097\n",
      "202010     16921\n",
      "202009     16771\n",
      "202007     16629\n",
      "202008     16620\n",
      "Name: count, dtype: int64\n",
      "\n",
      "\n",
      "Filas por mes y clase: \n",
      "clase_ternaria  BAJA+1  BAJA+2  CONTINUA\n",
      "foto_mes                                \n",
      "202007             627     542     15460\n",
      "202008             544     472     15604\n",
      "202009             474     564     15733\n",
      "202010             565     488     15868\n",
      "202011             490     646     15961\n",
      "202012             649     634     16024\n",
      "202101             635     785     16061\n",
      "202102             785    1017     16084\n",
      "202103            1020     981     16168\n",
      "202104             982    1189     16192\n",
      "202105            1189     911     16252\n",
      "202106             908    1074     16289\n",
      "202108          165442       0         0\n",
      "\n"
     ]
    }
   ],
   "source": [
    "\n",
    "contabilizar(data, 'Datos Leídos '+ dataset_file)"
   ]
  },
  {
   "cell_type": "markdown",
   "metadata": {},
   "source": [
    "# ------------------------------------------------------------------\n",
    "# Eliminado aquí a último momento para probar\n",
    "# ------------------------------------------------------------------\n"
   ]
  },
  {
   "cell_type": "code",
   "execution_count": 261,
   "metadata": {},
   "outputs": [
    {
     "name": "stdout",
     "output_type": "stream",
     "text": [
      "Nueva cantidad de columnas 155\n"
     ]
    }
   ],
   "source": [
    "columnas_comisiones = buscar_columnas(data, 'comis')\n",
    "columnas_finic=buscar_columnas(data, 'finic')\n",
    "columnas_avg=buscar_columnas(data, 'avg')\n",
    "columnas_ratio=buscar_columnas(data, 'ratio')\n",
    "columnas_tree=buscar_columnas(data, 'tree')\n",
    "columnas_lag=buscar_columnas(data, 'lag')\n",
    "\n",
    "\n",
    "#columnas_a_eliminar=columnas_comisiones+columnas_finic+columnas_avg\n",
    "columnas_a_eliminar=(columnas_comisiones\n",
    "                     )\n",
    "columnas_a_eliminar=[]\n",
    "\n",
    "data = data.drop(columns=columnas_a_eliminar)\n",
    "print (f\"Nueva cantidad de columnas {len(data.columns)}\")"
   ]
  },
  {
   "cell_type": "code",
   "execution_count": 262,
   "metadata": {},
   "outputs": [],
   "source": [
    "# FIN DEL AGREGADO DE ULTIMO MOMENTO"
   ]
  },
  {
   "cell_type": "markdown",
   "metadata": {
    "id": "9TrH9f1L5Umd"
   },
   "source": [
    "Vamos a asignar pesos a las clases. En unos minutos explicaremos las razones detrás de esta decisión. Mientras tanto, pueden aprovechar el código para ajustar el peso de la clase **BAJA+2** según lo deseen.\n"
   ]
  },
  {
   "cell_type": "markdown",
   "metadata": {
    "id": "MNnckhMQl4QC"
   },
   "source": [
    "## Recodificar clase ternaria"
   ]
  },
  {
   "cell_type": "code",
   "execution_count": 263,
   "metadata": {
    "executionInfo": {
     "elapsed": 8,
     "status": "ok",
     "timestamp": 1731386888334,
     "user": {
      "displayName": "Jose Chelquer",
      "userId": "09375279337890014087"
     },
     "user_tz": 180
    },
    "id": "AlYeDIBQP3-s"
   },
   "outputs": [],
   "source": [
    "data['clase_peso'] = 1.0\n",
    "\n",
    "data.loc[data['clase_ternaria'] == 'BAJA+2', 'clase_peso'] = 1.00002\n",
    "data.loc[data['clase_ternaria'] == 'BAJA+1', 'clase_peso'] = 1.00001"
   ]
  },
  {
   "cell_type": "code",
   "execution_count": 264,
   "metadata": {
    "executionInfo": {
     "elapsed": 500,
     "status": "ok",
     "timestamp": 1731386888826,
     "user": {
      "displayName": "Jose Chelquer",
      "userId": "09375279337890014087"
     },
     "user_tz": 180
    },
    "id": "KV1meQ5cZ_Sl"
   },
   "outputs": [],
   "source": [
    "data['clase_binaria1'] = 0\n",
    "data['clase_binaria2'] = 0\n",
    "data['clase_binaria1'] = np.where(data['clase_ternaria'] == 'BAJA+2', 1, 0)\n",
    "data['clase_binaria2'] = np.where(data['clase_ternaria'] == 'CONTINUA', 0, 1)"
   ]
  },
  {
   "cell_type": "markdown",
   "metadata": {
    "id": "5AYJG0r16dW9"
   },
   "source": [
    "Y trabajaremos como es habitual en las últimas clases, con **Febrero** para entrenar y **Abril** para medir, con el fin de realizar *backtesting*"
   ]
  },
  {
   "cell_type": "markdown",
   "metadata": {
    "id": "8dXqpYY6l_Jk"
   },
   "source": [
    "## Preparar train y test"
   ]
  },
  {
   "cell_type": "code",
   "execution_count": 265,
   "metadata": {
    "colab": {
     "base_uri": "https://localhost:8080/"
    },
    "executionInfo": {
     "elapsed": 32,
     "status": "ok",
     "timestamp": 1731386888826,
     "user": {
      "displayName": "Jose Chelquer",
      "userId": "09375279337890014087"
     },
     "user_tz": 180
    },
    "id": "iDyeXHAuCKuT",
    "outputId": "5694402d-dfa1-4f08-d31b-75966f8baa79"
   },
   "outputs": [
    {
     "name": "stdout",
     "output_type": "stream",
     "text": [
      "Armando X_eval\n",
      "Armando X_test\n",
      "listo\n",
      "\n",
      "Contabilización de la base datos de evaluación\n",
      "\n",
      "\n",
      "Shape: (18271, 154)\n",
      "\n",
      "Variables: 154\n",
      "Variables tree: 0\n",
      "\n",
      "Filas por mes: \n",
      "foto_mes\n",
      "202106    18271\n",
      "Name: count, dtype: int64\n",
      "\n",
      "\n",
      "Contabilización de la base datos de test\n",
      "\n",
      "\n",
      "Shape: (165442, 154)\n",
      "\n",
      "Variables: 154\n",
      "Variables tree: 0\n",
      "\n",
      "Filas por mes: \n",
      "foto_mes\n",
      "202108    165442\n",
      "Name: count, dtype: int64\n",
      "\n"
     ]
    }
   ],
   "source": [
    "test_data = data[data['foto_mes'] == mes_test]\n",
    "eval_data = data[data['foto_mes'] == mes_eval]\n",
    "\n",
    "print (\"Armando X_eval\")\n",
    "X_eval = eval_data.drop(['clase_ternaria', 'clase_peso', 'clase_binaria1','clase_binaria2'], axis=1)\n",
    "y_eval_binaria1 = eval_data['clase_binaria1']\n",
    "y_eval_binaria2 = eval_data['clase_binaria2']\n",
    "w_eval = test_data['clase_peso']\n",
    "\n",
    "print (\"Armando X_test\")\n",
    "X_test = test_data.drop(['clase_ternaria', 'clase_peso', 'clase_binaria1','clase_binaria2'], axis=1)\n",
    "\n",
    "print (\"listo\")\n",
    "\n",
    "contabilizar(X_eval, 'datos de evaluación')\n",
    "contabilizar(X_test, 'datos de test')\n"
   ]
  },
  {
   "cell_type": "code",
   "execution_count": 266,
   "metadata": {
    "executionInfo": {
     "elapsed": 33,
     "status": "ok",
     "timestamp": 1731386888831,
     "user": {
      "displayName": "Jose Chelquer",
      "userId": "09375279337890014087"
     },
     "user_tz": 180
    },
    "id": "_FvDUXeatl66"
   },
   "outputs": [],
   "source": [
    "# Para calcular ganancias fuera del proceso de optimización:\n",
    "def ganancias_obtenidas(y_pred, X, weight):\n",
    "    n_meses=cant_meses(X)\n",
    "    ganancia = np.where(weight == 1.00002, ganancia_acierto, 0) - np.where(weight < 1.00002, costo_estimulo, 0)\n",
    "    ganancia = ganancia[np.argsort(y_pred)[::-1]] #: desde todo : hasta todo :-1 step hacia atrás\n",
    "    # Ganancias acumuladas so far\n",
    "    print (ganancia)\n",
    "    \n",
    "    ganancia_acum = np.cumsum(ganancia)\n",
    "    print (ganancia_acum)\n",
    "    ganancia_maxima=max(ganancia_acum)\n",
    "    cant_envios = np.argmax(ganancia_acum) + 1  # Sumar 1 para tener la posición en términos de \"cantidad\"\n",
    "\n",
    "    return np.round(ganancia_acum/n_meses/1000), np.round(ganancia_maxima/n_meses/1000), cant_envios\n",
    "\n"
   ]
  },
  {
   "cell_type": "markdown",
   "metadata": {},
   "source": [
    "## Recuperación de best params"
   ]
  },
  {
   "cell_type": "code",
   "execution_count": 267,
   "metadata": {},
   "outputs": [
    {
     "name": "stdout",
     "output_type": "stream",
     "text": [
      "Parámetros cargados: {'num_leaves': 367, 'learning_rate': 0.21973326885018724, 'min_data_in_leaf': 81, 'feature_fraction': 0.6762459148093933, 'bagging_fraction': 0.49690708220730284}\n"
     ]
    }
   ],
   "source": [
    "# Entreno con el mejor modelo\n",
    "# Ruta al archivo JSON con los mejores parámetros\n",
    "input_path = os.path.join(modelos_path, params_file)\n",
    "\n",
    "# Cargar los parámetros desde el archivo\n",
    "with open(input_path, \"r\") as file:\n",
    "    best_params = json.load(file)\n",
    "\n",
    "print(\"Parámetros cargados:\", best_params)\n",
    "\n"
   ]
  },
  {
   "cell_type": "markdown",
   "metadata": {},
   "source": [
    "## Cargar el modelo"
   ]
  },
  {
   "cell_type": "code",
   "execution_count": 268,
   "metadata": {
    "executionInfo": {
     "elapsed": 7,
     "status": "ok",
     "timestamp": 1731387975381,
     "user": {
      "displayName": "Jose Chelquer",
      "userId": "09375279337890014087"
     },
     "user_tz": 180
    },
    "id": "H12h5wP2s645"
   },
   "outputs": [
    {
     "name": "stdout",
     "output_type": "stream",
     "text": [
      "/home/jose/buckets/b1/modelos/lgb_optimizado_sp__.txt\n"
     ]
    }
   ],
   "source": [
    "print (path_modelo)\n",
    "model = lgb.Booster(model_file=os.path.join(modelos_path, modelos_file)+'.txt')"
   ]
  },
  {
   "cell_type": "markdown",
   "metadata": {
    "id": "Rz08XOVCL_4J"
   },
   "source": [
    "# Resultados de entrenamiento"
   ]
  },
  {
   "cell_type": "code",
   "execution_count": 269,
   "metadata": {
    "colab": {
     "base_uri": "https://localhost:8080/"
    },
    "executionInfo": {
     "elapsed": 25,
     "status": "ok",
     "timestamp": 1731387975881,
     "user": {
      "displayName": "Jose Chelquer",
      "userId": "09375279337890014087"
     },
     "user_tz": 180
    },
    "id": "cEqHD66f6x4c",
    "outputId": "9f3e76d0-dd13-4f1c-9b08-f6edd226ffa6"
   },
   "outputs": [
    {
     "name": "stdout",
     "output_type": "stream",
     "text": [
      "[-7000 -7000 -7000 ... -7000 -7000 -7000]\n",
      "[     -7000     -14000     -21000 ... -127883000 -127890000 -127897000]\n",
      "Ganancia máxima en eval: -7.0\n",
      "\n",
      "Envíos para ganancia máxima: 1\n",
      "\n",
      "Ganancias en eval: [-7.00000e+00 -1.40000e+01 -2.10000e+01 ... -1.27883e+05 -1.27890e+05\n",
      " -1.27897e+05]\n"
     ]
    }
   ],
   "source": [
    "y_pred_eval=model.predict(X_eval)\n",
    "\n",
    "ganancias_eval, gmax_eval, envios_eval=ganancias_obtenidas(y_pred_eval, X_eval, w_eval)\n",
    "print (f\"Ganancia máxima en eval: {gmax_eval}\\n\")\n",
    "print (f\"Envíos para ganancia máxima: {envios_eval}\\n\")\n",
    "print (f\"Ganancias en eval: {ganancias_eval}\")"
   ]
  },
  {
   "cell_type": "code",
   "execution_count": 270,
   "metadata": {
    "colab": {
     "base_uri": "https://localhost:8080/"
    },
    "executionInfo": {
     "elapsed": 6,
     "status": "ok",
     "timestamp": 1731387975381,
     "user": {
      "displayName": "Jose Chelquer",
      "userId": "09375279337890014087"
     },
     "user_tz": 180
    },
    "id": "RhA4q6SSeVp5",
    "outputId": "19faf5ae-f312-4ac9-f4a8-83722188c487"
   },
   "outputs": [
    {
     "name": "stdout",
     "output_type": "stream",
     "text": [
      "                         feature  importance\n",
      "5                   cliente_edad        3520\n",
      "0              numero_de_cliente        3015\n",
      "8           mrentabilidad_annual        2916\n",
      "6             cliente_antiguedad        2767\n",
      "107                 ctrx_quarter        2485\n",
      "16             mcuenta_corriente        2424\n",
      "113          Master_Fvencimiento        2372\n",
      "22                mcuentas_saldo        2356\n",
      "135            Visa_Fvencimiento        2318\n",
      "11               mpasivos_margen        2177\n",
      "149               Visa_fechaalta        2147\n",
      "7                  mrentabilidad        2129\n",
      "127             Master_fechaalta        2036\n",
      "10               mactivos_margen        2019\n",
      "18                  mcaja_ahorro        1927\n",
      "112  Master_mfinanciacion_limite        1894\n",
      "97    chomebanking_transacciones        1698\n",
      "134    Visa_mfinanciacion_limite        1622\n",
      "9                    mcomisiones        1433\n",
      "147             Visa_mpagospesos        1429\n"
     ]
    }
   ],
   "source": [
    "def resultados_modelo(model, feature_names):\n",
    "  importances = model.feature_importance()\n",
    "  importance_df = pd.DataFrame({'feature': feature_names, 'importance': importances})\n",
    "  importance_df = importance_df.sort_values('importance', ascending=False)\n",
    "  importance_df[importance_df['importance'] > 0]\n",
    "\n",
    "  print(importance_df.head(20))\n",
    "\n",
    "  if grabar_importancias:\n",
    "      if importancias_file.endswith('.gz'):\n",
    "        importance_df.to_csv(os.path.join(dataset_path,  importancias_file), index=False, compression='gzip')\n",
    "      else:\n",
    "        importance_df.to_csv(os.path.join(dataset_path,  importancias_file), index=False)\n",
    "resultados_modelo(model, X_test.columns.tolist())"
   ]
  },
  {
   "cell_type": "code",
   "execution_count": 271,
   "metadata": {},
   "outputs": [
    {
     "name": "stdout",
     "output_type": "stream",
     "text": [
      "[3.62656824e-05 6.19818288e-04 5.14967985e-06 ... 2.96542320e-06\n",
      " 8.00049786e-06 1.93969745e-04]\n"
     ]
    }
   ],
   "source": [
    "print (y_pred_eval)"
   ]
  },
  {
   "cell_type": "markdown",
   "metadata": {
    "id": "B_aIb6aWOH4y"
   },
   "source": [
    "## Para Kaggle\n",
    "\n"
   ]
  },
  {
   "cell_type": "code",
   "execution_count": 272,
   "metadata": {
    "executionInfo": {
     "elapsed": 4,
     "status": "ok",
     "timestamp": 1731388162282,
     "user": {
      "displayName": "Jose Chelquer",
      "userId": "09375279337890014087"
     },
     "user_tz": 180
    },
    "id": "lxqdXsi0CJB-"
   },
   "outputs": [],
   "source": [
    "def enviar_kaggle(y_pred_test, X_test):\n",
    "  # Cargo el kaggle.json para poder conectarme\n",
    "  # Mueve kaggle.json al directorio correcto\n",
    " if not vm:\n",
    "      os.makedirs('/root/.kaggle', exist_ok=True)\n",
    "      shutil.copy(f'{kaggle_json_path}/kaggle.json', '/root/.kaggle/kaggle.json')\n",
    "      os.chmod('/root/.kaggle/kaggle.json', 600)\n",
    "  # Obtengo el orden de prioridad para el envío\n",
    "    \n",
    " idx_deseables=np.argsort(y_pred_test)[::-1]\n",
    "    # ------------------------------------------------------------------\n",
    "  # Los topes de envíos se determinaron al hacer la curva en eval\n",
    " for envios in np.linspace(enviar_desde, enviar_hasta, cant_envios, dtype=int):\n",
    "      print (f\"Enviando: {envios}\")\n",
    "      # Notar que idx_deseables tiene índices de y_pred (de 0 al máximo de línes de y_pred)\n",
    "\n",
    "      # los primeros envíos irán con predicción 1 y el resto 0\n",
    "      # idx_deseables contiene los índices de y_pred (no los originales!!) cuyas predicciones tienen los mejores valores, en orden desdendente\n",
    "      # guardo en elegidos los índices de los datos correspondientes a los primeros :envios en idx\n",
    "      elegidos=X_test.index[idx_deseables[:envios]]\n",
    "\n",
    "      # Creo clientes_kaggle sólo con el número de cliente de  X_test\n",
    "      clientes_kaggle=X_test.loc[:, ['numero_de_cliente']].copy()\n",
    "      clientes_kaggle['Predicted']=0    #default\n",
    "      clientes_kaggle.loc[elegidos, 'Predicted'] = 1   # marco los \"enviados\"\n",
    "\n",
    "      if clientes_kaggle.shape != ( 165442, 2):\n",
    "        raise ValueError(f\"El DataFrame 'clientes_enviados' no tiene la forma esperada. Forma actual: {clientes_kaggle.shape}\")\n",
    "      else:\n",
    "        print(\"La forma de 'clientes_enviados' es correcta.\")\n",
    "\n",
    "      # elijo el nombre para el archivo enviar, para llevar control\n",
    "      # un mensaje para registrar\n",
    "      # y me grabo el archivo que mando para tener control local\n",
    "\n",
    "      # Voy a mandar con un mensaje que incluya los parámetros usados y la cantidad de envíos\n",
    "      mensaje=f\"lgbm aumentada semillero {best_params} {envios}\"\n",
    "      # # Me gusta guardar los envíos que hago\n",
    "      archivo=f'{prefijo_envio}-v_{version}-{envios}.csv'\n",
    "      import os \n",
    "      path_archivo=os.path.join(dataset_path,archivo)\n",
    "      clientes_kaggle.to_csv(path_archivo, index=False)\n",
    "\n",
    "      # Envío a la competencia\n",
    "      competencia=\"dm-ey-f-2024-segunda\"\n",
    "      !kaggle competitions submit -c {competencia} -f '{path_archivo}' -m '{mensaje}'\n",
    "\n",
    " params_str = str(best_params)\n",
    "\n",
    " # Eliminar llaves {}, apóstrofes ' y dos puntos :\n",
    " params_str = params_str.replace('{', '').replace('}', '').replace(\"'\", '').replace(':', '').replace(\",\",'')\n",
    " print (params_str)\n",
    "\n",
    " print (clientes_kaggle)\n",
    "\n"
   ]
  },
  {
   "cell_type": "code",
   "execution_count": 273,
   "metadata": {},
   "outputs": [
    {
     "data": {
      "image/png": "[encoded data removed]",
      "text/plain": [
       "<Figure size 640x480 with 1 Axes>"
      ]
     },
     "metadata": {},
     "output_type": "display_data"
    }
   ],
   "source": [
    "# Suponiendo que y_pred_eval es un array o lista\n",
    "plt.hist(y_pred_eval, bins=30, color='blue', edgecolor='black', alpha=0.7)\n",
    "plt.title('Histograma de y_pred_eval')\n",
    "plt.xlabel('Valores de y_pred_eval')\n",
    "plt.ylabel('Frecuencia')\n",
    "plt.show()"
   ]
  },
  {
   "cell_type": "code",
   "execution_count": 274,
   "metadata": {},
   "outputs": [],
   "source": [
    "y_pred_test=model.predict(X_test)"
   ]
  },
  {
   "cell_type": "code",
   "execution_count": 275,
   "metadata": {},
   "outputs": [
    {
     "data": {
      "text/plain": [
       "array([9.99998493e-01, 9.99997615e-01, 9.99996707e-01, ...,\n",
       "       2.99912975e-11, 2.55094741e-11, 1.86494134e-11])"
      ]
     },
     "execution_count": 275,
     "metadata": {},
     "output_type": "execute_result"
    }
   ],
   "source": [
    "np.sort(y_pred_test)[::-1]\n",
    "#y_pred_test"
   ]
  },
  {
   "cell_type": "code",
   "execution_count": 276,
   "metadata": {},
   "outputs": [
    {
     "data": {
      "image/png": "[encoded data removed]",
      "text/plain": [
       "<Figure size 640x480 with 1 Axes>"
      ]
     },
     "metadata": {},
     "output_type": "display_data"
    }
   ],
   "source": [
    "# Suponiendo que y_pred_eval es un array o lista\n",
    "plt.hist(y_pred_test, bins=30, color='blue', edgecolor='black', alpha=0.7)\n",
    "plt.title('Histograma de y_pred_test')\n",
    "plt.xlabel('Valores de y_pred_test')\n",
    "plt.ylabel('Frecuencia')\n",
    "plt.show()"
   ]
  },
  {
   "cell_type": "markdown",
   "metadata": {},
   "source": [
    "# ENVIO A KAGGLE"
   ]
  },
  {
   "cell_type": "code",
   "execution_count": 277,
   "metadata": {},
   "outputs": [
    {
     "name": "stdout",
     "output_type": "stream",
     "text": [
      "Enviando: 7000\n",
      "La forma de 'clientes_enviados' es correcta.\n",
      "100%|██████████████████████████████████████| 1.93M/1.93M [00:00<00:00, 3.08MB/s]\n",
      "Successfully submitted to DMEyF 2024 SegundaEnviando: 8000\n",
      "La forma de 'clientes_enviados' es correcta.\n",
      "100%|██████████████████████████████████████| 1.93M/1.93M [00:00<00:00, 3.21MB/s]\n",
      "Successfully submitted to DMEyF 2024 SegundaEnviando: 9000\n",
      "La forma de 'clientes_enviados' es correcta.\n",
      "100%|██████████████████████████████████████| 1.93M/1.93M [00:00<00:00, 3.28MB/s]\n",
      "Successfully submitted to DMEyF 2024 SegundaEnviando: 10000\n",
      "La forma de 'clientes_enviados' es correcta.\n",
      "100%|██████████████████████████████████████| 1.93M/1.93M [00:00<00:00, 3.29MB/s]\n",
      "Successfully submitted to DMEyF 2024 SegundaEnviando: 11000\n",
      "La forma de 'clientes_enviados' es correcta.\n",
      "100%|██████████████████████████████████████| 1.93M/1.93M [00:00<00:00, 2.96MB/s]\n",
      "Successfully submitted to DMEyF 2024 SegundaEnviando: 12000\n",
      "La forma de 'clientes_enviados' es correcta.\n",
      "100%|██████████████████████████████████████| 1.93M/1.93M [00:00<00:00, 3.07MB/s]\n",
      "Successfully submitted to DMEyF 2024 SegundaEnviando: 13000\n",
      "La forma de 'clientes_enviados' es correcta.\n",
      "100%|██████████████████████████████████████| 1.93M/1.93M [00:00<00:00, 3.19MB/s]\n",
      "Successfully submitted to DMEyF 2024 SegundaEnviando: 14000\n",
      "La forma de 'clientes_enviados' es correcta.\n",
      "100%|██████████████████████████████████████| 1.93M/1.93M [00:00<00:00, 3.30MB/s]\n",
      "Successfully submitted to DMEyF 2024 SegundaEnviando: 15000\n",
      "La forma de 'clientes_enviados' es correcta.\n",
      "100%|██████████████████████████████████████| 1.93M/1.93M [00:00<00:00, 3.17MB/s]\n",
      "Successfully submitted to DMEyF 2024 SegundaEnviando: 16000\n",
      "La forma de 'clientes_enviados' es correcta.\n",
      "100%|██████████████████████████████████████| 1.93M/1.93M [00:00<00:00, 3.12MB/s]\n",
      "Successfully submitted to DMEyF 2024 Segundanum_leaves 367 learning_rate 0.21973326885018724 min_data_in_leaf 81 feature_fraction 0.6762459148093933 bagging_fraction 0.49690708220730284\n",
      "        numero_de_cliente  Predicted\n",
      "209867          249221109          0\n",
      "209868          249221468          0\n",
      "209869          249223005          0\n",
      "209870          249228180          1\n",
      "209871          249232117          0\n",
      "...                   ...        ...\n",
      "375304         1603590310          1\n",
      "375305         1603703854          1\n",
      "375306         1603775178          0\n",
      "375307         1603805076          1\n",
      "375308         1603866698          0\n",
      "\n",
      "[165442 rows x 2 columns]\n"
     ]
    }
   ],
   "source": [
    "enviar_kaggle(y_pred_test, X_test)"
   ]
  },
  {
   "cell_type": "code",
   "execution_count": null,
   "metadata": {
    "colab": {
     "base_uri": "https://localhost:8080/"
    },
    "executionInfo": {
     "elapsed": 328160,
     "status": "ok",
     "timestamp": 1731388490438,
     "user": {
      "displayName": "Jose Chelquer",
      "userId": "09375279337890014087"
     },
     "user_tz": 180
    },
    "id": "1SxfAPnABA5d",
    "outputId": "564c9c50-b711-42ae-b249-09abbf5e98ef"
   },
   "outputs": [],
   "source": [
    "\n",
    "\n"
   ]
  },
  {
   "cell_type": "code",
   "execution_count": null,
   "metadata": {},
   "outputs": [],
   "source": []
  },
  {
   "cell_type": "code",
   "execution_count": null,
   "metadata": {},
   "outputs": [],
   "source": []
  }
 ],
 "metadata": {
  "colab": {
   "gpuType": "T4",
   "provenance": [
    {
     "file_id": "15Qja3yaIcGncom0zNctd584LW_maukON",
     "timestamp": 1730041694717
    },
    {
     "file_id": "1FPTZRsOUhcKFfbgSYW76KzbknDeILOWx",
     "timestamp": 1726524912160
    }
   ],
   "toc_visible": true
  },
  "kernelspec": {
   "display_name": "Python 3 (ipykernel)",
   "language": "python",
   "name": "python3"
  },
  "language_info": {
   "codemirror_mode": {
    "name": "ipython",
    "version": 3
   },
   "file_extension": ".py",
   "mimetype": "text/x-python",
   "name": "python",
   "nbconvert_exporter": "python",
   "pygments_lexer": "ipython3",
   "version": "3.12.3"
  }
 },
 "nbformat": 4,
 "nbformat_minor": 4
}
