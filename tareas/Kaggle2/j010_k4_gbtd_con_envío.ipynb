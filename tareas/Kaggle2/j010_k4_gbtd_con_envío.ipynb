{
 "cells": [
  {
   "cell_type": "markdown",
   "metadata": {
    "id": "d_xvJXPhCkMA"
   },
   "source": [
    "#cambio y aplicar cambios en VM\n",
    "\n",
    "# Título  gbtd con envío\n",
    "## Autor: Jose Chelquer\n",
    "## Fecha de última modificación: 21/11/2024\n",
    "\n",
    "Hace lightbt y envía en base a parametros optimizados\n",
    "\n"
   ]
  },
  {
   "cell_type": "markdown",
   "metadata": {
    "id": "qRTSvXdLHkpB"
   },
   "source": [
    "## Parámetros\n",
    "\n",
    "< Descripción de cada uno de los parámetros que utiliza el job >\n"
   ]
  },
  {
   "cell_type": "code",
   "execution_count": 4,
   "metadata": {
    "executionInfo": {
     "elapsed": 317,
     "status": "ok",
     "timestamp": 1731386833314,
     "user": {
      "displayName": "Jose Chelquer",
      "userId": "09375279337890014087"
     },
     "user_tz": 180
    },
    "id": "6DHEeh9rJ3Ig"
   },
   "outputs": [],
   "source": [
    "experimento='competencia_sample'\n",
    "# Con qué dataset trabajar\n",
    "# \"\": sin variables rf\n",
    "# \"rf\": con variables rf\n",
    "dset=\"rf\"               # usado para tener dos juegos de datos\n",
    "#dset=\"\"\n",
    "feat=\"aum\"              # usado para tener aumentadas y no\n",
    "#feat=\"\""
   ]
  },
  {
   "cell_type": "code",
   "execution_count": 5,
   "metadata": {
    "executionInfo": {
     "elapsed": 483,
     "status": "ok",
     "timestamp": 1731386834221,
     "user": {
      "displayName": "Jose Chelquer",
      "userId": "09375279337890014087"
     },
     "user_tz": 180
    },
    "id": "yMU00Fl7IIfm"
   },
   "outputs": [],
   "source": [
    "# vm o local?\n",
    "vm=True\n",
    "if vm:\n",
    "  usar_gdrive=False\n",
    "else:\n",
    "  usar_gdrive=True      #se va a usar google dirve\n"
   ]
  },
  {
   "cell_type": "code",
   "execution_count": 6,
   "metadata": {
    "executionInfo": {
     "elapsed": 75,
     "status": "ok",
     "timestamp": 1731386834222,
     "user": {
      "displayName": "Jose Chelquer",
      "userId": "09375279337890014087"
     },
     "user_tz": 180
    },
    "id": "KTHNlNBrPhX-"
   },
   "outputs": [],
   "source": [
    "semillas=[101, 103, 107, 109, 113, 127, 131, 137, 139, 149, 151, 157, 163, 167, 173, 179, 181, 191, 193, 197]\n",
    "\n",
    "ganancia_acierto=273000\n",
    "costo_estimulo=7000"
   ]
  },
  {
   "cell_type": "code",
   "execution_count": 7,
   "metadata": {
    "executionInfo": {
     "elapsed": 72,
     "status": "ok",
     "timestamp": 1731386834222,
     "user": {
      "displayName": "Jose Chelquer",
      "userId": "09375279337890014087"
     },
     "user_tz": 180
    },
    "id": "ZPUnCb5xZ-8K"
   },
   "outputs": [],
   "source": [
    "# meses de entrenamiento, evaluación y test\n",
    "if vm:\n",
    "  mes_train_desde = 202101\n",
    "  mes_train_hasta = 202105\n",
    "  mes_eval=202106\n",
    "  mes_test = 202108\n",
    "else:\n",
    "  mes_train_desde = 202104\n",
    "  mes_train_hasta = 202105\n",
    "  mes_eval=202106\n",
    "  mes_test = 202108"
   ]
  },
  {
   "cell_type": "code",
   "execution_count": null,
   "metadata": {},
   "outputs": [],
   "source": []
  },
  {
   "cell_type": "code",
   "execution_count": 8,
   "metadata": {},
   "outputs": [],
   "source": [
    "\n",
    "params_fijos={\n",
    "        'objective': 'binary',\n",
    "        'metric': 'custom',\n",
    "        'boosting_type': 'gbdt',\n",
    "        'first_metric_only': True,\n",
    "        'boost_from_average': True,\n",
    "        'feature_pre_filter': False,\n",
    "        'max_bin': 31\n",
    "    \n",
    "}\n",
    "lgb_verbosity=-1\n",
    "num_boost_round= 500"
   ]
  },
  {
   "cell_type": "code",
   "execution_count": 9,
   "metadata": {
    "executionInfo": {
     "elapsed": 53,
     "status": "ok",
     "timestamp": 1731386834223,
     "user": {
      "displayName": "Jose Chelquer",
      "userId": "09375279337890014087"
     },
     "user_tz": 180
    },
    "id": "IsQTUk9-InJl"
   },
   "outputs": [],
   "source": [
    "params_file=\"best_params.json\""
   ]
  },
  {
   "cell_type": "code",
   "execution_count": 10,
   "metadata": {
    "executionInfo": {
     "elapsed": 51,
     "status": "ok",
     "timestamp": 1731386834223,
     "user": {
      "displayName": "Jose Chelquer",
      "userId": "09375279337890014087"
     },
     "user_tz": 180
    },
    "id": "61j56HBIKFeR"
   },
   "outputs": [],
   "source": [
    "\n",
    "grabar_importancias=False          # Se puede pedir que grabe las importancias de variables como resultado secundario\n",
    "importancias_file=f'importancias_lgb{experimento}.csv.gz'\n"
   ]
  },
  {
   "cell_type": "code",
   "execution_count": 11,
   "metadata": {
    "executionInfo": {
     "elapsed": 49,
     "status": "ok",
     "timestamp": 1731386834223,
     "user": {
      "displayName": "Jose Chelquer",
      "userId": "09375279337890014087"
     },
     "user_tz": 180
    },
    "id": "Xc_WH1DcmGbH"
   },
   "outputs": [],
   "source": [
    "# parámetros de envío a kaggle\n",
    "version = f'202_{experimento}_'\n",
    "prefijo_envio=f\"j010_lgb_{experimento}_\"\n",
    "enviar_desde=7000\n",
    "enviar_hasta=16000\n",
    "cant_envios=10            #Cantidad de envíos a Kaggle\n"
   ]
  },
  {
   "cell_type": "markdown",
   "metadata": {
    "id": "sH5VivJSIM42"
   },
   "source": [
    "## Input\n",
    "\n",
    "< Archivos de datos (csv.gz) con sus paths que van a consumirse por el job>"
   ]
  },
  {
   "cell_type": "code",
   "execution_count": 12,
   "metadata": {
    "executionInfo": {
     "elapsed": 46,
     "status": "ok",
     "timestamp": 1731386834223,
     "user": {
      "displayName": "Jose Chelquer",
      "userId": "09375279337890014087"
     },
     "user_tz": 180
    },
    "id": "MEk4Fj7VIv7g"
   },
   "outputs": [
    {
     "name": "stdout",
     "output_type": "stream",
     "text": [
      "k2_aumentada_conRF.parquet.gz\n"
     ]
    }
   ],
   "source": [
    "# EL script se adapta a archivos .csv o .csv.gz\n",
    "if vm:\n",
    "  dataset_path = '/home/jose/buckets/b1/datasets'\n",
    "  kaggle_json_path=\"/home/jose/buckets/b1\"\n",
    "  if dset==\"rf\":\n",
    "    if feat==\"aum\":\n",
    "        dataset_file='k2_aumentada_conRF.parquet.gz'\n",
    "    else:\n",
    "        dataset_file='competencia_02_conRF.parquet.gz'\n",
    "\n",
    "  else:\n",
    "    if feat==\"aum\":\n",
    "        dataset_file='competencia_02_aumentada.parquet.gz'\n",
    "    else:\n",
    "        dataset_file='competencia_02.parquet.gz'\n",
    "\n",
    "else:\n",
    "  dataset_path='/content/drive/MyDrive/Data Science y similares/Maestría Data Mining Exactas/dmeyf/dmeyf2024/datasets/'\n",
    "  kaggle_json_path=\"/content/drive/MyDrive/Data Science y similares/Maestría Data Mining Exactas\"\n",
    "\n",
    "  sufijo=''\n",
    "  if dset==\"rf\":\n",
    "    sufijo='_cRF'\n",
    "  infijo='_base'\n",
    "  if feat==\"aum\":\n",
    "    infijo='_aum'\n",
    "\n",
    "  dataset_file=f\"sample_c02{infijo}_m1a8{sufijo}.csv.gz\"\n",
    "\n",
    "print (dataset_file)"
   ]
  },
  {
   "cell_type": "markdown",
   "metadata": {
    "id": "fQ6MUhENI0Ya"
   },
   "source": [
    "## Output\n",
    "\n",
    "< Archivos, bases de datos, modelos que va a generar el job>"
   ]
  },
  {
   "cell_type": "code",
   "execution_count": 13,
   "metadata": {
    "executionInfo": {
     "elapsed": 43,
     "status": "ok",
     "timestamp": 1731386834223,
     "user": {
      "displayName": "Jose Chelquer",
      "userId": "09375279337890014087"
     },
     "user_tz": 180
    },
    "id": "ZT3kxlkFIv4p"
   },
   "outputs": [],
   "source": [
    "\n",
    "if vm:\n",
    "  db_path='/home/jose/buckets/b1/db'\n",
    "  modelos_path='/home/jose/buckets/b1/modelos'\n",
    "\n",
    "else:\n",
    "  db_path='/content/drive/MyDrive/Data Science y similares/Maestría Data Mining Exactas/dmeyf/dmeyf2024/db/'\n",
    "        # optuna no puede hacerlo en drive.  La copia se hará al final, si se puede\n",
    "  modelos_path='/content/drive/MyDrive/Data Science y similares/Maestría Data Mining Exactas/dmeyf/dmeyf2024/modelos/'\n",
    "\n",
    "modelos_file=f'lgb_optimizado_{experimento}'"
   ]
  },
  {
   "cell_type": "markdown",
   "metadata": {
    "id": "VrRYsZMowzEl"
   },
   "source": [
    "## Procesos"
   ]
  },
  {
   "cell_type": "markdown",
   "metadata": {
    "id": "iVe0GO1IJHtI"
   },
   "source": [
    "### Paquetes necesarios"
   ]
  },
  {
   "cell_type": "markdown",
   "metadata": {
    "id": "0LM2kY_WJj15"
   },
   "source": [
    "## Código del proceso\n",
    "\n",
    "< Todo el código a partir de aquí debe poder ejecutarse sin necesidad de parametrizar nada>"
   ]
  },
  {
   "cell_type": "markdown",
   "metadata": {
    "id": "Q0X0atYk2Bqf"
   },
   "source": [
    "Instalamos, cargamos y seteamos el entorno"
   ]
  },
  {
   "cell_type": "markdown",
   "metadata": {
    "id": "vteA4xbLOv9m"
   },
   "source": [
    "## Gdrive?"
   ]
  },
  {
   "cell_type": "code",
   "execution_count": 14,
   "metadata": {
    "colab": {
     "base_uri": "https://localhost:8080/"
    },
    "executionInfo": {
     "elapsed": 2040,
     "status": "ok",
     "timestamp": 1731386841403,
     "user": {
      "displayName": "Jose Chelquer",
      "userId": "09375279337890014087"
     },
     "user_tz": 180
    },
    "id": "SocMOWB6Ofpw",
    "outputId": "2640044f-6eda-4fa9-fb72-5e083250d5b8"
   },
   "outputs": [],
   "source": [
    "if usar_gdrive:\n",
    "  from google.colab import drive\n",
    "  drive.mount('/content/drive')"
   ]
  },
  {
   "cell_type": "markdown",
   "metadata": {
    "id": "Tq58M1oylxcQ"
   },
   "source": [
    "## Librerías"
   ]
  },
  {
   "cell_type": "code",
   "execution_count": 15,
   "metadata": {},
   "outputs": [
    {
     "name": "stdout",
     "output_type": "stream",
     "text": [
      "Requirement already satisfied: pip in /home/jose/.venv/lib/python3.12/site-packages (24.2)\n",
      "Collecting pip\n",
      "  Downloading pip-24.3.1-py3-none-any.whl.metadata (3.7 kB)\n",
      "Downloading pip-24.3.1-py3-none-any.whl (1.8 MB)\n",
      "\u001b[2K   \u001b[90m━━━━━━━━━━━━━━━━━━━━━━━━━━━━━━━━━━━━━━━━\u001b[0m \u001b[32m1.8/1.8 MB\u001b[0m \u001b[31m9.1 MB/s\u001b[0m eta \u001b[36m0:00:00\u001b[0ma \u001b[36m0:00:01\u001b[0m\n",
      "\u001b[?25hInstalling collected packages: pip\n",
      "  Attempting uninstall: pip\n",
      "    Found existing installation: pip 24.2\n",
      "    Uninstalling pip-24.2:\n",
      "      Successfully uninstalled pip-24.2\n",
      "Successfully installed pip-24.3.1\n",
      "Requirement already satisfied: lightgbm in /home/jose/.venv/lib/python3.12/site-packages (4.5.0)\n",
      "Requirement already satisfied: numpy>=1.17.0 in /home/jose/.venv/lib/python3.12/site-packages (from lightgbm) (1.26.4)\n",
      "Requirement already satisfied: scipy in /home/jose/.venv/lib/python3.12/site-packages (from lightgbm) (1.14.1)\n",
      "Requirement already satisfied: dask[dataframe] in /home/jose/.venv/lib/python3.12/site-packages (2024.9.0)\n",
      "Requirement already satisfied: click>=8.1 in /home/jose/.venv/lib/python3.12/site-packages (from dask[dataframe]) (8.1.7)\n",
      "Requirement already satisfied: cloudpickle>=3.0.0 in /home/jose/.venv/lib/python3.12/site-packages (from dask[dataframe]) (3.0.0)\n",
      "Requirement already satisfied: fsspec>=2021.09.0 in /home/jose/.venv/lib/python3.12/site-packages (from dask[dataframe]) (2024.9.0)\n",
      "Requirement already satisfied: packaging>=20.0 in /home/jose/.venv/lib/python3.12/site-packages (from dask[dataframe]) (24.1)\n",
      "Requirement already satisfied: partd>=1.4.0 in /home/jose/.venv/lib/python3.12/site-packages (from dask[dataframe]) (1.4.2)\n",
      "Requirement already satisfied: pyyaml>=5.3.1 in /home/jose/.venv/lib/python3.12/site-packages (from dask[dataframe]) (6.0.2)\n",
      "Requirement already satisfied: toolz>=0.10.0 in /home/jose/.venv/lib/python3.12/site-packages (from dask[dataframe]) (0.12.1)\n",
      "Requirement already satisfied: pandas>=2.0 in /home/jose/.venv/lib/python3.12/site-packages (from dask[dataframe]) (2.2.3)\n",
      "Collecting dask-expr<1.2,>=1.1 (from dask[dataframe])\n",
      "  Downloading dask_expr-1.1.19-py3-none-any.whl.metadata (2.6 kB)\n",
      "INFO: pip is looking at multiple versions of dask-expr to determine which version is compatible with other requirements. This could take a while.\n",
      "  Downloading dask_expr-1.1.18-py3-none-any.whl.metadata (2.6 kB)\n",
      "  Downloading dask_expr-1.1.16-py3-none-any.whl.metadata (2.5 kB)\n",
      "  Downloading dask_expr-1.1.15-py3-none-any.whl.metadata (2.5 kB)\n",
      "  Downloading dask_expr-1.1.14-py3-none-any.whl.metadata (2.5 kB)\n",
      "Requirement already satisfied: pyarrow>=14.0.1 in /home/jose/.venv/lib/python3.12/site-packages (from dask-expr<1.2,>=1.1->dask[dataframe]) (17.0.0)\n",
      "Requirement already satisfied: numpy>=1.26.0 in /home/jose/.venv/lib/python3.12/site-packages (from pandas>=2.0->dask[dataframe]) (1.26.4)\n",
      "Requirement already satisfied: python-dateutil>=2.8.2 in /home/jose/.venv/lib/python3.12/site-packages (from pandas>=2.0->dask[dataframe]) (2.9.0.post0)\n",
      "Requirement already satisfied: pytz>=2020.1 in /home/jose/.venv/lib/python3.12/site-packages (from pandas>=2.0->dask[dataframe]) (2024.2)\n",
      "Requirement already satisfied: tzdata>=2022.7 in /home/jose/.venv/lib/python3.12/site-packages (from pandas>=2.0->dask[dataframe]) (2024.1)\n",
      "Requirement already satisfied: locket in /home/jose/.venv/lib/python3.12/site-packages (from partd>=1.4.0->dask[dataframe]) (1.0.0)\n",
      "Requirement already satisfied: six>=1.5 in /home/jose/.venv/lib/python3.12/site-packages (from python-dateutil>=2.8.2->pandas>=2.0->dask[dataframe]) (1.16.0)\n",
      "Downloading dask_expr-1.1.14-py3-none-any.whl (242 kB)\n",
      "Installing collected packages: dask-expr\n",
      "Successfully installed dask-expr-1.1.14\n"
     ]
    }
   ],
   "source": [
    "!pip install --upgrade pip\n",
    "!pip install --upgrade lightgbm\n",
    "!pip install dask[dataframe]"
   ]
  },
  {
   "cell_type": "code",
   "execution_count": 16,
   "metadata": {
    "executionInfo": {
     "elapsed": 7,
     "status": "ok",
     "timestamp": 1731386841403,
     "user": {
      "displayName": "Jose Chelquer",
      "userId": "09375279337890014087"
     },
     "user_tz": 180
    },
    "id": "Cj-rL6xHlA2u"
   },
   "outputs": [
    {
     "name": "stderr",
     "output_type": "stream",
     "text": [
      "Matplotlib is building the font cache; this may take a moment.\n"
     ]
    }
   ],
   "source": [
    "import pandas as pd\n",
    "import numpy as np\n",
    "import seaborn as sns\n",
    "import matplotlib.pyplot as plt\n",
    "\n",
    "import os\n",
    "import shutil\n",
    "\n",
    "from sklearn.model_selection import train_test_split\n",
    "from sklearn.model_selection import ShuffleSplit, StratifiedShuffleSplit\n",
    "from sklearn.ensemble import RandomForestClassifier\n",
    "from sklearn.impute import SimpleImputer\n",
    "\n",
    "\n",
    "import json\n",
    "\n",
    "from time import time\n",
    "\n",
    "import pickle\n",
    "\n"
   ]
  },
  {
   "cell_type": "code",
   "execution_count": null,
   "metadata": {},
   "outputs": [],
   "source": [
    "\n",
    "\n"
   ]
  },
  {
   "cell_type": "code",
   "execution_count": 17,
   "metadata": {
    "scrolled": true
   },
   "outputs": [
    {
     "data": {
      "text/html": [
       "<style type='text/css'>\n",
       ".datatable table.frame { margin-bottom: 0; }\n",
       ".datatable table.frame thead { border-bottom: none; }\n",
       ".datatable table.frame tr.coltypes td {  color: #FFFFFF;  line-height: 6px;  padding: 0 0.5em;}\n",
       ".datatable .bool    { background: #DDDD99; }\n",
       ".datatable .object  { background: #565656; }\n",
       ".datatable .int     { background: #5D9E5D; }\n",
       ".datatable .float   { background: #4040CC; }\n",
       ".datatable .str     { background: #CC4040; }\n",
       ".datatable .time    { background: #40CC40; }\n",
       ".datatable .row_index {  background: var(--jp-border-color3);  border-right: 1px solid var(--jp-border-color0);  color: var(--jp-ui-font-color3);  font-size: 9px;}\n",
       ".datatable .frame tbody td { text-align: left; }\n",
       ".datatable .frame tr.coltypes .row_index {  background: var(--jp-border-color0);}\n",
       ".datatable th:nth-child(2) { padding-left: 12px; }\n",
       ".datatable .hellipsis {  color: var(--jp-cell-editor-border-color);}\n",
       ".datatable .vellipsis {  background: var(--jp-layout-color0);  color: var(--jp-cell-editor-border-color);}\n",
       ".datatable .na {  color: var(--jp-cell-editor-border-color);  font-size: 80%;}\n",
       ".datatable .sp {  opacity: 0.25;}\n",
       ".datatable .footer { font-size: 9px; }\n",
       ".datatable .frame_dimensions {  background: var(--jp-border-color3);  border-top: 1px solid var(--jp-border-color0);  color: var(--jp-ui-font-color3);  display: inline-block;  opacity: 0.6;  padding: 1px 10px 1px 5px;}\n",
       "</style>\n"
      ],
      "text/plain": [
       "<IPython.core.display.HTML object>"
      ]
     },
     "metadata": {},
     "output_type": "display_data"
    }
   ],
   "source": [
    "import lightgbm as lgb"
   ]
  },
  {
   "cell_type": "markdown",
   "metadata": {},
   "source": [
    "## Funciones útiles varias"
   ]
  },
  {
   "cell_type": "code",
   "execution_count": 18,
   "metadata": {},
   "outputs": [],
   "source": [
    "def buscar_columnas(data, texto):\n",
    "    # devuelve los nombre de cols de data que contengan texto\n",
    "    # Encuentra las columnas que contienen el texto\n",
    "    columnas_filtradas = [col for col in data.columns if texto in col]\n",
    "    \n",
    "    # Imprime las columnas que coinciden\n",
    "    return columnas_filtradas"
   ]
  },
  {
   "cell_type": "markdown",
   "metadata": {
    "id": "bkwpAJ8_l0v5"
   },
   "source": [
    "## Leer datos"
   ]
  },
  {
   "cell_type": "code",
   "execution_count": 19,
   "metadata": {
    "executionInfo": {
     "elapsed": 7,
     "status": "ok",
     "timestamp": 1731386841403,
     "user": {
      "displayName": "Jose Chelquer",
      "userId": "09375279337890014087"
     },
     "user_tz": 180
    },
    "id": "8jGKjoN1lRho"
   },
   "outputs": [],
   "source": [
    "semilla=semillas[2]\n"
   ]
  },
  {
   "cell_type": "code",
   "execution_count": 20,
   "metadata": {},
   "outputs": [],
   "source": [
    "def contabilizar(df, descripción):\n",
    "  print (f'\\nContabilización de la base {descripción}\\n')\n",
    "  print (f'\\nShape: {df.shape}\\n')\n",
    "  n_vars=len(df.columns)\n",
    "  n_vars_tree=len([col for col in df.columns if col.startswith('tree')])\n",
    "  print (f\"Variables: {n_vars}\")\n",
    "  print (f\"Variables tree: {n_vars_tree}\")\n",
    "  print (f\"\\nFilas por mes: \\n{df['foto_mes'].value_counts()}\\n\")\n",
    "  if 'clase_ternaria' in df.columns:\n",
    "    print (f\"\\nFilas por mes y clase: \\n{pd.crosstab(df['foto_mes'], df['clase_ternaria'])}\\n\")\n",
    "def cant_meses(df):\n",
    "  return len(df['foto_mes'].unique())"
   ]
  },
  {
   "cell_type": "code",
   "execution_count": 21,
   "metadata": {
    "executionInfo": {
     "elapsed": 46934,
     "status": "ok",
     "timestamp": 1731386888331,
     "user": {
      "displayName": "Jose Chelquer",
      "userId": "09375279337890014087"
     },
     "user_tz": 180
    },
    "id": "Y6wt6RE4jmQd"
   },
   "outputs": [],
   "source": [
    "data = pd.read_parquet(os.path.join(dataset_path, dataset_file))\n",
    "if 'clase_ternaria_num' in data.columns:\n",
    "  data = data.drop(columns=['clase_ternaria_num'])"
   ]
  },
  {
   "cell_type": "code",
   "execution_count": 26,
   "metadata": {
    "scrolled": true
   },
   "outputs": [
    {
     "ename": "KeyError",
     "evalue": "False",
     "output_type": "error",
     "traceback": [
      "\u001b[0;31m---------------------------------------------------------------------------\u001b[0m",
      "\u001b[0;31mKeyError\u001b[0m                                  Traceback (most recent call last)",
      "File \u001b[0;32m~/.venv/lib/python3.12/site-packages/pandas/core/indexes/base.py:3805\u001b[0m, in \u001b[0;36mIndex.get_loc\u001b[0;34m(self, key)\u001b[0m\n\u001b[1;32m   3804\u001b[0m \u001b[38;5;28;01mtry\u001b[39;00m:\n\u001b[0;32m-> 3805\u001b[0m     \u001b[38;5;28;01mreturn\u001b[39;00m \u001b[38;5;28;43mself\u001b[39;49m\u001b[38;5;241;43m.\u001b[39;49m\u001b[43m_engine\u001b[49m\u001b[38;5;241;43m.\u001b[39;49m\u001b[43mget_loc\u001b[49m\u001b[43m(\u001b[49m\u001b[43mcasted_key\u001b[49m\u001b[43m)\u001b[49m\n\u001b[1;32m   3806\u001b[0m \u001b[38;5;28;01mexcept\u001b[39;00m \u001b[38;5;167;01mKeyError\u001b[39;00m \u001b[38;5;28;01mas\u001b[39;00m err:\n",
      "File \u001b[0;32mindex.pyx:167\u001b[0m, in \u001b[0;36mpandas._libs.index.IndexEngine.get_loc\u001b[0;34m()\u001b[0m\n",
      "File \u001b[0;32mindex.pyx:196\u001b[0m, in \u001b[0;36mpandas._libs.index.IndexEngine.get_loc\u001b[0;34m()\u001b[0m\n",
      "File \u001b[0;32mpandas/_libs/hashtable_class_helper.pxi:7081\u001b[0m, in \u001b[0;36mpandas._libs.hashtable.PyObjectHashTable.get_item\u001b[0;34m()\u001b[0m\n",
      "File \u001b[0;32mpandas/_libs/hashtable_class_helper.pxi:7089\u001b[0m, in \u001b[0;36mpandas._libs.hashtable.PyObjectHashTable.get_item\u001b[0;34m()\u001b[0m\n",
      "\u001b[0;31mKeyError\u001b[0m: False",
      "\nThe above exception was the direct cause of the following exception:\n",
      "\u001b[0;31mKeyError\u001b[0m                                  Traceback (most recent call last)",
      "Cell \u001b[0;32mIn[26], line 2\u001b[0m\n\u001b[1;32m      1\u001b[0m data \u001b[38;5;241m=\u001b[39m data\u001b[38;5;241m.\u001b[39msort_values(by\u001b[38;5;241m=\u001b[39m[\u001b[38;5;124m'\u001b[39m\u001b[38;5;124mfoto_mes\u001b[39m\u001b[38;5;124m'\u001b[39m, \u001b[38;5;124m'\u001b[39m\u001b[38;5;124mnumero_de_cliente\u001b[39m\u001b[38;5;124m'\u001b[39m])\n\u001b[0;32m----> 2\u001b[0m data\u001b[38;5;241m.\u001b[39mloc[\u001b[43mdata\u001b[49m\u001b[43m[\u001b[49m\u001b[38;5;124;43m'\u001b[39;49m\u001b[38;5;124;43mfoto_mes\u001b[39;49m\u001b[38;5;124;43m'\u001b[39;49m\u001b[38;5;241;43m==\u001b[39;49m\u001b[38;5;124;43m'\u001b[39;49m\u001b[38;5;124;43m202108\u001b[39;49m\u001b[38;5;124;43m'\u001b[39;49m\u001b[43m]\u001b[49m, \u001b[38;5;124m'\u001b[39m\u001b[38;5;124mnumero_de_cliente\u001b[39m\u001b[38;5;124m'\u001b[39m]\n",
      "File \u001b[0;32m~/.venv/lib/python3.12/site-packages/pandas/core/frame.py:4102\u001b[0m, in \u001b[0;36mDataFrame.__getitem__\u001b[0;34m(self, key)\u001b[0m\n\u001b[1;32m   4100\u001b[0m \u001b[38;5;28;01mif\u001b[39;00m \u001b[38;5;28mself\u001b[39m\u001b[38;5;241m.\u001b[39mcolumns\u001b[38;5;241m.\u001b[39mnlevels \u001b[38;5;241m>\u001b[39m \u001b[38;5;241m1\u001b[39m:\n\u001b[1;32m   4101\u001b[0m     \u001b[38;5;28;01mreturn\u001b[39;00m \u001b[38;5;28mself\u001b[39m\u001b[38;5;241m.\u001b[39m_getitem_multilevel(key)\n\u001b[0;32m-> 4102\u001b[0m indexer \u001b[38;5;241m=\u001b[39m \u001b[38;5;28;43mself\u001b[39;49m\u001b[38;5;241;43m.\u001b[39;49m\u001b[43mcolumns\u001b[49m\u001b[38;5;241;43m.\u001b[39;49m\u001b[43mget_loc\u001b[49m\u001b[43m(\u001b[49m\u001b[43mkey\u001b[49m\u001b[43m)\u001b[49m\n\u001b[1;32m   4103\u001b[0m \u001b[38;5;28;01mif\u001b[39;00m is_integer(indexer):\n\u001b[1;32m   4104\u001b[0m     indexer \u001b[38;5;241m=\u001b[39m [indexer]\n",
      "File \u001b[0;32m~/.venv/lib/python3.12/site-packages/pandas/core/indexes/base.py:3812\u001b[0m, in \u001b[0;36mIndex.get_loc\u001b[0;34m(self, key)\u001b[0m\n\u001b[1;32m   3807\u001b[0m     \u001b[38;5;28;01mif\u001b[39;00m \u001b[38;5;28misinstance\u001b[39m(casted_key, \u001b[38;5;28mslice\u001b[39m) \u001b[38;5;129;01mor\u001b[39;00m (\n\u001b[1;32m   3808\u001b[0m         \u001b[38;5;28misinstance\u001b[39m(casted_key, abc\u001b[38;5;241m.\u001b[39mIterable)\n\u001b[1;32m   3809\u001b[0m         \u001b[38;5;129;01mand\u001b[39;00m \u001b[38;5;28many\u001b[39m(\u001b[38;5;28misinstance\u001b[39m(x, \u001b[38;5;28mslice\u001b[39m) \u001b[38;5;28;01mfor\u001b[39;00m x \u001b[38;5;129;01min\u001b[39;00m casted_key)\n\u001b[1;32m   3810\u001b[0m     ):\n\u001b[1;32m   3811\u001b[0m         \u001b[38;5;28;01mraise\u001b[39;00m InvalidIndexError(key)\n\u001b[0;32m-> 3812\u001b[0m     \u001b[38;5;28;01mraise\u001b[39;00m \u001b[38;5;167;01mKeyError\u001b[39;00m(key) \u001b[38;5;28;01mfrom\u001b[39;00m \u001b[38;5;21;01merr\u001b[39;00m\n\u001b[1;32m   3813\u001b[0m \u001b[38;5;28;01mexcept\u001b[39;00m \u001b[38;5;167;01mTypeError\u001b[39;00m:\n\u001b[1;32m   3814\u001b[0m     \u001b[38;5;66;03m# If we have a listlike key, _check_indexing_error will raise\u001b[39;00m\n\u001b[1;32m   3815\u001b[0m     \u001b[38;5;66;03m#  InvalidIndexError. Otherwise we fall through and re-raise\u001b[39;00m\n\u001b[1;32m   3816\u001b[0m     \u001b[38;5;66;03m#  the TypeError.\u001b[39;00m\n\u001b[1;32m   3817\u001b[0m     \u001b[38;5;28mself\u001b[39m\u001b[38;5;241m.\u001b[39m_check_indexing_error(key)\n",
      "\u001b[0;31mKeyError\u001b[0m: False"
     ]
    }
   ],
   "source": [
    "data = data.sort_values(by=['foto_mes', 'numero_de_cliente'])\n"
   ]
  },
  {
   "cell_type": "code",
   "execution_count": 29,
   "metadata": {},
   "outputs": [
    {
     "data": {
      "text/plain": [
       "336107    249221109\n",
       "41198     249221468\n",
       "290249    249223005\n",
       "113276    249228180\n",
       "171604    249232117\n",
       "320450    249236712\n",
       "45703     249236857\n",
       "290250    249237079\n",
       "45704     249237446\n",
       "148911    249239632\n",
       "Name: numero_de_cliente, dtype: int64"
      ]
     },
     "execution_count": 29,
     "metadata": {},
     "output_type": "execute_result"
    }
   ],
   "source": [
    "data.loc[data['foto_mes']==202108, 'numero_de_cliente'].head(10)"
   ]
  },
  {
   "cell_type": "code",
   "execution_count": 30,
   "metadata": {
    "colab": {
     "base_uri": "https://localhost:8080/"
    },
    "executionInfo": {
     "elapsed": 19,
     "status": "ok",
     "timestamp": 1731386888333,
     "user": {
      "displayName": "Jose Chelquer",
      "userId": "09375279337890014087"
     },
     "user_tz": 180
    },
    "id": "WUF_2WW6X9rK",
    "outputId": "d0b7578a-6b66-4808-8ba2-2d4c34629f4f",
    "scrolled": true
   },
   "outputs": [
    {
     "name": "stdout",
     "output_type": "stream",
     "text": [
      "\n",
      "Contabilización de la base Datos Leídos k2_aumentada_conRF.parquet.gz\n",
      "\n",
      "\n",
      "Shape: (375309, 1403)\n",
      "\n",
      "Variables: 1403\n",
      "Variables tree: 320\n",
      "\n",
      "Filas por mes: \n",
      "foto_mes\n",
      "202108    165442\n",
      "202104     18363\n",
      "202105     18352\n",
      "202106     18271\n",
      "202103     18169\n",
      "202102     17886\n",
      "202101     17481\n",
      "202012     17307\n",
      "202011     17097\n",
      "202010     16921\n",
      "202009     16771\n",
      "202007     16629\n",
      "202008     16620\n",
      "Name: count, dtype: int64\n",
      "\n",
      "\n",
      "Filas por mes y clase: \n",
      "clase_ternaria  BAJA+1  BAJA+2  CONTINUA\n",
      "foto_mes                                \n",
      "202007             627     542     15460\n",
      "202008             544     472     15604\n",
      "202009             474     564     15733\n",
      "202010             565     488     15868\n",
      "202011             490     646     15961\n",
      "202012             649     634     16024\n",
      "202101             635     785     16061\n",
      "202102             785    1017     16084\n",
      "202103            1020     981     16168\n",
      "202104             982    1189     16192\n",
      "202105            1189     911     16252\n",
      "202106             908    1074     16289\n",
      "202108          165442       0         0\n",
      "\n"
     ]
    }
   ],
   "source": [
    "\n",
    "contabilizar(data, 'Datos Leídos '+ dataset_file)"
   ]
  },
  {
   "cell_type": "markdown",
   "metadata": {},
   "source": [
    "# ------------------------------------------------------------------\n",
    "# Eliminado aquí a último momento para probar\n",
    "# ------------------------------------------------------------------\n"
   ]
  },
  {
   "cell_type": "code",
   "execution_count": 31,
   "metadata": {},
   "outputs": [
    {
     "name": "stdout",
     "output_type": "stream",
     "text": [
      "Nueva cantidad de columnas 1370\n"
     ]
    }
   ],
   "source": [
    "columnas_comisiones = buscar_columnas(data, 'comis')\n",
    "columnas_finic=buscar_columnas(data, 'finic')\n",
    "columnas_avg=buscar_columnas(data, 'avg')\n",
    "columnas_ratio=buscar_columnas(data, 'ratio')\n",
    "columnas_tree=buscar_columnas(data, 'tree')\n",
    "columnas_lag=buscar_columnas(data, 'lag')\n",
    "\n",
    "\n",
    "#columnas_a_eliminar=columnas_comisiones+columnas_finic+columnas_avg\n",
    "columnas_a_eliminar=(columnas_comisiones\n",
    "                     )\n",
    "columnas_a_eliminar=[]\n",
    "\n",
    "data = data.drop(columns=columnas_a_eliminar)\n",
    "print (f\"Nueva cantidad de columnas {len(data.columns)}\")"
   ]
  },
  {
   "cell_type": "code",
   "execution_count": 32,
   "metadata": {},
   "outputs": [],
   "source": [
    "# FIN DEL AGREGADO DE ULTIMO MOMENTO"
   ]
  },
  {
   "cell_type": "markdown",
   "metadata": {
    "id": "9TrH9f1L5Umd"
   },
   "source": [
    "Vamos a asignar pesos a las clases. En unos minutos explicaremos las razones detrás de esta decisión. Mientras tanto, pueden aprovechar el código para ajustar el peso de la clase **BAJA+2** según lo deseen.\n"
   ]
  },
  {
   "cell_type": "markdown",
   "metadata": {
    "id": "MNnckhMQl4QC"
   },
   "source": [
    "## Recodificar clase ternaria"
   ]
  },
  {
   "cell_type": "code",
   "execution_count": 33,
   "metadata": {
    "executionInfo": {
     "elapsed": 8,
     "status": "ok",
     "timestamp": 1731386888334,
     "user": {
      "displayName": "Jose Chelquer",
      "userId": "09375279337890014087"
     },
     "user_tz": 180
    },
    "id": "AlYeDIBQP3-s"
   },
   "outputs": [],
   "source": [
    "data['clase_peso'] = 1.0\n",
    "\n",
    "data.loc[data['clase_ternaria'] == 'BAJA+2', 'clase_peso'] = 1.00002\n",
    "data.loc[data['clase_ternaria'] == 'BAJA+1', 'clase_peso'] = 1.00001"
   ]
  },
  {
   "cell_type": "code",
   "execution_count": 34,
   "metadata": {
    "executionInfo": {
     "elapsed": 500,
     "status": "ok",
     "timestamp": 1731386888826,
     "user": {
      "displayName": "Jose Chelquer",
      "userId": "09375279337890014087"
     },
     "user_tz": 180
    },
    "id": "KV1meQ5cZ_Sl"
   },
   "outputs": [],
   "source": [
    "data['clase_binaria1'] = 0\n",
    "data['clase_binaria2'] = 0\n",
    "data['clase_binaria1'] = np.where(data['clase_ternaria'] == 'BAJA+2', 1, 0)\n",
    "data['clase_binaria2'] = np.where(data['clase_ternaria'] == 'CONTINUA', 0, 1)"
   ]
  },
  {
   "cell_type": "markdown",
   "metadata": {
    "id": "5AYJG0r16dW9"
   },
   "source": [
    "Y trabajaremos como es habitual en las últimas clases, con **Febrero** para entrenar y **Abril** para medir, con el fin de realizar *backtesting*"
   ]
  },
  {
   "cell_type": "markdown",
   "metadata": {
    "id": "8dXqpYY6l_Jk"
   },
   "source": [
    "## Preparar train y test"
   ]
  },
  {
   "cell_type": "code",
   "execution_count": 35,
   "metadata": {
    "colab": {
     "base_uri": "https://localhost:8080/"
    },
    "executionInfo": {
     "elapsed": 32,
     "status": "ok",
     "timestamp": 1731386888826,
     "user": {
      "displayName": "Jose Chelquer",
      "userId": "09375279337890014087"
     },
     "user_tz": 180
    },
    "id": "iDyeXHAuCKuT",
    "outputId": "5694402d-dfa1-4f08-d31b-75966f8baa79"
   },
   "outputs": [
    {
     "name": "stdout",
     "output_type": "stream",
     "text": [
      "Separando train y test\n",
      "Armando X_train\n",
      "Armando X_test\n",
      "listo\n",
      "\n",
      "Contabilización de la base datos de entrenamiento\n",
      "\n",
      "\n",
      "Shape: (90251, 1366)\n",
      "\n",
      "Variables: 1366\n",
      "Variables tree: 320\n",
      "\n",
      "Filas por mes: \n",
      "foto_mes\n",
      "202104    18363\n",
      "202105    18352\n",
      "202103    18169\n",
      "202102    17886\n",
      "202101    17481\n",
      "Name: count, dtype: int64\n",
      "\n",
      "\n",
      "Contabilización de la base datos de evaluación\n",
      "\n",
      "\n",
      "Shape: (18271, 1366)\n",
      "\n",
      "Variables: 1366\n",
      "Variables tree: 320\n",
      "\n",
      "Filas por mes: \n",
      "foto_mes\n",
      "202106    18271\n",
      "Name: count, dtype: int64\n",
      "\n"
     ]
    }
   ],
   "source": [
    "def train_test (data, mes_train_desde, mes_train_hasta, mes_test):\n",
    "  print (\"Separando train y test\")\n",
    "  train_data = data[(data['foto_mes'] >= mes_train_desde)&(data['foto_mes'] <= mes_train_hasta)]\n",
    "  test_data = data[data['foto_mes'] == mes_test]\n",
    "\n",
    "  print (\"Armando X_train\")\n",
    "  X_train = train_data.drop(['clase_ternaria','clase_peso', 'clase_binaria1','clase_binaria2'], axis=1)\n",
    "  y_train_binaria1 = train_data['clase_binaria1']\n",
    "  y_train_binaria2 = train_data['clase_binaria2']\n",
    "  w_train = train_data['clase_peso']\n",
    "\n",
    "  print (\"Armando X_test\")\n",
    "  X_test = test_data.drop(['clase_ternaria', 'clase_peso', 'clase_binaria1','clase_binaria2'], axis=1)\n",
    "  y_test_binaria1 = test_data['clase_binaria1']\n",
    "  y_test_binaria2 = test_data['clase_binaria2']\n",
    "  w_test = test_data['clase_peso']\n",
    "\n",
    "  print (\"listo\")\n",
    "  return X_train, y_train_binaria2, w_train, X_test, y_test_binaria2, w_test\n",
    "\n",
    "# Obtiene dataset para entrenar con los meses train desde-hasta y para test con el mes_eval\n",
    "(X_train, y_train, w_train, X_eval, y_eval, w_eval) = train_test(data, mes_train_desde, mes_train_hasta, mes_eval)\n",
    "contabilizar(X_train, 'datos de entrenamiento')\n",
    "contabilizar(X_eval, 'datos de evaluación')\n"
   ]
  },
  {
   "cell_type": "code",
   "execution_count": 36,
   "metadata": {
    "executionInfo": {
     "elapsed": 33,
     "status": "ok",
     "timestamp": 1731386888831,
     "user": {
      "displayName": "Jose Chelquer",
      "userId": "09375279337890014087"
     },
     "user_tz": 180
    },
    "id": "_FvDUXeatl66"
   },
   "outputs": [],
   "source": [
    "# La función de evaluacion para Optuna SIEMPRE debe tener estos dos parámetros:\n",
    "#  los datos predichos y los datos sobre los que se predijo, porque esto es lo que le manda\n",
    "#  optuna\n",
    "def lgb_gan_eval(y_pred, data):\n",
    "    weight = data.get_weight()\n",
    "    # Diferencia si eran BAJA+1 o BAJA+2\n",
    "    ganancia = np.where(weight == 1.00002, ganancia_acierto, 0) - np.where(weight < 1.00002, costo_estimulo, 0)\n",
    "    #Ordena ganancia según los índices ordenados de y_pred de mayor a menor\n",
    "    ganancia = ganancia[np.argsort(y_pred)[::-1]] #: desde todo : hasta todo :-1 step hacia atrás\n",
    "    # Ganancias acumuladas so far\n",
    "    ganancia = np.cumsum(ganancia)\n",
    "\n",
    "    return 'gan_eval', np.max(ganancia) , True\n",
    "\n",
    "\n",
    "# Para calcular ganancias fuera del proceso de optimización:\n",
    "def ganancias_obtenidas(y_pred, X, weight):\n",
    "    n_meses=cant_meses(X)\n",
    "    ganancia = np.where(weight == 1.00002, ganancia_acierto, 0) - np.where(weight < 1.00002, costo_estimulo, 0)\n",
    "    ganancia = ganancia[np.argsort(y_pred)[::-1]] #: desde todo : hasta todo :-1 step hacia atrás\n",
    "    # Ganancias acumuladas so far\n",
    "    print (ganancia)\n",
    "    \n",
    "    ganancia_acum = np.cumsum(ganancia)\n",
    "    print (ganancia_acum)\n",
    "    ganancia_maxima=max(ganancia_acum)\n",
    "    cant_envios = np.argmax(ganancia_acum) + 1  # Sumar 1 para tener la posición en términos de \"cantidad\"\n",
    "\n",
    "    return np.round(ganancia_acum/n_meses/1000), np.round(ganancia_maxima/n_meses/1000), cant_envios\n",
    "\n"
   ]
  },
  {
   "cell_type": "code",
   "execution_count": null,
   "metadata": {},
   "outputs": [],
   "source": []
  },
  {
   "cell_type": "markdown",
   "metadata": {
    "id": "HjgD6raVE6am"
   },
   "source": [
    "Y finalmente tomamos el mejor modelo y lo entrenamos con la totalidad de los datos"
   ]
  },
  {
   "cell_type": "markdown",
   "metadata": {},
   "source": [
    "## Recuperación de best params"
   ]
  },
  {
   "cell_type": "code",
   "execution_count": 37,
   "metadata": {},
   "outputs": [
    {
     "name": "stdout",
     "output_type": "stream",
     "text": [
      "Parámetros cargados: {'num_leaves': 82, 'learning_rate': 0.1159911002562608, 'min_data_in_leaf': 718, 'feature_fraction': 0.9847193514898688, 'bagging_fraction': 0.051449879427920196}\n"
     ]
    }
   ],
   "source": [
    "# Entreno con el mejor modelo\n",
    "# Ruta al archivo JSON con los mejores parámetros\n",
    "input_path = os.path.join(modelos_path, params_file)\n",
    "\n",
    "# Cargar los parámetros desde el archivo\n",
    "with open(input_path, \"r\") as file:\n",
    "    best_params = json.load(file)\n",
    "\n",
    "print(\"Parámetros cargados:\", best_params)\n",
    "\n",
    "combined_params = {**best_params, **params_fijos, \"verbosity\": lgb_verbosity}\n"
   ]
  },
  {
   "cell_type": "markdown",
   "metadata": {},
   "source": [
    "## Entrenamiento"
   ]
  },
  {
   "cell_type": "code",
   "execution_count": 38,
   "metadata": {
    "colab": {
     "base_uri": "https://localhost:8080/"
    },
    "executionInfo": {
     "elapsed": 5666,
     "status": "ok",
     "timestamp": 1731387975380,
     "user": {
      "displayName": "Jose Chelquer",
      "userId": "09375279337890014087"
     },
     "user_tz": 180
    },
    "id": "bwyUriQksZAM",
    "outputId": "27d017c7-828c-4c46-f2fc-27f9187824db"
   },
   "outputs": [
    {
     "name": "stdout",
     "output_type": "stream",
     "text": [
      "Entrenando el modelo con X_train\n",
      "Fin del entrenamiento\n"
     ]
    }
   ],
   "source": [
    "print (\"Entrenando el modelo con X_train\")\n",
    "\n",
    "\n",
    "train_data = lgb.Dataset(X_train,\n",
    "                          label=y_train,\n",
    "                          weight=w_train)\n",
    "\n",
    "model = lgb.train(combined_params,\n",
    "                  train_set=train_data,\n",
    "                  num_boost_round=num_boost_round\n",
    "                  )\n",
    "print (\"Fin del entrenamiento\")\n"
   ]
  },
  {
   "cell_type": "markdown",
   "metadata": {
    "id": "pwvqxqc_GB-C"
   },
   "source": [
    "Para guardar el modelo para poder utilizarlo más adelante, no es necesario guardarlo como *pickle*, la librería nos permite guardarlo en formato texto"
   ]
  },
  {
   "cell_type": "code",
   "execution_count": 39,
   "metadata": {},
   "outputs": [
    {
     "data": {
      "text/plain": [
       "500"
      ]
     },
     "execution_count": 39,
     "metadata": {},
     "output_type": "execute_result"
    }
   ],
   "source": [
    "num_boost_round"
   ]
  },
  {
   "cell_type": "code",
   "execution_count": 29,
   "metadata": {},
   "outputs": [],
   "source": [
    "\n",
    "#pd.DataFrame(X_train.columns).to_csv(os.path.join(dataset_path, \"X_train,csv\"))\n"
   ]
  },
  {
   "cell_type": "markdown",
   "metadata": {},
   "source": []
  },
  {
   "cell_type": "code",
   "execution_count": 40,
   "metadata": {
    "colab": {
     "base_uri": "https://localhost:8080/"
    },
    "executionInfo": {
     "elapsed": 11,
     "status": "ok",
     "timestamp": 1731387975381,
     "user": {
      "displayName": "Jose Chelquer",
      "userId": "09375279337890014087"
     },
     "user_tz": 180
    },
    "id": "0lWWxwHhs2gp",
    "outputId": "06668278-ee1c-4339-b95c-776ddfae0f77"
   },
   "outputs": [
    {
     "name": "stdout",
     "output_type": "stream",
     "text": [
      "Guardando modelo en /home/jose/buckets/b1/modelos/lgb_optimizado_competencia_sample.txt\n"
     ]
    },
    {
     "data": {
      "text/plain": [
       "<lightgbm.basic.Booster at 0x7dbad6b32030>"
      ]
     },
     "execution_count": 40,
     "metadata": {},
     "output_type": "execute_result"
    }
   ],
   "source": [
    "print (f'Guardando modelo en {os.path.join(modelos_path, modelos_file)}.txt')\n",
    "model.save_model(os.path.join(modelos_path, modelos_file)+'.txt')"
   ]
  },
  {
   "cell_type": "code",
   "execution_count": 41,
   "metadata": {
    "executionInfo": {
     "elapsed": 7,
     "status": "ok",
     "timestamp": 1731387975381,
     "user": {
      "displayName": "Jose Chelquer",
      "userId": "09375279337890014087"
     },
     "user_tz": 180
    },
    "id": "H12h5wP2s645"
   },
   "outputs": [],
   "source": [
    "model = lgb.Booster(model_file=os.path.join(modelos_path, modelos_file)+'.txt')"
   ]
  },
  {
   "cell_type": "markdown",
   "metadata": {
    "id": "Rz08XOVCL_4J"
   },
   "source": [
    "# Resultados de entrenamiento"
   ]
  },
  {
   "cell_type": "code",
   "execution_count": 42,
   "metadata": {
    "colab": {
     "base_uri": "https://localhost:8080/"
    },
    "executionInfo": {
     "elapsed": 6,
     "status": "ok",
     "timestamp": 1731387975381,
     "user": {
      "displayName": "Jose Chelquer",
      "userId": "09375279337890014087"
     },
     "user_tz": 180
    },
    "id": "RhA4q6SSeVp5",
    "outputId": "19faf5ae-f312-4ac9-f4a8-83722188c487"
   },
   "outputs": [
    {
     "name": "stdout",
     "output_type": "stream",
     "text": [
      "                             feature  importance\n",
      "175       ratio_mrentabilidad_annual        1048\n",
      "174              ratio_mrentabilidad         639\n",
      "8               mrentabilidad_annual         549\n",
      "696  ratio_mrentabilidad_annual_lag1         540\n",
      "176            ratio_mactivos_margen         499\n",
      "183             ratio_mcuentas_saldo         493\n",
      "182       ratio_mcaja_ahorro_dolares         482\n",
      "179          ratio_mcuenta_corriente         468\n",
      "177            ratio_mpasivos_margen         460\n",
      "5                       cliente_edad         348\n",
      "0                  numero_de_cliente         344\n",
      "180               ratio_mcaja_ahorro         327\n",
      "1                           foto_mes         323\n",
      "7                      mrentabilidad         304\n",
      "108              Master_Fvencimiento         283\n",
      "130                Visa_Fvencimiento         276\n",
      "694         ratio_mrentabilidad_lag1         265\n",
      "21                    mcuentas_saldo         253\n",
      "15                 mcuenta_corriente         252\n",
      "6                 cliente_antiguedad         252\n"
     ]
    }
   ],
   "source": [
    "def resultados_modelo(model, feature_names):\n",
    "  importances = model.feature_importance()\n",
    "  importance_df = pd.DataFrame({'feature': feature_names, 'importance': importances})\n",
    "  importance_df = importance_df.sort_values('importance', ascending=False)\n",
    "  importance_df[importance_df['importance'] > 0]\n",
    "\n",
    "  print(importance_df.head(20))\n",
    "\n",
    "  if grabar_importancias:\n",
    "      if importancias_file.endswith('.gz'):\n",
    "        importance_df.to_csv(os.path.join(dataset_path,  importancias_file), index=False, compression='gzip')\n",
    "      else:\n",
    "        importance_df.to_csv(os.path.join(dataset_path,  importancias_file), index=False)\n",
    "resultados_modelo(model, X_train.columns.tolist())"
   ]
  },
  {
   "cell_type": "code",
   "execution_count": 43,
   "metadata": {
    "colab": {
     "base_uri": "https://localhost:8080/"
    },
    "executionInfo": {
     "elapsed": 502,
     "status": "ok",
     "timestamp": 1731387975878,
     "user": {
      "displayName": "Jose Chelquer",
      "userId": "09375279337890014087"
     },
     "user_tz": 180
    },
    "id": "eL9Bshys6gx0",
    "outputId": "7584147e-2a3c-4749-f2c8-b53bd9d9bc44"
   },
   "outputs": [],
   "source": [
    "y_pred=model.predict(X_train)\n",
    "\n"
   ]
  },
  {
   "cell_type": "code",
   "execution_count": 44,
   "metadata": {},
   "outputs": [
    {
     "data": {
      "text/plain": [
       "array([9.99999695e-01, 9.99998876e-01, 9.99998459e-01, ...,\n",
       "       9.12581994e-11, 7.41943466e-11, 6.54834207e-11])"
      ]
     },
     "execution_count": 44,
     "metadata": {},
     "output_type": "execute_result"
    }
   ],
   "source": [
    "np.sort(y_pred)[::-1]"
   ]
  },
  {
   "cell_type": "code",
   "execution_count": 45,
   "metadata": {
    "scrolled": true
   },
   "outputs": [
    {
     "name": "stdout",
     "output_type": "stream",
     "text": [
      "[-7000 -7000 -7000 ... -7000 -7000 -7000]\n",
      "[    -7000    -14000    -21000 ... 735497000 735490000 735483000]\n",
      "Ganancia máxima en train: 260156.0\n",
      "\n",
      "Envíos para ganancia máxima: 9494\n",
      "\n",
      "Ganancias en train: [-1.00000e+00 -3.00000e+00 -4.00000e+00 ...  1.47099e+05  1.47098e+05\n",
      "  1.47097e+05]\n"
     ]
    }
   ],
   "source": [
    "ganancias_train, gmax_train, envios_train=ganancias_obtenidas(y_pred, X_train, w_train)\n",
    "print (f\"Ganancia máxima en train: {gmax_train}\\n\")\n",
    "print (f\"Envíos para ganancia máxima: {envios_train}\\n\")\n",
    "print (f\"Ganancias en train: {ganancias_train}\")\n",
    "#pd.DataFrame(ganancias_train).head(10)"
   ]
  },
  {
   "cell_type": "code",
   "execution_count": 46,
   "metadata": {
    "colab": {
     "base_uri": "https://localhost:8080/"
    },
    "executionInfo": {
     "elapsed": 25,
     "status": "ok",
     "timestamp": 1731387975881,
     "user": {
      "displayName": "Jose Chelquer",
      "userId": "09375279337890014087"
     },
     "user_tz": 180
    },
    "id": "cEqHD66f6x4c",
    "outputId": "9f3e76d0-dd13-4f1c-9b08-f6edd226ffa6"
   },
   "outputs": [
    {
     "name": "stdout",
     "output_type": "stream",
     "text": [
      "[ -7000 273000 273000 ...  -7000  -7000  -7000]\n",
      "[    -7000    266000    539000 ... 172837000 172830000 172823000]\n",
      "Ganancia máxima en eval: 253281.0\n",
      "\n",
      "Envíos para ganancia máxima: 4417\n",
      "\n",
      "Ganancias en eval: [-7.00000e+00  2.66000e+02  5.39000e+02 ...  1.72837e+05  1.72830e+05\n",
      "  1.72823e+05]\n"
     ]
    }
   ],
   "source": [
    "y_pred_eval=model.predict(X_eval)\n",
    "\n",
    "ganancias_eval, gmax_eval, envios_eval=ganancias_obtenidas(y_pred_eval, X_eval, w_eval)\n",
    "print (f\"Ganancia máxima en eval: {gmax_eval}\\n\")\n",
    "print (f\"Envíos para ganancia máxima: {envios_eval}\\n\")\n",
    "print (f\"Ganancias en eval: {ganancias_eval}\")"
   ]
  },
  {
   "cell_type": "code",
   "execution_count": 47,
   "metadata": {},
   "outputs": [
    {
     "name": "stdout",
     "output_type": "stream",
     "text": [
      "[0.00012602 0.00064215 0.00073268 ... 0.00028536 0.00069509 0.00166155]\n"
     ]
    }
   ],
   "source": [
    "print (y_pred_eval)"
   ]
  },
  {
   "cell_type": "code",
   "execution_count": 48,
   "metadata": {
    "executionInfo": {
     "elapsed": 20,
     "status": "ok",
     "timestamp": 1731387975882,
     "user": {
      "displayName": "Jose Chelquer",
      "userId": "09375279337890014087"
     },
     "user_tz": 180
    },
    "id": "95xqmF77UE0J"
   },
   "outputs": [],
   "source": [
    "def entrenar_con_semillero(X_train, y_train, w_train, best_params, semillas, X_test):\n",
    "    train_data = lgb.Dataset(X_train,\n",
    "                              label=y_train,\n",
    "                              weight=w_train)\n",
    "\n",
    "    # Lista para almacenar los resultados\n",
    "    probabilidades_totales = []\n",
    "    combined_params = {**best_params, **params_fijos}\n",
    "    # Entrenar con distintas semillas y almacenar los resultados\n",
    "    cant_semillas=len(semillas)\n",
    "    num_semilla=0\n",
    "    for semilla in semillas:\n",
    "        num_semilla=num_semilla+1\n",
    "        print(f\"{num_semilla}/{cant_semillas} Entrenando modelo con semilla {semilla}\")\n",
    "\n",
    "        # Añadir la semilla al diccionario de parámetros\n",
    "        combined_params['seed'] = semilla\n",
    "        combined_params['verbosity']=lgb_verbosity\n",
    "\n",
    "        # Entrenar el modelo con los parámetros optimizados y la semilla actual\n",
    "        model = lgb.train(\n",
    "            combined_params,\n",
    "            train_set=train_data,\n",
    "            num_boost_round=num_boost_round,  # Puedes ajustar esto según lo que necesites\n",
    "          )\n",
    "\n",
    "        # Obtener las probabilidades de predicción\n",
    "        predicciones = model.predict(X_test)\n",
    "\n",
    "        # Almacenar las probabilidades predichas\n",
    "        probabilidades_totales.append(predicciones)\n",
    "    return probabilidades_totales\n"
   ]
  },
  {
   "cell_type": "markdown",
   "metadata": {
    "id": "gKU-DPsaMF8X"
   },
   "source": [
    "# Evaluación en EVAL"
   ]
  },
  {
   "cell_type": "code",
   "execution_count": 49,
   "metadata": {
    "executionInfo": {
     "elapsed": 19,
     "status": "ok",
     "timestamp": 1731387975883,
     "user": {
      "displayName": "Jose Chelquer",
      "userId": "09375279337890014087"
     },
     "user_tz": 180
    },
    "id": "vzlFV_xFXG4m"
   },
   "outputs": [],
   "source": [
    "def ganancias_semillas (probabilidades_totales, X, y, w):\n",
    "  # Calcula las ganancias obtenidas con cada semilla\n",
    "  resultados_semillas = []\n",
    "  for y_pred in probabilidades_totales:\n",
    "    ganancias, gmax, envios=ganancias_obtenidas(y_pred, X, w)\n",
    "    resultados_semillas.append([ganancias, gmax, envios])\n",
    "    df_resultados = pd.DataFrame(resultados_semillas)\n",
    "    df_resultados.columns = ['Ganancias', \"Gmax\", \"Envios\"]\n",
    "  return df_resultados\n",
    "\n"
   ]
  },
  {
   "cell_type": "code",
   "execution_count": 50,
   "metadata": {
    "colab": {
     "base_uri": "https://localhost:8080/"
    },
    "executionInfo": {
     "elapsed": 184567,
     "status": "ok",
     "timestamp": 1731388160432,
     "user": {
      "displayName": "Jose Chelquer",
      "userId": "09375279337890014087"
     },
     "user_tz": 180
    },
    "id": "wWCdeoV1-l66",
    "outputId": "6ee0236c-147f-4960-cd15-6fa7264e7e35",
    "scrolled": true
   },
   "outputs": [
    {
     "name": "stdout",
     "output_type": "stream",
     "text": [
      "1/1 Entrenando modelo con semilla 103\n",
      "[273000 273000  -7000 ...  -7000  -7000  -7000]\n",
      "[   273000    546000    539000 ... 172837000 172830000 172823000]\n",
      "Ganancias por semillas: \n",
      "       Gmax  Envios\n",
      "0  252679.0    5063\n"
     ]
    }
   ],
   "source": [
    "# Entrenar en train y medir ganancias en Eval\n",
    "if vm:\n",
    "    semis=[semillas[1]]\n",
    "else:\n",
    "    semis=semillas\n",
    "probabilidades_totales=entrenar_con_semillero(X_train, y_train, w_train, best_params, semis, X_eval)\n",
    "resultados_semillas=ganancias_semillas(probabilidades_totales, X_eval, y_eval, w_eval)\n",
    "print (f\"Ganancias por semillas: \\n{resultados_semillas[['Gmax', 'Envios']]}\")\n",
    "envmin, envmax=resultados_semillas['Envios'].min(), resultados_semillas['Envios'].max()\n",
    "delta=envmax-envmin\n",
    "#\n"
   ]
  },
  {
   "cell_type": "code",
   "execution_count": 52,
   "metadata": {
    "executionInfo": {
     "elapsed": 12,
     "status": "ok",
     "timestamp": 1731388160433,
     "user": {
      "displayName": "Jose Chelquer",
      "userId": "09375279337890014087"
     },
     "user_tz": 180
    },
    "id": "ar7auDgXWBri"
   },
   "outputs": [],
   "source": [
    "def graficar_ganancias_envios(resultados_semillas, descripcion, enviar_desde, enviar_hasta):\n",
    "\n",
    "  # Crear un gráfico para cada semilla y el promedio de todas las semillas\n",
    "  plt.figure(figsize=(8, 5))\n",
    "\n",
    "  # Graficar cada semilla individualmente\n",
    "  for idx, row in resultados_semillas.iterrows():\n",
    "      ganancias_lista = row['Ganancias']  # Lista de ganancias por semilla\n",
    "      plt.plot(np.arange(len(ganancias_lista)), ganancias_lista, linestyle='-', alpha=0.5, label=f'Semilla {idx+1}' if idx < 5 else \"\")  # Muestra solo las primeras 5 para no saturar el gráfico\n",
    "\n",
    "  # Calcular el promedio de las ganancias a lo largo de las semillas\n",
    "  # Asegurarse de que todas las listas de ganancias tengan la misma longitud\n",
    "  max_len = max(resultados_semillas['Ganancias'].apply(len))  # Longitud de la lista más larga\n",
    "  ganancias_promedio = np.mean([np.pad(row['Ganancias'], (0, max_len - len(row['Ganancias'])), mode='constant') for idx, row in resultados_semillas.iterrows()], axis=0)\n",
    "\n",
    "  # Graficar el promedio de las ganancias\n",
    "  plt.plot(np.arange(max_len), ganancias_promedio, linestyle='--', color='red', label='Promedio de todas las semillas')\n",
    "\n",
    "  # Agregar las líneas verticales punteadas en enviar_min y enviar_max\n",
    "  plt.axvline(x=enviar_desde, color='blue', linestyle=':', label=f'Enviar desde ({enviar_desde})')\n",
    "  plt.axvline(x=enviar_hasta, color='green', linestyle=':', label=f'Enviar hasta ({enviar_hasta})')\n",
    "\n",
    "  # Personalizar el gráfico\n",
    "  plt.xlabel(\"Posición en la lista de Ganancias\")\n",
    "  plt.ylabel(\"Ganancias\")\n",
    "  plt.title(f\"Ganancias en función de la posición para cada semilla y el promedio -{descripcion}-\")\n",
    "  plt.legend()\n",
    "  plt.grid(True)\n",
    "\n",
    "  # Mostrar el gráfico\n",
    "  plt.show()\n",
    "def histograma_ganancias(resultados_semillas, descripcion):\n",
    "    # Crear un histograma de Gmax\n",
    "  plt.figure(figsize=(8, 5))\n",
    "  plt.hist(resultados_semillas['Gmax'], bins=10, color='skyblue', edgecolor='black')  # Puedes ajustar 'bins' según tus preferencias\n",
    "  plt.title(f\"Histograma de Ganancias Máximas -{descripcion}-\")\n",
    "  plt.xlabel(\"Gmax\")\n",
    "  plt.ylabel(\"Frecuencia\")\n",
    "  plt.grid(True)\n",
    "\n",
    "\n",
    "  # Mostrar el gráfico\n",
    "  plt.show()"
   ]
  },
  {
   "cell_type": "code",
   "execution_count": 53,
   "metadata": {
    "colab": {
     "base_uri": "https://localhost:8080/"
    },
    "executionInfo": {
     "elapsed": 11,
     "status": "ok",
     "timestamp": 1731388160433,
     "user": {
      "displayName": "Jose Chelquer",
      "userId": "09375279337890014087"
     },
     "user_tz": 180
    },
    "id": "bGFjTXW5IJgi",
    "outputId": "b4731257-4194-4163-d589-f080a3046f6b"
   },
   "outputs": [
    {
     "name": "stdout",
     "output_type": "stream",
     "text": [
      "Probabilidades promediadas: [0.00022699 0.00226728 0.00139624 ... 0.00041028 0.00271603 0.00111062]\n",
      "Ordenadas: [9.99986481e-01 9.99984589e-01 9.99981628e-01 ... 8.22434141e-09\n",
      " 3.85847050e-09 2.69017955e-09]\n"
     ]
    }
   ],
   "source": [
    "# Promediar las probabilidades predichas por todos los modelos\n",
    "probabilidades_promediadas = np.mean(probabilidades_totales, axis=0)\n",
    "\n",
    "# Imprimir las probabilidades promediadas\n",
    "print(f\"Probabilidades promediadas: {probabilidades_promediadas}\")\n",
    "print(f\"Ordenadas: {np.sort(probabilidades_promediadas)[::-1]}\")"
   ]
  },
  {
   "cell_type": "code",
   "execution_count": 54,
   "metadata": {},
   "outputs": [],
   "source": [
    "pd.DataFrame(X_eval.columns).to_csv(os.path.join(dataset_path, \"X_eval cols\")  )                  "
   ]
  },
  {
   "cell_type": "code",
   "execution_count": 55,
   "metadata": {
    "colab": {
     "base_uri": "https://localhost:8080/",
     "height": 959
    },
    "executionInfo": {
     "elapsed": 1857,
     "status": "ok",
     "timestamp": 1731388162282,
     "user": {
      "displayName": "Jose Chelquer",
      "userId": "09375279337890014087"
     },
     "user_tz": 180
    },
    "id": "ZXKHA7TIJYZ5",
    "outputId": "b1d70a50-8370-49fd-bc79-558d4524f328",
    "scrolled": true
   },
   "outputs": [
    {
     "data": {
      "image/png": "[encoded data removed]",
      "text/plain": [
       "<Figure size 800x500 with 1 Axes>"
      ]
     },
     "metadata": {},
     "output_type": "display_data"
    },
    {
     "data": {
      "image/png": "[encoded data removed]",
      "text/plain": [
       "<Figure size 800x500 with 1 Axes>"
      ]
     },
     "metadata": {},
     "output_type": "display_data"
    }
   ],
   "source": [
    "graficar_ganancias_envios(resultados_semillas, \"Eval\", enviar_desde, enviar_hasta)\n",
    "histograma_ganancias(resultados_semillas, \"Eval\")"
   ]
  },
  {
   "cell_type": "markdown",
   "metadata": {
    "id": "B_aIb6aWOH4y"
   },
   "source": [
    "## Para Kaggle\n",
    "\n"
   ]
  },
  {
   "cell_type": "code",
   "execution_count": 56,
   "metadata": {
    "executionInfo": {
     "elapsed": 4,
     "status": "ok",
     "timestamp": 1731388162282,
     "user": {
      "displayName": "Jose Chelquer",
      "userId": "09375279337890014087"
     },
     "user_tz": 180
    },
    "id": "lxqdXsi0CJB-"
   },
   "outputs": [],
   "source": [
    "def enviar_kaggle(probabilidades_promediadas, X_test):\n",
    "  # Cargo el kaggle.json para poder conectarme\n",
    "  # Mueve kaggle.json al directorio correcto\n",
    " if not vm:\n",
    "      os.makedirs('/root/.kaggle', exist_ok=True)\n",
    "      shutil.copy(f'{kaggle_json_path}/kaggle.json', '/root/.kaggle/kaggle.json')\n",
    "      os.chmod('/root/.kaggle/kaggle.json', 600)\n",
    "  # Obtengo el orden de prioridad para el envío\n",
    "    \n",
    " idx_deseables=np.argsort(probabilidades_promediadas)[::-1]\n",
    "    # ------------------------------------------------------------------\n",
    "  # Los topes de envíos se determinaron al hacer la curva en eval\n",
    " enviar_desde=12000\n",
    " enviar_hasta=12000\n",
    " cant_envios=1\n",
    " for envios in np.linspace(enviar_desde, enviar_hasta, cant_envios, dtype=int):\n",
    "      print (f\"Enviando: {envios}\")\n",
    "      # Notar que idx_deseables tiene índices de y_pred (de 0 al máximo de línes de y_pred)\n",
    "\n",
    "      # los primeros envíos irán con predicción 1 y el resto 0\n",
    "      # idx_deseables contiene los índices de y_pred (no los originales!!) cuyas predicciones tienen los mejores valores, en orden desdendente\n",
    "      # guardo en elegidos los índices de los datos correspondientes a los primeros :envios en idx\n",
    "      elegidos=X_test.index[idx_deseables[:envios]]\n",
    "\n",
    "      # Creo clientes_kaggle sólo con el número de cliente de  X_test\n",
    "      clientes_kaggle=X_test.loc[:, ['numero_de_cliente']].copy()\n",
    "      clientes_kaggle['Predicted']=0    #default\n",
    "      clientes_kaggle.loc[elegidos, 'Predicted'] = 1   # marco los \"enviados\"\n",
    "\n",
    "      if clientes_kaggle.shape != ( 165442, 2):\n",
    "        raise ValueError(f\"El DataFrame 'clientes_enviados' no tiene la forma esperada. Forma actual: {clientes_kaggle.shape}\")\n",
    "      else:\n",
    "        print(\"La forma de 'clientes_enviados' es correcta.\")\n",
    "\n",
    "      # elijo el nombre para el archivo enviar, para llevar control\n",
    "      # un mensaje para registrar\n",
    "      # y me grabo el archivo que mando para tener control local\n",
    "\n",
    "      # Voy a mandar con un mensaje que incluya los parámetros usados y la cantidad de envíos\n",
    "      mensaje=f\"lgbm aumentada semillero {best_params} {envios}\"\n",
    "      # # Me gusta guardar los envíos que hago\n",
    "      archivo=f'{prefijo_envio}-exp{experimento}-{envios}-{str(version).zfill(3)}.csv'\n",
    "      import os \n",
    "      path_archivo=os.path.join(dataset_path,archivo)\n",
    "      clientes_kaggle.to_csv(path_archivo, index=False)\n",
    "\n",
    "      # Envío a la competencia\n",
    "      competencia=\"dm-ey-f-2024-segunda\"\n",
    "      !kaggle competitions submit -c {competencia} -f '{path_archivo}' -m '{mensaje}'\n",
    "\n",
    " params_str = str(best_params)\n",
    "\n",
    " # Eliminar llaves {}, apóstrofes ' y dos puntos :\n",
    " params_str = params_str.replace('{', '').replace('}', '').replace(\"'\", '').replace(':', '').replace(\",\",'')\n",
    " print (params_str)\n",
    "\n",
    " print (clientes_kaggle)\n",
    "\n"
   ]
  },
  {
   "cell_type": "code",
   "execution_count": 57,
   "metadata": {},
   "outputs": [
    {
     "name": "stdout",
     "output_type": "stream",
     "text": [
      "Usando entrenamiento con los meses 202101 a 202105\n",
      "Separando train y test\n",
      "Armando X_train\n",
      "Armando X_test\n",
      "listo\n",
      "\n",
      "Contabilización de la base datos de entrenamiento\n",
      "\n",
      "\n",
      "Shape: (90251, 1366)\n",
      "\n",
      "Variables: 1366\n",
      "Variables tree: 320\n",
      "\n",
      "Filas por mes: \n",
      "foto_mes\n",
      "202104    18363\n",
      "202105    18352\n",
      "202103    18169\n",
      "202102    17886\n",
      "202101    17481\n",
      "Name: count, dtype: int64\n",
      "\n",
      "\n",
      "Contabilización de la base datos de evaluación\n",
      "\n",
      "\n",
      "Shape: (165442, 1366)\n",
      "\n",
      "Variables: 1366\n",
      "Variables tree: 320\n",
      "\n",
      "Filas por mes: \n",
      "foto_mes\n",
      "202108    165442\n",
      "Name: count, dtype: int64\n",
      "\n",
      "1/1 Entrenando modelo con semilla 101\n"
     ]
    }
   ],
   "source": [
    "reentrenar_con_mes_eval=False\n",
    "if reentrenar_con_mes_eval:\n",
    "    mes_hasta_para_entrenar=mes_eval\n",
    "else:\n",
    "    mes_hasta_para_entrenar=mes_train_hasta\n",
    "if mes_test > 0:\n",
    "    print (f\"Usando entrenamiento con los meses {mes_train_desde} a {mes_hasta_para_entrenar}\")\n",
    "    # notar que se entrena hasta el mes eval!!!\n",
    "    (X_train, y_train, w_train, X_test, y_test, w_test) = train_test(data, mes_train_desde, mes_hasta_para_entrenar, mes_test)\n",
    "    contabilizar(X_train, 'datos de entrenamiento')\n",
    "    contabilizar(X_test, 'datos de evaluación')\n",
    "\n",
    "\n",
    "   # Entrenar en train y predecir en test\n",
    "    if vm:\n",
    "        semis=[semillas[0]]\n",
    "    else:\n",
    "        semis=semillas\n",
    "    probabilidades_totales=entrenar_con_semillero(X_train, y_train, w_train, best_params, semis, X_test)\n",
    "          # Promediar las probabilidades predichas por todos los modelos\n",
    "    probabilidades_promediadas = np.mean(probabilidades_totales, axis=0)\n",
    "    "
   ]
  },
  {
   "cell_type": "code",
   "execution_count": 59,
   "metadata": {},
   "outputs": [],
   "source": [
    "y_pred_eval=model.predict(X_eval)"
   ]
  },
  {
   "cell_type": "code",
   "execution_count": 60,
   "metadata": {},
   "outputs": [
    {
     "data": {
      "text/plain": [
       "array([9.99990899e-01, 9.99986443e-01, 9.99983491e-01, ...,\n",
       "       7.53964269e-09, 7.34771647e-09, 7.10448216e-09])"
      ]
     },
     "execution_count": 60,
     "metadata": {},
     "output_type": "execute_result"
    }
   ],
   "source": [
    "\n",
    "np.sort(y_pred_eval)[::-1]"
   ]
  },
  {
   "cell_type": "code",
   "execution_count": 61,
   "metadata": {},
   "outputs": [
    {
     "data": {
      "image/png": "[encoded data removed]",
      "text/plain": [
       "<Figure size 640x480 with 1 Axes>"
      ]
     },
     "metadata": {},
     "output_type": "display_data"
    }
   ],
   "source": [
    "# Suponiendo que y_pred_eval es un array o lista\n",
    "plt.hist(y_pred_eval, bins=30, color='blue', edgecolor='black', alpha=0.7)\n",
    "plt.title('Histograma de y_pred_eval')\n",
    "plt.xlabel('Valores de y_pred_eval')\n",
    "plt.ylabel('Frecuencia')\n",
    "plt.show()"
   ]
  },
  {
   "cell_type": "code",
   "execution_count": 62,
   "metadata": {},
   "outputs": [],
   "source": [
    "y_pred_test=model.predict(X_test)"
   ]
  },
  {
   "cell_type": "code",
   "execution_count": 63,
   "metadata": {},
   "outputs": [
    {
     "data": {
      "text/plain": [
       "array([9.99998376e-01, 9.99991594e-01, 9.99990174e-01, ...,\n",
       "       5.51359952e-08, 4.74410322e-08, 4.08598102e-08])"
      ]
     },
     "execution_count": 63,
     "metadata": {},
     "output_type": "execute_result"
    }
   ],
   "source": [
    "np.sort(y_pred_test)[::-1]\n",
    "#y_pred_test"
   ]
  },
  {
   "cell_type": "code",
   "execution_count": 64,
   "metadata": {},
   "outputs": [
    {
     "data": {
      "image/png": "[encoded data removed]",
      "text/plain": [
       "<Figure size 640x480 with 1 Axes>"
      ]
     },
     "metadata": {},
     "output_type": "display_data"
    }
   ],
   "source": [
    "# Suponiendo que y_pred_eval es un array o lista\n",
    "plt.hist(y_pred_test, bins=30, color='blue', edgecolor='black', alpha=0.7)\n",
    "plt.title('Histograma de y_pred_test')\n",
    "plt.xlabel('Valores de y_pred_test')\n",
    "plt.ylabel('Frecuencia')\n",
    "plt.show()"
   ]
  },
  {
   "cell_type": "code",
   "execution_count": 69,
   "metadata": {},
   "outputs": [
    {
     "data": {
      "text/plain": [
       "array([154197,  81622,  45654, ...,  33766,  19339,  74969])"
      ]
     },
     "execution_count": 69,
     "metadata": {},
     "output_type": "execute_result"
    }
   ],
   "source": [
    "  # Obtengo el orden de prioridad para el envío\n",
    "    \n",
    "idx_deseables=np.argsort(y_pred_test)[::-1]\n",
    "idx_deseables"
   ]
  },
  {
   "cell_type": "code",
   "execution_count": 70,
   "metadata": {},
   "outputs": [
    {
     "data": {
      "text/plain": [
       "array([9.99998376e-01, 9.99991594e-01, 9.99990174e-01, ...,\n",
       "       5.51359952e-08, 4.74410322e-08, 4.08598102e-08])"
      ]
     },
     "execution_count": 70,
     "metadata": {},
     "output_type": "execute_result"
    }
   ],
   "source": [
    "y_pred_test[idx_deseables]"
   ]
  },
  {
   "cell_type": "code",
   "execution_count": 71,
   "metadata": {
    "scrolled": true
   },
   "outputs": [
    {
     "name": "stdout",
     "output_type": "stream",
     "text": [
      "Enviando: 12000\n",
      "La forma de 'clientes_enviados' es correcta.\n"
     ]
    }
   ],
   "source": [
    "envios=12000\n",
    "print (f\"Enviando: {envios}\")\n",
    "# Notar que idx_deseables tiene índices de y_pred (de 0 al máximo de línes de y_pred)\n",
    "\n",
    "# los primeros envíos irán con predicción 1 y el resto 0\n",
    "# idx_deseables contiene los índices de y_pred (no los originales!!) cuyas predicciones tienen los mejores valores, en orden desdendente\n",
    "idx_deseables=np.argsort(y_pred_test)[::-1]\n",
    "# guardo en elegidos los índices de los datos correspondientes a los primeros :envios en idx\n",
    "elegidos=X_test.index[idx_deseables[:envios]]\n",
    "\n",
    "# Creo clientes_kaggle sólo con el número de cliente de  X_test\n",
    "clientes_kaggle=X_test.loc[:, ['numero_de_cliente']].copy()\n",
    "clientes_kaggle['Predicted']=0    #default\n",
    "clientes_kaggle.loc[elegidos, 'Predicted'] = 1   # marco los \"enviados\"\n",
    "\n",
    "if clientes_kaggle.shape != ( 165442, 2):\n",
    "    raise ValueError(f\"El DataFrame 'clientes_enviados' no tiene la forma esperada. Forma actual: {clientes_kaggle.shape}\")\n",
    "else:\n",
    "    print(\"La forma de 'clientes_enviados' es correcta.\")\n",
    "\n",
    "# elijo el nombre para el archivo enviar, para llevar control\n",
    "# un mensaje para registrar\n",
    "# y me grabo el archivo que mando para tener control local\n",
    "\n",
    "# Voy a mandar con un mensaje que incluya los parámetros usados y la cantidad de envíos\n",
    "mensaje=f\"lgbm aumentada semillero {best_params} {envios}\"\n",
    "# # Me gusta guardar los envíos que hago\n",
    "archivo=f'{prefijo_envio}-{envios}-{str(version).zfill(3)}.csv'\n",
    "import os\n",
    "path_archivo=os.path.join(dataset_path,archivo)\n",
    "clientes_kaggle.to_csv(path_archivo, index=False)\n",
    "\n",
    "# Envío a la competencia\n",
    "competencia=\"dm-ey-f-2024-segunda\"\n",
    "!kaggle competitions submit -c {competencia} -f '{path_archivo}' -m '{mensaje}'\n",
    "\n",
    "\n"
   ]
  },
  {
   "cell_type": "code",
   "execution_count": 72,
   "metadata": {},
   "outputs": [],
   "source": [
    "#pd.DataFrame(X_test).to_csv(os.path.join(dataset_path, \"X_test.csv\"))"
   ]
  },
  {
   "cell_type": "code",
   "execution_count": 73,
   "metadata": {},
   "outputs": [
    {
     "data": {
      "text/plain": [
       "41198      249221468\n",
       "113276     249228180\n",
       "45703      249236857\n",
       "113285     249283313\n",
       "320451     249286746\n",
       "             ...    \n",
       "71218     1602580999\n",
       "352156    1602786354\n",
       "270631    1603402811\n",
       "5512      1603451599\n",
       "94641     1603775178\n",
       "Name: numero_de_cliente, Length: 12000, dtype: int64"
      ]
     },
     "execution_count": 73,
     "metadata": {},
     "output_type": "execute_result"
    }
   ],
   "source": [
    "clientes_kaggle.loc[clientes_kaggle['Predicted']==1, 'numero_de_cliente']"
   ]
  },
  {
   "cell_type": "code",
   "execution_count": 74,
   "metadata": {},
   "outputs": [],
   "source": [
    "#pd.DataFrame(X_test).to_csv(os.path.join(dataset_path, \"X_test.csv\"))"
   ]
  },
  {
   "cell_type": "code",
   "execution_count": 75,
   "metadata": {},
   "outputs": [
    {
     "data": {
      "text/plain": [
       "array([154197,  81622,  45654, ...,  33766,  19339,  74969])"
      ]
     },
     "execution_count": 75,
     "metadata": {},
     "output_type": "execute_result"
    }
   ],
   "source": [
    "idx_deseables"
   ]
  },
  {
   "cell_type": "code",
   "execution_count": 76,
   "metadata": {},
   "outputs": [
    {
     "data": {
      "text/plain": [
       "Index([ 14118, 207922, 345955, 252871, 107817,   4029, 256583,  56741, 217035,\n",
       "        93280,\n",
       "       ...\n",
       "       158042,  70050, 293683,  20378, 291176,  48223,  60928, 113994, 181713,\n",
       "       110741],\n",
       "      dtype='int64', length=12000)"
      ]
     },
     "execution_count": 76,
     "metadata": {},
     "output_type": "execute_result"
    }
   ],
   "source": [
    "elegidos"
   ]
  },
  {
   "cell_type": "code",
   "execution_count": 77,
   "metadata": {},
   "outputs": [
    {
     "data": {
      "text/plain": [
       "numero_de_cliente    304052053\n",
       "foto_mes                202108\n",
       "active_quarter               1\n",
       "cliente_vip                  0\n",
       "internet                     0\n",
       "                       ...    \n",
       "tree_19_leaf_11            0.0\n",
       "tree_19_leaf_12            0.0\n",
       "tree_19_leaf_13            1.0\n",
       "tree_19_leaf_14            0.0\n",
       "tree_19_leaf_15            0.0\n",
       "Name: 278385, Length: 1370, dtype: object"
      ]
     },
     "execution_count": 77,
     "metadata": {},
     "output_type": "execute_result"
    }
   ],
   "source": [
    "data.iloc[221620]"
   ]
  },
  {
   "cell_type": "code",
   "execution_count": null,
   "metadata": {},
   "outputs": [],
   "source": []
  },
  {
   "cell_type": "code",
   "execution_count": 100,
   "metadata": {
    "colab": {
     "base_uri": "https://localhost:8080/"
    },
    "executionInfo": {
     "elapsed": 328160,
     "status": "ok",
     "timestamp": 1731388490438,
     "user": {
      "displayName": "Jose Chelquer",
      "userId": "09375279337890014087"
     },
     "user_tz": 180
    },
    "id": "1SxfAPnABA5d",
    "outputId": "564c9c50-b711-42ae-b249-09abbf5e98ef"
   },
   "outputs": [
    {
     "ename": "SyntaxError",
     "evalue": "invalid syntax (462429069.py, line 23)",
     "output_type": "error",
     "traceback": [
      "\u001b[0;36m  Cell \u001b[0;32mIn[100], line 23\u001b[0;36m\u001b[0m\n\u001b[0;31m    else:\u001b[0m\n\u001b[0m    ^\u001b[0m\n\u001b[0;31mSyntaxError\u001b[0m\u001b[0;31m:\u001b[0m invalid syntax\n"
     ]
    }
   ],
   "source": [
    "reentrenar_con_mes_eval=False\n",
    "if reentrenar_con_mes_eval:\n",
    "    mes_hasta_para_entrenar=mes_eval\n",
    "else:\n",
    "    mes_hasta_para_entrenar=mes_train_hasta\n",
    "if mes_test > 0:\n",
    "    print (f\"Usando entrenamiento con los meses {mes_train_desde} a {mes_hasta_para_entrenar}\")\n",
    "    # notar que se entrena hasta el mes eval!!!\n",
    "    (X_train, y_train, w_train, X_test, y_test, w_test) = train_test(data, mes_train_desde, mes_hasta_para_entrenar, mes_test)\n",
    "    contabilizar(X_train, 'datos de entrenamiento')\n",
    "    contabilizar(X_test, 'datos de evaluación')\n",
    "\n",
    "\n",
    "   # Entrenar en train y predecir en test\n",
    "    if vm:\n",
    "        semis=[semillas[0]]\n",
    "    else:\n",
    "        semis=semillas\n",
    "     \n",
    "    probabilidades_totales=entrenar_con_semillero(X_train, y_train, w_train, best_params, semis, X_test)\n",
    "          # Promediar las probabilidades predichas por todos los modelos\n",
    "    probabilidades_promediadas = np.mean(probabilidades_totales, axis=0)\n",
    "\n",
    "    enviar_kaggle(probabilidades_promediadas, X_test)\n"
   ]
  },
  {
   "cell_type": "code",
   "execution_count": null,
   "metadata": {},
   "outputs": [],
   "source": []
  }
 ],
 "metadata": {
  "colab": {
   "gpuType": "T4",
   "provenance": [
    {
     "file_id": "15Qja3yaIcGncom0zNctd584LW_maukON",
     "timestamp": 1730041694717
    },
    {
     "file_id": "1FPTZRsOUhcKFfbgSYW76KzbknDeILOWx",
     "timestamp": 1726524912160
    }
   ],
   "toc_visible": true
  },
  "kernelspec": {
   "display_name": "Python 3 (ipykernel)",
   "language": "python",
   "name": "python3"
  },
  "language_info": {
   "codemirror_mode": {
    "name": "ipython",
    "version": 3
   },
   "file_extension": ".py",
   "mimetype": "text/x-python",
   "name": "python",
   "nbconvert_exporter": "python",
   "pygments_lexer": "ipython3",
   "version": "3.12.3"
  }
 },
 "nbformat": 4,
 "nbformat_minor": 4
}
