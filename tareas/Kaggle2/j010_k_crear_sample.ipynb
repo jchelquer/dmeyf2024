{
 "cells": [
  {
   "cell_type": "markdown",
   "metadata": {
    "id": "d_xvJXPhCkMA"
   },
   "source": [
    "# Título   Crear clase sample\n",
    "\n",
    "## Autor: Jose Chelquer\n",
    "## Fecha de última modificación: 20/11/2024\n",
    "## Descripción:\n",
    "\n",
    "Crear un sample del dataset con proporciones parametrizadas y meses seleccionados"
   ]
  },
  {
   "cell_type": "markdown",
   "metadata": {
    "id": "qRTSvXdLHkpB"
   },
   "source": [
    "## Parámetros\n",
    "\n",
    "< Descripción de cada uno de los parámetros que utiliza el job >\n"
   ]
  },
  {
   "cell_type": "code",
   "execution_count": 6,
   "metadata": {
    "id": "yMU00Fl7IIfm"
   },
   "outputs": [
    {
     "name": "stdout",
     "output_type": "stream",
     "text": [
      "Experimento _____\n",
      "completo\n",
      "sin preprocesamiento\n",
      "base\n",
      "sin RF\n"
     ]
    }
   ],
   "source": [
    "vm=True              # Se está trabajando en la vm o local?\n",
    "experimento=\"_____\"  # partiendo de la base\n",
    "tipo_registros=experimento[0]            # '_'completo s sampleado\n",
    "con_preprocesamiento = experimento[1]    # p con preprocesamiento  '_' sin preprocesamiento\n",
    "tipo_featuring=experimento[2]            # _: 155 base  s: simple    c: completo\n",
    "rf=experimento[3]                        # _: sin RF   r: con RF\n",
    "\n",
    "dict_tipo_registros={'_': 'completo', 's': 'sampleado'}\n",
    "dict_con_preprocesamiento={'_': 'sin preprocesamiento', 'p':'con preprocesamiento'}\n",
    "dict_tipo_featuring={'_': 'base', 's':' simple', 'c': 'completo'}\n",
    "dict_rf={'_': 'sin RF', 'f':' con RF'}\n",
    "\n",
    "print (f'Experimento {experimento}')\n",
    "print (dict_tipo_registros[tipo_registros])\n",
    "print (dict_con_preprocesamiento[con_preprocesamiento])\n",
    "print (dict_tipo_featuring[tipo_featuring])\n",
    "print (dict_rf[rf])\n",
    "\n"
   ]
  },
  {
   "cell_type": "code",
   "execution_count": null,
   "metadata": {},
   "outputs": [],
   "source": [
    "\n",
    "usar_gdrive=not(vm)  # en vm no se usa google drive\n",
    "\n",
    "feature_a_usar = 'clase_ternaria'     #feature a la que hacen referencia los valores de % a seleccionar\n",
    "#sample_pct={'BAJA+1':1, 'BAJA+2':1, 'CONTINUA':.05}   # % de cada clase a obtener en el sample\n",
    "sample_pct={'BAJA+1':1, 'BAJA+2':1, 'CONTINUA':0.1}   # % de cada clase a obtener en el sample\n",
    "#meses_a_seleccionar = [202101, 202102, 202103, 202104, 202105, 202106]       # Versión para seleccionar meses específicos\n",
    "meses_a_seleccionar = [202007, 202008, 202009, 202010, 202011, 202012, 202101, 202102, 202103, 202104, 202105, 202106]       # Versión para seleccionar meses específicos\n",
    "#meses_a_seleccionar=[]                                # Versión para seleccionar todos los meses\n",
    "mes_test=202108         #el mes test va completo. SIEMPRE se lo selecciona"
   ]
  },
  {
   "cell_type": "code",
   "execution_count": null,
   "metadata": {},
   "outputs": [],
   "source": []
  },
  {
   "cell_type": "markdown",
   "metadata": {
    "id": "sH5VivJSIM42"
   },
   "source": [
    "## Input\n",
    "\n",
    "< Archivos de datos (csv.gz) con sus paths que van a consumirse por el job>"
   ]
  },
  {
   "cell_type": "code",
   "execution_count": 2,
   "metadata": {
    "id": "MEk4Fj7VIv7g"
   },
   "outputs": [],
   "source": [
    "dataset_path = '~/buckets/b1/datasets' \n",
    "dataset_file=f\"k2__{con_preprocesamiento}{tipo_featuring}{rf}.parquet.gz\"\n",
    "print (dataset_path)\n",
    "print (\"Se samplea {dataset_file)\")\n"
   ]
  },
  {
   "cell_type": "markdown",
   "metadata": {
    "id": "fQ6MUhENI0Ya"
   },
   "source": [
    "## Output\n",
    "\n",
    "< Archivos, bases de datos, modelos que va a generar el job>"
   ]
  },
  {
   "cell_type": "code",
   "execution_count": 1,
   "metadata": {
    "id": "ZT3kxlkFIv4p"
   },
   "outputs": [
    {
     "ename": "SyntaxError",
     "evalue": "unterminated f-string literal (detected at line 1) (2754189308.py, line 1)",
     "output_type": "error",
     "traceback": [
      "\u001b[0;36m  Cell \u001b[0;32mIn[1], line 1\u001b[0;36m\u001b[0m\n\u001b[0;31m    output_file=f\"k2_{tipo_registros}{con_preprocesamiento}{tipo_featuring}{rf}.parquet.gzi\u001b[0m\n\u001b[0m                ^\u001b[0m\n\u001b[0;31mSyntaxError\u001b[0m\u001b[0;31m:\u001b[0m unterminated f-string literal (detected at line 1)\n"
     ]
    }
   ],
   "source": [
    "# En la salida se marca que es sampleado\n",
    "output_file=f\"k2_s{con_preprocesamiento}{tipo_featuring}{rf}.parquet.gz\"\n",
    "print (f'creando {output_file}')"
   ]
  },
  {
   "cell_type": "markdown",
   "metadata": {},
   "source": []
  },
  {
   "cell_type": "markdown",
   "metadata": {
    "id": "NtIT33WnJFx-"
   },
   "source": [
    "## Procesos"
   ]
  },
  {
   "cell_type": "markdown",
   "metadata": {
    "id": "iVe0GO1IJHtI"
   },
   "source": [
    "### Paquetes necesarios"
   ]
  },
  {
   "cell_type": "code",
   "execution_count": null,
   "metadata": {
    "id": "O2VG2xS_Ivq3"
   },
   "outputs": [],
   "source": []
  },
  {
   "cell_type": "markdown",
   "metadata": {
    "id": "0LM2kY_WJj15"
   },
   "source": [
    "## Código del proceso\n",
    "\n",
    "< Todo el código a partir de aquí debe poder ejecutarse sin necesidad de parametrizar nada>"
   ]
  },
  {
   "cell_type": "code",
   "execution_count": 4,
   "metadata": {
    "id": "Nr6BNGDUJkWd"
   },
   "outputs": [],
   "source": [
    "import os\n",
    "import pandas as pd"
   ]
  },
  {
   "cell_type": "code",
   "execution_count": 5,
   "metadata": {},
   "outputs": [],
   "source": [
    "if usar_gdrive:\n",
    "    print ('Cargando google drive')\n",
    "    from google.colab import drive\n",
    "    drive.mount('/content/drive')"
   ]
  },
  {
   "cell_type": "code",
   "execution_count": 6,
   "metadata": {},
   "outputs": [],
   "source": [
    "input_gz=dataset_file.endswith('.gz')\n",
    "output_gz=output_file.endswith('.gz')"
   ]
  },
  {
   "cell_type": "code",
   "execution_count": 7,
   "metadata": {},
   "outputs": [
    {
     "name": "stdout",
     "output_type": "stream",
     "text": [
      "leyendo ~/buckets/b1/datasets/k2.parquet.gz\n"
     ]
    }
   ],
   "source": [
    "# leer el dataset\n",
    "file_path = os.path.join(dataset_path, dataset_file)\n",
    "print (f'leyendo {file_path}')\n",
    "df = pd.read_parquet(file_path)"
   ]
  },
  {
   "cell_type": "code",
   "execution_count": 8,
   "metadata": {},
   "outputs": [
    {
     "name": "stdout",
     "output_type": "stream",
     "text": [
      "Total de filas y features: \n",
      "(4735593, 155)\n",
      "Filas por mes:\n",
      " foto_mes\n",
      "202108    165442\n",
      "202107    165152\n",
      "202106    164876\n",
      "202105    164623\n",
      "202104    164090\n",
      "202103    163685\n",
      "202102    162646\n",
      "202101    162026\n",
      "202012    161526\n",
      "202011    160742\n",
      "202010    159731\n",
      "202009    158371\n",
      "202008    157058\n",
      "202007    155764\n",
      "202006    153757\n",
      "202005    151261\n",
      "202004    149872\n",
      "202003    149356\n",
      "202002    147109\n",
      "202001    143966\n",
      "201912    140661\n",
      "201911    138667\n",
      "201910    136682\n",
      "201909    134314\n",
      "201908    132664\n",
      "201907    130724\n",
      "201906    129186\n",
      "201905    127659\n",
      "201904    126996\n",
      "201903    126436\n",
      "201902    125799\n",
      "201901    124752\n",
      "Name: count, dtype: int64\n",
      "Casos por mes y clase:\n",
      "clase_ternaria  BAJA+1  BAJA+2  CONTINUA\n",
      "foto_mes                                \n",
      "201901             688     718    123346\n",
      "201902             720     688    124391\n",
      "201903             688     760    124988\n",
      "201904             759     579    125658\n",
      "201905             580     660    126419\n",
      "201906             662     608    127916\n",
      "201907             609     689    129426\n",
      "201908             683     552    131429\n",
      "201909             553     576    133185\n",
      "201910             583     624    135475\n",
      "201911             623     735    137309\n",
      "201912             734     598    139329\n",
      "202001             605     502    142859\n",
      "202002             508     185    146416\n",
      "202003             186     378    148792\n",
      "202004             377     533    148962\n",
      "202005             536     629    150096\n",
      "202006             632     624    152501\n",
      "202007             627     542    154595\n",
      "202008             544     472    156042\n",
      "202009             474     564    157333\n",
      "202010             565     488    158678\n",
      "202011             490     646    159606\n",
      "202012             649     634    160243\n",
      "202101             635     785    160606\n",
      "202102             785    1017    160844\n",
      "202103            1020     981    161684\n",
      "202104             982    1189    161919\n",
      "202105            1189     911    162523\n",
      "202106             908    1074    162894\n",
      "202107            1075  164077         0\n",
      "202108          165442       0         0\n"
     ]
    }
   ],
   "source": [
    "def contabilizar(df):\n",
    "    print (f'Total de filas y features: \\n{df.shape}')\n",
    "    print (f'Filas por mes:\\n {df['foto_mes'].value_counts()}')\n",
    "    print (f'Casos por mes y clase:\\n{pd.crosstab(df['foto_mes'], df['clase_ternaria'])}')\n",
    "contabilizar(df)"
   ]
  },
  {
   "cell_type": "code",
   "execution_count": 9,
   "metadata": {},
   "outputs": [],
   "source": [
    "df_out=df"
   ]
  },
  {
   "cell_type": "code",
   "execution_count": 10,
   "metadata": {},
   "outputs": [
    {
     "name": "stdout",
     "output_type": "stream",
     "text": [
      "seleccionando meses [202007, 202008, 202009, 202010, 202011, 202012, 202101, 202102, 202103, 202104, 202105, 202106]\n",
      "quedaron 1935138 filas\n",
      "Total de filas y features: \n",
      "(1935138, 155)\n",
      "Filas por mes:\n",
      " foto_mes\n",
      "202106    164876\n",
      "202105    164623\n",
      "202104    164090\n",
      "202103    163685\n",
      "202102    162646\n",
      "202101    162026\n",
      "202012    161526\n",
      "202011    160742\n",
      "202010    159731\n",
      "202009    158371\n",
      "202008    157058\n",
      "202007    155764\n",
      "Name: count, dtype: int64\n",
      "Casos por mes y clase:\n",
      "clase_ternaria  BAJA+1  BAJA+2  CONTINUA\n",
      "foto_mes                                \n",
      "202007             627     542    154595\n",
      "202008             544     472    156042\n",
      "202009             474     564    157333\n",
      "202010             565     488    158678\n",
      "202011             490     646    159606\n",
      "202012             649     634    160243\n",
      "202101             635     785    160606\n",
      "202102             785    1017    160844\n",
      "202103            1020     981    161684\n",
      "202104             982    1189    161919\n",
      "202105            1189     911    162523\n",
      "202106             908    1074    162894\n"
     ]
    }
   ],
   "source": [
    "# Seleccionar meses\n",
    "if meses_a_seleccionar:\n",
    "    print (f'seleccionando meses {meses_a_seleccionar}')\n",
    "    df_out=df_out[df_out['foto_mes'].isin(meses_a_seleccionar)]\n",
    "    print (f'quedaron {df_out.shape[0]} filas')\n",
    "contabilizar(df_out)"
   ]
  },
  {
   "cell_type": "code",
   "execution_count": 11,
   "metadata": {},
   "outputs": [
    {
     "name": "stdout",
     "output_type": "stream",
     "text": [
      "[202007 202008 202009 202010 202011 202012 202101 202102 202103 202104\n",
      " 202105 202106]\n",
      "quedaron 209867 filas\n"
     ]
    }
   ],
   "source": [
    "# muestrar\n",
    "# Función para filtrar y muestrear por cada valor del feature\n",
    "def filtrar_muestrear(df, feature, feat_grupos, sample_pct):\n",
    "    grupos=df[feat_grupos].unique()\n",
    "    print (grupos)\n",
    "    df_sampled = pd.concat([\n",
    "        df[(df[feature] == clase) & (df[feat_grupos]==grupo)].sample(frac=sample_pct[clase], random_state=42)\n",
    "        for clase in sample_pct\n",
    "        for grupo in grupos\n",
    "    ])\n",
    "    return df_sampled\n",
    "\n",
    "\n",
    "\n",
    "\n",
    "# Aplicamos la función al DataFrame\n",
    "df_out = filtrar_muestrear(df_out, feature_a_usar, 'foto_mes', sample_pct)\n",
    "\n",
    "print (f'quedaron {df_out.shape[0]} filas')\n"
   ]
  },
  {
   "cell_type": "code",
   "execution_count": 12,
   "metadata": {},
   "outputs": [
    {
     "name": "stdout",
     "output_type": "stream",
     "text": [
      "Total de filas y features: \n",
      "(209867, 155)\n",
      "Filas por mes:\n",
      " foto_mes\n",
      "202104    18363\n",
      "202105    18352\n",
      "202106    18271\n",
      "202103    18169\n",
      "202102    17886\n",
      "202101    17481\n",
      "202012    17307\n",
      "202011    17097\n",
      "202010    16921\n",
      "202009    16771\n",
      "202007    16629\n",
      "202008    16620\n",
      "Name: count, dtype: int64\n",
      "Casos por mes y clase:\n",
      "clase_ternaria  BAJA+1  BAJA+2  CONTINUA\n",
      "foto_mes                                \n",
      "202007             627     542     15460\n",
      "202008             544     472     15604\n",
      "202009             474     564     15733\n",
      "202010             565     488     15868\n",
      "202011             490     646     15961\n",
      "202012             649     634     16024\n",
      "202101             635     785     16061\n",
      "202102             785    1017     16084\n",
      "202103            1020     981     16168\n",
      "202104             982    1189     16192\n",
      "202105            1189     911     16252\n",
      "202106             908    1074     16289\n"
     ]
    }
   ],
   "source": [
    "contabilizar(df_out)"
   ]
  },
  {
   "cell_type": "code",
   "execution_count": 13,
   "metadata": {},
   "outputs": [],
   "source": [
    "# Elimino el mes_test si por alguna razón quedó ahí\n",
    "# Por las dudas, se eliminan registros de ese mes:\n",
    "df_out = df_out[df_out['foto_mes'] != mes_test]\n",
    "\n"
   ]
  },
  {
   "cell_type": "code",
   "execution_count": 14,
   "metadata": {},
   "outputs": [],
   "source": [
    "# Agrego completo el mes_test\n",
    "# Filtra las filas de df que cumplen la condición\n",
    "df_mes_test = df[df[\"foto_mes\"] == mes_test]\n",
    "\n",
    "# Agrega esas filas a df_out\n",
    "df_out = pd.concat([df_out, df_mes_test], ignore_index=True)"
   ]
  },
  {
   "cell_type": "code",
   "execution_count": 15,
   "metadata": {},
   "outputs": [
    {
     "name": "stdout",
     "output_type": "stream",
     "text": [
      "Total de filas y features: \n",
      "(375309, 155)\n",
      "Filas por mes:\n",
      " foto_mes\n",
      "202108    165442\n",
      "202104     18363\n",
      "202105     18352\n",
      "202106     18271\n",
      "202103     18169\n",
      "202102     17886\n",
      "202101     17481\n",
      "202012     17307\n",
      "202011     17097\n",
      "202010     16921\n",
      "202009     16771\n",
      "202007     16629\n",
      "202008     16620\n",
      "Name: count, dtype: int64\n",
      "Casos por mes y clase:\n",
      "clase_ternaria  BAJA+1  BAJA+2  CONTINUA\n",
      "foto_mes                                \n",
      "202007             627     542     15460\n",
      "202008             544     472     15604\n",
      "202009             474     564     15733\n",
      "202010             565     488     15868\n",
      "202011             490     646     15961\n",
      "202012             649     634     16024\n",
      "202101             635     785     16061\n",
      "202102             785    1017     16084\n",
      "202103            1020     981     16168\n",
      "202104             982    1189     16192\n",
      "202105            1189     911     16252\n",
      "202106             908    1074     16289\n",
      "202108          165442       0         0\n"
     ]
    }
   ],
   "source": [
    "contabilizar(df_out)"
   ]
  },
  {
   "cell_type": "code",
   "execution_count": 16,
   "metadata": {},
   "outputs": [],
   "source": [
    "output_file_path=os.path.join(dataset_path, output_file)\n",
    "if output_gz:\n",
    "    df_out.to_parquet(output_file_path, index=False, compression='gzip')\n",
    "else:\n",
    "    df_out.to_parquet(output_file_path, index=False)\n",
    "    "
   ]
  },
  {
   "cell_type": "code",
   "execution_count": 17,
   "metadata": {},
   "outputs": [
    {
     "name": "stdout",
     "output_type": "stream",
     "text": [
      "Cantidad total de variables 155\n",
      "Cantidad de columnas que empiezan con 'tree': 0\n",
      "Cantidad de variables normales: 155\n",
      "Archivo grabado: k2_sample_base.parquet.gz\n"
     ]
    }
   ],
   "source": [
    "# Cantidad de variables\n",
    "num_variables=len(df.columns)\n",
    "# Filtra las columnas que empiezan con 'tree'\n",
    "tree_columns = [col for col in df.columns if col.startswith('tree')]\n",
    "# Cuenta el número de columnas\n",
    "num_tree_columns = len(tree_columns)\n",
    "print (f\"Cantidad total de variables {num_variables}\")\n",
    "print(f\"Cantidad de columnas que empiezan con 'tree': {num_tree_columns}\")\n",
    "print (f\"Cantidad de variables normales: {num_variables-num_tree_columns}\")\n",
    "print (f\"Archivo grabado: {output_file}\")\n"
   ]
  },
  {
   "cell_type": "code",
   "execution_count": null,
   "metadata": {},
   "outputs": [],
   "source": []
  }
 ],
 "metadata": {
  "colab": {
   "provenance": []
  },
  "kernelspec": {
   "display_name": "Python 3 (ipykernel)",
   "language": "python",
   "name": "python3"
  },
  "language_info": {
   "codemirror_mode": {
    "name": "ipython",
    "version": 3
   },
   "file_extension": ".py",
   "mimetype": "text/x-python",
   "name": "python",
   "nbconvert_exporter": "python",
   "pygments_lexer": "ipython3",
   "version": "3.12.3"
  }
 },
 "nbformat": 4,
 "nbformat_minor": 4
}
